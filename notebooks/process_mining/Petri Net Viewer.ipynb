{
 "cells": [
  {
   "cell_type": "code",
   "execution_count": null,
   "id": "3f2ab3f1-fce7-4590-81de-a9db6270aced",
   "metadata": {},
   "outputs": [],
   "source": [
    "import networkx as nx\n",
    "import xml.etree.ElementTree as ET\n",
    "import matplotlib.pyplot as plt\n",
    "import pm4py as pm4"
   ]
  },
  {
   "cell_type": "markdown",
   "id": "001f7b21-43fa-4b49-88d9-0933fd1ca97b",
   "metadata": {},
   "source": [
    "#### Parse PN XML in NetworkX"
   ]
  },
  {
   "cell_type": "code",
   "execution_count": null,
   "id": "04565570-5a16-4499-87ee-2f0a6bc35056",
   "metadata": {},
   "outputs": [],
   "source": [
    "pn, im, fm = pm4.read_pnml('process_mining/wv1_pn.pnml')"
   ]
  },
  {
   "cell_type": "code",
   "execution_count": null,
   "id": "a37fdb85-6ed4-4fc4-911e-60423eec104c",
   "metadata": {},
   "outputs": [],
   "source": [
    "pn2, im2, fm2 = pm4.read_pnml('process_mining/wv2_pn.pnml')"
   ]
  },
  {
   "cell_type": "code",
   "execution_count": null,
   "id": "5071dd42-6d9d-43d8-bb8c-a78eb0c15453",
   "metadata": {},
   "outputs": [],
   "source": [
    "pm4.view_petri_net(pn, im, fm, format='html')"
   ]
  },
  {
   "cell_type": "code",
   "execution_count": null,
   "id": "b565fdc4-8d67-4197-93d6-9ae0d2e791a4",
   "metadata": {},
   "outputs": [],
   "source": [
    "pm4.view_petri_net(pn2, im2, fm2, format='html')"
   ]
  },
  {
   "cell_type": "code",
   "execution_count": null,
   "id": "9ade0c32-3fe8-4021-bd73-1b79c2b8ad8c",
   "metadata": {},
   "outputs": [],
   "source": [
    "nx_pn = pm4.convert_petri_net_to_networkx(pn, im, fm)\n",
    "nx_pn2 = pm4.convert_petri_net_to_networkx(pn2, im2, fm2)"
   ]
  },
  {
   "cell_type": "code",
   "execution_count": null,
   "id": "d1b5abec-efd0-4bc4-b240-cf44ad602bfa",
   "metadata": {},
   "outputs": [],
   "source": [
    "nx.graph_edit_distance(nx_pn, nx_pn2, timeout=30)"
   ]
  }
 ],
 "metadata": {
  "kernelspec": {
   "display_name": "Python 3 (ipykernel)",
   "language": "python",
   "name": "python3"
  },
  "language_info": {
   "codemirror_mode": {
    "name": "ipython",
    "version": 3
   },
   "file_extension": ".py",
   "mimetype": "text/x-python",
   "name": "python",
   "nbconvert_exporter": "python",
   "pygments_lexer": "ipython3",
   "version": "3.9.7"
  }
 },
 "nbformat": 4,
 "nbformat_minor": 5
}
