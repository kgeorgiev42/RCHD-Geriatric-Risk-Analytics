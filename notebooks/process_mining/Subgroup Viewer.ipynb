{
 "cells": [
  {
   "cell_type": "code",
   "execution_count": null,
   "id": "be36c436-8ce0-498f-abad-cf00f1fda572",
   "metadata": {},
   "outputs": [],
   "source": [
    "import networkx as nx\n",
    "import xml.etree.ElementTree as ET\n",
    "import matplotlib.pyplot as plt\n",
    "import pm4py as pm4\n",
    "from pm4py.algo.evaluation.generalization import algorithm as generalization_evaluator\n",
    "import pandas as pd\n",
    "from statistics import mean\n",
    "from pm4py.algo.simulation.playout.petri_net import algorithm as simulator"
   ]
  },
  {
   "cell_type": "markdown",
   "id": "b1e64bed-fb4a-47ab-abd0-be129f7d997b",
   "metadata": {},
   "source": [
    "#### Cross-log conformance checking results"
   ]
  },
  {
   "cell_type": "code",
   "execution_count": null,
   "id": "9c0adc2b-edd7-4206-9ca6-f56dd3159e86",
   "metadata": {},
   "outputs": [],
   "source": [
    "res_df = pd.read_csv('process_mining/crosslog_cc_results.csv')[['subset', 'level', 'GED']]\n",
    "res_df"
   ]
  },
  {
   "cell_type": "markdown",
   "id": "4e38af33-a868-4b25-8aee-a4fc6dea848b",
   "metadata": {},
   "source": [
    "#### Overall"
   ]
  },
  {
   "cell_type": "code",
   "execution_count": null,
   "id": "c33b886c-6607-4e91-b85a-8f3f4b8b6a4c",
   "metadata": {},
   "outputs": [],
   "source": [
    "pn, im, fm = pm4.read_pnml('process_mining/petri_nets/el_fp.pnml')\n",
    "pm4.view_petri_net(pn, im, fm)\n",
    "bpmn = pm4.convert_to_bpmn(pn, im, fm)\n",
    "pm4.view_bpmn(bpmn, format='png')"
   ]
  },
  {
   "cell_type": "code",
   "execution_count": null,
   "id": "feffe666-2c67-45ed-8549-3ebc30cc4d79",
   "metadata": {},
   "outputs": [],
   "source": [
    "pn, im, fm = pm4.read_pnml('process_mining/petri_nets/el_sp.pnml')\n",
    "pm4.view_petri_net(pn, im, fm)\n",
    "bpmn = pm4.convert_to_bpmn(pn, im, fm)\n",
    "pm4.view_bpmn(bpmn)"
   ]
  },
  {
   "cell_type": "code",
   "execution_count": null,
   "id": "c7b18b5e-adaa-4cdc-a06d-da34ddc019ff",
   "metadata": {},
   "outputs": [],
   "source": [
    "pn, im, fm = pm4.read_pnml('process_mining/petri_nets/el_fa.pnml')\n",
    "pm4.view_petri_net(pn, im, fm)\n",
    "bpmn = pm4.convert_to_bpmn(pn, im, fm)\n",
    "pm4.view_bpmn(bpmn)"
   ]
  },
  {
   "cell_type": "code",
   "execution_count": null,
   "id": "15c8f551-8a8c-4997-aa28-410bf3340683",
   "metadata": {},
   "outputs": [],
   "source": [
    "pn, im, fm = pm4.read_pnml('process_mining/petri_nets/el_sa.pnml')\n",
    "pm4.view_petri_net(pn, im, fm)\n",
    "bpmn = pm4.convert_to_bpmn(pn, im, fm)\n",
    "pm4.view_bpmn(bpmn)"
   ]
  }
 ],
 "metadata": {
  "kernelspec": {
   "display_name": "Python 3 (ipykernel)",
   "language": "python",
   "name": "python3"
  },
  "language_info": {
   "codemirror_mode": {
    "name": "ipython",
    "version": 3
   },
   "file_extension": ".py",
   "mimetype": "text/x-python",
   "name": "python",
   "nbconvert_exporter": "python",
   "pygments_lexer": "ipython3",
   "version": "3.10.1"
  }
 },
 "nbformat": 4,
 "nbformat_minor": 5
}
