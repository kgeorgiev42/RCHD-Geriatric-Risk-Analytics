{
 "cells": [
  {
   "cell_type": "code",
   "execution_count": null,
   "id": "40123312-42a0-4acd-be97-c1c2db49c1c0",
   "metadata": {},
   "outputs": [],
   "source": [
    "import networkx as nx\n",
    "import xml.etree.ElementTree as ET\n",
    "import matplotlib.pyplot as plt\n",
    "import pm4py as pm4\n",
    "from pm4py.algo.evaluation.generalization import algorithm as generalization_evaluator\n",
    "import pandas as pd\n",
    "from statistics import mean"
   ]
  },
  {
   "cell_type": "markdown",
   "id": "98143541-f0c9-4152-ad8d-53546b95eb63",
   "metadata": {},
   "source": [
    "##### Generate subgroup logs"
   ]
  },
  {
   "cell_type": "code",
   "execution_count": null,
   "id": "0836aa95-f9b1-4033-8c9a-9dc7265a02aa",
   "metadata": {},
   "outputs": [],
   "source": [
    "elog_data_first = pd.read_csv('data/export/cv19_event_log_wv1.csv')\n",
    "elog_data_second = pd.read_csv('data/export/cv19_event_log_wv2.csv')\n",
    "elog_data_full = pd.read_csv('data/export/cv19_event_log_full.csv')\n",
    "elog_data_first['start'] = pd.to_datetime(elog_data_first['start'])\n",
    "elog_data_second['start'] = pd.to_datetime(elog_data_second['start'])"
   ]
  },
  {
   "cell_type": "code",
   "execution_count": null,
   "id": "54b41965-8473-450b-a3c5-f4dfbfac1f97",
   "metadata": {},
   "outputs": [],
   "source": [
    "base_cohort = pd.read_csv('data/export/cv19_cohort.csv')"
   ]
  },
  {
   "cell_type": "code",
   "execution_count": null,
   "id": "932de4d0-28a8-4fd5-a459-bf71d33c8fb4",
   "metadata": {},
   "outputs": [],
   "source": [
    "el_full_ooh = elog_data_full.groupby('pid')['ooh'].count().reset_index()\n",
    "el_full_ooh.ooh.quantile(0.8)"
   ]
  },
  {
   "cell_type": "code",
   "execution_count": null,
   "id": "ddc6f55a-d369-4e3d-8d1c-55cafac48a89",
   "metadata": {},
   "outputs": [],
   "source": [
    "elog_data_first = pd.merge(elog_data_first, base_cohort[['pid', 'sex']], how='left', on='pid')\n",
    "elog_data_second = pd.merge(elog_data_second, base_cohort[['pid', 'sex']], how='left', on='pid')"
   ]
  },
  {
   "cell_type": "code",
   "execution_count": null,
   "id": "48ac5ee3-9e47-4f08-b17c-559b4a0835b5",
   "metadata": {},
   "outputs": [],
   "source": [
    "base_cohort.sex.value_counts()"
   ]
  },
  {
   "cell_type": "code",
   "execution_count": null,
   "id": "e737e6d4-c94d-44cf-ae82-59544ac21b1f",
   "metadata": {},
   "outputs": [],
   "source": [
    "elog_data_first.sex.value_counts()"
   ]
  },
  {
   "cell_type": "code",
   "execution_count": null,
   "id": "8aca0aaf-af47-405c-93eb-a4e8fb5e2b80",
   "metadata": {},
   "outputs": [],
   "source": [
    "elog_data_second.sex.value_counts()"
   ]
  },
  {
   "cell_type": "code",
   "execution_count": null,
   "id": "8feaad2e-cdcb-41e8-8050-a4cb643cd06b",
   "metadata": {},
   "outputs": [],
   "source": [
    "elog_data_first.isnull().sum()"
   ]
  },
  {
   "cell_type": "code",
   "execution_count": null,
   "id": "589ef3fd-d415-4ce5-a2b8-fe5af5bcfc89",
   "metadata": {},
   "outputs": [],
   "source": [
    "base_cohort.groupby('wave').n_morbid.value_counts()"
   ]
  },
  {
   "cell_type": "code",
   "execution_count": null,
   "id": "d136a072-897e-4ec7-9312-2665922c9b1d",
   "metadata": {},
   "outputs": [],
   "source": [
    "elog_data_first.columns"
   ]
  },
  {
   "cell_type": "code",
   "execution_count": null,
   "id": "9fbfac0b-64a3-4c9b-9274-9a147229c728",
   "metadata": {},
   "outputs": [],
   "source": [
    "el_ooh_1 = elog_data_first.groupby('pid')['ooh'].count().reset_index().rename(columns={'ooh': 'ooh_count'})\n",
    "el_ooh_2 = elog_data_second.groupby('pid')['ooh'].count().reset_index().rename(columns={'ooh': 'ooh_count'})\n",
    "elog_data_first = pd.merge(elog_data_first, el_ooh_1[['pid', 'ooh_count']], how='left', on='pid')\n",
    "elog_data_second = pd.merge(elog_data_second, el_ooh_2[['pid', 'ooh_count']], how='left', on='pid')"
   ]
  },
  {
   "cell_type": "code",
   "execution_count": null,
   "id": "48f383cd-8d9b-4095-8ab5-f9388d8cf1fe",
   "metadata": {},
   "outputs": [],
   "source": [
    "results_df = pd.DataFrame(columns=['subset', 'level', 'L1W2_lf', 'L1W2_prec', 'L1W2_gen', 'L2W1_lf', 'L2W1_prec', 'L2W1_gen', 'm_lf',\n",
    "                          'm_prec', 'm_gen', 'GED', 'L1W2_percfit', 'L2W1_percfit', 'm_percfit'])"
   ]
  },
  {
   "cell_type": "code",
   "execution_count": null,
   "id": "50ae15d9-d6dc-4ba7-87fa-eb74519987b7",
   "metadata": {},
   "outputs": [],
   "source": [
    "elog_data_fp = elog_data_first.rename(columns={\"pid\": \"case:concept:name\", \"provider_event\": \"concept:name\",\n",
    "                                            \"start\": \"time:timestamp\"})\n",
    "elog_data_fp = pm4.format_dataframe(elog_data_fp, case_id='case:concept:name', activity_key='concept:name', timestamp_key='time:timestamp',\n",
    "                                   timest_format='%Y-%m-%d %H:%M:%S')\n",
    "elog_data_sp = elog_data_second.rename(columns={\"pid\": \"case:concept:name\", \"provider_event\": \"concept:name\",\n",
    "                                            \"start\": \"time:timestamp\"})\n",
    "elog_data_sp = pm4.format_dataframe(elog_data_sp, case_id='case:concept:name', activity_key='concept:name', timestamp_key='time:timestamp',\n",
    "                                   timest_format='%Y-%m-%d %H:%M:%S')\n",
    "elog_data_fa = elog_data_first.rename(columns={\"pid\": \"case:concept:name\", \"act_code\": \"concept:name\",\n",
    "                                            \"start\": \"time:timestamp\"})\n",
    "elog_data_fa = pm4.format_dataframe(elog_data_fa, case_id='case:concept:name', activity_key='concept:name', timestamp_key='time:timestamp',\n",
    "                                   timest_format='%Y-%m-%d %H:%M:%S')\n",
    "elog_data_sa = elog_data_second.rename(columns={\"pid\": \"case:concept:name\", \"act_code\": \"concept:name\",\n",
    "                                            \"start\": \"time:timestamp\"})\n",
    "elog_data_sa = pm4.format_dataframe(elog_data_sa, case_id='case:concept:name', activity_key='concept:name', timestamp_key='time:timestamp',\n",
    "                                   timest_format='%Y-%m-%d %H:%M:%S')"
   ]
  },
  {
   "cell_type": "markdown",
   "id": "d4075832-9af9-4d0d-bda8-5091916a06ec",
   "metadata": {},
   "source": [
    "#### Subsets"
   ]
  },
  {
   "cell_type": "code",
   "execution_count": null,
   "id": "67656243-d60c-4750-b53a-b0ebe4ebaf89",
   "metadata": {},
   "outputs": [],
   "source": [
    "### Sex f\n",
    "el_data_fp_a75 = elog_data_fp[elog_data_fp.sex == 'F']\n",
    "el_data_sp_a75 = elog_data_sp[elog_data_sp.sex == 'F']\n",
    "el_data_fa_a75 = elog_data_fa[elog_data_fa.sex == 'F']\n",
    "el_data_sa_a75 = elog_data_sa[elog_data_sa.sex == 'F']\n",
    "### Sex m\n",
    "el_data_fp_int = elog_data_fp[elog_data_fp.sex == 'M']\n",
    "el_data_sp_int = elog_data_sp[elog_data_sp.sex == 'M']\n",
    "el_data_fa_int = elog_data_fa[elog_data_fa.sex == 'M']\n",
    "el_data_sa_int = elog_data_sa[elog_data_sa.sex == 'M']"
   ]
  },
  {
   "cell_type": "code",
   "execution_count": null,
   "id": "756c9a53-445f-4ddd-9fee-c6d7f71c46ca",
   "metadata": {},
   "outputs": [],
   "source": [
    "el_fp_a75 = pm4.convert_to_event_log(el_data_fp_a75)\n",
    "el_sp_a75 = pm4.convert_to_event_log(el_data_sp_a75)\n",
    "el_fa_a75 = pm4.convert_to_event_log(el_data_fa_a75)\n",
    "el_sa_a75 = pm4.convert_to_event_log(el_data_sa_a75)\n",
    "\n",
    "el_fp_int = pm4.convert_to_event_log(el_data_fp_int)\n",
    "el_sp_int = pm4.convert_to_event_log(el_data_sp_int)\n",
    "el_fa_int = pm4.convert_to_event_log(el_data_fa_int)\n",
    "el_sa_int = pm4.convert_to_event_log(el_data_sa_int)"
   ]
  },
  {
   "cell_type": "markdown",
   "id": "a341da77-2eba-4030-b971-4211cefc8c8a",
   "metadata": {},
   "source": [
    "##### Discover and save Petri Nets with Inductive Miner"
   ]
  },
  {
   "cell_type": "code",
   "execution_count": null,
   "id": "3381759d-641d-4c51-b964-bab4db98f399",
   "metadata": {},
   "outputs": [],
   "source": [
    "net, initial_marking, final_marking = pm4.discover_petri_net_inductive(el_fp_a75, noise_threshold=0.3, multi_processing=True)\n",
    "pm4.view_petri_net(net, initial_marking, final_marking)\n",
    "pm4.write_pnml(net, initial_marking, final_marking, 'process_mining/petri_nets/el_fp_a75.pnml')"
   ]
  },
  {
   "cell_type": "code",
   "execution_count": null,
   "id": "63638e5e-6c02-4c9c-8dad-1dd44f2cf420",
   "metadata": {},
   "outputs": [],
   "source": [
    "net, initial_marking, final_marking = pm4.discover_petri_net_inductive(el_sp_a75, noise_threshold=0.3, multi_processing=True)\n",
    "pm4.view_petri_net(net, initial_marking, final_marking)\n",
    "pm4.write_pnml(net, initial_marking, final_marking, 'process_mining/petri_nets/el_sp_a75.pnml')"
   ]
  },
  {
   "cell_type": "code",
   "execution_count": null,
   "id": "48e7efad-aa07-4777-8e42-e99c1f8e9824",
   "metadata": {},
   "outputs": [],
   "source": [
    "net, initial_marking, final_marking = pm4.discover_petri_net_inductive(el_fa_a75, noise_threshold=0.3, multi_processing=True)\n",
    "pm4.view_petri_net(net, initial_marking, final_marking)\n",
    "pm4.write_pnml(net, initial_marking, final_marking, 'process_mining/petri_nets/el_fa_a75.pnml')"
   ]
  },
  {
   "cell_type": "code",
   "execution_count": null,
   "id": "7c101af6-1446-4111-a556-16dc7d98ec9f",
   "metadata": {},
   "outputs": [],
   "source": [
    "net, initial_marking, final_marking = pm4.discover_petri_net_inductive(el_sa_a75, noise_threshold=0.3, multi_processing=True)\n",
    "pm4.view_petri_net(net, initial_marking, final_marking)\n",
    "pm4.write_pnml(net, initial_marking, final_marking, 'process_mining/petri_nets/el_sa_a75.pnml')"
   ]
  },
  {
   "cell_type": "code",
   "execution_count": null,
   "id": "55a33fef-fcad-42d2-a56f-c254a675ba34",
   "metadata": {},
   "outputs": [],
   "source": [
    "net, initial_marking, final_marking = pm4.discover_petri_net_inductive(el_fp_int, noise_threshold=0.3, multi_processing=True)\n",
    "pm4.view_petri_net(net, initial_marking, final_marking)\n",
    "pm4.write_pnml(net, initial_marking, final_marking, 'process_mining/petri_nets/el_fp_int.pnml')"
   ]
  },
  {
   "cell_type": "code",
   "execution_count": null,
   "id": "d613b56d-94c3-4170-972c-219bb357eac8",
   "metadata": {},
   "outputs": [],
   "source": [
    "net, initial_marking, final_marking = pm4.discover_petri_net_inductive(el_sp_int, noise_threshold=0.3, multi_processing=True)\n",
    "pm4.view_petri_net(net, initial_marking, final_marking)\n",
    "pm4.write_pnml(net, initial_marking, final_marking, 'process_mining/petri_nets/el_sp_int.pnml')"
   ]
  },
  {
   "cell_type": "code",
   "execution_count": null,
   "id": "54ba3dab-8e30-431f-a8c6-dfc752630380",
   "metadata": {},
   "outputs": [],
   "source": [
    "net, initial_marking, final_marking = pm4.discover_petri_net_inductive(el_fa_int, noise_threshold=0.3, multi_processing=True)\n",
    "pm4.view_petri_net(net, initial_marking, final_marking)\n",
    "pm4.write_pnml(net, initial_marking, final_marking, 'process_mining/petri_nets/el_fa_int.pnml')"
   ]
  },
  {
   "cell_type": "code",
   "execution_count": null,
   "id": "9fd3b3c2-5c5a-4021-a974-db1b07ebdc7b",
   "metadata": {},
   "outputs": [],
   "source": [
    "net, initial_marking, final_marking = pm4.discover_petri_net_inductive(el_sa_int, noise_threshold=0.3, multi_processing=True)\n",
    "pm4.view_petri_net(net, initial_marking, final_marking)\n",
    "pm4.write_pnml(net, initial_marking, final_marking, 'process_mining/petri_nets/el_sa_int.pnml')"
   ]
  },
  {
   "cell_type": "markdown",
   "id": "7851428d-eb2e-45f0-9e57-f7d48876b4b6",
   "metadata": {},
   "source": [
    "#### Cross-log conformance checking"
   ]
  },
  {
   "cell_type": "code",
   "execution_count": null,
   "id": "c9ece633-163c-4aa0-b62c-61731148d39f",
   "metadata": {},
   "outputs": [],
   "source": [
    "net1, im1, fm1 = pm4.read_pnml('process_mining/petri_nets/el_fp_a75.pnml')\n",
    "net2, im2, fm2 = pm4.read_pnml('process_mining/petri_nets/el_sp_a75.pnml')"
   ]
  },
  {
   "cell_type": "code",
   "execution_count": null,
   "id": "a71f9f96-7693-4602-8409-266931c5e86b",
   "metadata": {},
   "outputs": [],
   "source": [
    "fitness_L1W2 = pm4.fitness_token_based_replay(el_fp_a75, net2, im2, fm2)\n",
    "prec_L1W2 = pm4.precision_token_based_replay(el_fp_a75, net2, im2, fm2)\n",
    "gen_L1W2 = generalization_evaluator.apply(el_fp_a75, net2, im2, fm2)\n",
    "\n",
    "fitness_L2W1 = pm4.fitness_token_based_replay(el_sp_a75, net1, im1, fm1)\n",
    "prec_L2W1 = pm4.precision_token_based_replay(el_sp_a75, net1, im1, fm1)\n",
    "gen_L2W1 = generalization_evaluator.apply(el_sp_a75, net1, im1, fm1)"
   ]
  },
  {
   "cell_type": "code",
   "execution_count": null,
   "id": "4058587f-f994-412a-bd74-61b4710db994",
   "metadata": {},
   "outputs": [],
   "source": [
    "nx_pn = pm4.convert_petri_net_to_networkx(net1, im1, fm1)\n",
    "nx_pn2 = pm4.convert_petri_net_to_networkx(net2, im2, fm2)\n",
    "ged = nx.graph_edit_distance(nx_pn, nx_pn2, timeout=30)"
   ]
  },
  {
   "cell_type": "code",
   "execution_count": null,
   "id": "6264329a-d790-46f7-8597-4d55d2f08930",
   "metadata": {},
   "outputs": [],
   "source": [
    "fitness_L2W1"
   ]
  },
  {
   "cell_type": "code",
   "execution_count": null,
   "id": "a5003eb6-d957-4115-bd27-f94853e96772",
   "metadata": {},
   "outputs": [],
   "source": [
    "res_l = ['>75 years', 'Provider', round(fitness_L1W2['log_fitness'], 3), round(prec_L1W2, 3), round(gen_L1W2, 3),\n",
    "         round(fitness_L2W1['log_fitness'], 3), round(prec_L2W1, 3), round(gen_L2W1, 3),\n",
    "         round(mean([fitness_L1W2['log_fitness'], fitness_L2W1['log_fitness']]), 3),\n",
    "         round(mean([prec_L1W2, prec_L2W1]), 3),\n",
    "         round(mean([gen_L1W2, gen_L2W1]), 3),\n",
    "        int(ged),\n",
    "        round(fitness_L1W2['perc_fit_traces'], 3),\n",
    "        round(fitness_L2W1['perc_fit_traces'], 3),\n",
    "        round(mean([fitness_L1W2['perc_fit_traces'], fitness_L2W1['perc_fit_traces']]), 3)]\n",
    "results_df.loc[len(results_df)] = res_l"
   ]
  },
  {
   "cell_type": "code",
   "execution_count": null,
   "id": "26510c99-c19c-4912-b6ca-ceaf84268376",
   "metadata": {},
   "outputs": [],
   "source": [
    "results_df"
   ]
  },
  {
   "cell_type": "code",
   "execution_count": null,
   "id": "fb48fe21-ec52-4444-8a6d-4a34739c0667",
   "metadata": {},
   "outputs": [],
   "source": [
    "net1, im1, fm1 = pm4.read_pnml('process_mining/petri_nets/el_fa_a75.pnml')\n",
    "net2, im2, fm2 = pm4.read_pnml('process_mining/petri_nets/el_sa_a75.pnml')\n",
    "\n",
    "fitness_L1W2 = pm4.fitness_token_based_replay(el_fa_a75, net2, im2, fm2)\n",
    "prec_L1W2 = pm4.precision_token_based_replay(el_fa_a75, net2, im2, fm2)\n",
    "gen_L1W2 = generalization_evaluator.apply(el_fa_a75, net2, im2, fm2)\n",
    "\n",
    "fitness_L2W1 = pm4.fitness_token_based_replay(el_sa_a75, net1, im1, fm1)\n",
    "prec_L2W1 = pm4.precision_token_based_replay(el_sa_a75, net1, im1, fm1)\n",
    "gen_L2W1 = generalization_evaluator.apply(el_sa_a75, net1, im1, fm1)\n",
    "\n",
    "nx_pn = pm4.convert_petri_net_to_networkx(net1, im1, fm1)\n",
    "nx_pn2 = pm4.convert_petri_net_to_networkx(net2, im2, fm2)\n",
    "ged = nx.graph_edit_distance(nx_pn, nx_pn2, timeout=30)\n",
    "\n",
    "res_l = ['>75 years', 'Activity', round(fitness_L1W2['log_fitness'], 3), round(prec_L1W2, 3), round(gen_L1W2, 3),\n",
    "         round(fitness_L2W1['log_fitness'], 3), round(prec_L2W1, 3), round(gen_L2W1, 3),\n",
    "         round(mean([fitness_L1W2['log_fitness'], fitness_L2W1['log_fitness']]), 3),\n",
    "         round(mean([prec_L1W2, prec_L2W1]), 3),\n",
    "         round(mean([gen_L1W2, gen_L2W1]), 3),\n",
    "        int(ged),\n",
    "        round(fitness_L1W2['perc_fit_traces'], 3),\n",
    "        round(fitness_L2W1['perc_fit_traces'], 3),\n",
    "        round(mean([fitness_L1W2['perc_fit_traces'], fitness_L2W1['perc_fit_traces']]), 3)]\n",
    "results_df.loc[len(results_df)] = res_l"
   ]
  },
  {
   "cell_type": "code",
   "execution_count": null,
   "id": "0af58097-6a51-4cbb-a9fe-48518fe4f8da",
   "metadata": {},
   "outputs": [],
   "source": [
    "results_df"
   ]
  },
  {
   "cell_type": "code",
   "execution_count": null,
   "id": "383b3407-8033-4f96-bae1-81e6d4633971",
   "metadata": {},
   "outputs": [],
   "source": [
    "net1, im1, fm1 = pm4.read_pnml('process_mining/petri_nets/el_fp_int.pnml')\n",
    "net2, im2, fm2 = pm4.read_pnml('process_mining/petri_nets/el_sp_int.pnml')\n",
    "\n",
    "fitness_L1W2 = pm4.fitness_token_based_replay(el_fp_int, net2, im2, fm2)\n",
    "prec_L1W2 = pm4.precision_token_based_replay(el_fp_int, net2, im2, fm2)\n",
    "gen_L1W2 = generalization_evaluator.apply(el_fp_int, net2, im2, fm2)\n",
    "\n",
    "fitness_L2W1 = pm4.fitness_token_based_replay(el_sp_int, net1, im1, fm1)\n",
    "prec_L2W1 = pm4.precision_token_based_replay(el_sp_int, net1, im1, fm1)\n",
    "gen_L2W1 = generalization_evaluator.apply(el_sp_int, net1, im1, fm1)\n",
    "\n",
    "nx_pn = pm4.convert_petri_net_to_networkx(net1, im1, fm1)\n",
    "nx_pn2 = pm4.convert_petri_net_to_networkx(net2, im2, fm2)\n",
    "ged = nx.graph_edit_distance(nx_pn, nx_pn2, timeout=30)\n",
    "\n",
    "res_l = ['Intensive Therapy', 'Provider', round(fitness_L1W2['log_fitness'], 3), round(prec_L1W2, 3), round(gen_L1W2, 3),\n",
    "         round(fitness_L2W1['log_fitness'], 3), round(prec_L2W1, 3), round(gen_L2W1, 3),\n",
    "         round(mean([fitness_L1W2['log_fitness'], fitness_L2W1['log_fitness']]), 3),\n",
    "         round(mean([prec_L1W2, prec_L2W1]), 3),\n",
    "         round(mean([gen_L1W2, gen_L2W1]), 3),\n",
    "        int(ged),\n",
    "        round(fitness_L1W2['perc_fit_traces'], 3),\n",
    "        round(fitness_L2W1['perc_fit_traces'], 3),\n",
    "        round(mean([fitness_L1W2['perc_fit_traces'], fitness_L2W1['perc_fit_traces']]), 3)]\n",
    "results_df.loc[len(results_df)] = res_l"
   ]
  },
  {
   "cell_type": "code",
   "execution_count": null,
   "id": "c5318ac6-5bf8-4e09-a214-8159f4ffe678",
   "metadata": {},
   "outputs": [],
   "source": [
    "results_df"
   ]
  },
  {
   "cell_type": "code",
   "execution_count": null,
   "id": "b691db03-d561-47fc-bb24-6b4255bf9715",
   "metadata": {},
   "outputs": [],
   "source": [
    "net1, im1, fm1 = pm4.read_pnml('process_mining/petri_nets/el_fa_int.pnml')\n",
    "net2, im2, fm2 = pm4.read_pnml('process_mining/petri_nets/el_sa_int.pnml')\n",
    "\n",
    "fitness_L1W2 = pm4.fitness_token_based_replay(el_fa_int, net2, im2, fm2)\n",
    "prec_L1W2 = pm4.precision_token_based_replay(el_fa_int, net2, im2, fm2)\n",
    "gen_L1W2 = generalization_evaluator.apply(el_fa_int, net2, im2, fm2)\n",
    "\n",
    "fitness_L2W1 = pm4.fitness_token_based_replay(el_sa_int, net1, im1, fm1)\n",
    "prec_L2W1 = pm4.precision_token_based_replay(el_sa_int, net1, im1, fm1)\n",
    "gen_L2W1 = generalization_evaluator.apply(el_sa_int, net1, im1, fm1)\n",
    "\n",
    "nx_pn = pm4.convert_petri_net_to_networkx(net1, im1, fm1)\n",
    "nx_pn2 = pm4.convert_petri_net_to_networkx(net2, im2, fm2)\n",
    "ged = nx.graph_edit_distance(nx_pn, nx_pn2, timeout=30)\n",
    "\n",
    "res_l = ['Intensive Therapy', 'Activity', round(fitness_L1W2['log_fitness'], 3), round(prec_L1W2, 3), round(gen_L1W2, 3),\n",
    "         round(fitness_L2W1['log_fitness'], 3), round(prec_L2W1, 3), round(gen_L2W1, 3),\n",
    "         round(mean([fitness_L1W2['log_fitness'], fitness_L2W1['log_fitness']]), 3),\n",
    "         round(mean([prec_L1W2, prec_L2W1]), 3),\n",
    "         round(mean([gen_L1W2, gen_L2W1]), 3),\n",
    "        int(ged),\n",
    "        round(fitness_L1W2['perc_fit_traces'], 3),\n",
    "        round(fitness_L2W1['perc_fit_traces'], 3),\n",
    "        round(mean([fitness_L1W2['perc_fit_traces'], fitness_L2W1['perc_fit_traces']]), 3)]\n",
    "results_df.loc[len(results_df)] = res_l"
   ]
  },
  {
   "cell_type": "code",
   "execution_count": null,
   "id": "1aa4b83f-d054-4470-9c66-4c252d056346",
   "metadata": {},
   "outputs": [],
   "source": [
    "results_df"
   ]
  }
 ],
 "metadata": {
  "kernelspec": {
   "display_name": "Python 3 (ipykernel)",
   "language": "python",
   "name": "python3"
  },
  "language_info": {
   "codemirror_mode": {
    "name": "ipython",
    "version": 3
   },
   "file_extension": ".py",
   "mimetype": "text/x-python",
   "name": "python",
   "nbconvert_exporter": "python",
   "pygments_lexer": "ipython3",
   "version": "3.10.1"
  }
 },
 "nbformat": 4,
 "nbformat_minor": 5
}
