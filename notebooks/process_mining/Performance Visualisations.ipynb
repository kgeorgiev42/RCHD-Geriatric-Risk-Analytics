{
 "cells": [
  {
   "cell_type": "code",
   "execution_count": null,
   "id": "608a04f1-4013-4644-83c5-e420fd1e0112",
   "metadata": {},
   "outputs": [],
   "source": [
    "import pandas as pd\n",
    "import plotly.express as px\n",
    "import numpy as np\n",
    "import seaborn as sns\n",
    "import matplotlib.pyplot as plt\n",
    "sns.set_theme(style=\"white\")"
   ]
  },
  {
   "cell_type": "markdown",
   "id": "7f59068d-926b-4259-8fe3-f965281989cf",
   "metadata": {},
   "source": [
    "#### Load data and visualise subgroup coverage rate"
   ]
  },
  {
   "cell_type": "code",
   "execution_count": null,
   "id": "a6082d0e-c4f8-461a-b930-023387ec90df",
   "metadata": {},
   "outputs": [],
   "source": [
    "cc_res = pd.read_csv('process_mining/crosslog_cc_results_v2.csv')\n",
    "cc_res = cc_res[cc_res['level'] == 'Provider']\n",
    "cc_res['pos'] = np.where(cc_res['subset'].isin(['>75 years', 'Intensive Therapy', 'Extended Stay (>30 days)',\n",
    "                                               '1-year mortality', 'Multimorbidity', 'High Out-of-hours care (top 20% overall)']), 1, 0)\n",
    "cc_res = cc_res.reset_index(drop=True)\n",
    "cc_res"
   ]
  },
  {
   "cell_type": "code",
   "execution_count": null,
   "id": "38954522-f12e-419f-a2b0-a3742f190179",
   "metadata": {},
   "outputs": [],
   "source": [
    "cc_rvis = cc_res[cc_res['pos']==1]\n",
    "cc_rvis['n_percfit'] = cc_res['m_percfit'].loc[6:].tolist()"
   ]
  },
  {
   "cell_type": "code",
   "execution_count": null,
   "id": "0facb066-ebbe-4883-b0e0-384931346e44",
   "metadata": {},
   "outputs": [],
   "source": [
    "cc_rvis"
   ]
  },
  {
   "cell_type": "code",
   "execution_count": null,
   "id": "dc9c10a3-7467-4864-a1de-5c22fbe45eb7",
   "metadata": {},
   "outputs": [],
   "source": [
    "cc_rvis['subset'] = cc_rvis['subset'].replace({'Extended Stay (>30 days)':'Extended stay'})\n",
    "cc_rvis.loc[5, 'subset'] = 'Out-of-hours care'\n",
    "cc_rvis = cc_rvis.rename(columns={'m_percfit': 'Y', 'n_percfit': 'N'})"
   ]
  },
  {
   "cell_type": "code",
   "execution_count": null,
   "id": "026ca43a-4885-43b2-926d-a677e5945332",
   "metadata": {},
   "outputs": [],
   "source": [
    "perc_values = []\n",
    "for i in range(len(cc_rvis)):\n",
    "    perc_values.append(cc_rvis.loc[i, 'Y'])\n",
    "    perc_values.append(cc_rvis.loc[i, 'N'])\n",
    "col_values = ['>75 years', '>75 years', 'Intensive Therapy', 'Intensive Therapy',\n",
    "              'Extended stay', 'Extended stay', '1-year mortality', '1-year mortality',\n",
    "              'Multimorbidity', 'Multimorbidity', 'Out-of-hours care', 'Out-of-hours care']"
   ]
  },
  {
   "cell_type": "code",
   "execution_count": null,
   "id": "55ae3057-9d61-46ba-aa41-8fa5feab28e3",
   "metadata": {},
   "outputs": [],
   "source": [
    "perc_values"
   ]
  },
  {
   "cell_type": "code",
   "execution_count": null,
   "id": "201f8e12-7769-4c71-b001-679fb8270712",
   "metadata": {},
   "outputs": [],
   "source": [
    "fig = px.bar(\n",
    "    data_frame = cc_rvis,\n",
    "    x = \"subset\",\n",
    "    y = [\"Y\",\"N\"],\n",
    "    opacity = 1,\n",
    "    orientation = \"v\",\n",
    "    barmode = \"group\",\n",
    "    title=\"Trace coverage rates representing alignment between Wave 1 and 2 subgroups\",\n",
    "    labels={'subset': '', 'value': '% of fitting traces in group'},\n",
    "    color_discrete_map={'Y': '#8c0839', 'N': 'lightblue'}\n",
    ")\n",
    "# Add x and y ticks\n",
    "fig.update_xaxes(tickvals=cc_rvis['subset'], ticktext=cc_rvis['subset'], layer='below traces')\n",
    "#fig.update_yaxes( layer='above traces')\n",
    "\n",
    "# Rotate x-axis labels\n",
    "#fig.update_layout(xaxis=dict(tickangle=65))\n",
    "# Adjust font size\n",
    "fig.update_layout(font=dict(size=10))\n",
    "\n",
    "# Adjust layout for a more condensed version\n",
    "fig.update_layout(\n",
    "    margin=dict(l=10, r=10, b=10, t=40),\n",
    "    width=700,\n",
    "    height=500,\n",
    "    legend=dict(title='', orientation='v', y=0.99, x=0.09, xanchor='right'),\n",
    "    bargap=0.5,\n",
    "    font = dict(size=13, family='Times New Roman Black'),\n",
    "    #xaxis_font=dict(),\n",
    "    xaxis_title_font=dict(size=15, family='Times New Roman Black'),  # Customize x-axis label\n",
    "    yaxis_title_font=dict(size=15, family='Times New Roman Black')\n",
    ")\n",
    "\n",
    "fig.update_layout(yaxis_ticksuffix = '%', yaxis_tickformat = ',.0f')\n",
    "\n",
    "# Display numbers on top of each bar\n",
    "for i in range(len(perc_values)):\n",
    "    if i in [0, 2, 4, 6, 8, 10]:\n",
    "        fig.add_annotation(\n",
    "            x=col_values[i],\n",
    "            y=perc_values[i],\n",
    "            text=str(round(perc_values[i], 1)) + '%',\n",
    "            font=dict(size=11, color='#2a2d30', family='Times New Roman Black'),\n",
    "            showarrow=False,\n",
    "            arrowhead=3,\n",
    "            ax=-20,\n",
    "            ay=-20,\n",
    "            xshift=-12,\n",
    "            yshift=6\n",
    "        )\n",
    "    else:\n",
    "        fig.add_annotation(\n",
    "            x=col_values[i],\n",
    "            y=perc_values[i],\n",
    "            text=str(round(perc_values[i], 1)) + '%',\n",
    "            showarrow=False,\n",
    "            arrowhead=3,\n",
    "            font=dict(size=11, color='#2a2d30', family='Times New Roman Black'),\n",
    "            #ax=20,\n",
    "            #ay=20,\n",
    "            xshift=12,\n",
    "            yshift=6\n",
    "        )\n",
    "\n",
    "fig.update_layout(\n",
    "    #xaxis=dict(showgrid=False,zeroline=False, showline=True, ticks='inside', ticklen=5, tickwidth=2,\n",
    "              #tickfont=dict(size=13)),  # Customize x-axis\n",
    "    #yaxis=dict(showgrid=True, zeroline=False, showline=True, ticks='inside', ticklen=5, tickwidth=2,\n",
    "              #line=dict(color='black', width=1)),\n",
    "    #legend=dict(showline=True, linewidth=1.5, linecolor='black'),\n",
    "    bargroupgap=0.15,\n",
    "plot_bgcolor='white')\n",
    "fig.update_xaxes(showgrid=False, linewidth=2, linecolor='black',\n",
    "                 ticks='inside', ticklen=5, tickwidth=2)\n",
    "fig.update_yaxes(showgrid=True, linewidth=2, linecolor='black', gridcolor='#b8abb0', gridwidth=1,\n",
    "                 ticks='inside', ticklen=5, tickwidth=2, layer='below traces')\n",
    "fig.update_layout(legend=dict(borderwidth=2, bordercolor='black', x=0.11, y=1.01))\n",
    "\n",
    "\n",
    "fig.write_image(\"process_mining/fig_cov_rate.pdf\")\n",
    "fig.show()"
   ]
  },
  {
   "cell_type": "code",
   "execution_count": null,
   "id": "5f96a1ac-4687-4f0d-986b-3a6391f9ff75",
   "metadata": {},
   "outputs": [],
   "source": [
    "cc_res.columns"
   ]
  },
  {
   "cell_type": "code",
   "execution_count": null,
   "id": "1464dbdb-4da5-452a-a336-4b6aac19fd16",
   "metadata": {},
   "outputs": [],
   "source": [
    "cc_res = pd.read_csv('process_mining/crosslog_cc_results_v2.csv')"
   ]
  },
  {
   "cell_type": "code",
   "execution_count": null,
   "id": "323c3606-5412-45fb-8ba8-c67d86ebf058",
   "metadata": {},
   "outputs": [],
   "source": [
    "cc_res_c = cc_res[['L1W2_lf', 'L1W2_prec', 'L1W2_gen', 'L2W1_lf', 'L2W1_prec',\n",
    "                  'L2W1_gen', 'GED']]\n",
    "cc_res_c.columns = ['$LF{(L_1, W_2)}$', '$P{(L_1, W_2)}$', '$G{(L_1, W_2)}$', '$LF{(L_2, W_1)}$', '$P{(L_2, W_1)}$',\n",
    "                  '$G{(L_2, W_1)}$', '$GED$']\n",
    "\n",
    "df_corr = cc_res_c.corr()\n",
    "\n",
    "# Generate a mask for the upper triangle\n",
    "mask = np.triu(np.ones_like(df_corr, dtype=bool))\n",
    "\n",
    "# Set up the matplotlib figure\n",
    "fig, ax = plt.subplots(figsize=(9, 6))\n",
    "\n",
    "# Set font family for x and y labels\n",
    "plt.title('Correlation heatmap of the conformance checking measures.', fontname=\"Times New Roman Black\",\n",
    "         size=15)\n",
    "plt.xticks(fontname=\"Times New Roman Black\")\n",
    "plt.yticks(fontname=\"Times New Roman Black\")\n",
    "\n",
    "# Create a custom diverging colormap\n",
    "cmap = sns.diverging_palette(220, 20, as_cmap=True)\n",
    "\n",
    "\n",
    "# Draw the heatmap with the mask and correct aspect ratio\n",
    "heatmap = sns.heatmap(df_corr, mask=mask, cmap=cmap, vmax=1, vmin=-1, center=0,\n",
    "            square=True, linewidths=.7, annot=True, fmt=\".2f\", annot_kws={\"size\": 14,\n",
    "                                                                         \"fontfamily\": \"Times New Roman Black\"}, cbar=False)\n",
    "\n",
    "# Create a custom colorbar\n",
    "cbar = fig.colorbar(heatmap.get_children()[0], ax=ax, orientation='vertical', pad=0.01, aspect=20)\n",
    "\n",
    "# Set the colorbar tick labels\n",
    "cbar.set_ticks(np.arange(-1, 1.1, 0.5))\n",
    "cbar.set_ticklabels(['{:,.1f}'.format(x) if x % 1 != 0 else '{:,.0f}'.format(x) for x in np.arange(-1, 1.1, 0.5)])\n",
    "\n",
    "# Increase font size for x and y labels\n",
    "heatmap.set_xticklabels(heatmap.get_xticklabels(), fontsize=13)\n",
    "heatmap.set_yticklabels(heatmap.get_yticklabels(), fontsize=13)\n",
    "\n",
    "# Increase the margin between the plot and the title\n",
    "plt.subplots_adjust(top=0.85)\n",
    "\n",
    "# Save the plot as a PDF file\n",
    "plt.savefig(\"process_mining/correlation_heatmap.svg\", bbox_inches=\"tight\")"
   ]
  }
 ],
 "metadata": {
  "kernelspec": {
   "display_name": "Python 3 (ipykernel)",
   "language": "python",
   "name": "python3"
  },
  "language_info": {
   "codemirror_mode": {
    "name": "ipython",
    "version": 3
   },
   "file_extension": ".py",
   "mimetype": "text/x-python",
   "name": "python",
   "nbconvert_exporter": "python",
   "pygments_lexer": "ipython3",
   "version": "3.9.7"
  }
 },
 "nbformat": 4,
 "nbformat_minor": 5
}
