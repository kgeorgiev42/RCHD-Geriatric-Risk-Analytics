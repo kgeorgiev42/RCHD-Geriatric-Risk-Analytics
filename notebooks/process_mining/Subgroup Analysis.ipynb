{
 "cells": [
  {
   "cell_type": "code",
   "execution_count": null,
   "id": "40123312-42a0-4acd-be97-c1c2db49c1c0",
   "metadata": {},
   "outputs": [],
   "source": [
    "import networkx as nx\n",
    "import xml.etree.ElementTree as ET\n",
    "import matplotlib.pyplot as plt\n",
    "import pm4py as pm4\n",
    "from pm4py.algo.evaluation.generalization import algorithm as generalization_evaluator\n",
    "import pandas as pd\n",
    "from statistics import mean"
   ]
  },
  {
   "cell_type": "markdown",
   "id": "98143541-f0c9-4152-ad8d-53546b95eb63",
   "metadata": {},
   "source": [
    "##### Generate subgroup logs"
   ]
  },
  {
   "cell_type": "code",
   "execution_count": null,
   "id": "0836aa95-f9b1-4033-8c9a-9dc7265a02aa",
   "metadata": {},
   "outputs": [],
   "source": [
    "elog_data_first = pd.read_csv('data/export/cv19_event_log_wv1.csv')\n",
    "elog_data_second = pd.read_csv('data/export/cv19_event_log_wv2.csv')\n",
    "elog_data_full = pd.read_csv('data/export/cv19_event_log_full.csv')\n",
    "elog_data_first['start'] = pd.to_datetime(elog_data_first['start'])\n",
    "elog_data_second['start'] = pd.to_datetime(elog_data_second['start'])"
   ]
  },
  {
   "cell_type": "code",
   "execution_count": null,
   "id": "54b41965-8473-450b-a3c5-f4dfbfac1f97",
   "metadata": {},
   "outputs": [],
   "source": [
    "base_cohort = pd.read_csv('data/export/cv19_cohort.csv')"
   ]
  },
  {
   "cell_type": "code",
   "execution_count": null,
   "id": "932de4d0-28a8-4fd5-a459-bf71d33c8fb4",
   "metadata": {},
   "outputs": [],
   "source": [
    "el_full_ooh = elog_data_full.groupby('pid')['ooh'].count().reset_index()\n",
    "el_full_ooh.ooh.quantile(0.8)"
   ]
  },
  {
   "cell_type": "code",
   "execution_count": null,
   "id": "e737e6d4-c94d-44cf-ae82-59544ac21b1f",
   "metadata": {},
   "outputs": [],
   "source": [
    "elog_data_first.SIMD.value_counts()"
   ]
  },
  {
   "cell_type": "code",
   "execution_count": null,
   "id": "589ef3fd-d415-4ce5-a2b8-fe5af5bcfc89",
   "metadata": {},
   "outputs": [],
   "source": [
    "base_cohort.groupby('wave').n_morbid.value_counts()"
   ]
  },
  {
   "cell_type": "code",
   "execution_count": null,
   "id": "d136a072-897e-4ec7-9312-2665922c9b1d",
   "metadata": {},
   "outputs": [],
   "source": [
    "elog_data_first.columns"
   ]
  },
  {
   "cell_type": "code",
   "execution_count": null,
   "id": "9fbfac0b-64a3-4c9b-9274-9a147229c728",
   "metadata": {},
   "outputs": [],
   "source": [
    "el_ooh_1 = elog_data_first.groupby('pid')['ooh'].count().reset_index().rename(columns={'ooh': 'ooh_count'})\n",
    "el_ooh_2 = elog_data_second.groupby('pid')['ooh'].count().reset_index().rename(columns={'ooh': 'ooh_count'})\n",
    "elog_data_first = pd.merge(elog_data_first, el_ooh_1[['pid', 'ooh_count']], how='left', on='pid')\n",
    "elog_data_second = pd.merge(elog_data_second, el_ooh_2[['pid', 'ooh_count']], how='left', on='pid')"
   ]
  },
  {
   "cell_type": "code",
   "execution_count": null,
   "id": "48f383cd-8d9b-4095-8ab5-f9388d8cf1fe",
   "metadata": {},
   "outputs": [],
   "source": [
    "results_df = pd.DataFrame(columns=['subset', 'level', 'L1W2_lf', 'L1W2_prec', 'L1W2_gen', 'L2W1_lf', 'L2W1_prec', 'L2W1_gen', 'm_lf',\n",
    "                          'm_prec', 'm_gen', 'GED', 'L1W2_percfit', 'L2W1_percfit', 'm_percfit'])"
   ]
  },
  {
   "cell_type": "code",
   "execution_count": null,
   "id": "50ae15d9-d6dc-4ba7-87fa-eb74519987b7",
   "metadata": {},
   "outputs": [],
   "source": [
    "elog_data_fp = elog_data_first.rename(columns={\"pid\": \"case:concept:name\", \"provider_event\": \"concept:name\",\n",
    "                                            \"start\": \"time:timestamp\"})\n",
    "elog_data_fp = pm4.format_dataframe(elog_data_fp, case_id='case:concept:name', activity_key='concept:name', timestamp_key='time:timestamp',\n",
    "                                   timest_format='%Y-%m-%d %H:%M:%S')\n",
    "elog_data_sp = elog_data_second.rename(columns={\"pid\": \"case:concept:name\", \"provider_event\": \"concept:name\",\n",
    "                                            \"start\": \"time:timestamp\"})\n",
    "elog_data_sp = pm4.format_dataframe(elog_data_sp, case_id='case:concept:name', activity_key='concept:name', timestamp_key='time:timestamp',\n",
    "                                   timest_format='%Y-%m-%d %H:%M:%S')\n",
    "elog_data_fa = elog_data_first.rename(columns={\"pid\": \"case:concept:name\", \"act_code\": \"concept:name\",\n",
    "                                            \"start\": \"time:timestamp\"})\n",
    "elog_data_fa = pm4.format_dataframe(elog_data_fa, case_id='case:concept:name', activity_key='concept:name', timestamp_key='time:timestamp',\n",
    "                                   timest_format='%Y-%m-%d %H:%M:%S')\n",
    "elog_data_sa = elog_data_second.rename(columns={\"pid\": \"case:concept:name\", \"act_code\": \"concept:name\",\n",
    "                                            \"start\": \"time:timestamp\"})\n",
    "elog_data_sa = pm4.format_dataframe(elog_data_sa, case_id='case:concept:name', activity_key='concept:name', timestamp_key='time:timestamp',\n",
    "                                   timest_format='%Y-%m-%d %H:%M:%S')"
   ]
  },
  {
   "cell_type": "markdown",
   "id": "d4075832-9af9-4d0d-bda8-5091916a06ec",
   "metadata": {},
   "source": [
    "#### Subsets"
   ]
  },
  {
   "cell_type": "code",
   "execution_count": null,
   "id": "67656243-d60c-4750-b53a-b0ebe4ebaf89",
   "metadata": {},
   "outputs": [],
   "source": [
    "### Over 75\n",
    "el_data_fp_a75 = elog_data_fp[elog_data_fp.above_75 == 1]\n",
    "el_data_sp_a75 = elog_data_sp[elog_data_sp.above_75 == 1]\n",
    "el_data_fa_a75 = elog_data_fa[elog_data_fa.above_75 == 1]\n",
    "el_data_sa_a75 = elog_data_sa[elog_data_sa.above_75 == 1]\n",
    "### Intensive therapy\n",
    "el_data_fp_int = elog_data_fp[elog_data_fp.spec == 'Intensive Therapy']\n",
    "el_data_sp_int = elog_data_sp[elog_data_sp.spec == 'Intensive Therapy']\n",
    "el_data_fa_int = elog_data_fa[elog_data_fa.spec == 'Intensive Therapy']\n",
    "el_data_sa_int = elog_data_sa[elog_data_sa.spec == 'Intensive Therapy']\n",
    "### Multimorbidity\n",
    "el_data_fp_mm = elog_data_fp[elog_data_fp.o_mm == 1]\n",
    "el_data_sp_mm = elog_data_sp[elog_data_sp.o_mm == 1]\n",
    "el_data_fa_mm = elog_data_fa[elog_data_fa.o_mm == 1]\n",
    "el_data_sa_mm = elog_data_sa[elog_data_sa.o_mm == 1]\n",
    "### 1-year all-cause mortality\n",
    "el_data_fp_m = elog_data_fp[elog_data_fp.o_1ym == 1]\n",
    "el_data_sp_m = elog_data_sp[elog_data_sp.o_1ym == 1]\n",
    "el_data_fa_m = elog_data_fa[elog_data_fa.o_1ym == 1]\n",
    "el_data_sa_m = elog_data_sa[elog_data_sa.o_1ym == 1]\n",
    "### Extended stay (>30 days)\n",
    "el_data_fp_es = elog_data_fp[elog_data_fp.o_es == 1]\n",
    "el_data_sp_es = elog_data_sp[elog_data_sp.o_es == 1]\n",
    "el_data_fa_es = elog_data_fa[elog_data_fa.o_es == 1]\n",
    "el_data_sa_es = elog_data_sa[elog_data_sa.o_es == 1]\n",
    "### High out-of-hours care (>80th percentile of overall log)\n",
    "el_data_fp_ooh = elog_data_fp[elog_data_fp.ooh_count > 70.0]\n",
    "el_data_sp_ooh = elog_data_sp[elog_data_sp.ooh_count > 70.0]\n",
    "el_data_fa_ooh = elog_data_fa[elog_data_fa.ooh_count > 70.0]\n",
    "el_data_sa_ooh = elog_data_sa[elog_data_sa.ooh_count > 70.0]"
   ]
  },
  {
   "cell_type": "code",
   "execution_count": null,
   "id": "f061eac4-f0c3-48bd-8744-23bfec78464c",
   "metadata": {},
   "outputs": [],
   "source": [
    "print(el_data_fp_a75.shape, el_data_fp_int.shape, el_data_fp_mm.shape, el_data_fp_m.shape, el_data_fp_es.shape, el_data_fp_ooh.shape)\n",
    "print(el_data_sp_a75.shape, el_data_sp_int.shape, el_data_sp_mm.shape, el_data_sp_m.shape, el_data_sp_es.shape, el_data_sp_ooh.shape)\n",
    "print(el_data_fa_a75.shape, el_data_fa_int.shape, el_data_fa_mm.shape, el_data_fa_m.shape, el_data_fa_es.shape, el_data_fa_ooh.shape)\n",
    "print(el_data_sa_a75.shape, el_data_sa_int.shape, el_data_sa_mm.shape, el_data_sa_m.shape, el_data_sa_es.shape, el_data_sa_ooh.shape)"
   ]
  },
  {
   "cell_type": "code",
   "execution_count": null,
   "id": "756c9a53-445f-4ddd-9fee-c6d7f71c46ca",
   "metadata": {},
   "outputs": [],
   "source": [
    "el_fp_a75 = pm4.convert_to_event_log(el_data_fp_a75)\n",
    "el_sp_a75 = pm4.convert_to_event_log(el_data_sp_a75)\n",
    "el_fa_a75 = pm4.convert_to_event_log(el_data_fa_a75)\n",
    "el_sa_a75 = pm4.convert_to_event_log(el_data_sa_a75)\n",
    "\n",
    "el_fp_int = pm4.convert_to_event_log(el_data_fp_int)\n",
    "el_sp_int = pm4.convert_to_event_log(el_data_sp_int)\n",
    "el_fa_int = pm4.convert_to_event_log(el_data_fa_int)\n",
    "el_sa_int = pm4.convert_to_event_log(el_data_sa_int)\n",
    "\n",
    "el_fp_mm = pm4.convert_to_event_log(el_data_fp_mm)\n",
    "el_sp_mm = pm4.convert_to_event_log(el_data_sp_mm)\n",
    "el_fa_mm = pm4.convert_to_event_log(el_data_fa_mm)\n",
    "el_sa_mm = pm4.convert_to_event_log(el_data_sa_mm)\n",
    "\n",
    "el_fp_m = pm4.convert_to_event_log(el_data_fp_m)\n",
    "el_sp_m = pm4.convert_to_event_log(el_data_sp_m)\n",
    "el_fa_m = pm4.convert_to_event_log(el_data_fa_m)\n",
    "el_sa_m = pm4.convert_to_event_log(el_data_sa_m)\n",
    "\n",
    "el_fp_es = pm4.convert_to_event_log(el_data_fp_es)\n",
    "el_sp_es = pm4.convert_to_event_log(el_data_sp_es)\n",
    "el_fa_es = pm4.convert_to_event_log(el_data_fa_es)\n",
    "el_sa_es = pm4.convert_to_event_log(el_data_sa_es)\n",
    "\n",
    "el_fp_ooh = pm4.convert_to_event_log(el_data_fp_ooh)\n",
    "el_sp_ooh = pm4.convert_to_event_log(el_data_sp_ooh)\n",
    "el_fa_ooh = pm4.convert_to_event_log(el_data_fa_ooh)\n",
    "el_sa_ooh = pm4.convert_to_event_log(el_data_sa_ooh)"
   ]
  },
  {
   "cell_type": "markdown",
   "id": "a341da77-2eba-4030-b971-4211cefc8c8a",
   "metadata": {},
   "source": [
    "##### Discover and save Petri Nets with Inductive Miner"
   ]
  },
  {
   "cell_type": "code",
   "execution_count": null,
   "id": "3381759d-641d-4c51-b964-bab4db98f399",
   "metadata": {},
   "outputs": [],
   "source": [
    "net, initial_marking, final_marking = pm4.discover_petri_net_inductive(el_fp_a75, noise_threshold=0.3, multi_processing=True)\n",
    "pm4.view_petri_net(net, initial_marking, final_marking)\n",
    "pm4.write_pnml(net, initial_marking, final_marking, 'process_mining/petri_nets/el_fp_a75.pnml')"
   ]
  },
  {
   "cell_type": "code",
   "execution_count": null,
   "id": "63638e5e-6c02-4c9c-8dad-1dd44f2cf420",
   "metadata": {},
   "outputs": [],
   "source": [
    "net, initial_marking, final_marking = pm4.discover_petri_net_inductive(el_sp_a75, noise_threshold=0.3, multi_processing=True)\n",
    "pm4.view_petri_net(net, initial_marking, final_marking)\n",
    "pm4.write_pnml(net, initial_marking, final_marking, 'process_mining/petri_nets/el_sp_a75.pnml')"
   ]
  },
  {
   "cell_type": "code",
   "execution_count": null,
   "id": "48e7efad-aa07-4777-8e42-e99c1f8e9824",
   "metadata": {},
   "outputs": [],
   "source": [
    "net, initial_marking, final_marking = pm4.discover_petri_net_inductive(el_fa_a75, noise_threshold=0.3, multi_processing=True)\n",
    "pm4.view_petri_net(net, initial_marking, final_marking)\n",
    "pm4.write_pnml(net, initial_marking, final_marking, 'process_mining/petri_nets/el_fa_a75.pnml')"
   ]
  },
  {
   "cell_type": "code",
   "execution_count": null,
   "id": "7c101af6-1446-4111-a556-16dc7d98ec9f",
   "metadata": {},
   "outputs": [],
   "source": [
    "net, initial_marking, final_marking = pm4.discover_petri_net_inductive(el_sa_a75, noise_threshold=0.3, multi_processing=True)\n",
    "pm4.view_petri_net(net, initial_marking, final_marking)\n",
    "pm4.write_pnml(net, initial_marking, final_marking, 'process_mining/petri_nets/el_sa_a75.pnml')"
   ]
  },
  {
   "cell_type": "code",
   "execution_count": null,
   "id": "55a33fef-fcad-42d2-a56f-c254a675ba34",
   "metadata": {},
   "outputs": [],
   "source": [
    "net, initial_marking, final_marking = pm4.discover_petri_net_inductive(el_fp_int, noise_threshold=0.3, multi_processing=True)\n",
    "pm4.view_petri_net(net, initial_marking, final_marking)\n",
    "pm4.write_pnml(net, initial_marking, final_marking, 'process_mining/petri_nets/el_fp_int.pnml')"
   ]
  },
  {
   "cell_type": "code",
   "execution_count": null,
   "id": "d613b56d-94c3-4170-972c-219bb357eac8",
   "metadata": {},
   "outputs": [],
   "source": [
    "net, initial_marking, final_marking = pm4.discover_petri_net_inductive(el_sp_int, noise_threshold=0.3, multi_processing=True)\n",
    "pm4.view_petri_net(net, initial_marking, final_marking)\n",
    "pm4.write_pnml(net, initial_marking, final_marking, 'process_mining/petri_nets/el_sp_int.pnml')"
   ]
  },
  {
   "cell_type": "code",
   "execution_count": null,
   "id": "54ba3dab-8e30-431f-a8c6-dfc752630380",
   "metadata": {},
   "outputs": [],
   "source": [
    "net, initial_marking, final_marking = pm4.discover_petri_net_inductive(el_fa_int, noise_threshold=0.3, multi_processing=True)\n",
    "pm4.view_petri_net(net, initial_marking, final_marking)\n",
    "pm4.write_pnml(net, initial_marking, final_marking, 'process_mining/petri_nets/el_fa_int.pnml')"
   ]
  },
  {
   "cell_type": "code",
   "execution_count": null,
   "id": "9fd3b3c2-5c5a-4021-a974-db1b07ebdc7b",
   "metadata": {},
   "outputs": [],
   "source": [
    "net, initial_marking, final_marking = pm4.discover_petri_net_inductive(el_sa_int, noise_threshold=0.3, multi_processing=True)\n",
    "pm4.view_petri_net(net, initial_marking, final_marking)\n",
    "pm4.write_pnml(net, initial_marking, final_marking, 'process_mining/petri_nets/el_sa_int.pnml')"
   ]
  },
  {
   "cell_type": "code",
   "execution_count": null,
   "id": "49586256-31e4-47d4-af5c-6aa1d42d0694",
   "metadata": {},
   "outputs": [],
   "source": [
    "net, initial_marking, final_marking = pm4.discover_petri_net_inductive(el_fp_es, noise_threshold=0.3, multi_processing=True)\n",
    "pm4.view_petri_net(net, initial_marking, final_marking)\n",
    "pm4.write_pnml(net, initial_marking, final_marking, 'process_mining/petri_nets/el_fp_es.pnml')"
   ]
  },
  {
   "cell_type": "code",
   "execution_count": null,
   "id": "4edbfd28-9323-4c78-b510-f2c362ed3270",
   "metadata": {},
   "outputs": [],
   "source": [
    "net, initial_marking, final_marking = pm4.discover_petri_net_inductive(el_sp_es, noise_threshold=0.3, multi_processing=True)\n",
    "pm4.view_petri_net(net, initial_marking, final_marking)\n",
    "pm4.write_pnml(net, initial_marking, final_marking, 'process_mining/petri_nets/el_sp_es.pnml')"
   ]
  },
  {
   "cell_type": "code",
   "execution_count": null,
   "id": "72b90a04-11f0-44ec-96f9-047e1f85e707",
   "metadata": {},
   "outputs": [],
   "source": [
    "net, initial_marking, final_marking = pm4.discover_petri_net_inductive(el_fa_es, noise_threshold=0.3, multi_processing=True)\n",
    "pm4.view_petri_net(net, initial_marking, final_marking)\n",
    "pm4.write_pnml(net, initial_marking, final_marking, 'process_mining/petri_nets/el_fa_es.pnml')"
   ]
  },
  {
   "cell_type": "code",
   "execution_count": null,
   "id": "d5f49b09-5083-401f-a3d2-9a32b5ab31a5",
   "metadata": {},
   "outputs": [],
   "source": [
    "net, initial_marking, final_marking = pm4.discover_petri_net_inductive(el_sa_es, noise_threshold=0.3, multi_processing=True)\n",
    "pm4.view_petri_net(net, initial_marking, final_marking)\n",
    "pm4.write_pnml(net, initial_marking, final_marking, 'process_mining/petri_nets/el_sa_es.pnml')"
   ]
  },
  {
   "cell_type": "code",
   "execution_count": null,
   "id": "65f71233-fbd8-4b79-a634-8bab401690da",
   "metadata": {},
   "outputs": [],
   "source": [
    "net, initial_marking, final_marking = pm4.discover_petri_net_inductive(el_fp_mm, noise_threshold=0.3, multi_processing=True)\n",
    "pm4.view_petri_net(net, initial_marking, final_marking)\n",
    "pm4.write_pnml(net, initial_marking, final_marking, 'process_mining/petri_nets/el_fp_mm.pnml')"
   ]
  },
  {
   "cell_type": "code",
   "execution_count": null,
   "id": "ef27d350-3c23-44ca-b09c-6743d5a2be01",
   "metadata": {},
   "outputs": [],
   "source": [
    "net, initial_marking, final_marking = pm4.discover_petri_net_inductive(el_fa_mm, noise_threshold=0.3, multi_processing=True)\n",
    "pm4.view_petri_net(net, initial_marking, final_marking)\n",
    "pm4.write_pnml(net, initial_marking, final_marking, 'process_mining/petri_nets/el_fa_mm.pnml')"
   ]
  },
  {
   "cell_type": "code",
   "execution_count": null,
   "id": "f8626358-9c72-4e04-b702-fece41e653eb",
   "metadata": {},
   "outputs": [],
   "source": [
    "net, initial_marking, final_marking = pm4.discover_petri_net_inductive(el_sp_mm, noise_threshold=0.3, multi_processing=True)\n",
    "pm4.view_petri_net(net, initial_marking, final_marking)\n",
    "pm4.write_pnml(net, initial_marking, final_marking, 'process_mining/petri_nets/el_sp_mm.pnml')"
   ]
  },
  {
   "cell_type": "code",
   "execution_count": null,
   "id": "2aa6448a-ea93-43de-8dd5-8d4b26b48158",
   "metadata": {},
   "outputs": [],
   "source": [
    "net, initial_marking, final_marking = pm4.discover_petri_net_inductive(el_sa_mm, noise_threshold=0.3, multi_processing=True)\n",
    "pm4.view_petri_net(net, initial_marking, final_marking)\n",
    "pm4.write_pnml(net, initial_marking, final_marking, 'process_mining/petri_nets/el_sa_mm.pnml')"
   ]
  },
  {
   "cell_type": "code",
   "execution_count": null,
   "id": "03413d22-b39c-4a73-a153-806527c58ca9",
   "metadata": {},
   "outputs": [],
   "source": [
    "net, initial_marking, final_marking = pm4.discover_petri_net_inductive(el_fp_m, noise_threshold=0.3, multi_processing=True)\n",
    "pm4.view_petri_net(net, initial_marking, final_marking)\n",
    "pm4.write_pnml(net, initial_marking, final_marking, 'process_mining/petri_nets/el_fp_m.pnml')"
   ]
  },
  {
   "cell_type": "code",
   "execution_count": null,
   "id": "6127c54f-1265-41ab-a704-469a82a46f02",
   "metadata": {},
   "outputs": [],
   "source": [
    "net, initial_marking, final_marking = pm4.discover_petri_net_inductive(el_sp_m, noise_threshold=0.3, multi_processing=True)\n",
    "pm4.view_petri_net(net, initial_marking, final_marking)\n",
    "pm4.write_pnml(net, initial_marking, final_marking, 'process_mining/petri_nets/el_sp_m.pnml')"
   ]
  },
  {
   "cell_type": "code",
   "execution_count": null,
   "id": "1d5d5493-48e8-4e41-b9a7-3e146087340d",
   "metadata": {},
   "outputs": [],
   "source": [
    "net, initial_marking, final_marking = pm4.discover_petri_net_inductive(el_fa_m, noise_threshold=0.3, multi_processing=True)\n",
    "pm4.view_petri_net(net, initial_marking, final_marking)\n",
    "pm4.write_pnml(net, initial_marking, final_marking, 'process_mining/petri_nets/el_fa_m.pnml')"
   ]
  },
  {
   "cell_type": "code",
   "execution_count": null,
   "id": "6f3210f6-5e9d-458d-939b-e479daa5b5ff",
   "metadata": {},
   "outputs": [],
   "source": [
    "net, initial_marking, final_marking = pm4.discover_petri_net_inductive(el_sa_m, noise_threshold=0.3, multi_processing=True)\n",
    "pm4.view_petri_net(net, initial_marking, final_marking)\n",
    "pm4.write_pnml(net, initial_marking, final_marking, 'process_mining/petri_nets/el_sa_m.pnml')"
   ]
  },
  {
   "cell_type": "code",
   "execution_count": null,
   "id": "15c13c03-f671-4c75-b68c-131e5015aefd",
   "metadata": {},
   "outputs": [],
   "source": [
    "net, initial_marking, final_marking = pm4.discover_petri_net_inductive(el_fp_ooh, noise_threshold=0.3, multi_processing=True)\n",
    "pm4.view_petri_net(net, initial_marking, final_marking)\n",
    "pm4.write_pnml(net, initial_marking, final_marking, 'process_mining/petri_nets/el_fp_ooh.pnml')"
   ]
  },
  {
   "cell_type": "code",
   "execution_count": null,
   "id": "7c261306-17ae-4820-908c-c9f8a2a852d5",
   "metadata": {},
   "outputs": [],
   "source": [
    "net, initial_marking, final_marking = pm4.discover_petri_net_inductive(el_fa_ooh, noise_threshold=0.3, multi_processing=True)\n",
    "pm4.view_petri_net(net, initial_marking, final_marking)\n",
    "pm4.write_pnml(net, initial_marking, final_marking, 'process_mining/petri_nets/el_fa_ooh.pnml')"
   ]
  },
  {
   "cell_type": "code",
   "execution_count": null,
   "id": "a4a7d281-5a7e-4e8d-b1eb-2b69fdbb244c",
   "metadata": {},
   "outputs": [],
   "source": [
    "net, initial_marking, final_marking = pm4.discover_petri_net_inductive(el_sp_ooh, noise_threshold=0.3, multi_processing=True)\n",
    "pm4.view_petri_net(net, initial_marking, final_marking)\n",
    "pm4.write_pnml(net, initial_marking, final_marking, 'process_mining/petri_nets/el_sp_ooh.pnml')"
   ]
  },
  {
   "cell_type": "code",
   "execution_count": null,
   "id": "59ec235d-6b44-4427-83d1-b32f767d8351",
   "metadata": {},
   "outputs": [],
   "source": [
    "net, initial_marking, final_marking = pm4.discover_petri_net_inductive(el_sa_ooh, noise_threshold=0.3, multi_processing=True)\n",
    "pm4.view_petri_net(net, initial_marking, final_marking)\n",
    "pm4.write_pnml(net, initial_marking, final_marking, 'process_mining/petri_nets/el_sa_ooh.pnml')"
   ]
  },
  {
   "cell_type": "markdown",
   "id": "7851428d-eb2e-45f0-9e57-f7d48876b4b6",
   "metadata": {},
   "source": [
    "#### Cross-log conformance checking"
   ]
  },
  {
   "cell_type": "code",
   "execution_count": null,
   "id": "c9ece633-163c-4aa0-b62c-61731148d39f",
   "metadata": {},
   "outputs": [],
   "source": [
    "net1, im1, fm1 = pm4.read_pnml('process_mining/petri_nets/el_fp_a75.pnml')\n",
    "net2, im2, fm2 = pm4.read_pnml('process_mining/petri_nets/el_sp_a75.pnml')"
   ]
  },
  {
   "cell_type": "code",
   "execution_count": null,
   "id": "a71f9f96-7693-4602-8409-266931c5e86b",
   "metadata": {},
   "outputs": [],
   "source": [
    "fitness_L1W2 = pm4.fitness_token_based_replay(el_fp_a75, net2, im2, fm2)\n",
    "prec_L1W2 = pm4.precision_token_based_replay(el_fp_a75, net2, im2, fm2)\n",
    "gen_L1W2 = generalization_evaluator.apply(el_fp_a75, net2, im2, fm2)\n",
    "\n",
    "fitness_L2W1 = pm4.fitness_token_based_replay(el_sp_a75, net1, im1, fm1)\n",
    "prec_L2W1 = pm4.precision_token_based_replay(el_sp_a75, net1, im1, fm1)\n",
    "gen_L2W1 = generalization_evaluator.apply(el_sp_a75, net1, im1, fm1)"
   ]
  },
  {
   "cell_type": "code",
   "execution_count": null,
   "id": "4058587f-f994-412a-bd74-61b4710db994",
   "metadata": {},
   "outputs": [],
   "source": [
    "nx_pn = pm4.convert_petri_net_to_networkx(net1, im1, fm1)\n",
    "nx_pn2 = pm4.convert_petri_net_to_networkx(net2, im2, fm2)\n",
    "ged = nx.graph_edit_distance(nx_pn, nx_pn2, timeout=30)"
   ]
  },
  {
   "cell_type": "code",
   "execution_count": null,
   "id": "6264329a-d790-46f7-8597-4d55d2f08930",
   "metadata": {},
   "outputs": [],
   "source": [
    "fitness_L2W1"
   ]
  },
  {
   "cell_type": "code",
   "execution_count": null,
   "id": "a5003eb6-d957-4115-bd27-f94853e96772",
   "metadata": {},
   "outputs": [],
   "source": [
    "res_l = ['>75 years', 'Provider', round(fitness_L1W2['log_fitness'], 3), round(prec_L1W2, 3), round(gen_L1W2, 3),\n",
    "         round(fitness_L2W1['log_fitness'], 3), round(prec_L2W1, 3), round(gen_L2W1, 3),\n",
    "         round(mean([fitness_L1W2['log_fitness'], fitness_L2W1['log_fitness']]), 3),\n",
    "         round(mean([prec_L1W2, prec_L2W1]), 3),\n",
    "         round(mean([gen_L1W2, gen_L2W1]), 3),\n",
    "        int(ged),\n",
    "        round(fitness_L1W2['perc_fit_traces'], 3),\n",
    "        round(fitness_L2W1['perc_fit_traces'], 3),\n",
    "        round(mean([fitness_L1W2['perc_fit_traces'], fitness_L2W1['perc_fit_traces']]), 3)]\n",
    "results_df.loc[len(results_df)] = res_l"
   ]
  },
  {
   "cell_type": "code",
   "execution_count": null,
   "id": "26510c99-c19c-4912-b6ca-ceaf84268376",
   "metadata": {},
   "outputs": [],
   "source": [
    "results_df"
   ]
  },
  {
   "cell_type": "code",
   "execution_count": null,
   "id": "fb48fe21-ec52-4444-8a6d-4a34739c0667",
   "metadata": {},
   "outputs": [],
   "source": [
    "net1, im1, fm1 = pm4.read_pnml('process_mining/petri_nets/el_fa_a75.pnml')\n",
    "net2, im2, fm2 = pm4.read_pnml('process_mining/petri_nets/el_sa_a75.pnml')\n",
    "\n",
    "fitness_L1W2 = pm4.fitness_token_based_replay(el_fa_a75, net2, im2, fm2)\n",
    "prec_L1W2 = pm4.precision_token_based_replay(el_fa_a75, net2, im2, fm2)\n",
    "gen_L1W2 = generalization_evaluator.apply(el_fa_a75, net2, im2, fm2)\n",
    "\n",
    "fitness_L2W1 = pm4.fitness_token_based_replay(el_sa_a75, net1, im1, fm1)\n",
    "prec_L2W1 = pm4.precision_token_based_replay(el_sa_a75, net1, im1, fm1)\n",
    "gen_L2W1 = generalization_evaluator.apply(el_sa_a75, net1, im1, fm1)\n",
    "\n",
    "nx_pn = pm4.convert_petri_net_to_networkx(net1, im1, fm1)\n",
    "nx_pn2 = pm4.convert_petri_net_to_networkx(net2, im2, fm2)\n",
    "ged = nx.graph_edit_distance(nx_pn, nx_pn2, timeout=30)\n",
    "\n",
    "res_l = ['>75 years', 'Activity', round(fitness_L1W2['log_fitness'], 3), round(prec_L1W2, 3), round(gen_L1W2, 3),\n",
    "         round(fitness_L2W1['log_fitness'], 3), round(prec_L2W1, 3), round(gen_L2W1, 3),\n",
    "         round(mean([fitness_L1W2['log_fitness'], fitness_L2W1['log_fitness']]), 3),\n",
    "         round(mean([prec_L1W2, prec_L2W1]), 3),\n",
    "         round(mean([gen_L1W2, gen_L2W1]), 3),\n",
    "        int(ged),\n",
    "        round(fitness_L1W2['perc_fit_traces'], 3),\n",
    "        round(fitness_L2W1['perc_fit_traces'], 3),\n",
    "        round(mean([fitness_L1W2['perc_fit_traces'], fitness_L2W1['perc_fit_traces']]), 3)]\n",
    "results_df.loc[len(results_df)] = res_l"
   ]
  },
  {
   "cell_type": "code",
   "execution_count": null,
   "id": "0af58097-6a51-4cbb-a9fe-48518fe4f8da",
   "metadata": {},
   "outputs": [],
   "source": [
    "results_df"
   ]
  },
  {
   "cell_type": "code",
   "execution_count": null,
   "id": "383b3407-8033-4f96-bae1-81e6d4633971",
   "metadata": {},
   "outputs": [],
   "source": [
    "net1, im1, fm1 = pm4.read_pnml('process_mining/petri_nets/el_fp_int.pnml')\n",
    "net2, im2, fm2 = pm4.read_pnml('process_mining/petri_nets/el_sp_int.pnml')\n",
    "\n",
    "fitness_L1W2 = pm4.fitness_token_based_replay(el_fp_int, net2, im2, fm2)\n",
    "prec_L1W2 = pm4.precision_token_based_replay(el_fp_int, net2, im2, fm2)\n",
    "gen_L1W2 = generalization_evaluator.apply(el_fp_int, net2, im2, fm2)\n",
    "\n",
    "fitness_L2W1 = pm4.fitness_token_based_replay(el_sp_int, net1, im1, fm1)\n",
    "prec_L2W1 = pm4.precision_token_based_replay(el_sp_int, net1, im1, fm1)\n",
    "gen_L2W1 = generalization_evaluator.apply(el_sp_int, net1, im1, fm1)\n",
    "\n",
    "nx_pn = pm4.convert_petri_net_to_networkx(net1, im1, fm1)\n",
    "nx_pn2 = pm4.convert_petri_net_to_networkx(net2, im2, fm2)\n",
    "ged = nx.graph_edit_distance(nx_pn, nx_pn2, timeout=30)\n",
    "\n",
    "res_l = ['Intensive Therapy', 'Provider', round(fitness_L1W2['log_fitness'], 3), round(prec_L1W2, 3), round(gen_L1W2, 3),\n",
    "         round(fitness_L2W1['log_fitness'], 3), round(prec_L2W1, 3), round(gen_L2W1, 3),\n",
    "         round(mean([fitness_L1W2['log_fitness'], fitness_L2W1['log_fitness']]), 3),\n",
    "         round(mean([prec_L1W2, prec_L2W1]), 3),\n",
    "         round(mean([gen_L1W2, gen_L2W1]), 3),\n",
    "        int(ged),\n",
    "        round(fitness_L1W2['perc_fit_traces'], 3),\n",
    "        round(fitness_L2W1['perc_fit_traces'], 3),\n",
    "        round(mean([fitness_L1W2['perc_fit_traces'], fitness_L2W1['perc_fit_traces']]), 3)]\n",
    "results_df.loc[len(results_df)] = res_l"
   ]
  },
  {
   "cell_type": "code",
   "execution_count": null,
   "id": "c5318ac6-5bf8-4e09-a214-8159f4ffe678",
   "metadata": {},
   "outputs": [],
   "source": [
    "results_df"
   ]
  },
  {
   "cell_type": "code",
   "execution_count": null,
   "id": "b691db03-d561-47fc-bb24-6b4255bf9715",
   "metadata": {},
   "outputs": [],
   "source": [
    "net1, im1, fm1 = pm4.read_pnml('process_mining/petri_nets/el_fa_int.pnml')\n",
    "net2, im2, fm2 = pm4.read_pnml('process_mining/petri_nets/el_sa_int.pnml')\n",
    "\n",
    "fitness_L1W2 = pm4.fitness_token_based_replay(el_fa_int, net2, im2, fm2)\n",
    "prec_L1W2 = pm4.precision_token_based_replay(el_fa_int, net2, im2, fm2)\n",
    "gen_L1W2 = generalization_evaluator.apply(el_fa_int, net2, im2, fm2)\n",
    "\n",
    "fitness_L2W1 = pm4.fitness_token_based_replay(el_sa_int, net1, im1, fm1)\n",
    "prec_L2W1 = pm4.precision_token_based_replay(el_sa_int, net1, im1, fm1)\n",
    "gen_L2W1 = generalization_evaluator.apply(el_sa_int, net1, im1, fm1)\n",
    "\n",
    "nx_pn = pm4.convert_petri_net_to_networkx(net1, im1, fm1)\n",
    "nx_pn2 = pm4.convert_petri_net_to_networkx(net2, im2, fm2)\n",
    "ged = nx.graph_edit_distance(nx_pn, nx_pn2, timeout=30)\n",
    "\n",
    "res_l = ['Intensive Therapy', 'Activity', round(fitness_L1W2['log_fitness'], 3), round(prec_L1W2, 3), round(gen_L1W2, 3),\n",
    "         round(fitness_L2W1['log_fitness'], 3), round(prec_L2W1, 3), round(gen_L2W1, 3),\n",
    "         round(mean([fitness_L1W2['log_fitness'], fitness_L2W1['log_fitness']]), 3),\n",
    "         round(mean([prec_L1W2, prec_L2W1]), 3),\n",
    "         round(mean([gen_L1W2, gen_L2W1]), 3),\n",
    "        int(ged),\n",
    "        round(fitness_L1W2['perc_fit_traces'], 3),\n",
    "        round(fitness_L2W1['perc_fit_traces'], 3),\n",
    "        round(mean([fitness_L1W2['perc_fit_traces'], fitness_L2W1['perc_fit_traces']]), 3)]\n",
    "results_df.loc[len(results_df)] = res_l"
   ]
  },
  {
   "cell_type": "code",
   "execution_count": null,
   "id": "1aa4b83f-d054-4470-9c66-4c252d056346",
   "metadata": {},
   "outputs": [],
   "source": [
    "results_df"
   ]
  },
  {
   "cell_type": "code",
   "execution_count": null,
   "id": "8427a8d8-3a1d-4e0b-9f67-c7f1224ea257",
   "metadata": {},
   "outputs": [],
   "source": [
    "net1, im1, fm1 = pm4.read_pnml('process_mining/petri_nets/el_fp_es.pnml')\n",
    "net2, im2, fm2 = pm4.read_pnml('process_mining/petri_nets/el_sp_es.pnml')\n",
    "\n",
    "fitness_L1W2 = pm4.fitness_token_based_replay(el_fp_es, net2, im2, fm2)\n",
    "prec_L1W2 = pm4.precision_token_based_replay(el_fp_es, net2, im2, fm2)\n",
    "gen_L1W2 = generalization_evaluator.apply(el_fp_es, net2, im2, fm2)\n",
    "\n",
    "fitness_L2W1 = pm4.fitness_token_based_replay(el_sp_es, net1, im1, fm1)\n",
    "prec_L2W1 = pm4.precision_token_based_replay(el_sp_es, net1, im1, fm1)\n",
    "gen_L2W1 = generalization_evaluator.apply(el_sp_es, net1, im1, fm1)\n",
    "\n",
    "nx_pn = pm4.convert_petri_net_to_networkx(net1, im1, fm1)\n",
    "nx_pn2 = pm4.convert_petri_net_to_networkx(net2, im2, fm2)\n",
    "ged = nx.graph_edit_distance(nx_pn, nx_pn2, timeout=30)\n",
    "\n",
    "res_l = ['Extended Stay (>30 days)', 'Provider', round(fitness_L1W2['log_fitness'], 3), round(prec_L1W2, 3), round(gen_L1W2, 3),\n",
    "         round(fitness_L2W1['log_fitness'], 3), round(prec_L2W1, 3), round(gen_L2W1, 3),\n",
    "         round(mean([fitness_L1W2['log_fitness'], fitness_L2W1['log_fitness']]), 3),\n",
    "         round(mean([prec_L1W2, prec_L2W1]), 3),\n",
    "         round(mean([gen_L1W2, gen_L2W1]), 3),\n",
    "        int(ged),\n",
    "        round(fitness_L1W2['perc_fit_traces'], 3),\n",
    "        round(fitness_L2W1['perc_fit_traces'], 3),\n",
    "        round(mean([fitness_L1W2['perc_fit_traces'], fitness_L2W1['perc_fit_traces']]), 3)]\n",
    "results_df.loc[len(results_df)] = res_l"
   ]
  },
  {
   "cell_type": "code",
   "execution_count": null,
   "id": "3831c62a-cb91-41c0-8a5f-728f003b1748",
   "metadata": {},
   "outputs": [],
   "source": [
    "net1, im1, fm1 = pm4.read_pnml('process_mining/petri_nets/el_fa_es.pnml')\n",
    "net2, im2, fm2 = pm4.read_pnml('process_mining/petri_nets/el_sa_es.pnml')\n",
    "\n",
    "fitness_L1W2 = pm4.fitness_token_based_replay(el_fa_es, net2, im2, fm2)\n",
    "prec_L1W2 = pm4.precision_token_based_replay(el_fa_es, net2, im2, fm2)\n",
    "gen_L1W2 = generalization_evaluator.apply(el_fa_es, net2, im2, fm2)\n",
    "\n",
    "fitness_L2W1 = pm4.fitness_token_based_replay(el_sa_es, net1, im1, fm1)\n",
    "prec_L2W1 = pm4.precision_token_based_replay(el_sa_es, net1, im1, fm1)\n",
    "gen_L2W1 = generalization_evaluator.apply(el_sa_es, net1, im1, fm1)\n",
    "\n",
    "nx_pn = pm4.convert_petri_net_to_networkx(net1, im1, fm1)\n",
    "nx_pn2 = pm4.convert_petri_net_to_networkx(net2, im2, fm2)\n",
    "ged = nx.graph_edit_distance(nx_pn, nx_pn2, timeout=30)\n",
    "\n",
    "res_l = ['Extended Stay (>30 days)', 'Activity', round(fitness_L1W2['log_fitness'], 3), round(prec_L1W2, 3), round(gen_L1W2, 3),\n",
    "         round(fitness_L2W1['log_fitness'], 3), round(prec_L2W1, 3), round(gen_L2W1, 3),\n",
    "         round(mean([fitness_L1W2['log_fitness'], fitness_L2W1['log_fitness']]), 3),\n",
    "         round(mean([prec_L1W2, prec_L2W1]), 3),\n",
    "         round(mean([gen_L1W2, gen_L2W1]), 3),\n",
    "        int(ged),\n",
    "        round(fitness_L1W2['perc_fit_traces'], 3),\n",
    "        round(fitness_L2W1['perc_fit_traces'], 3),\n",
    "        round(mean([fitness_L1W2['perc_fit_traces'], fitness_L2W1['perc_fit_traces']]), 3)]\n",
    "results_df.loc[len(results_df)] = res_l"
   ]
  },
  {
   "cell_type": "code",
   "execution_count": null,
   "id": "4193b520-25c0-488d-af57-0ba7143090b8",
   "metadata": {},
   "outputs": [],
   "source": [
    "net1, im1, fm1 = pm4.read_pnml('process_mining/petri_nets/el_fp_m.pnml')\n",
    "net2, im2, fm2 = pm4.read_pnml('process_mining/petri_nets/el_sp_m.pnml')\n",
    "\n",
    "fitness_L1W2 = pm4.fitness_token_based_replay(el_fp_m, net2, im2, fm2)\n",
    "prec_L1W2 = pm4.precision_token_based_replay(el_fp_m, net2, im2, fm2)\n",
    "gen_L1W2 = generalization_evaluator.apply(el_fp_m, net2, im2, fm2)\n",
    "\n",
    "fitness_L2W1 = pm4.fitness_token_based_replay(el_sp_m, net1, im1, fm1)\n",
    "prec_L2W1 = pm4.precision_token_based_replay(el_sp_m, net1, im1, fm1)\n",
    "gen_L2W1 = generalization_evaluator.apply(el_sp_m, net1, im1, fm1)\n",
    "\n",
    "nx_pn = pm4.convert_petri_net_to_networkx(net1, im1, fm1)\n",
    "nx_pn2 = pm4.convert_petri_net_to_networkx(net2, im2, fm2)\n",
    "ged = nx.graph_edit_distance(nx_pn, nx_pn2, timeout=30)\n",
    "\n",
    "res_l = ['1-year mortality', 'Provider', round(fitness_L1W2['log_fitness'], 3), round(prec_L1W2, 3), round(gen_L1W2, 3),\n",
    "         round(fitness_L2W1['log_fitness'], 3), round(prec_L2W1, 3), round(gen_L2W1, 3),\n",
    "         round(mean([fitness_L1W2['log_fitness'], fitness_L2W1['log_fitness']]), 3),\n",
    "         round(mean([prec_L1W2, prec_L2W1]), 3),\n",
    "         round(mean([gen_L1W2, gen_L2W1]), 3),\n",
    "        int(ged),\n",
    "        round(fitness_L1W2['perc_fit_traces'], 3),\n",
    "        round(fitness_L2W1['perc_fit_traces'], 3),\n",
    "        round(mean([fitness_L1W2['perc_fit_traces'], fitness_L2W1['perc_fit_traces']]), 3)]\n",
    "results_df.loc[len(results_df)] = res_l"
   ]
  },
  {
   "cell_type": "code",
   "execution_count": null,
   "id": "4bb5ba1e-c2bd-4ddc-941d-8c12a82347f5",
   "metadata": {},
   "outputs": [],
   "source": [
    "net1, im1, fm1 = pm4.read_pnml('process_mining/petri_nets/el_fa_m.pnml')\n",
    "net2, im2, fm2 = pm4.read_pnml('process_mining/petri_nets/el_sa_m.pnml')\n",
    "\n",
    "fitness_L1W2 = pm4.fitness_token_based_replay(el_fa_m, net2, im2, fm2)\n",
    "prec_L1W2 = pm4.precision_token_based_replay(el_fa_m, net2, im2, fm2)\n",
    "gen_L1W2 = generalization_evaluator.apply(el_fa_m, net2, im2, fm2)\n",
    "\n",
    "fitness_L2W1 = pm4.fitness_token_based_replay(el_sa_m, net1, im1, fm1)\n",
    "prec_L2W1 = pm4.precision_token_based_replay(el_sa_m, net1, im1, fm1)\n",
    "gen_L2W1 = generalization_evaluator.apply(el_sa_m, net1, im1, fm1)\n",
    "\n",
    "nx_pn = pm4.convert_petri_net_to_networkx(net1, im1, fm1)\n",
    "nx_pn2 = pm4.convert_petri_net_to_networkx(net2, im2, fm2)\n",
    "ged = nx.graph_edit_distance(nx_pn, nx_pn2, timeout=30)\n",
    "\n",
    "res_l = ['1-year mortality', 'Activity', round(fitness_L1W2['log_fitness'], 3), round(prec_L1W2, 3), round(gen_L1W2, 3),\n",
    "         round(fitness_L2W1['log_fitness'], 3), round(prec_L2W1, 3), round(gen_L2W1, 3),\n",
    "         round(mean([fitness_L1W2['log_fitness'], fitness_L2W1['log_fitness']]), 3),\n",
    "         round(mean([prec_L1W2, prec_L2W1]), 3),\n",
    "         round(mean([gen_L1W2, gen_L2W1]), 3),\n",
    "        int(ged),\n",
    "        round(fitness_L1W2['perc_fit_traces'], 3),\n",
    "        round(fitness_L2W1['perc_fit_traces'], 3),\n",
    "        round(mean([fitness_L1W2['perc_fit_traces'], fitness_L2W1['perc_fit_traces']]), 3)]\n",
    "results_df.loc[len(results_df)] = res_l"
   ]
  },
  {
   "cell_type": "code",
   "execution_count": null,
   "id": "6e411284-2bac-470a-8a29-3cf240607e21",
   "metadata": {},
   "outputs": [],
   "source": [
    "net1, im1, fm1 = pm4.read_pnml('process_mining/petri_nets/el_fp_mm.pnml')\n",
    "net2, im2, fm2 = pm4.read_pnml('process_mining/petri_nets/el_sp_mm.pnml')\n",
    "\n",
    "fitness_L1W2 = pm4.fitness_token_based_replay(el_fp_mm, net2, im2, fm2)\n",
    "prec_L1W2 = pm4.precision_token_based_replay(el_fp_mm, net2, im2, fm2)\n",
    "gen_L1W2 = generalization_evaluator.apply(el_fp_mm, net2, im2, fm2)\n",
    "\n",
    "fitness_L2W1 = pm4.fitness_token_based_replay(el_sp_mm, net1, im1, fm1)\n",
    "prec_L2W1 = pm4.precision_token_based_replay(el_sp_mm, net1, im1, fm1)\n",
    "gen_L2W1 = generalization_evaluator.apply(el_sp_mm, net1, im1, fm1)\n",
    "\n",
    "nx_pn = pm4.convert_petri_net_to_networkx(net1, im1, fm1)\n",
    "nx_pn2 = pm4.convert_petri_net_to_networkx(net2, im2, fm2)\n",
    "ged = nx.graph_edit_distance(nx_pn, nx_pn2, timeout=30)\n",
    "\n",
    "res_l = ['Multimorbidity', 'Provider', round(fitness_L1W2['log_fitness'], 3), round(prec_L1W2, 3), round(gen_L1W2, 3),\n",
    "         round(fitness_L2W1['log_fitness'], 3), round(prec_L2W1, 3), round(gen_L2W1, 3),\n",
    "         round(mean([fitness_L1W2['log_fitness'], fitness_L2W1['log_fitness']]), 3),\n",
    "         round(mean([prec_L1W2, prec_L2W1]), 3),\n",
    "         round(mean([gen_L1W2, gen_L2W1]), 3),\n",
    "        int(ged),\n",
    "        round(fitness_L1W2['perc_fit_traces'], 3),\n",
    "        round(fitness_L2W1['perc_fit_traces'], 3),\n",
    "        round(mean([fitness_L1W2['perc_fit_traces'], fitness_L2W1['perc_fit_traces']]), 3)]\n",
    "results_df.loc[len(results_df)] = res_l"
   ]
  },
  {
   "cell_type": "code",
   "execution_count": null,
   "id": "b1442f9c-562c-411f-984c-4e5b42657586",
   "metadata": {},
   "outputs": [],
   "source": [
    "net1, im1, fm1 = pm4.read_pnml('process_mining/petri_nets/el_fa_mm.pnml')\n",
    "net2, im2, fm2 = pm4.read_pnml('process_mining/petri_nets/el_sa_mm.pnml')\n",
    "\n",
    "fitness_L1W2 = pm4.fitness_token_based_replay(el_fa_mm, net2, im2, fm2)\n",
    "prec_L1W2 = pm4.precision_token_based_replay(el_fa_mm, net2, im2, fm2)\n",
    "gen_L1W2 = generalization_evaluator.apply(el_fa_mm, net2, im2, fm2)\n",
    "\n",
    "fitness_L2W1 = pm4.fitness_token_based_replay(el_sa_mm, net1, im1, fm1)\n",
    "prec_L2W1 = pm4.precision_token_based_replay(el_sa_mm, net1, im1, fm1)\n",
    "gen_L2W1 = generalization_evaluator.apply(el_sa_mm, net1, im1, fm1)\n",
    "\n",
    "nx_pn = pm4.convert_petri_net_to_networkx(net1, im1, fm1)\n",
    "nx_pn2 = pm4.convert_petri_net_to_networkx(net2, im2, fm2)\n",
    "ged = nx.graph_edit_distance(nx_pn, nx_pn2, timeout=30)\n",
    "\n",
    "res_l = ['Multimorbidity', 'Activity', round(fitness_L1W2['log_fitness'], 3), round(prec_L1W2, 3), round(gen_L1W2, 3),\n",
    "         round(fitness_L2W1['log_fitness'], 3), round(prec_L2W1, 3), round(gen_L2W1, 3),\n",
    "         round(mean([fitness_L1W2['log_fitness'], fitness_L2W1['log_fitness']]), 3),\n",
    "         round(mean([prec_L1W2, prec_L2W1]), 3),\n",
    "         round(mean([gen_L1W2, gen_L2W1]), 3),\n",
    "        int(ged),\n",
    "        round(fitness_L1W2['perc_fit_traces'], 3),\n",
    "        round(fitness_L2W1['perc_fit_traces'], 3),\n",
    "        round(mean([fitness_L1W2['perc_fit_traces'], fitness_L2W1['perc_fit_traces']]), 3)]\n",
    "results_df.loc[len(results_df)] = res_l"
   ]
  },
  {
   "cell_type": "code",
   "execution_count": null,
   "id": "b7491b76-99d4-4919-8eeb-2074ed8a1845",
   "metadata": {},
   "outputs": [],
   "source": [
    "net1, im1, fm1 = pm4.read_pnml('process_mining/petri_nets/el_fp_ooh.pnml')\n",
    "net2, im2, fm2 = pm4.read_pnml('process_mining/petri_nets/el_sp_ooh.pnml')\n",
    "\n",
    "fitness_L1W2 = pm4.fitness_token_based_replay(el_fp_ooh, net2, im2, fm2)\n",
    "prec_L1W2 = pm4.precision_token_based_replay(el_fp_ooh, net2, im2, fm2)\n",
    "gen_L1W2 = generalization_evaluator.apply(el_fp_ooh, net2, im2, fm2)\n",
    "\n",
    "fitness_L2W1 = pm4.fitness_token_based_replay(el_sp_ooh, net1, im1, fm1)\n",
    "prec_L2W1 = pm4.precision_token_based_replay(el_sp_ooh, net1, im1, fm1)\n",
    "gen_L2W1 = generalization_evaluator.apply(el_sp_ooh, net1, im1, fm1)\n",
    "\n",
    "nx_pn = pm4.convert_petri_net_to_networkx(net1, im1, fm1)\n",
    "nx_pn2 = pm4.convert_petri_net_to_networkx(net2, im2, fm2)\n",
    "ged = nx.graph_edit_distance(nx_pn, nx_pn2, timeout=30)\n",
    "\n",
    "res_l = ['High Out-of-hours care (top 20% overall)', 'Provider', round(fitness_L1W2['log_fitness'], 3), round(prec_L1W2, 3), round(gen_L1W2, 3),\n",
    "         round(fitness_L2W1['log_fitness'], 3), round(prec_L2W1, 3), round(gen_L2W1, 3),\n",
    "         round(mean([fitness_L1W2['log_fitness'], fitness_L2W1['log_fitness']]), 3),\n",
    "         round(mean([prec_L1W2, prec_L2W1]), 3),\n",
    "         round(mean([gen_L1W2, gen_L2W1]), 3),\n",
    "        int(ged),\n",
    "        round(fitness_L1W2['perc_fit_traces'], 3),\n",
    "        round(fitness_L2W1['perc_fit_traces'], 3),\n",
    "        round(mean([fitness_L1W2['perc_fit_traces'], fitness_L2W1['perc_fit_traces']]), 3)]\n",
    "results_df.loc[len(results_df)] = res_l"
   ]
  },
  {
   "cell_type": "code",
   "execution_count": null,
   "id": "e2249c7f-7a63-4329-a2bf-657bf029fa5b",
   "metadata": {},
   "outputs": [],
   "source": [
    "net1, im1, fm1 = pm4.read_pnml('process_mining/petri_nets/el_fa_ooh.pnml')\n",
    "net2, im2, fm2 = pm4.read_pnml('process_mining/petri_nets/el_sa_ooh.pnml')\n",
    "\n",
    "fitness_L1W2 = pm4.fitness_token_based_replay(el_fa_ooh, net2, im2, fm2)\n",
    "prec_L1W2 = pm4.precision_token_based_replay(el_fa_ooh, net2, im2, fm2)\n",
    "gen_L1W2 = generalization_evaluator.apply(el_fa_ooh, net2, im2, fm2)\n",
    "\n",
    "fitness_L2W1 = pm4.fitness_token_based_replay(el_sa_ooh, net1, im1, fm1)\n",
    "prec_L2W1 = pm4.precision_token_based_replay(el_sa_ooh, net1, im1, fm1)\n",
    "gen_L2W1 = generalization_evaluator.apply(el_sa_ooh, net1, im1, fm1)\n",
    "\n",
    "nx_pn = pm4.convert_petri_net_to_networkx(net1, im1, fm1)\n",
    "nx_pn2 = pm4.convert_petri_net_to_networkx(net2, im2, fm2)\n",
    "ged = nx.graph_edit_distance(nx_pn, nx_pn2, timeout=30)\n",
    "\n",
    "res_l = ['High Out-of-hours care (top 20% overall)', 'Activity', round(fitness_L1W2['log_fitness'], 3), round(prec_L1W2, 3), round(gen_L1W2, 3),\n",
    "         round(fitness_L2W1['log_fitness'], 3), round(prec_L2W1, 3), round(gen_L2W1, 3),\n",
    "         round(mean([fitness_L1W2['log_fitness'], fitness_L2W1['log_fitness']]), 3),\n",
    "         round(mean([prec_L1W2, prec_L2W1]), 3),\n",
    "         round(mean([gen_L1W2, gen_L2W1]), 3),\n",
    "        int(ged),\n",
    "        round(fitness_L1W2['perc_fit_traces'], 3),\n",
    "        round(fitness_L2W1['perc_fit_traces'], 3),\n",
    "        round(mean([fitness_L1W2['perc_fit_traces'], fitness_L2W1['perc_fit_traces']]), 3)]\n",
    "results_df.loc[len(results_df)] = res_l"
   ]
  },
  {
   "cell_type": "code",
   "execution_count": null,
   "id": "15053912-2acd-464f-8179-a7de28d813e4",
   "metadata": {},
   "outputs": [],
   "source": [
    "results_df"
   ]
  },
  {
   "cell_type": "markdown",
   "id": "46e1f31e-a6bf-4b65-b2ab-b79900340a31",
   "metadata": {},
   "source": [
    "#### Re-run for overall models"
   ]
  },
  {
   "cell_type": "code",
   "execution_count": null,
   "id": "9c39d728-ae75-4fbe-aeaf-0c96cf00415d",
   "metadata": {},
   "outputs": [],
   "source": [
    "el_fp = pm4.convert_to_event_log(elog_data_fp)\n",
    "el_sp = pm4.convert_to_event_log(elog_data_sp)\n",
    "el_fa = pm4.convert_to_event_log(elog_data_fa)\n",
    "el_sa = pm4.convert_to_event_log(elog_data_sa)"
   ]
  },
  {
   "cell_type": "code",
   "execution_count": null,
   "id": "d14a8630-10fa-4fac-af14-20522e6661df",
   "metadata": {},
   "outputs": [],
   "source": [
    "net, initial_marking, final_marking = pm4.discover_petri_net_inductive(el_fp, noise_threshold=0.3, multi_processing=True)\n",
    "pm4.view_petri_net(net, initial_marking, final_marking)\n",
    "pm4.write_pnml(net, initial_marking, final_marking, 'process_mining/petri_nets/el_fp.pnml')"
   ]
  },
  {
   "cell_type": "code",
   "execution_count": null,
   "id": "5496eb83-2dd8-4001-bbd1-1280154b08d3",
   "metadata": {},
   "outputs": [],
   "source": [
    "net, initial_marking, final_marking = pm4.discover_petri_net_inductive(el_fa, noise_threshold=0.3, multi_processing=True)\n",
    "pm4.view_petri_net(net, initial_marking, final_marking)\n",
    "pm4.write_pnml(net, initial_marking, final_marking, 'process_mining/petri_nets/el_fa.pnml')"
   ]
  },
  {
   "cell_type": "code",
   "execution_count": null,
   "id": "3b1079d1-7721-4ad0-b4b5-ba33d79d8de5",
   "metadata": {},
   "outputs": [],
   "source": [
    "net, initial_marking, final_marking = pm4.discover_petri_net_inductive(el_sp, noise_threshold=0.3, multi_processing=True)\n",
    "pm4.view_petri_net(net, initial_marking, final_marking)\n",
    "pm4.write_pnml(net, initial_marking, final_marking, 'process_mining/petri_nets/el_sp.pnml')"
   ]
  },
  {
   "cell_type": "code",
   "execution_count": null,
   "id": "63f04134-ad72-4763-b5ac-83dafc822c78",
   "metadata": {},
   "outputs": [],
   "source": [
    "net, initial_marking, final_marking = pm4.discover_petri_net_inductive(el_sa, noise_threshold=0.3, multi_processing=True)\n",
    "pm4.view_petri_net(net, initial_marking, final_marking)\n",
    "pm4.write_pnml(net, initial_marking, final_marking, 'process_mining/petri_nets/el_sa.pnml')"
   ]
  },
  {
   "cell_type": "code",
   "execution_count": null,
   "id": "2623a66f-58a2-42b7-bde1-796a8d366cbb",
   "metadata": {},
   "outputs": [],
   "source": [
    "results_df.to_csv('process_mining/crosslog_cc_results.csv', index=False)"
   ]
  },
  {
   "cell_type": "markdown",
   "id": "f6c84a0b-8028-4759-bd62-cb1def7c8335",
   "metadata": {},
   "source": [
    "##### Append negative group results"
   ]
  },
  {
   "cell_type": "code",
   "execution_count": null,
   "id": "7f1da029-5637-4adc-9728-09a7b178858e",
   "metadata": {},
   "outputs": [],
   "source": [
    "res_df = pd.read_csv('process_mining/crosslog_cc_results.csv')\n",
    "res_df"
   ]
  },
  {
   "cell_type": "code",
   "execution_count": null,
   "id": "ed9821d2-b382-43cd-a7b3-e9522b18ccd3",
   "metadata": {},
   "outputs": [],
   "source": [
    "### Under 75\n",
    "el_data_fp_a75 = elog_data_fp[elog_data_fp.above_75 == 0]\n",
    "el_data_sp_a75 = elog_data_sp[elog_data_sp.above_75 == 0]\n",
    "el_data_fa_a75 = elog_data_fa[elog_data_fa.above_75 == 0]\n",
    "el_data_sa_a75 = elog_data_sa[elog_data_sa.above_75 == 0]\n",
    "### NOT Intensive therapy\n",
    "el_data_fp_int = elog_data_fp[elog_data_fp.spec != 'Intensive Therapy']\n",
    "el_data_sp_int = elog_data_sp[elog_data_sp.spec != 'Intensive Therapy']\n",
    "el_data_fa_int = elog_data_fa[elog_data_fa.spec != 'Intensive Therapy']\n",
    "el_data_sa_int = elog_data_sa[elog_data_sa.spec != 'Intensive Therapy']\n",
    "### NOT Multimorbidity\n",
    "el_data_fp_mm = elog_data_fp[elog_data_fp.o_mm == 0]\n",
    "el_data_sp_mm = elog_data_sp[elog_data_sp.o_mm == 0]\n",
    "el_data_fa_mm = elog_data_fa[elog_data_fa.o_mm == 0]\n",
    "el_data_sa_mm = elog_data_sa[elog_data_sa.o_mm == 0]\n",
    "### NOT 1-year all-cause mortality\n",
    "el_data_fp_m = elog_data_fp[elog_data_fp.o_1ym == 0]\n",
    "el_data_sp_m = elog_data_sp[elog_data_sp.o_1ym == 0]\n",
    "el_data_fa_m = elog_data_fa[elog_data_fa.o_1ym == 0]\n",
    "el_data_sa_m = elog_data_sa[elog_data_sa.o_1ym == 0]\n",
    "### NOT Extended stay (>30 days)\n",
    "el_data_fp_es = elog_data_fp[elog_data_fp.o_es == 0]\n",
    "el_data_sp_es = elog_data_sp[elog_data_sp.o_es == 0]\n",
    "el_data_fa_es = elog_data_fa[elog_data_fa.o_es == 0]\n",
    "el_data_sa_es = elog_data_sa[elog_data_sa.o_es == 0]\n",
    "### NOT High out-of-hours care (>80th percentile of overall log)\n",
    "el_data_fp_ooh = elog_data_fp[elog_data_fp.ooh_count <= 70.0]\n",
    "el_data_sp_ooh = elog_data_sp[elog_data_sp.ooh_count <= 70.0]\n",
    "el_data_fa_ooh = elog_data_fa[elog_data_fa.ooh_count <= 70.0]\n",
    "el_data_sa_ooh = elog_data_sa[elog_data_sa.ooh_count <= 70.0]"
   ]
  },
  {
   "cell_type": "code",
   "execution_count": null,
   "id": "76813bc4-8f2e-4f22-a64f-da48bb41f9ce",
   "metadata": {},
   "outputs": [],
   "source": [
    "print(el_data_fp_a75.shape, el_data_fp_int.shape, el_data_fp_mm.shape, el_data_fp_m.shape, el_data_fp_es.shape, el_data_fp_ooh.shape)\n",
    "print(el_data_sp_a75.shape, el_data_sp_int.shape, el_data_sp_mm.shape, el_data_sp_m.shape, el_data_sp_es.shape, el_data_sp_ooh.shape)\n",
    "print(el_data_fa_a75.shape, el_data_fa_int.shape, el_data_fa_mm.shape, el_data_fa_m.shape, el_data_fa_es.shape, el_data_fa_ooh.shape)\n",
    "print(el_data_sa_a75.shape, el_data_sa_int.shape, el_data_sa_mm.shape, el_data_sa_m.shape, el_data_sa_es.shape, el_data_sa_ooh.shape)"
   ]
  },
  {
   "cell_type": "code",
   "execution_count": null,
   "id": "cd030287-98c3-40a9-93ad-b0fb6ba621a4",
   "metadata": {},
   "outputs": [],
   "source": [
    "el_fp_a75 = pm4.convert_to_event_log(el_data_fp_a75)\n",
    "el_sp_a75 = pm4.convert_to_event_log(el_data_sp_a75)\n",
    "el_fa_a75 = pm4.convert_to_event_log(el_data_fa_a75)\n",
    "el_sa_a75 = pm4.convert_to_event_log(el_data_sa_a75)\n",
    "\n",
    "el_fp_int = pm4.convert_to_event_log(el_data_fp_int)\n",
    "el_sp_int = pm4.convert_to_event_log(el_data_sp_int)\n",
    "el_fa_int = pm4.convert_to_event_log(el_data_fa_int)\n",
    "el_sa_int = pm4.convert_to_event_log(el_data_sa_int)\n",
    "\n",
    "el_fp_mm = pm4.convert_to_event_log(el_data_fp_mm)\n",
    "el_sp_mm = pm4.convert_to_event_log(el_data_sp_mm)\n",
    "el_fa_mm = pm4.convert_to_event_log(el_data_fa_mm)\n",
    "el_sa_mm = pm4.convert_to_event_log(el_data_sa_mm)\n",
    "\n",
    "el_fp_m = pm4.convert_to_event_log(el_data_fp_m)\n",
    "el_sp_m = pm4.convert_to_event_log(el_data_sp_m)\n",
    "el_fa_m = pm4.convert_to_event_log(el_data_fa_m)\n",
    "el_sa_m = pm4.convert_to_event_log(el_data_sa_m)\n",
    "\n",
    "el_fp_es = pm4.convert_to_event_log(el_data_fp_es)\n",
    "el_sp_es = pm4.convert_to_event_log(el_data_sp_es)\n",
    "el_fa_es = pm4.convert_to_event_log(el_data_fa_es)\n",
    "el_sa_es = pm4.convert_to_event_log(el_data_sa_es)\n",
    "\n",
    "el_fp_ooh = pm4.convert_to_event_log(el_data_fp_ooh)\n",
    "el_sp_ooh = pm4.convert_to_event_log(el_data_sp_ooh)\n",
    "el_fa_ooh = pm4.convert_to_event_log(el_data_fa_ooh)\n",
    "el_sa_ooh = pm4.convert_to_event_log(el_data_sa_ooh)"
   ]
  },
  {
   "cell_type": "code",
   "execution_count": null,
   "id": "7408a938-7834-4767-b766-d719bf871551",
   "metadata": {},
   "outputs": [],
   "source": [
    "net, initial_marking, final_marking = pm4.discover_petri_net_inductive(el_fp_a75, noise_threshold=0.3, multi_processing=True)\n",
    "pm4.view_petri_net(net, initial_marking, final_marking)\n",
    "pm4.write_pnml(net, initial_marking, final_marking, 'process_mining/petri_nets/el_fp_aNOT75.pnml')"
   ]
  },
  {
   "cell_type": "code",
   "execution_count": null,
   "id": "8d1b7046-a972-444a-8398-0d60f106bd33",
   "metadata": {},
   "outputs": [],
   "source": [
    "net, initial_marking, final_marking = pm4.discover_petri_net_inductive(el_sp_a75, noise_threshold=0.3, multi_processing=True)\n",
    "pm4.view_petri_net(net, initial_marking, final_marking)\n",
    "pm4.write_pnml(net, initial_marking, final_marking, 'process_mining/petri_nets/el_sp_aNOT75.pnml')"
   ]
  },
  {
   "cell_type": "code",
   "execution_count": null,
   "id": "1a6af9d9-1915-4f51-9700-656e7b0f8674",
   "metadata": {},
   "outputs": [],
   "source": [
    "net, initial_marking, final_marking = pm4.discover_petri_net_inductive(el_fa_a75, noise_threshold=0.3, multi_processing=True)\n",
    "pm4.view_petri_net(net, initial_marking, final_marking)\n",
    "pm4.write_pnml(net, initial_marking, final_marking, 'process_mining/petri_nets/el_fa_aNOT75.pnml')"
   ]
  },
  {
   "cell_type": "code",
   "execution_count": null,
   "id": "b9bd4395-f577-4426-bd11-3c3a5f5c922e",
   "metadata": {},
   "outputs": [],
   "source": [
    "net, initial_marking, final_marking = pm4.discover_petri_net_inductive(el_sa_a75, noise_threshold=0.3, multi_processing=True)\n",
    "pm4.view_petri_net(net, initial_marking, final_marking)\n",
    "pm4.write_pnml(net, initial_marking, final_marking, 'process_mining/petri_nets/el_sa_aNOT75.pnml')"
   ]
  },
  {
   "cell_type": "code",
   "execution_count": null,
   "id": "977fc0f4-a43d-4880-bc8e-79403c15967f",
   "metadata": {},
   "outputs": [],
   "source": [
    "net, initial_marking, final_marking = pm4.discover_petri_net_inductive(el_fp_int, noise_threshold=0.3, multi_processing=True)\n",
    "pm4.view_petri_net(net, initial_marking, final_marking)\n",
    "pm4.write_pnml(net, initial_marking, final_marking, 'process_mining/petri_nets/el_fp_NOTint.pnml')"
   ]
  },
  {
   "cell_type": "code",
   "execution_count": null,
   "id": "403b8d09-1667-4c3f-9289-5540faecad5f",
   "metadata": {},
   "outputs": [],
   "source": [
    "net, initial_marking, final_marking = pm4.discover_petri_net_inductive(el_sp_int, noise_threshold=0.3, multi_processing=True)\n",
    "pm4.view_petri_net(net, initial_marking, final_marking)\n",
    "pm4.write_pnml(net, initial_marking, final_marking, 'process_mining/petri_nets/el_sp_NOTint.pnml')"
   ]
  },
  {
   "cell_type": "code",
   "execution_count": null,
   "id": "13759b1b-e2f0-478e-8aaa-f3f9e5459636",
   "metadata": {},
   "outputs": [],
   "source": [
    "net, initial_marking, final_marking = pm4.discover_petri_net_inductive(el_fa_int, noise_threshold=0.3, multi_processing=True)\n",
    "pm4.view_petri_net(net, initial_marking, final_marking)\n",
    "pm4.write_pnml(net, initial_marking, final_marking, 'process_mining/petri_nets/el_fa_NOTint.pnml')"
   ]
  },
  {
   "cell_type": "code",
   "execution_count": null,
   "id": "cdd1304f-a9e8-47be-9186-76b56a6ac39c",
   "metadata": {},
   "outputs": [],
   "source": [
    "net, initial_marking, final_marking = pm4.discover_petri_net_inductive(el_sa_int, noise_threshold=0.3, multi_processing=True)\n",
    "pm4.view_petri_net(net, initial_marking, final_marking)\n",
    "pm4.write_pnml(net, initial_marking, final_marking, 'process_mining/petri_nets/el_sa_NOTint.pnml')"
   ]
  },
  {
   "cell_type": "code",
   "execution_count": null,
   "id": "55959296-ccaf-4283-b77b-5277419919de",
   "metadata": {},
   "outputs": [],
   "source": [
    "net, initial_marking, final_marking = pm4.discover_petri_net_inductive(el_fp_es, noise_threshold=0.3, multi_processing=True)\n",
    "pm4.view_petri_net(net, initial_marking, final_marking)\n",
    "pm4.write_pnml(net, initial_marking, final_marking, 'process_mining/petri_nets/el_fp_NOTes.pnml')"
   ]
  },
  {
   "cell_type": "code",
   "execution_count": null,
   "id": "c33c5d14-63d8-49bc-ac3f-ff74f532041c",
   "metadata": {},
   "outputs": [],
   "source": [
    "net, initial_marking, final_marking = pm4.discover_petri_net_inductive(el_sp_es, noise_threshold=0.3, multi_processing=True)\n",
    "pm4.view_petri_net(net, initial_marking, final_marking)\n",
    "pm4.write_pnml(net, initial_marking, final_marking, 'process_mining/petri_nets/el_sp_NOTes.pnml')"
   ]
  },
  {
   "cell_type": "code",
   "execution_count": null,
   "id": "72c26e05-acba-4a79-940b-86c218eb6747",
   "metadata": {},
   "outputs": [],
   "source": [
    "net, initial_marking, final_marking = pm4.discover_petri_net_inductive(el_fa_es, noise_threshold=0.3, multi_processing=True)\n",
    "pm4.view_petri_net(net, initial_marking, final_marking)\n",
    "pm4.write_pnml(net, initial_marking, final_marking, 'process_mining/petri_nets/el_fa_NOTes.pnml')"
   ]
  },
  {
   "cell_type": "code",
   "execution_count": null,
   "id": "364884bf-5092-46b3-b7c0-afd72176c282",
   "metadata": {},
   "outputs": [],
   "source": [
    "net, initial_marking, final_marking = pm4.discover_petri_net_inductive(el_sa_es, noise_threshold=0.3, multi_processing=True)\n",
    "pm4.view_petri_net(net, initial_marking, final_marking)\n",
    "pm4.write_pnml(net, initial_marking, final_marking, 'process_mining/petri_nets/el_sa_NOTes.pnml')"
   ]
  },
  {
   "cell_type": "code",
   "execution_count": null,
   "id": "b2738714-ae9e-4d0f-b187-3998603aaf52",
   "metadata": {},
   "outputs": [],
   "source": [
    "net, initial_marking, final_marking = pm4.discover_petri_net_inductive(el_fp_mm, noise_threshold=0.3, multi_processing=True)\n",
    "pm4.view_petri_net(net, initial_marking, final_marking)\n",
    "pm4.write_pnml(net, initial_marking, final_marking, 'process_mining/petri_nets/el_fp_NOTmm.pnml')"
   ]
  },
  {
   "cell_type": "code",
   "execution_count": null,
   "id": "899f4883-a366-4b90-b3ca-37b0efe500e7",
   "metadata": {},
   "outputs": [],
   "source": [
    "net, initial_marking, final_marking = pm4.discover_petri_net_inductive(el_sp_mm, noise_threshold=0.3, multi_processing=True)\n",
    "pm4.view_petri_net(net, initial_marking, final_marking)\n",
    "pm4.write_pnml(net, initial_marking, final_marking, 'process_mining/petri_nets/el_sp_NOTmm.pnml')"
   ]
  },
  {
   "cell_type": "code",
   "execution_count": null,
   "id": "5ad48aeb-1801-4b02-9fe3-8f3100559adf",
   "metadata": {},
   "outputs": [],
   "source": [
    "net, initial_marking, final_marking = pm4.discover_petri_net_inductive(el_fa_mm, noise_threshold=0.3, multi_processing=True)\n",
    "pm4.view_petri_net(net, initial_marking, final_marking)\n",
    "pm4.write_pnml(net, initial_marking, final_marking, 'process_mining/petri_nets/el_fa_NOTmm.pnml')"
   ]
  },
  {
   "cell_type": "code",
   "execution_count": null,
   "id": "73d05637-138e-4a5b-a374-3471dbe9e54c",
   "metadata": {},
   "outputs": [],
   "source": [
    "net, initial_marking, final_marking = pm4.discover_petri_net_inductive(el_sa_mm, noise_threshold=0.3, multi_processing=True)\n",
    "pm4.view_petri_net(net, initial_marking, final_marking)\n",
    "pm4.write_pnml(net, initial_marking, final_marking, 'process_mining/petri_nets/el_sa_NOTmm.pnml')"
   ]
  },
  {
   "cell_type": "code",
   "execution_count": null,
   "id": "cc7fe094-12ae-4134-bb54-9364772628f3",
   "metadata": {},
   "outputs": [],
   "source": [
    "net, initial_marking, final_marking = pm4.discover_petri_net_inductive(el_fp_m, noise_threshold=0.3, multi_processing=True)\n",
    "pm4.view_petri_net(net, initial_marking, final_marking)\n",
    "pm4.write_pnml(net, initial_marking, final_marking, 'process_mining/petri_nets/el_fp_NOTm.pnml')"
   ]
  },
  {
   "cell_type": "code",
   "execution_count": null,
   "id": "d83d22c6-02f2-4fa1-a6c2-681870bbd398",
   "metadata": {},
   "outputs": [],
   "source": [
    "net, initial_marking, final_marking = pm4.discover_petri_net_inductive(el_sp_m, noise_threshold=0.3, multi_processing=True)\n",
    "pm4.view_petri_net(net, initial_marking, final_marking)\n",
    "pm4.write_pnml(net, initial_marking, final_marking, 'process_mining/petri_nets/el_sp_NOTm.pnml')"
   ]
  },
  {
   "cell_type": "code",
   "execution_count": null,
   "id": "43a37c08-4866-4b0c-b204-c7e1fc1b6178",
   "metadata": {},
   "outputs": [],
   "source": [
    "net, initial_marking, final_marking = pm4.discover_petri_net_inductive(el_fa_m, noise_threshold=0.3, multi_processing=True)\n",
    "pm4.view_petri_net(net, initial_marking, final_marking)\n",
    "pm4.write_pnml(net, initial_marking, final_marking, 'process_mining/petri_nets/el_fa_NOTm.pnml')"
   ]
  },
  {
   "cell_type": "code",
   "execution_count": null,
   "id": "e12d471e-17e0-43bc-bd34-3a579b2e290e",
   "metadata": {},
   "outputs": [],
   "source": [
    "net, initial_marking, final_marking = pm4.discover_petri_net_inductive(el_sa_m, noise_threshold=0.3, multi_processing=True)\n",
    "pm4.view_petri_net(net, initial_marking, final_marking)\n",
    "pm4.write_pnml(net, initial_marking, final_marking, 'process_mining/petri_nets/el_sa_NOTm.pnml')"
   ]
  },
  {
   "cell_type": "code",
   "execution_count": null,
   "id": "293d8df3-8741-4b7e-82da-8f4c35fa882a",
   "metadata": {},
   "outputs": [],
   "source": [
    "net, initial_marking, final_marking = pm4.discover_petri_net_inductive(el_fp_ooh, noise_threshold=0.3, multi_processing=True)\n",
    "pm4.view_petri_net(net, initial_marking, final_marking)\n",
    "pm4.write_pnml(net, initial_marking, final_marking, 'process_mining/petri_nets/el_fp_NOTooh.pnml')"
   ]
  },
  {
   "cell_type": "code",
   "execution_count": null,
   "id": "b4f87a7a-b1cb-4a43-ab3f-6bc61efde454",
   "metadata": {},
   "outputs": [],
   "source": [
    "net, initial_marking, final_marking = pm4.discover_petri_net_inductive(el_sp_ooh, noise_threshold=0.3, multi_processing=True)\n",
    "pm4.view_petri_net(net, initial_marking, final_marking)\n",
    "pm4.write_pnml(net, initial_marking, final_marking, 'process_mining/petri_nets/el_sp_NOTooh.pnml')"
   ]
  },
  {
   "cell_type": "code",
   "execution_count": null,
   "id": "f0652e5f-b4e9-4754-ad2a-473d0656caa5",
   "metadata": {},
   "outputs": [],
   "source": [
    "net, initial_marking, final_marking = pm4.discover_petri_net_inductive(el_fa_ooh, noise_threshold=0.3, multi_processing=True)\n",
    "pm4.view_petri_net(net, initial_marking, final_marking)\n",
    "pm4.write_pnml(net, initial_marking, final_marking, 'process_mining/petri_nets/el_fa_NOTooh.pnml')"
   ]
  },
  {
   "cell_type": "code",
   "execution_count": null,
   "id": "9f5ef3bd-0f93-4f9c-a0c3-2c9b8ce51855",
   "metadata": {},
   "outputs": [],
   "source": [
    "net, initial_marking, final_marking = pm4.discover_petri_net_inductive(el_sa_ooh, noise_threshold=0.3, multi_processing=True)\n",
    "pm4.view_petri_net(net, initial_marking, final_marking)\n",
    "pm4.write_pnml(net, initial_marking, final_marking, 'process_mining/petri_nets/el_sa_NOTooh.pnml')"
   ]
  },
  {
   "cell_type": "markdown",
   "id": "c211bade-66c9-434e-b2a3-f569456194ad",
   "metadata": {},
   "source": [
    "#### Conformance check negative groups"
   ]
  },
  {
   "cell_type": "code",
   "execution_count": null,
   "id": "622a99ca-f1d0-46cc-8c17-5da393791546",
   "metadata": {},
   "outputs": [],
   "source": [
    "results_df"
   ]
  },
  {
   "cell_type": "code",
   "execution_count": null,
   "id": "31f5f32a-6d76-4dce-bc79-c7ec708a1584",
   "metadata": {},
   "outputs": [],
   "source": [
    "net1, im1, fm1 = pm4.read_pnml('process_mining/petri_nets/el_fp_aNOT75.pnml')\n",
    "net2, im2, fm2 = pm4.read_pnml('process_mining/petri_nets/el_sp_aNOT75.pnml')\n",
    "\n",
    "fitness_L1W2 = pm4.fitness_token_based_replay(el_fp_a75, net2, im2, fm2)\n",
    "prec_L1W2 = pm4.precision_token_based_replay(el_fp_a75, net2, im2, fm2)\n",
    "gen_L1W2 = generalization_evaluator.apply(el_fp_a75, net2, im2, fm2)\n",
    "\n",
    "fitness_L2W1 = pm4.fitness_token_based_replay(el_sp_a75, net1, im1, fm1)\n",
    "prec_L2W1 = pm4.precision_token_based_replay(el_sp_a75, net1, im1, fm1)\n",
    "gen_L2W1 = generalization_evaluator.apply(el_sp_a75, net1, im1, fm1)\n",
    "\n",
    "nx_pn = pm4.convert_petri_net_to_networkx(net1, im1, fm1)\n",
    "nx_pn2 = pm4.convert_petri_net_to_networkx(net2, im2, fm2)\n",
    "ged = nx.graph_edit_distance(nx_pn, nx_pn2, timeout=30)\n",
    "\n",
    "res_l = ['<75 years', 'Provider', round(fitness_L1W2['log_fitness'], 3), round(prec_L1W2, 3), round(gen_L1W2, 3),\n",
    "         round(fitness_L2W1['log_fitness'], 3), round(prec_L2W1, 3), round(gen_L2W1, 3),\n",
    "         round(mean([fitness_L1W2['log_fitness'], fitness_L2W1['log_fitness']]), 3),\n",
    "         round(mean([prec_L1W2, prec_L2W1]), 3),\n",
    "         round(mean([gen_L1W2, gen_L2W1]), 3),\n",
    "        int(ged),\n",
    "        round(fitness_L1W2['perc_fit_traces'], 3),\n",
    "        round(fitness_L2W1['perc_fit_traces'], 3),\n",
    "        round(mean([fitness_L1W2['perc_fit_traces'], fitness_L2W1['perc_fit_traces']]), 3)]\n",
    "results_df.loc[len(results_df)] = res_l"
   ]
  },
  {
   "cell_type": "code",
   "execution_count": null,
   "id": "f13eb5de-8bb0-4a60-9a65-e569744b4450",
   "metadata": {},
   "outputs": [],
   "source": [
    "results_df"
   ]
  },
  {
   "cell_type": "code",
   "execution_count": null,
   "id": "6f673922-b878-439b-85d3-a2af94acc059",
   "metadata": {},
   "outputs": [],
   "source": [
    "net1, im1, fm1 = pm4.read_pnml('process_mining/petri_nets/el_fa_aNOT75.pnml')\n",
    "net2, im2, fm2 = pm4.read_pnml('process_mining/petri_nets/el_sa_aNOT75.pnml')\n",
    "\n",
    "fitness_L1W2 = pm4.fitness_token_based_replay(el_fa_a75, net2, im2, fm2)\n",
    "prec_L1W2 = pm4.precision_token_based_replay(el_fa_a75, net2, im2, fm2)\n",
    "gen_L1W2 = generalization_evaluator.apply(el_fa_a75, net2, im2, fm2)\n",
    "\n",
    "fitness_L2W1 = pm4.fitness_token_based_replay(el_sa_a75, net1, im1, fm1)\n",
    "prec_L2W1 = pm4.precision_token_based_replay(el_sa_a75, net1, im1, fm1)\n",
    "gen_L2W1 = generalization_evaluator.apply(el_sa_a75, net1, im1, fm1)\n",
    "\n",
    "nx_pn = pm4.convert_petri_net_to_networkx(net1, im1, fm1)\n",
    "nx_pn2 = pm4.convert_petri_net_to_networkx(net2, im2, fm2)\n",
    "ged = nx.graph_edit_distance(nx_pn, nx_pn2, timeout=30)\n",
    "\n",
    "res_l = ['<75 years', 'Activity', round(fitness_L1W2['log_fitness'], 3), round(prec_L1W2, 3), round(gen_L1W2, 3),\n",
    "         round(fitness_L2W1['log_fitness'], 3), round(prec_L2W1, 3), round(gen_L2W1, 3),\n",
    "         round(mean([fitness_L1W2['log_fitness'], fitness_L2W1['log_fitness']]), 3),\n",
    "         round(mean([prec_L1W2, prec_L2W1]), 3),\n",
    "         round(mean([gen_L1W2, gen_L2W1]), 3),\n",
    "        int(ged),\n",
    "        round(fitness_L1W2['perc_fit_traces'], 3),\n",
    "        round(fitness_L2W1['perc_fit_traces'], 3),\n",
    "        round(mean([fitness_L1W2['perc_fit_traces'], fitness_L2W1['perc_fit_traces']]), 3)]\n",
    "results_df.loc[len(results_df)] = res_l"
   ]
  },
  {
   "cell_type": "code",
   "execution_count": null,
   "id": "2acaa497-76bb-4998-9afd-0883b1234972",
   "metadata": {},
   "outputs": [],
   "source": [
    "results_df"
   ]
  },
  {
   "cell_type": "code",
   "execution_count": null,
   "id": "6e00e6d5-5cba-437a-9b01-9628e6b09af1",
   "metadata": {},
   "outputs": [],
   "source": [
    "net1, im1, fm1 = pm4.read_pnml('process_mining/petri_nets/el_fp_NOTint.pnml')\n",
    "net2, im2, fm2 = pm4.read_pnml('process_mining/petri_nets/el_sp_NOTint.pnml')\n",
    "\n",
    "fitness_L1W2 = pm4.fitness_token_based_replay(el_fp_int, net2, im2, fm2)\n",
    "prec_L1W2 = pm4.precision_token_based_replay(el_fp_int, net2, im2, fm2)\n",
    "gen_L1W2 = generalization_evaluator.apply(el_fp_int, net2, im2, fm2)\n",
    "\n",
    "fitness_L2W1 = pm4.fitness_token_based_replay(el_sp_int, net1, im1, fm1)\n",
    "prec_L2W1 = pm4.precision_token_based_replay(el_sp_int, net1, im1, fm1)\n",
    "gen_L2W1 = generalization_evaluator.apply(el_sp_int, net1, im1, fm1)\n",
    "\n",
    "nx_pn = pm4.convert_petri_net_to_networkx(net1, im1, fm1)\n",
    "nx_pn2 = pm4.convert_petri_net_to_networkx(net2, im2, fm2)\n",
    "ged = nx.graph_edit_distance(nx_pn, nx_pn2, timeout=30)\n",
    "\n",
    "res_l = ['N_Intensive Therapy', 'Provider', round(fitness_L1W2['log_fitness'], 3), round(prec_L1W2, 3), round(gen_L1W2, 3),\n",
    "         round(fitness_L2W1['log_fitness'], 3), round(prec_L2W1, 3), round(gen_L2W1, 3),\n",
    "         round(mean([fitness_L1W2['log_fitness'], fitness_L2W1['log_fitness']]), 3),\n",
    "         round(mean([prec_L1W2, prec_L2W1]), 3),\n",
    "         round(mean([gen_L1W2, gen_L2W1]), 3),\n",
    "        int(ged),\n",
    "        round(fitness_L1W2['perc_fit_traces'], 3),\n",
    "        round(fitness_L2W1['perc_fit_traces'], 3),\n",
    "        round(mean([fitness_L1W2['perc_fit_traces'], fitness_L2W1['perc_fit_traces']]), 3)]\n",
    "results_df.loc[len(results_df)] = res_l"
   ]
  },
  {
   "cell_type": "code",
   "execution_count": null,
   "id": "f463108b-fc79-4ee5-8432-badfefeb5470",
   "metadata": {},
   "outputs": [],
   "source": [
    "net1, im1, fm1 = pm4.read_pnml('process_mining/petri_nets/el_fa_NOTint.pnml')\n",
    "net2, im2, fm2 = pm4.read_pnml('process_mining/petri_nets/el_sa_NOTint.pnml')\n",
    "\n",
    "fitness_L1W2 = pm4.fitness_token_based_replay(el_fa_int, net2, im2, fm2)\n",
    "prec_L1W2 = pm4.precision_token_based_replay(el_fa_int, net2, im2, fm2)\n",
    "gen_L1W2 = generalization_evaluator.apply(el_fa_int, net2, im2, fm2)\n",
    "\n",
    "fitness_L2W1 = pm4.fitness_token_based_replay(el_sa_int, net1, im1, fm1)\n",
    "prec_L2W1 = pm4.precision_token_based_replay(el_sa_int, net1, im1, fm1)\n",
    "gen_L2W1 = generalization_evaluator.apply(el_sa_int, net1, im1, fm1)\n",
    "\n",
    "nx_pn = pm4.convert_petri_net_to_networkx(net1, im1, fm1)\n",
    "nx_pn2 = pm4.convert_petri_net_to_networkx(net2, im2, fm2)\n",
    "ged = nx.graph_edit_distance(nx_pn, nx_pn2, timeout=30)\n",
    "\n",
    "res_l = ['N_Intensive Therapy', 'Activity', round(fitness_L1W2['log_fitness'], 3), round(prec_L1W2, 3), round(gen_L1W2, 3),\n",
    "         round(fitness_L2W1['log_fitness'], 3), round(prec_L2W1, 3), round(gen_L2W1, 3),\n",
    "         round(mean([fitness_L1W2['log_fitness'], fitness_L2W1['log_fitness']]), 3),\n",
    "         round(mean([prec_L1W2, prec_L2W1]), 3),\n",
    "         round(mean([gen_L1W2, gen_L2W1]), 3),\n",
    "        int(ged),\n",
    "        round(fitness_L1W2['perc_fit_traces'], 3),\n",
    "        round(fitness_L2W1['perc_fit_traces'], 3),\n",
    "        round(mean([fitness_L1W2['perc_fit_traces'], fitness_L2W1['perc_fit_traces']]), 3)]\n",
    "results_df.loc[len(results_df)] = res_l"
   ]
  },
  {
   "cell_type": "code",
   "execution_count": null,
   "id": "6e5dd7da-d6e9-4a4e-8e91-b66a6043a30c",
   "metadata": {},
   "outputs": [],
   "source": [
    "net1, im1, fm1 = pm4.read_pnml('process_mining/petri_nets/el_fp_NOTes.pnml')\n",
    "net2, im2, fm2 = pm4.read_pnml('process_mining/petri_nets/el_sp_NOTes.pnml')\n",
    "\n",
    "fitness_L1W2 = pm4.fitness_token_based_replay(el_fp_es, net2, im2, fm2)\n",
    "prec_L1W2 = pm4.precision_token_based_replay(el_fp_es, net2, im2, fm2)\n",
    "gen_L1W2 = generalization_evaluator.apply(el_fp_es, net2, im2, fm2)\n",
    "\n",
    "fitness_L2W1 = pm4.fitness_token_based_replay(el_sp_es, net1, im1, fm1)\n",
    "prec_L2W1 = pm4.precision_token_based_replay(el_sp_es, net1, im1, fm1)\n",
    "gen_L2W1 = generalization_evaluator.apply(el_sp_es, net1, im1, fm1)\n",
    "\n",
    "nx_pn = pm4.convert_petri_net_to_networkx(net1, im1, fm1)\n",
    "nx_pn2 = pm4.convert_petri_net_to_networkx(net2, im2, fm2)\n",
    "ged = nx.graph_edit_distance(nx_pn, nx_pn2, timeout=30)\n",
    "\n",
    "res_l = ['N_Extended Stay (>30 days)', 'Provider', round(fitness_L1W2['log_fitness'], 3), round(prec_L1W2, 3), round(gen_L1W2, 3),\n",
    "         round(fitness_L2W1['log_fitness'], 3), round(prec_L2W1, 3), round(gen_L2W1, 3),\n",
    "         round(mean([fitness_L1W2['log_fitness'], fitness_L2W1['log_fitness']]), 3),\n",
    "         round(mean([prec_L1W2, prec_L2W1]), 3),\n",
    "         round(mean([gen_L1W2, gen_L2W1]), 3),\n",
    "        int(ged),\n",
    "        round(fitness_L1W2['perc_fit_traces'], 3),\n",
    "        round(fitness_L2W1['perc_fit_traces'], 3),\n",
    "        round(mean([fitness_L1W2['perc_fit_traces'], fitness_L2W1['perc_fit_traces']]), 3)]\n",
    "results_df.loc[len(results_df)] = res_l"
   ]
  },
  {
   "cell_type": "code",
   "execution_count": null,
   "id": "7aa7b570-2ea8-4342-a89a-dbd09cf52303",
   "metadata": {},
   "outputs": [],
   "source": [
    "net1, im1, fm1 = pm4.read_pnml('process_mining/petri_nets/el_fa_NOTes.pnml')\n",
    "net2, im2, fm2 = pm4.read_pnml('process_mining/petri_nets/el_sa_NOTes.pnml')\n",
    "\n",
    "fitness_L1W2 = pm4.fitness_token_based_replay(el_fa_es, net2, im2, fm2)\n",
    "prec_L1W2 = pm4.precision_token_based_replay(el_fa_es, net2, im2, fm2)\n",
    "gen_L1W2 = generalization_evaluator.apply(el_fa_es, net2, im2, fm2)\n",
    "\n",
    "fitness_L2W1 = pm4.fitness_token_based_replay(el_sa_es, net1, im1, fm1)\n",
    "prec_L2W1 = pm4.precision_token_based_replay(el_sa_es, net1, im1, fm1)\n",
    "gen_L2W1 = generalization_evaluator.apply(el_sa_es, net1, im1, fm1)\n",
    "\n",
    "nx_pn = pm4.convert_petri_net_to_networkx(net1, im1, fm1)\n",
    "nx_pn2 = pm4.convert_petri_net_to_networkx(net2, im2, fm2)\n",
    "ged = nx.graph_edit_distance(nx_pn, nx_pn2, timeout=30)\n",
    "\n",
    "res_l = ['N_Extended Stay (>30 days)', 'Activity', round(fitness_L1W2['log_fitness'], 3), round(prec_L1W2, 3), round(gen_L1W2, 3),\n",
    "         round(fitness_L2W1['log_fitness'], 3), round(prec_L2W1, 3), round(gen_L2W1, 3),\n",
    "         round(mean([fitness_L1W2['log_fitness'], fitness_L2W1['log_fitness']]), 3),\n",
    "         round(mean([prec_L1W2, prec_L2W1]), 3),\n",
    "         round(mean([gen_L1W2, gen_L2W1]), 3),\n",
    "        int(ged),\n",
    "        round(fitness_L1W2['perc_fit_traces'], 3),\n",
    "        round(fitness_L2W1['perc_fit_traces'], 3),\n",
    "        round(mean([fitness_L1W2['perc_fit_traces'], fitness_L2W1['perc_fit_traces']]), 3)]\n",
    "results_df.loc[len(results_df)] = res_l"
   ]
  },
  {
   "cell_type": "code",
   "execution_count": null,
   "id": "7db4ca93-a00d-4559-9c74-99283e5e771f",
   "metadata": {},
   "outputs": [],
   "source": [
    "net1, im1, fm1 = pm4.read_pnml('process_mining/petri_nets/el_fp_NOTm.pnml')\n",
    "net2, im2, fm2 = pm4.read_pnml('process_mining/petri_nets/el_sp_NOTm.pnml')\n",
    "\n",
    "fitness_L1W2 = pm4.fitness_token_based_replay(el_fp_m, net2, im2, fm2)\n",
    "prec_L1W2 = pm4.precision_token_based_replay(el_fp_m, net2, im2, fm2)\n",
    "gen_L1W2 = generalization_evaluator.apply(el_fp_m, net2, im2, fm2)\n",
    "\n",
    "fitness_L2W1 = pm4.fitness_token_based_replay(el_sp_m, net1, im1, fm1)\n",
    "prec_L2W1 = pm4.precision_token_based_replay(el_sp_m, net1, im1, fm1)\n",
    "gen_L2W1 = generalization_evaluator.apply(el_sp_m, net1, im1, fm1)\n",
    "\n",
    "nx_pn = pm4.convert_petri_net_to_networkx(net1, im1, fm1)\n",
    "nx_pn2 = pm4.convert_petri_net_to_networkx(net2, im2, fm2)\n",
    "ged = nx.graph_edit_distance(nx_pn, nx_pn2, timeout=30)\n",
    "\n",
    "res_l = ['N_1-year mortality', 'Provider', round(fitness_L1W2['log_fitness'], 3), round(prec_L1W2, 3), round(gen_L1W2, 3),\n",
    "         round(fitness_L2W1['log_fitness'], 3), round(prec_L2W1, 3), round(gen_L2W1, 3),\n",
    "         round(mean([fitness_L1W2['log_fitness'], fitness_L2W1['log_fitness']]), 3),\n",
    "         round(mean([prec_L1W2, prec_L2W1]), 3),\n",
    "         round(mean([gen_L1W2, gen_L2W1]), 3),\n",
    "        int(ged),\n",
    "        round(fitness_L1W2['perc_fit_traces'], 3),\n",
    "        round(fitness_L2W1['perc_fit_traces'], 3),\n",
    "        round(mean([fitness_L1W2['perc_fit_traces'], fitness_L2W1['perc_fit_traces']]), 3)]\n",
    "results_df.loc[len(results_df)] = res_l"
   ]
  },
  {
   "cell_type": "code",
   "execution_count": null,
   "id": "d9691ba7-790d-4038-908a-a64b5995ac7d",
   "metadata": {},
   "outputs": [],
   "source": [
    "net1, im1, fm1 = pm4.read_pnml('process_mining/petri_nets/el_fa_NOTm.pnml')\n",
    "net2, im2, fm2 = pm4.read_pnml('process_mining/petri_nets/el_sa_NOTm.pnml')\n",
    "\n",
    "fitness_L1W2 = pm4.fitness_token_based_replay(el_fa_m, net2, im2, fm2)\n",
    "prec_L1W2 = pm4.precision_token_based_replay(el_fa_m, net2, im2, fm2)\n",
    "gen_L1W2 = generalization_evaluator.apply(el_fa_m, net2, im2, fm2)\n",
    "\n",
    "fitness_L2W1 = pm4.fitness_token_based_replay(el_sa_m, net1, im1, fm1)\n",
    "prec_L2W1 = pm4.precision_token_based_replay(el_sa_m, net1, im1, fm1)\n",
    "gen_L2W1 = generalization_evaluator.apply(el_sa_m, net1, im1, fm1)\n",
    "\n",
    "nx_pn = pm4.convert_petri_net_to_networkx(net1, im1, fm1)\n",
    "nx_pn2 = pm4.convert_petri_net_to_networkx(net2, im2, fm2)\n",
    "ged = nx.graph_edit_distance(nx_pn, nx_pn2, timeout=30)\n",
    "\n",
    "res_l = ['N_1-year mortality', 'Activity', round(fitness_L1W2['log_fitness'], 3), round(prec_L1W2, 3), round(gen_L1W2, 3),\n",
    "         round(fitness_L2W1['log_fitness'], 3), round(prec_L2W1, 3), round(gen_L2W1, 3),\n",
    "         round(mean([fitness_L1W2['log_fitness'], fitness_L2W1['log_fitness']]), 3),\n",
    "         round(mean([prec_L1W2, prec_L2W1]), 3),\n",
    "         round(mean([gen_L1W2, gen_L2W1]), 3),\n",
    "        int(ged),\n",
    "        round(fitness_L1W2['perc_fit_traces'], 3),\n",
    "        round(fitness_L2W1['perc_fit_traces'], 3),\n",
    "        round(mean([fitness_L1W2['perc_fit_traces'], fitness_L2W1['perc_fit_traces']]), 3)]\n",
    "results_df.loc[len(results_df)] = res_l"
   ]
  },
  {
   "cell_type": "code",
   "execution_count": null,
   "id": "842b3358-db43-463f-ae7c-5996bebf099f",
   "metadata": {},
   "outputs": [],
   "source": [
    "net1, im1, fm1 = pm4.read_pnml('process_mining/petri_nets/el_fp_NOTmm.pnml')\n",
    "net2, im2, fm2 = pm4.read_pnml('process_mining/petri_nets/el_sp_NOTmm.pnml')\n",
    "\n",
    "fitness_L1W2 = pm4.fitness_token_based_replay(el_fp_mm, net2, im2, fm2)\n",
    "prec_L1W2 = pm4.precision_token_based_replay(el_fp_mm, net2, im2, fm2)\n",
    "gen_L1W2 = generalization_evaluator.apply(el_fp_mm, net2, im2, fm2)\n",
    "\n",
    "fitness_L2W1 = pm4.fitness_token_based_replay(el_sp_mm, net1, im1, fm1)\n",
    "prec_L2W1 = pm4.precision_token_based_replay(el_sp_mm, net1, im1, fm1)\n",
    "gen_L2W1 = generalization_evaluator.apply(el_sp_mm, net1, im1, fm1)\n",
    "\n",
    "nx_pn = pm4.convert_petri_net_to_networkx(net1, im1, fm1)\n",
    "nx_pn2 = pm4.convert_petri_net_to_networkx(net2, im2, fm2)\n",
    "ged = nx.graph_edit_distance(nx_pn, nx_pn2, timeout=30)\n",
    "\n",
    "res_l = ['N_Multimorbidity', 'Provider', round(fitness_L1W2['log_fitness'], 3), round(prec_L1W2, 3), round(gen_L1W2, 3),\n",
    "         round(fitness_L2W1['log_fitness'], 3), round(prec_L2W1, 3), round(gen_L2W1, 3),\n",
    "         round(mean([fitness_L1W2['log_fitness'], fitness_L2W1['log_fitness']]), 3),\n",
    "         round(mean([prec_L1W2, prec_L2W1]), 3),\n",
    "         round(mean([gen_L1W2, gen_L2W1]), 3),\n",
    "        int(ged),\n",
    "        round(fitness_L1W2['perc_fit_traces'], 3),\n",
    "        round(fitness_L2W1['perc_fit_traces'], 3),\n",
    "        round(mean([fitness_L1W2['perc_fit_traces'], fitness_L2W1['perc_fit_traces']]), 3)]\n",
    "results_df.loc[len(results_df)] = res_l"
   ]
  },
  {
   "cell_type": "code",
   "execution_count": null,
   "id": "80ecda79-bb75-401a-ac9c-1c252f3c9907",
   "metadata": {},
   "outputs": [],
   "source": [
    "net1, im1, fm1 = pm4.read_pnml('process_mining/petri_nets/el_fa_NOTmm.pnml')\n",
    "net2, im2, fm2 = pm4.read_pnml('process_mining/petri_nets/el_sa_NOTmm.pnml')\n",
    "\n",
    "fitness_L1W2 = pm4.fitness_token_based_replay(el_fa_mm, net2, im2, fm2)\n",
    "prec_L1W2 = pm4.precision_token_based_replay(el_fa_mm, net2, im2, fm2)\n",
    "gen_L1W2 = generalization_evaluator.apply(el_fa_mm, net2, im2, fm2)\n",
    "\n",
    "fitness_L2W1 = pm4.fitness_token_based_replay(el_sa_mm, net1, im1, fm1)\n",
    "prec_L2W1 = pm4.precision_token_based_replay(el_sa_mm, net1, im1, fm1)\n",
    "gen_L2W1 = generalization_evaluator.apply(el_sa_mm, net1, im1, fm1)\n",
    "\n",
    "nx_pn = pm4.convert_petri_net_to_networkx(net1, im1, fm1)\n",
    "nx_pn2 = pm4.convert_petri_net_to_networkx(net2, im2, fm2)\n",
    "ged = nx.graph_edit_distance(nx_pn, nx_pn2, timeout=30)\n",
    "\n",
    "res_l = ['N_Multimorbidity', 'Activity', round(fitness_L1W2['log_fitness'], 3), round(prec_L1W2, 3), round(gen_L1W2, 3),\n",
    "         round(fitness_L2W1['log_fitness'], 3), round(prec_L2W1, 3), round(gen_L2W1, 3),\n",
    "         round(mean([fitness_L1W2['log_fitness'], fitness_L2W1['log_fitness']]), 3),\n",
    "         round(mean([prec_L1W2, prec_L2W1]), 3),\n",
    "         round(mean([gen_L1W2, gen_L2W1]), 3),\n",
    "        int(ged),\n",
    "        round(fitness_L1W2['perc_fit_traces'], 3),\n",
    "        round(fitness_L2W1['perc_fit_traces'], 3),\n",
    "        round(mean([fitness_L1W2['perc_fit_traces'], fitness_L2W1['perc_fit_traces']]), 3)]\n",
    "results_df.loc[len(results_df)] = res_l"
   ]
  },
  {
   "cell_type": "code",
   "execution_count": null,
   "id": "6a15575a-ed3c-41f6-b919-061575ac0e51",
   "metadata": {},
   "outputs": [],
   "source": [
    "net1, im1, fm1 = pm4.read_pnml('process_mining/petri_nets/el_fp_NOTooh.pnml')\n",
    "net2, im2, fm2 = pm4.read_pnml('process_mining/petri_nets/el_sp_NOTooh.pnml')\n",
    "\n",
    "fitness_L1W2 = pm4.fitness_token_based_replay(el_fp_ooh, net2, im2, fm2)\n",
    "prec_L1W2 = pm4.precision_token_based_replay(el_fp_ooh, net2, im2, fm2)\n",
    "gen_L1W2 = generalization_evaluator.apply(el_fp_ooh, net2, im2, fm2)\n",
    "\n",
    "fitness_L2W1 = pm4.fitness_token_based_replay(el_sp_ooh, net1, im1, fm1)\n",
    "prec_L2W1 = pm4.precision_token_based_replay(el_sp_ooh, net1, im1, fm1)\n",
    "gen_L2W1 = generalization_evaluator.apply(el_sp_ooh, net1, im1, fm1)\n",
    "\n",
    "nx_pn = pm4.convert_petri_net_to_networkx(net1, im1, fm1)\n",
    "nx_pn2 = pm4.convert_petri_net_to_networkx(net2, im2, fm2)\n",
    "ged = nx.graph_edit_distance(nx_pn, nx_pn2, timeout=30)\n",
    "\n",
    "res_l = ['N_High Out-of-hours care (top 20% overall)', 'Provider', round(fitness_L1W2['log_fitness'], 3), round(prec_L1W2, 3), round(gen_L1W2, 3),\n",
    "         round(fitness_L2W1['log_fitness'], 3), round(prec_L2W1, 3), round(gen_L2W1, 3),\n",
    "         round(mean([fitness_L1W2['log_fitness'], fitness_L2W1['log_fitness']]), 3),\n",
    "         round(mean([prec_L1W2, prec_L2W1]), 3),\n",
    "         round(mean([gen_L1W2, gen_L2W1]), 3),\n",
    "        int(ged),\n",
    "        round(fitness_L1W2['perc_fit_traces'], 3),\n",
    "        round(fitness_L2W1['perc_fit_traces'], 3),\n",
    "        round(mean([fitness_L1W2['perc_fit_traces'], fitness_L2W1['perc_fit_traces']]), 3)]\n",
    "results_df.loc[len(results_df)] = res_l"
   ]
  },
  {
   "cell_type": "code",
   "execution_count": null,
   "id": "198393d6-53cb-4d85-a258-15f5681a4790",
   "metadata": {},
   "outputs": [],
   "source": [
    "net1, im1, fm1 = pm4.read_pnml('process_mining/petri_nets/el_fa_NOTooh.pnml')\n",
    "net2, im2, fm2 = pm4.read_pnml('process_mining/petri_nets/el_sa_NOTooh.pnml')\n",
    "\n",
    "fitness_L1W2 = pm4.fitness_token_based_replay(el_fa_ooh, net2, im2, fm2)\n",
    "prec_L1W2 = pm4.precision_token_based_replay(el_fa_ooh, net2, im2, fm2)\n",
    "gen_L1W2 = generalization_evaluator.apply(el_fa_ooh, net2, im2, fm2)\n",
    "\n",
    "fitness_L2W1 = pm4.fitness_token_based_replay(el_sa_ooh, net1, im1, fm1)\n",
    "prec_L2W1 = pm4.precision_token_based_replay(el_sa_ooh, net1, im1, fm1)\n",
    "gen_L2W1 = generalization_evaluator.apply(el_sa_ooh, net1, im1, fm1)\n",
    "\n",
    "nx_pn = pm4.convert_petri_net_to_networkx(net1, im1, fm1)\n",
    "nx_pn2 = pm4.convert_petri_net_to_networkx(net2, im2, fm2)\n",
    "ged = nx.graph_edit_distance(nx_pn, nx_pn2, timeout=30)\n",
    "\n",
    "res_l = ['N_High Out-of-hours care (top 20% overall)', 'Activity', round(fitness_L1W2['log_fitness'], 3), round(prec_L1W2, 3), round(gen_L1W2, 3),\n",
    "         round(fitness_L2W1['log_fitness'], 3), round(prec_L2W1, 3), round(gen_L2W1, 3),\n",
    "         round(mean([fitness_L1W2['log_fitness'], fitness_L2W1['log_fitness']]), 3),\n",
    "         round(mean([prec_L1W2, prec_L2W1]), 3),\n",
    "         round(mean([gen_L1W2, gen_L2W1]), 3),\n",
    "        int(ged),\n",
    "        round(fitness_L1W2['perc_fit_traces'], 3),\n",
    "        round(fitness_L2W1['perc_fit_traces'], 3),\n",
    "        round(mean([fitness_L1W2['perc_fit_traces'], fitness_L2W1['perc_fit_traces']]), 3)]\n",
    "results_df.loc[len(results_df)] = res_l"
   ]
  },
  {
   "cell_type": "code",
   "execution_count": null,
   "id": "f2bdeae3-1657-4c90-9ba8-40adc506fdca",
   "metadata": {},
   "outputs": [],
   "source": [
    "results_df"
   ]
  },
  {
   "cell_type": "code",
   "execution_count": null,
   "id": "1edf8f41-11ed-4dd0-bb5d-8b8b0e54a19d",
   "metadata": {},
   "outputs": [],
   "source": [
    "results_df.to_csv('process_mining/crosslog_cc_results_v2.csv', index=False)"
   ]
  }
 ],
 "metadata": {
  "kernelspec": {
   "display_name": "Python 3 (ipykernel)",
   "language": "python",
   "name": "python3"
  },
  "language_info": {
   "codemirror_mode": {
    "name": "ipython",
    "version": 3
   },
   "file_extension": ".py",
   "mimetype": "text/x-python",
   "name": "python",
   "nbconvert_exporter": "python",
   "pygments_lexer": "ipython3",
   "version": "3.10.1"
  }
 },
 "nbformat": 4,
 "nbformat_minor": 5
}
