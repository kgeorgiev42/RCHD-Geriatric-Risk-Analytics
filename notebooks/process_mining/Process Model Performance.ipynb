{
 "cells": [
  {
   "cell_type": "code",
   "execution_count": null,
   "id": "8ef7d422-0812-4056-900a-25787c2858c4",
   "metadata": {},
   "outputs": [],
   "source": [
    "import networkx as nx\n",
    "import xml.etree.ElementTree as ET\n",
    "import matplotlib.pyplot as plt\n",
    "import pm4py as pm4\n",
    "from pm4py.algo.evaluation.generalization import algorithm as generalization_evaluator\n",
    "import pandas as pd\n",
    "from statistics import mean"
   ]
  },
  {
   "cell_type": "markdown",
   "id": "3092556d-3e9a-41f7-a51b-e55898471d6f",
   "metadata": {},
   "source": [
    "#### Perform process mining model comparison between generated Petri Net and original event logs"
   ]
  },
  {
   "cell_type": "code",
   "execution_count": null,
   "id": "344b1ccd-f4e6-4a30-8ff8-43f03aa573da",
   "metadata": {},
   "outputs": [],
   "source": [
    "elog_data_first = pd.read_csv('data/export/cv19_event_log_wv1.csv')\n",
    "elog_data_second = pd.read_csv('data/export/cv19_event_log_wv2.csv')\n",
    "elog_data_first['start'] = pd.to_datetime(elog_data_first['start'])\n",
    "elog_data_second['start'] = pd.to_datetime(elog_data_second['start'])"
   ]
  },
  {
   "cell_type": "code",
   "execution_count": null,
   "id": "034b8551-8d11-4a24-a836-fc21bb35d719",
   "metadata": {},
   "outputs": [],
   "source": [
    "results_df = pd.DataFrame(columns=['model_name', 'wv1_lf', 'wv1_prec', 'wv1_gen', 'wv2_lf', 'wv2_prec', 'wv2_gen', 'm_lf',\n",
    "                          'm_prec', 'm_gen'])"
   ]
  },
  {
   "cell_type": "code",
   "execution_count": null,
   "id": "34aaca9e-207a-4499-865c-c55b3faa9e58",
   "metadata": {},
   "outputs": [],
   "source": [
    "elog_data_first.provider_event.value_counts()"
   ]
  },
  {
   "cell_type": "markdown",
   "id": "07c32eb0-d0cb-497f-9c9b-997dddf5d699",
   "metadata": {},
   "source": [
    "#### Provider-level"
   ]
  },
  {
   "cell_type": "code",
   "execution_count": null,
   "id": "30cb8140-48f6-4a76-a19e-14a8fee63e74",
   "metadata": {},
   "outputs": [],
   "source": [
    "elog_data_fp = elog_data_first.rename(columns={\"pid\": \"case:concept:name\", \"provider_event\": \"concept:name\",\n",
    "                                            \"start\": \"time:timestamp\"})\n",
    "elog_data_fp = pm4.format_dataframe(elog_data_fp, case_id='case:concept:name', activity_key='concept:name', timestamp_key='time:timestamp',\n",
    "                                   timest_format='%Y-%m-%d %H:%M:%S')\n",
    "el_f = pm4.convert_to_event_log(elog_data_fp)\n",
    "\n",
    "elog_data_sp = elog_data_second.rename(columns={\"pid\": \"case:concept:name\", \"provider_event\": \"concept:name\",\n",
    "                                            \"start\": \"time:timestamp\"})\n",
    "elog_data_sp = pm4.format_dataframe(elog_data_sp, case_id='case:concept:name', activity_key='concept:name', timestamp_key='time:timestamp',\n",
    "                                   timest_format='%Y-%m-%d %H:%M:%S')\n",
    "el_s = pm4.convert_to_event_log(elog_data_sp)"
   ]
  },
  {
   "cell_type": "markdown",
   "id": "b11d283c-b9aa-466b-aaa1-1505207c7d5c",
   "metadata": {},
   "source": [
    "##### Alpha miner"
   ]
  },
  {
   "cell_type": "code",
   "execution_count": null,
   "id": "395e1c77-eeed-437a-9ce4-592cb90829fc",
   "metadata": {},
   "outputs": [],
   "source": [
    "net, initial_marking, final_marking = pm4.discover_petri_net_alpha(el_f)\n",
    "pm4.view_petri_net(net, initial_marking, final_marking)\n",
    "fitness = pm4.fitness_token_based_replay(el_f, net, initial_marking, final_marking)\n",
    "prec = pm4.precision_token_based_replay(el_f, net, initial_marking, final_marking)\n",
    "gen = generalization_evaluator.apply(el_f, net, initial_marking, final_marking)"
   ]
  },
  {
   "cell_type": "code",
   "execution_count": null,
   "id": "35313ccf-7c64-44eb-8000-2e3cf3570966",
   "metadata": {},
   "outputs": [],
   "source": [
    "print(fitness, prec, gen)"
   ]
  },
  {
   "cell_type": "code",
   "execution_count": null,
   "id": "7f1d3e20-7e62-4900-b0f0-46eaa296c273",
   "metadata": {},
   "outputs": [],
   "source": [
    "net2, initial_marking2, final_marking2 = pm4.discover_petri_net_alpha(el_s)\n",
    "pm4.view_petri_net(net2, initial_marking2, final_marking2)\n",
    "fitness2 = pm4.fitness_token_based_replay(el_s, net2, initial_marking2, final_marking2)\n",
    "prec2 = pm4.precision_token_based_replay(el_s, net2, initial_marking2, final_marking2)\n",
    "gen2 = generalization_evaluator.apply(el_s, net2, initial_marking2, final_marking2)"
   ]
  },
  {
   "cell_type": "code",
   "execution_count": null,
   "id": "93b6f331-de6c-4ece-b49e-be86c8f2e653",
   "metadata": {},
   "outputs": [],
   "source": [
    "print(fitness2, prec2, gen2)"
   ]
  },
  {
   "cell_type": "code",
   "execution_count": null,
   "id": "cd9d1209-4876-498c-9e41-5dd945f1c277",
   "metadata": {},
   "outputs": [],
   "source": [
    "res_l = ['Alpha_Miner_PL', round(fitness['log_fitness'], 3), round(prec, 3), round(gen, 3),\n",
    "         round(fitness2['log_fitness'], 3), round(prec2, 3), round(gen2, 3),\n",
    "         round(mean([fitness['log_fitness'], fitness2['log_fitness']]), 3),\n",
    "         round(mean([prec, prec2]), 3),\n",
    "         round(mean([gen, gen2]), 3)]\n",
    "\n",
    "results_df.loc[len(results_df)] = res_l"
   ]
  },
  {
   "cell_type": "code",
   "execution_count": null,
   "id": "6216270e-7bcf-4dce-bf30-d34a0fb94d75",
   "metadata": {},
   "outputs": [],
   "source": [
    "results_df"
   ]
  },
  {
   "cell_type": "markdown",
   "id": "46c1f6ba-7858-4421-9da2-9172d310af00",
   "metadata": {},
   "source": [
    "##### Inductive Miner"
   ]
  },
  {
   "cell_type": "code",
   "execution_count": null,
   "id": "2ab308f8-e06d-4f29-ad1b-0a4e71b83539",
   "metadata": {},
   "outputs": [],
   "source": [
    "net, initial_marking, final_marking = pm4.discover_petri_net_inductive(el_f, noise_threshold=0.3,multi_processing=True)\n",
    "pm4.view_petri_net(net, initial_marking, final_marking)\n",
    "fitness = pm4.fitness_token_based_replay(el_f, net, initial_marking, final_marking)\n",
    "prec = pm4.precision_token_based_replay(el_f, net, initial_marking, final_marking)\n",
    "gen = generalization_evaluator.apply(el_f, net, initial_marking, final_marking)"
   ]
  },
  {
   "cell_type": "code",
   "execution_count": null,
   "id": "d9352945-fa61-40ec-8be8-3b4f0de88a26",
   "metadata": {},
   "outputs": [],
   "source": [
    "print(fitness, gen, prec)"
   ]
  },
  {
   "cell_type": "code",
   "execution_count": null,
   "id": "efac6d25-7fc4-4d04-878f-39c2a6e47964",
   "metadata": {},
   "outputs": [],
   "source": [
    "net2, initial_marking2, final_marking2 = pm4.discover_petri_net_inductive(el_s, noise_threshold=0.3, multi_processing=True)\n",
    "pm4.view_petri_net(net2, initial_marking2, final_marking2)\n",
    "fitness2 = pm4.fitness_token_based_replay(el_s, net2, initial_marking2, final_marking2)\n",
    "prec2 = pm4.precision_token_based_replay(el_s, net2, initial_marking2, final_marking2)\n",
    "gen2 = generalization_evaluator.apply(el_s, net2, initial_marking2, final_marking2)"
   ]
  },
  {
   "cell_type": "code",
   "execution_count": null,
   "id": "33b45b2b-3adc-4d1e-9c13-740f50ef3212",
   "metadata": {},
   "outputs": [],
   "source": [
    "res_l = ['Inductive_Miner_PL', round(fitness['log_fitness'], 3), round(prec, 3), round(gen, 3),\n",
    "         round(fitness2['log_fitness'], 3), round(prec2, 3), round(gen2, 3),\n",
    "         round(mean([fitness['log_fitness'], fitness2['log_fitness']]), 3),\n",
    "         round(mean([prec, prec2]), 3),\n",
    "         round(mean([gen, gen2]), 3)]\n",
    "\n",
    "results_df.loc[len(results_df)] = res_l\n",
    "#results_df.drop([1], inplace=True)"
   ]
  },
  {
   "cell_type": "code",
   "execution_count": null,
   "id": "e003ea4e-494d-4fc2-b608-bafab5a52ffe",
   "metadata": {},
   "outputs": [],
   "source": [
    "results_df"
   ]
  },
  {
   "cell_type": "markdown",
   "id": "285ca8d5-a6ef-4879-b60e-af8227485e19",
   "metadata": {},
   "source": [
    "##### Heuristics Miner"
   ]
  },
  {
   "cell_type": "code",
   "execution_count": null,
   "id": "ac133754-ae0d-49f9-877b-3653b50ac47d",
   "metadata": {},
   "outputs": [],
   "source": [
    "net, initial_marking, final_marking = pm4.discover_petri_net_heuristics(el_f, dependency_threshold=0.7)\n",
    "pm4.view_petri_net(net, initial_marking, final_marking)\n",
    "fitness = pm4.fitness_token_based_replay(el_f, net, initial_marking, final_marking)\n",
    "prec = pm4.precision_token_based_replay(el_f, net, initial_marking, final_marking)\n",
    "gen = generalization_evaluator.apply(el_f, net, initial_marking, final_marking)"
   ]
  },
  {
   "cell_type": "code",
   "execution_count": null,
   "id": "74373745-ebb9-4224-a91f-0230bf17155c",
   "metadata": {},
   "outputs": [],
   "source": [
    "net2, initial_marking2, final_marking2 = pm4.discover_petri_net_heuristics(el_s, dependency_threshold=0.7)\n",
    "pm4.view_petri_net(net2, initial_marking2, final_marking2)\n",
    "fitness2 = pm4.fitness_token_based_replay(el_s, net2, initial_marking2, final_marking2)\n",
    "prec2 = pm4.precision_token_based_replay(el_s, net2, initial_marking2, final_marking2)\n",
    "gen2 = generalization_evaluator.apply(el_s, net2, initial_marking2, final_marking2)"
   ]
  },
  {
   "cell_type": "code",
   "execution_count": null,
   "id": "684bef6f-553b-42bf-a597-26925c42be3b",
   "metadata": {},
   "outputs": [],
   "source": [
    "res_l = ['Heuristics_Miner_PL', round(fitness['log_fitness'], 3), round(prec, 3), round(gen, 3),\n",
    "         round(fitness2['log_fitness'], 3), round(prec2, 3), round(gen2, 3),\n",
    "         round(mean([fitness['log_fitness'], fitness2['log_fitness']]), 3),\n",
    "         round(mean([prec, prec2]), 3),\n",
    "         round(mean([gen, gen2]), 3)]\n",
    "\n",
    "results_df.loc[len(results_df)] = res_l\n",
    "#results_df.drop([2], inplace=True)"
   ]
  },
  {
   "cell_type": "code",
   "execution_count": null,
   "id": "8f7aee3c-99a7-4f7d-b182-53da3a522b72",
   "metadata": {},
   "outputs": [],
   "source": [
    "results_df"
   ]
  },
  {
   "cell_type": "markdown",
   "id": "76c50329-93ea-4795-af65-084bae2b9096",
   "metadata": {},
   "source": [
    "#### Activity-level"
   ]
  },
  {
   "cell_type": "code",
   "execution_count": null,
   "id": "fe4e7c11-97c9-4f13-9a84-398be4a22d62",
   "metadata": {},
   "outputs": [],
   "source": [
    "elog_data_fp = elog_data_first.rename(columns={\"pid\": \"case:concept:name\", \"act_code\": \"concept:name\",\n",
    "                                            \"start\": \"time:timestamp\"})\n",
    "elog_data_fp = pm4.format_dataframe(elog_data_fp, case_id='case:concept:name', activity_key='concept:name', timestamp_key='time:timestamp',\n",
    "                                   timest_format='%Y-%m-%d %H:%M:%S')\n",
    "el_f = pm4.convert_to_event_log(elog_data_fp)\n",
    "\n",
    "elog_data_sp = elog_data_second.rename(columns={\"pid\": \"case:concept:name\", \"act_code\": \"concept:name\",\n",
    "                                            \"start\": \"time:timestamp\"})\n",
    "elog_data_sp = pm4.format_dataframe(elog_data_sp, case_id='case:concept:name', activity_key='concept:name', timestamp_key='time:timestamp',\n",
    "                                   timest_format='%Y-%m-%d %H:%M:%S')\n",
    "el_s = pm4.convert_to_event_log(elog_data_sp)"
   ]
  },
  {
   "cell_type": "code",
   "execution_count": null,
   "id": "8f67bd5a-a219-4069-bb5a-5378502553e7",
   "metadata": {},
   "outputs": [],
   "source": [
    "net, initial_marking, final_marking = pm4.discover_petri_net_alpha(el_f)\n",
    "pm4.view_petri_net(net, initial_marking, final_marking)\n",
    "fitness = pm4.fitness_token_based_replay(el_f, net, initial_marking, final_marking)\n",
    "prec = pm4.precision_token_based_replay(el_f, net, initial_marking, final_marking)\n",
    "gen = generalization_evaluator.apply(el_f, net, initial_marking, final_marking)"
   ]
  },
  {
   "cell_type": "code",
   "execution_count": null,
   "id": "62b1a42e-43e0-499b-b4a4-84ec078e28ec",
   "metadata": {},
   "outputs": [],
   "source": [
    "net2, initial_marking2, final_marking2 = pm4.discover_petri_net_alpha(el_s)\n",
    "pm4.view_petri_net(net2, initial_marking2, final_marking2)\n",
    "fitness2 = pm4.fitness_token_based_replay(el_s, net2, initial_marking2, final_marking2)\n",
    "prec2 = pm4.precision_token_based_replay(el_s, net2, initial_marking2, final_marking2)\n",
    "gen2 = generalization_evaluator.apply(el_s, net2, initial_marking2, final_marking2)"
   ]
  },
  {
   "cell_type": "code",
   "execution_count": null,
   "id": "1c670204-f33a-43e8-bd02-e0e0bb0a1bb7",
   "metadata": {},
   "outputs": [],
   "source": [
    "res_l = ['Alpha_Miner_AL', round(fitness['log_fitness'], 3), round(prec, 3), round(gen, 3),\n",
    "         round(fitness2['log_fitness'], 3), round(prec2, 3), round(gen2, 3),\n",
    "         round(mean([fitness['log_fitness'], fitness2['log_fitness']]), 3),\n",
    "         round(mean([prec, prec2]), 3),\n",
    "         round(mean([gen, gen2]), 3)]\n",
    "\n",
    "results_df.loc[len(results_df)] = res_l"
   ]
  },
  {
   "cell_type": "code",
   "execution_count": null,
   "id": "24c1e020-2eda-4908-8caa-309da7d1a3ff",
   "metadata": {},
   "outputs": [],
   "source": [
    "results_df"
   ]
  },
  {
   "cell_type": "code",
   "execution_count": null,
   "id": "21de0db6-4acf-49d8-8833-fc168a4caa93",
   "metadata": {},
   "outputs": [],
   "source": [
    "net, initial_marking, final_marking = pm4.discover_petri_net_inductive(el_f, noise_threshold=0.3, multi_processing=True)\n",
    "pm4.view_petri_net(net, initial_marking, final_marking)\n",
    "fitness = pm4.fitness_token_based_replay(el_f, net, initial_marking, final_marking)\n",
    "prec = pm4.precision_token_based_replay(el_f, net, initial_marking, final_marking)\n",
    "gen = generalization_evaluator.apply(el_f, net, initial_marking, final_marking)"
   ]
  },
  {
   "cell_type": "code",
   "execution_count": null,
   "id": "ba6f0b1c-b15f-4374-9012-edc3848b2f14",
   "metadata": {},
   "outputs": [],
   "source": [
    "net2, initial_marking2, final_marking2 = pm4.discover_petri_net_inductive(el_s, noise_threshold=0.3, multi_processing=True)\n",
    "pm4.view_petri_net(net2, initial_marking2, final_marking2)\n",
    "fitness2 = pm4.fitness_token_based_replay(el_s, net2, initial_marking2, final_marking2)\n",
    "prec2 = pm4.precision_token_based_replay(el_s, net2, initial_marking2, final_marking2)\n",
    "gen2 = generalization_evaluator.apply(el_s, net2, initial_marking2, final_marking2)"
   ]
  },
  {
   "cell_type": "code",
   "execution_count": null,
   "id": "bbd09fc8-4231-4cdf-ba04-375690ba79a5",
   "metadata": {},
   "outputs": [],
   "source": [
    "res_l = ['Inductive_Miner_AL', round(fitness['log_fitness'], 3), round(prec, 3), round(gen, 3),\n",
    "         round(fitness2['log_fitness'], 3), round(prec2, 3), round(gen2, 3),\n",
    "         round(mean([fitness['log_fitness'], fitness2['log_fitness']]), 3),\n",
    "         round(mean([prec, prec2]), 3),\n",
    "         round(mean([gen, gen2]), 3)]\n",
    "\n",
    "results_df.loc[len(results_df)] = res_l\n",
    "#results_df.drop([1], inplace=True)"
   ]
  },
  {
   "cell_type": "code",
   "execution_count": null,
   "id": "230d47b6-bf03-4694-b23b-5a4a7efad918",
   "metadata": {},
   "outputs": [],
   "source": [
    "results_df"
   ]
  },
  {
   "cell_type": "code",
   "execution_count": null,
   "id": "7f047193-1301-4b71-b71a-a82902c80577",
   "metadata": {},
   "outputs": [],
   "source": [
    "net, initial_marking, final_marking = pm4.discover_petri_net_heuristics(el_f, dependency_threshold=0.7)\n",
    "pm4.view_petri_net(net, initial_marking, final_marking)\n",
    "fitness = pm4.fitness_token_based_replay(el_f, net, initial_marking, final_marking)\n",
    "prec = pm4.precision_token_based_replay(el_f, net, initial_marking, final_marking)\n",
    "gen = generalization_evaluator.apply(el_f, net, initial_marking, final_marking)"
   ]
  },
  {
   "cell_type": "code",
   "execution_count": null,
   "id": "63c4cbf3-2820-4420-988a-9fef81078546",
   "metadata": {},
   "outputs": [],
   "source": [
    "net2, initial_marking2, final_marking2 = pm4.discover_petri_net_heuristics(el_s, dependency_threshold=0.7)\n",
    "pm4.view_petri_net(net2, initial_marking2, final_marking2)\n",
    "fitness2 = pm4.fitness_token_based_replay(el_s, net2, initial_marking2, final_marking2)\n",
    "prec2 = pm4.precision_token_based_replay(el_s, net2, initial_marking2, final_marking2)\n",
    "gen2 = generalization_evaluator.apply(el_s, net2, initial_marking2, final_marking2)"
   ]
  },
  {
   "cell_type": "code",
   "execution_count": null,
   "id": "a38ff25f-3061-4bc5-a479-d53be2caa505",
   "metadata": {},
   "outputs": [],
   "source": [
    "res_l = ['Heuristics_Miner_AL', round(fitness['log_fitness'], 3), round(prec, 3), round(gen, 3),\n",
    "         round(fitness2['log_fitness'], 3), round(prec2, 3), round(gen2, 3),\n",
    "         round(mean([fitness['log_fitness'], fitness2['log_fitness']]), 3),\n",
    "         round(mean([prec, prec2]), 3),\n",
    "         round(mean([gen, gen2]), 3)]\n",
    "\n",
    "results_df.loc[len(results_df)] = res_l\n",
    "#results_df.drop([2], inplace=True)"
   ]
  },
  {
   "cell_type": "code",
   "execution_count": null,
   "id": "94f42d3b-80a0-4d77-a2e7-7fcefe6bce90",
   "metadata": {},
   "outputs": [],
   "source": [
    "results_df"
   ]
  },
  {
   "cell_type": "markdown",
   "id": "c2233cba-92f1-4238-bf63-b7f7a86f0326",
   "metadata": {},
   "source": [
    "#### Fuzzy Mined Petri Nets"
   ]
  },
  {
   "cell_type": "code",
   "execution_count": null,
   "id": "e0528a0c-0ebd-4d22-b8ec-2b59059ccde3",
   "metadata": {},
   "outputs": [],
   "source": [
    "pn_p_1, im_p_1, fm_p_1 = pm4.read_pnml('process_mining/wv1_p_pn.pnml')\n",
    "pn_p_2, im_p_2, fm_p_2 = pm4.read_pnml('process_mining/wv2_p_pn.pnml')\n",
    "pn_a_1, im_a_1, fm_a_1 = pm4.read_pnml('process_mining/wv1_a_pn.pnml')\n",
    "pn_a_2, im_a_2, fm_a_2 = pm4.read_pnml('process_mining/wv2_a_pn.pnml')"
   ]
  },
  {
   "cell_type": "code",
   "execution_count": null,
   "id": "4611b148-947d-485f-8fd9-5a8a2a21f38f",
   "metadata": {},
   "outputs": [],
   "source": [
    "pm4.view_petri_net(pn_p_1, im_p_1, fm_p_1)"
   ]
  },
  {
   "cell_type": "code",
   "execution_count": null,
   "id": "a974efbe-bc50-48a8-ba7f-87c48a3c0308",
   "metadata": {},
   "outputs": [],
   "source": [
    "pm4.view_petri_net(pn_p_2, im_p_2, fm_p_2)"
   ]
  },
  {
   "cell_type": "code",
   "execution_count": null,
   "id": "5bc9d73c-e6fe-4622-bc51-ec1fec017739",
   "metadata": {},
   "outputs": [],
   "source": [
    "pm4.view_petri_net(pn_a_1, im_a_1, fm_a_1)"
   ]
  },
  {
   "cell_type": "code",
   "execution_count": null,
   "id": "db0072fb-474c-4a18-a89d-9d262a0c0726",
   "metadata": {},
   "outputs": [],
   "source": [
    "pm4.view_petri_net(pn_a_2, im_a_2, fm_a_2)"
   ]
  },
  {
   "cell_type": "code",
   "execution_count": null,
   "id": "82733aad-c821-4c6f-b8b2-69de2985e12d",
   "metadata": {},
   "outputs": [],
   "source": [
    "fitness = pm4.fitness_token_based_replay(el_f, pn_a_1, im_a_1, fm_a_1)\n",
    "prec = pm4.precision_token_based_replay(el_f, pn_a_1, im_a_1, fm_a_1)\n",
    "gen = generalization_evaluator.apply(el_f, pn_a_1, im_a_1, fm_a_1)"
   ]
  },
  {
   "cell_type": "code",
   "execution_count": null,
   "id": "3a38d016-81b6-4eb4-9e7f-f8e146c0b70a",
   "metadata": {},
   "outputs": [],
   "source": [
    "fitness2 = pm4.fitness_token_based_replay(el_s, pn_a_2, im_a_2, fm_a_2)\n",
    "prec2 = pm4.precision_token_based_replay(el_s, pn_a_2, im_a_2, fm_a_2)\n",
    "gen2 = generalization_evaluator.apply(el_s, pn_a_2, im_a_2, fm_a_2)"
   ]
  },
  {
   "cell_type": "code",
   "execution_count": null,
   "id": "d827fdba-75e0-4aad-babc-7c6a09714271",
   "metadata": {},
   "outputs": [],
   "source": [
    "res_l = ['Fuzzy_Miner_AL', round(fitness['log_fitness'], 3), round(prec, 3), round(gen, 3),\n",
    "         round(fitness2['log_fitness'], 3), round(prec2, 3), round(gen2, 3),\n",
    "         round(mean([fitness['log_fitness'], fitness2['log_fitness']]), 3),\n",
    "         round(mean([prec, prec2]), 3),\n",
    "         round(mean([gen, gen2]), 3)]\n",
    "\n",
    "results_df.loc[len(results_df)] = res_l"
   ]
  },
  {
   "cell_type": "code",
   "execution_count": null,
   "id": "dfb54537-ac3e-440f-b191-af6c800c53f9",
   "metadata": {},
   "outputs": [],
   "source": [
    "results_df"
   ]
  },
  {
   "cell_type": "code",
   "execution_count": null,
   "id": "afae5fc0-3b6d-4812-b562-26f7a7a25fbc",
   "metadata": {},
   "outputs": [],
   "source": [
    "elog_data_fp = elog_data_first.rename(columns={\"pid\": \"case:concept:name\", \"provider_event\": \"concept:name\",\n",
    "                                            \"start\": \"time:timestamp\"})\n",
    "elog_data_fp = pm4.format_dataframe(elog_data_fp, case_id='case:concept:name', activity_key='concept:name', timestamp_key='time:timestamp',\n",
    "                                   timest_format='%Y-%m-%d %H:%M:%S')\n",
    "el_f = pm4.convert_to_event_log(elog_data_fp)\n",
    "\n",
    "elog_data_sp = elog_data_second.rename(columns={\"pid\": \"case:concept:name\", \"provider_event\": \"concept:name\",\n",
    "                                            \"start\": \"time:timestamp\"})\n",
    "elog_data_sp = pm4.format_dataframe(elog_data_sp, case_id='case:concept:name', activity_key='concept:name', timestamp_key='time:timestamp',\n",
    "                                   timest_format='%Y-%m-%d %H:%M:%S')\n",
    "el_s = pm4.convert_to_event_log(elog_data_sp)"
   ]
  },
  {
   "cell_type": "code",
   "execution_count": null,
   "id": "efdb089a-3670-4c97-8135-1c783ff50028",
   "metadata": {},
   "outputs": [],
   "source": [
    "fitness = pm4.fitness_token_based_replay(el_f, pn_p_1, im_p_1, fm_p_1)\n",
    "prec = pm4.precision_token_based_replay(el_f, pn_p_1, im_p_1, fm_p_1)\n",
    "gen = generalization_evaluator.apply(el_f, pn_p_1, im_p_1, fm_p_1)"
   ]
  },
  {
   "cell_type": "code",
   "execution_count": null,
   "id": "80476721-5aee-40cf-8e2f-16277580bf53",
   "metadata": {},
   "outputs": [],
   "source": [
    "fitness2 = pm4.fitness_token_based_replay(el_s, pn_p_2, im_p_2, fm_p_2)\n",
    "prec2 = pm4.precision_token_based_replay(el_s, pn_p_2, im_p_2, fm_p_2)\n",
    "gen2 = generalization_evaluator.apply(el_s, pn_p_2, im_p_2, fm_p_2)"
   ]
  },
  {
   "cell_type": "code",
   "execution_count": null,
   "id": "f09f7bf8-333e-46ca-afe7-e33172dfe8e6",
   "metadata": {},
   "outputs": [],
   "source": [
    "res_l = ['Fuzzy_Miner_PL', round(fitness['log_fitness'], 3), round(prec, 3), round(gen, 3),\n",
    "         round(fitness2['log_fitness'], 3), round(prec2, 3), round(gen2, 3),\n",
    "         round(mean([fitness['log_fitness'], fitness2['log_fitness']]), 3),\n",
    "         round(mean([prec, prec2]), 3),\n",
    "         round(mean([gen, gen2]), 3)]\n",
    "\n",
    "results_df.loc[len(results_df)] = res_l"
   ]
  },
  {
   "cell_type": "code",
   "execution_count": null,
   "id": "0a295079-4cec-4751-bac0-147e29fdef31",
   "metadata": {},
   "outputs": [],
   "source": [
    "results_df"
   ]
  },
  {
   "cell_type": "code",
   "execution_count": null,
   "id": "fc9e9043-f0fe-473a-81d7-980ec1930872",
   "metadata": {},
   "outputs": [],
   "source": [
    "results_df.to_csv('process_mining/cc_results.csv', index=False)"
   ]
  },
  {
   "cell_type": "markdown",
   "id": "19ee4856-66ca-4759-803b-097181a678ef",
   "metadata": {},
   "source": [
    "#### Add some more thresholds"
   ]
  },
  {
   "cell_type": "code",
   "execution_count": null,
   "id": "224d40e4-d33a-4888-84d7-7bfa99a36b60",
   "metadata": {},
   "outputs": [],
   "source": [
    "results_df = pd.read_csv('process_mining/cc_results.csv')"
   ]
  },
  {
   "cell_type": "code",
   "execution_count": null,
   "id": "8aaa2eae-e8b7-444c-bef1-c5b634ab5aaf",
   "metadata": {},
   "outputs": [],
   "source": [
    "results_df.model_name = results_df.model_name.replace('Fuzzy_Miner_AL_30', 'IDFG_Miner_AL_30')\n",
    "results_df.model_name = results_df.model_name.replace('Fuzzy_Miner_PL_30', 'IDFG_Miner_PL_30')\n",
    "results_df.model_name = results_df.model_name.replace('Inductive_Miner_PL_70', 'Inductive_Miner_PL_30')\n",
    "results_df.model_name = results_df.model_name.replace('Inductive_Miner_AL_70', 'Inductive_Miner_AL_30')\n",
    "results_df.model_name = results_df.model_name.replace('Heuristics_Miner_PL_70', 'Heuristics_Miner_PL_70')\n",
    "results_df.model_name = results_df.model_name.replace('Heuristics_Miner_AL_70', 'Heuristics_Miner_AL_70')"
   ]
  },
  {
   "cell_type": "code",
   "execution_count": null,
   "id": "fbf41618-aa16-49ec-95cb-07b0a1c67a9e",
   "metadata": {},
   "outputs": [],
   "source": [
    "results_df"
   ]
  },
  {
   "cell_type": "code",
   "execution_count": null,
   "id": "0ba7f22d-f824-4d48-b0a4-42821476501d",
   "metadata": {},
   "outputs": [],
   "source": [
    "pn_p_1, im_p_1, fm_p_1 = pm4.read_pnml('process_mining/ProM/wv1_p_pn_70.pnml')\n",
    "pn_p_2, im_p_2, fm_p_2 = pm4.read_pnml('process_mining/ProM/wv2_p_pn_70.pnml')\n",
    "pn_a_1, im_a_1, fm_a_1 = pm4.read_pnml('process_mining/ProM/wv1_a_pn_70.pnml')\n",
    "pn_a_2, im_a_2, fm_a_2 = pm4.read_pnml('process_mining/ProM/wv2_a_pn_70.pnml')"
   ]
  },
  {
   "cell_type": "code",
   "execution_count": null,
   "id": "b8ac0bbf-83be-4fbf-89e0-0cfd24caacdc",
   "metadata": {},
   "outputs": [],
   "source": [
    "elog_data_fp = elog_data_first.rename(columns={\"pid\": \"case:concept:name\", \"provider_event\": \"concept:name\",\n",
    "                                            \"start\": \"time:timestamp\"})\n",
    "elog_data_fp = pm4.format_dataframe(elog_data_fp, case_id='case:concept:name', activity_key='concept:name', timestamp_key='time:timestamp',\n",
    "                                   timest_format='%Y-%m-%d %H:%M:%S')\n",
    "el_f = pm4.convert_to_event_log(elog_data_fp)\n",
    "\n",
    "elog_data_sp = elog_data_second.rename(columns={\"pid\": \"case:concept:name\", \"provider_event\": \"concept:name\",\n",
    "                                            \"start\": \"time:timestamp\"})\n",
    "elog_data_sp = pm4.format_dataframe(elog_data_sp, case_id='case:concept:name', activity_key='concept:name', timestamp_key='time:timestamp',\n",
    "                                   timest_format='%Y-%m-%d %H:%M:%S')\n",
    "el_s = pm4.convert_to_event_log(elog_data_sp)"
   ]
  },
  {
   "cell_type": "code",
   "execution_count": null,
   "id": "cd8579e2-e4e4-4815-a55f-113f26fb7f3e",
   "metadata": {},
   "outputs": [],
   "source": [
    "fitness = pm4.fitness_token_based_replay(el_f, pn_p_1, im_p_1, fm_p_1)\n",
    "prec = pm4.precision_token_based_replay(el_f, pn_p_1, im_p_1, fm_p_1)\n",
    "gen = generalization_evaluator.apply(el_f, pn_p_1, im_p_1, fm_p_1)"
   ]
  },
  {
   "cell_type": "code",
   "execution_count": null,
   "id": "595b603a-5354-4f6f-bb68-0b959b945de3",
   "metadata": {},
   "outputs": [],
   "source": [
    "fitness2 = pm4.fitness_token_based_replay(el_s, pn_p_2, im_p_2, fm_p_2)\n",
    "prec2 = pm4.precision_token_based_replay(el_s, pn_p_2, im_p_2, fm_p_2)\n",
    "gen2 = generalization_evaluator.apply(el_s, pn_p_2, im_p_2, fm_p_2)"
   ]
  },
  {
   "cell_type": "code",
   "execution_count": null,
   "id": "f315f63a-f499-4bfc-bfec-d668aa110f6b",
   "metadata": {},
   "outputs": [],
   "source": [
    "res_l = ['IDFG_Miner_PL_30', round(fitness['log_fitness'], 3), round(prec, 3), round(gen, 3),\n",
    "         round(fitness2['log_fitness'], 3), round(prec2, 3), round(gen2, 3),\n",
    "         round(mean([fitness['log_fitness'], fitness2['log_fitness']]), 3),\n",
    "         round(mean([prec, prec2]), 3),\n",
    "         round(mean([gen, gen2]), 3)]\n",
    "\n",
    "results_df.loc[7] = res_l"
   ]
  },
  {
   "cell_type": "code",
   "execution_count": null,
   "id": "1e124b74-a217-4536-a599-ff8490875785",
   "metadata": {},
   "outputs": [],
   "source": [
    "results_df"
   ]
  },
  {
   "cell_type": "code",
   "execution_count": null,
   "id": "3436379c-1198-4e31-a4c9-507467a8c6b2",
   "metadata": {},
   "outputs": [],
   "source": [
    "elog_data_fp = elog_data_first.rename(columns={\"pid\": \"case:concept:name\", \"act_code\": \"concept:name\",\n",
    "                                            \"start\": \"time:timestamp\"})\n",
    "elog_data_fp = pm4.format_dataframe(elog_data_fp, case_id='case:concept:name', activity_key='concept:name', timestamp_key='time:timestamp',\n",
    "                                   timest_format='%Y-%m-%d %H:%M:%S')\n",
    "el_f = pm4.convert_to_event_log(elog_data_fp)\n",
    "\n",
    "elog_data_sp = elog_data_second.rename(columns={\"pid\": \"case:concept:name\", \"act_code\": \"concept:name\",\n",
    "                                            \"start\": \"time:timestamp\"})\n",
    "elog_data_sp = pm4.format_dataframe(elog_data_sp, case_id='case:concept:name', activity_key='concept:name', timestamp_key='time:timestamp',\n",
    "                                   timest_format='%Y-%m-%d %H:%M:%S')\n",
    "el_s = pm4.convert_to_event_log(elog_data_sp)"
   ]
  },
  {
   "cell_type": "code",
   "execution_count": null,
   "id": "402d6dca-c096-48a6-a2a9-9d8e91dd6a64",
   "metadata": {},
   "outputs": [],
   "source": [
    "fitness = pm4.fitness_token_based_replay(el_f, pn_a_1, im_a_1, fm_a_1)\n",
    "prec = pm4.precision_token_based_replay(el_f, pn_a_1, im_a_1, fm_a_1)\n",
    "gen = generalization_evaluator.apply(el_f, pn_a_1, im_a_1, fm_a_1)"
   ]
  },
  {
   "cell_type": "code",
   "execution_count": null,
   "id": "a4e2b821-24ce-4517-807b-3b31f6c903da",
   "metadata": {},
   "outputs": [],
   "source": [
    "fitness2 = pm4.fitness_token_based_replay(el_s, pn_a_2, im_a_2, fm_a_2)\n",
    "prec2 = pm4.precision_token_based_replay(el_s, pn_a_2, im_a_2, fm_a_2)\n",
    "gen2 = generalization_evaluator.apply(el_s, pn_a_2, im_a_2, fm_a_2)"
   ]
  },
  {
   "cell_type": "code",
   "execution_count": null,
   "id": "0dc232fe-7383-4492-b820-1ee8432dba74",
   "metadata": {},
   "outputs": [],
   "source": [
    "res_l = ['IDFG_Miner_AL_30', round(fitness['log_fitness'], 3), round(prec, 3), round(gen, 3),\n",
    "         round(fitness2['log_fitness'], 3), round(prec2, 3), round(gen2, 3),\n",
    "         round(mean([fitness['log_fitness'], fitness2['log_fitness']]), 3),\n",
    "         round(mean([prec, prec2]), 3),\n",
    "         round(mean([gen, gen2]), 3)]\n",
    "\n",
    "results_df.loc[6] = res_l"
   ]
  },
  {
   "cell_type": "code",
   "execution_count": null,
   "id": "cbb78920-77b1-43ca-a942-040b4c6fa31c",
   "metadata": {},
   "outputs": [],
   "source": [
    "results_df"
   ]
  },
  {
   "cell_type": "code",
   "execution_count": null,
   "id": "cd8176ec-2aa0-4deb-aedc-947f04ae7dc3",
   "metadata": {},
   "outputs": [],
   "source": [
    "pn_p_1, im_p_1, fm_p_1 = pm4.read_pnml('process_mining/ProM/wv1_p_pn_99.pnml')\n",
    "pn_p_2, im_p_2, fm_p_2 = pm4.read_pnml('process_mining/ProM/wv2_p_pn_99.pnml')\n",
    "pn_a_1, im_a_1, fm_a_1 = pm4.read_pnml('process_mining/ProM/wv1_a_pn_99.pnml')\n",
    "pn_a_2, im_a_2, fm_a_2 = pm4.read_pnml('process_mining/ProM/wv2_a_pn_99.pnml')"
   ]
  },
  {
   "cell_type": "code",
   "execution_count": null,
   "id": "0ab37567-80d2-487e-be24-031f0997da13",
   "metadata": {},
   "outputs": [],
   "source": [
    "fitness = pm4.fitness_token_based_replay(el_f, pn_a_1, im_a_1, fm_a_1)\n",
    "prec = pm4.precision_token_based_replay(el_f, pn_a_1, im_a_1, fm_a_1)\n",
    "gen = generalization_evaluator.apply(el_f, pn_a_1, im_a_1, fm_a_1)"
   ]
  },
  {
   "cell_type": "code",
   "execution_count": null,
   "id": "3cef4b01-c652-463b-b110-67cb4dd7e016",
   "metadata": {},
   "outputs": [],
   "source": [
    "fitness2 = pm4.fitness_token_based_replay(el_s, pn_a_2, im_a_2, fm_a_2)\n",
    "prec2 = pm4.precision_token_based_replay(el_s, pn_a_2, im_a_2, fm_a_2)\n",
    "gen2 = generalization_evaluator.apply(el_s, pn_a_2, im_a_2, fm_a_2)"
   ]
  },
  {
   "cell_type": "code",
   "execution_count": null,
   "id": "a95ffd1a-ed8f-4dea-a7f9-ea941b51c0e0",
   "metadata": {},
   "outputs": [],
   "source": [
    "res_l = ['IDFG_Miner_AL_1', round(fitness['log_fitness'], 3), round(prec, 3), round(gen, 3),\n",
    "         round(fitness2['log_fitness'], 3), round(prec2, 3), round(gen2, 3),\n",
    "         round(mean([fitness['log_fitness'], fitness2['log_fitness']]), 3),\n",
    "         round(mean([prec, prec2]), 3),\n",
    "         round(mean([gen, gen2]), 3)]\n",
    "\n",
    "results_df.loc[len(results_df)] = res_l"
   ]
  },
  {
   "cell_type": "code",
   "execution_count": null,
   "id": "82f909fd-245b-4a8e-a0d2-679551ef7b2b",
   "metadata": {},
   "outputs": [],
   "source": [
    "results_df"
   ]
  },
  {
   "cell_type": "code",
   "execution_count": null,
   "id": "c095544a-2de8-4c5a-8c0a-9006805e18fc",
   "metadata": {},
   "outputs": [],
   "source": [
    "elog_data_fp = elog_data_first.rename(columns={\"pid\": \"case:concept:name\", \"provider_event\": \"concept:name\",\n",
    "                                            \"start\": \"time:timestamp\"})\n",
    "elog_data_fp = pm4.format_dataframe(elog_data_fp, case_id='case:concept:name', activity_key='concept:name', timestamp_key='time:timestamp',\n",
    "                                   timest_format='%Y-%m-%d %H:%M:%S')\n",
    "el_f = pm4.convert_to_event_log(elog_data_fp)\n",
    "\n",
    "elog_data_sp = elog_data_second.rename(columns={\"pid\": \"case:concept:name\", \"provider_event\": \"concept:name\",\n",
    "                                            \"start\": \"time:timestamp\"})\n",
    "elog_data_sp = pm4.format_dataframe(elog_data_sp, case_id='case:concept:name', activity_key='concept:name', timestamp_key='time:timestamp',\n",
    "                                   timest_format='%Y-%m-%d %H:%M:%S')\n",
    "el_s = pm4.convert_to_event_log(elog_data_sp)"
   ]
  },
  {
   "cell_type": "code",
   "execution_count": null,
   "id": "dca49e18-6b74-4c6c-a62a-f62cbe89a147",
   "metadata": {},
   "outputs": [],
   "source": [
    "fitness = pm4.fitness_token_based_replay(el_f, pn_p_1, im_p_1, fm_p_1)\n",
    "prec = pm4.precision_token_based_replay(el_f, pn_p_1, im_p_1, fm_p_1)\n",
    "gen = generalization_evaluator.apply(el_f, pn_p_1, im_p_1, fm_p_1)"
   ]
  },
  {
   "cell_type": "code",
   "execution_count": null,
   "id": "1b760f23-50c9-4dcd-9668-55c25a19f744",
   "metadata": {},
   "outputs": [],
   "source": [
    "fitness2 = pm4.fitness_token_based_replay(el_s, pn_p_2, im_p_2, fm_p_2)\n",
    "prec2 = pm4.precision_token_based_replay(el_s, pn_p_2, im_p_2, fm_p_2)\n",
    "gen2 = generalization_evaluator.apply(el_s, pn_p_2, im_p_2, fm_p_2)"
   ]
  },
  {
   "cell_type": "code",
   "execution_count": null,
   "id": "26e82519-eda1-407a-b153-ffd9ecd358d5",
   "metadata": {},
   "outputs": [],
   "source": [
    "res_l = ['IDFG_Miner_PL_1', round(fitness['log_fitness'], 3), round(prec, 3), round(gen, 3),\n",
    "         round(fitness2['log_fitness'], 3), round(prec2, 3), round(gen2, 3),\n",
    "         round(mean([fitness['log_fitness'], fitness2['log_fitness']]), 3),\n",
    "         round(mean([prec, prec2]), 3),\n",
    "         round(mean([gen, gen2]), 3)]\n",
    "\n",
    "results_df.loc[len(results_df)] = res_l"
   ]
  },
  {
   "cell_type": "code",
   "execution_count": null,
   "id": "58643996-e259-43c2-aa53-4a42ce6c50da",
   "metadata": {},
   "outputs": [],
   "source": [
    "results_df"
   ]
  },
  {
   "cell_type": "code",
   "execution_count": null,
   "id": "13afa598-ef08-4e9d-8474-fcd17e65c312",
   "metadata": {},
   "outputs": [],
   "source": [
    "net, initial_marking, final_marking = pm4.discover_petri_net_inductive(el_f, noise_threshold=0.01, multi_processing=True)\n",
    "pm4.view_petri_net(net, initial_marking, final_marking)\n",
    "fitness = pm4.fitness_token_based_replay(el_f, net, initial_marking, final_marking)\n",
    "prec = pm4.precision_token_based_replay(el_f, net, initial_marking, final_marking)\n",
    "gen = generalization_evaluator.apply(el_f, net, initial_marking, final_marking)"
   ]
  },
  {
   "cell_type": "code",
   "execution_count": null,
   "id": "72afee0b-24b2-4f98-8fb9-acadac60bb11",
   "metadata": {},
   "outputs": [],
   "source": [
    "net2, initial_marking2, final_marking2 = pm4.discover_petri_net_inductive(el_s, noise_threshold=0.01, multi_processing=True)\n",
    "pm4.view_petri_net(net2, initial_marking2, final_marking2)\n",
    "fitness2 = pm4.fitness_token_based_replay(el_s, net2, initial_marking2, final_marking2)\n",
    "prec2 = pm4.precision_token_based_replay(el_s, net2, initial_marking2, final_marking2)\n",
    "gen2 = generalization_evaluator.apply(el_s, net2, initial_marking2, final_marking2)"
   ]
  },
  {
   "cell_type": "code",
   "execution_count": null,
   "id": "1f203f69-0643-4402-8d57-f9efbb3a4741",
   "metadata": {},
   "outputs": [],
   "source": [
    "res_l = ['Inductive_Miner_PL_1', round(fitness['log_fitness'], 3), round(prec, 3), round(gen, 3),\n",
    "         round(fitness2['log_fitness'], 3), round(prec2, 3), round(gen2, 3),\n",
    "         round(mean([fitness['log_fitness'], fitness2['log_fitness']]), 3),\n",
    "         round(mean([prec, prec2]), 3),\n",
    "         round(mean([gen, gen2]), 3)]\n",
    "\n",
    "results_df.loc[len(results_df)] = res_l"
   ]
  },
  {
   "cell_type": "code",
   "execution_count": null,
   "id": "26734168-1719-4703-b7ef-2955075e7609",
   "metadata": {},
   "outputs": [],
   "source": [
    "net, initial_marking, final_marking = pm4.discover_petri_net_heuristics(el_f, dependency_threshold=0.99)\n",
    "pm4.view_petri_net(net, initial_marking, final_marking)\n",
    "fitness = pm4.fitness_token_based_replay(el_f, net, initial_marking, final_marking)\n",
    "prec = pm4.precision_token_based_replay(el_f, net, initial_marking, final_marking)\n",
    "gen = generalization_evaluator.apply(el_f, net, initial_marking, final_marking)"
   ]
  },
  {
   "cell_type": "code",
   "execution_count": null,
   "id": "afc212cb-7dce-4f44-8360-5080c3b98678",
   "metadata": {},
   "outputs": [],
   "source": [
    "net2, initial_marking2, final_marking2 = pm4.discover_petri_net_heuristics(el_s, dependency_threshold=0.99)\n",
    "pm4.view_petri_net(net2, initial_marking2, final_marking2)\n",
    "fitness2 = pm4.fitness_token_based_replay(el_s, net2, initial_marking2, final_marking2)\n",
    "prec2 = pm4.precision_token_based_replay(el_s, net2, initial_marking2, final_marking2)\n",
    "gen2 = generalization_evaluator.apply(el_s, net2, initial_marking2, final_marking2)"
   ]
  },
  {
   "cell_type": "code",
   "execution_count": null,
   "id": "1945cf94-665e-45d0-b96b-1a91f0e9f654",
   "metadata": {},
   "outputs": [],
   "source": [
    "res_l = ['Heuristics_Miner_PL_1', round(fitness['log_fitness'], 3), round(prec, 3), round(gen, 3),\n",
    "         round(fitness2['log_fitness'], 3), round(prec2, 3), round(gen2, 3),\n",
    "         round(mean([fitness['log_fitness'], fitness2['log_fitness']]), 3),\n",
    "         round(mean([prec, prec2]), 3),\n",
    "         round(mean([gen, gen2]), 3)]\n",
    "\n",
    "results_df.loc[len(results_df)] = res_l"
   ]
  },
  {
   "cell_type": "code",
   "execution_count": null,
   "id": "279ec923-1c5c-462f-a5b6-05f6e22d3660",
   "metadata": {},
   "outputs": [],
   "source": [
    "elog_data_fp = elog_data_first.rename(columns={\"pid\": \"case:concept:name\", \"provider_event\": \"concept:name\",\n",
    "                                            \"start\": \"time:timestamp\"})\n",
    "elog_data_fp = pm4.format_dataframe(elog_data_fp, case_id='case:concept:name', activity_key='concept:name', timestamp_key='time:timestamp',\n",
    "                                   timest_format='%Y-%m-%d %H:%M:%S')\n",
    "el_f = pm4.convert_to_event_log(elog_data_fp)\n",
    "\n",
    "elog_data_sp = elog_data_second.rename(columns={\"pid\": \"case:concept:name\", \"provider_event\": \"concept:name\",\n",
    "                                            \"start\": \"time:timestamp\"})\n",
    "elog_data_sp = pm4.format_dataframe(elog_data_sp, case_id='case:concept:name', activity_key='concept:name', timestamp_key='time:timestamp',\n",
    "                                   timest_format='%Y-%m-%d %H:%M:%S')\n",
    "el_s = pm4.convert_to_event_log(elog_data_sp)"
   ]
  },
  {
   "cell_type": "code",
   "execution_count": null,
   "id": "078fdb91-bff5-4cc2-882c-f874a92145a2",
   "metadata": {},
   "outputs": [],
   "source": [
    "net, initial_marking, final_marking = pm4.discover_petri_net_inductive(el_f, noise_threshold=0.01, multi_processing=True)\n",
    "pm4.view_petri_net(net, initial_marking, final_marking)\n",
    "fitness = pm4.fitness_token_based_replay(el_f, net, initial_marking, final_marking)\n",
    "prec = pm4.precision_token_based_replay(el_f, net, initial_marking, final_marking)\n",
    "gen = generalization_evaluator.apply(el_f, net, initial_marking, final_marking)"
   ]
  },
  {
   "cell_type": "code",
   "execution_count": null,
   "id": "34e95471-edad-4bde-acac-dda57026ce34",
   "metadata": {},
   "outputs": [],
   "source": [
    "net2, initial_marking2, final_marking2 = pm4.discover_petri_net_inductive(el_s, noise_threshold=0.01, multi_processing=True)\n",
    "pm4.view_petri_net(net2, initial_marking2, final_marking2)\n",
    "fitness2 = pm4.fitness_token_based_replay(el_s, net2, initial_marking2, final_marking2)\n",
    "prec2 = pm4.precision_token_based_replay(el_s, net2, initial_marking2, final_marking2)\n",
    "gen2 = generalization_evaluator.apply(el_s, net2, initial_marking2, final_marking2)"
   ]
  },
  {
   "cell_type": "code",
   "execution_count": null,
   "id": "bd48cf55-b9c0-4a0a-ac6d-a4cd6e21070e",
   "metadata": {},
   "outputs": [],
   "source": [
    "res_l = ['Inductive_Miner_PL_1', round(fitness['log_fitness'], 3), round(prec, 3), round(gen, 3),\n",
    "         round(fitness2['log_fitness'], 3), round(prec2, 3), round(gen2, 3),\n",
    "         round(mean([fitness['log_fitness'], fitness2['log_fitness']]), 3),\n",
    "         round(mean([prec, prec2]), 3),\n",
    "         round(mean([gen, gen2]), 3)]\n",
    "\n",
    "results_df.loc[len(results_df)] = res_l"
   ]
  },
  {
   "cell_type": "code",
   "execution_count": null,
   "id": "fb5cddce-4b73-4dc6-aaeb-6b026e27b9b3",
   "metadata": {},
   "outputs": [],
   "source": [
    "elog_data_fp = elog_data_first.rename(columns={\"pid\": \"case:concept:name\", \"act_code\": \"concept:name\",\n",
    "                                            \"start\": \"time:timestamp\"})\n",
    "elog_data_fp = pm4.format_dataframe(elog_data_fp, case_id='case:concept:name', activity_key='concept:name', timestamp_key='time:timestamp',\n",
    "                                   timest_format='%Y-%m-%d %H:%M:%S')\n",
    "el_f = pm4.convert_to_event_log(elog_data_fp)\n",
    "\n",
    "elog_data_sp = elog_data_second.rename(columns={\"pid\": \"case:concept:name\", \"act_code\": \"concept:name\",\n",
    "                                            \"start\": \"time:timestamp\"})\n",
    "elog_data_sp = pm4.format_dataframe(elog_data_sp, case_id='case:concept:name', activity_key='concept:name', timestamp_key='time:timestamp',\n",
    "                                   timest_format='%Y-%m-%d %H:%M:%S')\n",
    "el_s = pm4.convert_to_event_log(elog_data_sp)"
   ]
  },
  {
   "cell_type": "code",
   "execution_count": null,
   "id": "8de30a66-e5d9-4a08-90c0-b1949e728d73",
   "metadata": {},
   "outputs": [],
   "source": [
    "net, initial_marking, final_marking = pm4.discover_petri_net_inductive(el_f, noise_threshold=0.01, multi_processing=True)\n",
    "pm4.view_petri_net(net, initial_marking, final_marking)\n",
    "fitness = pm4.fitness_token_based_replay(el_f, net, initial_marking, final_marking)\n",
    "prec = pm4.precision_token_based_replay(el_f, net, initial_marking, final_marking)\n",
    "gen = generalization_evaluator.apply(el_f, net, initial_marking, final_marking)"
   ]
  },
  {
   "cell_type": "code",
   "execution_count": null,
   "id": "3dc1bb63-74f0-497c-a457-375c9aef5fc6",
   "metadata": {},
   "outputs": [],
   "source": [
    "net2, initial_marking2, final_marking2 = pm4.discover_petri_net_inductive(el_s, noise_threshold=0.01, multi_processing=True)\n",
    "pm4.view_petri_net(net2, initial_marking2, final_marking2)\n",
    "fitness2 = pm4.fitness_token_based_replay(el_s, net2, initial_marking2, final_marking2)\n",
    "prec2 = pm4.precision_token_based_replay(el_s, net2, initial_marking2, final_marking2)\n",
    "gen2 = generalization_evaluator.apply(el_s, net2, initial_marking2, final_marking2)"
   ]
  },
  {
   "cell_type": "code",
   "execution_count": null,
   "id": "3d57209e-6b4d-4e85-8253-884319eb9424",
   "metadata": {},
   "outputs": [],
   "source": [
    "res_l = ['Inductive_Miner_AL_1', round(fitness['log_fitness'], 3), round(prec, 3), round(gen, 3),\n",
    "         round(fitness2['log_fitness'], 3), round(prec2, 3), round(gen2, 3),\n",
    "         round(mean([fitness['log_fitness'], fitness2['log_fitness']]), 3),\n",
    "         round(mean([prec, prec2]), 3),\n",
    "         round(mean([gen, gen2]), 3)]\n",
    "\n",
    "results_df.loc[len(results_df)] = res_l"
   ]
  },
  {
   "cell_type": "code",
   "execution_count": null,
   "id": "3218dbaa-4f81-48a2-be25-d2c67715008a",
   "metadata": {},
   "outputs": [],
   "source": [
    "net, initial_marking, final_marking = pm4.discover_petri_net_heuristics(el_f, dependency_threshold=0.99)\n",
    "pm4.view_petri_net(net, initial_marking, final_marking)\n",
    "fitness = pm4.fitness_token_based_replay(el_f, net, initial_marking, final_marking)\n",
    "prec = pm4.precision_token_based_replay(el_f, net, initial_marking, final_marking)\n",
    "gen = generalization_evaluator.apply(el_f, net, initial_marking, final_marking)"
   ]
  },
  {
   "cell_type": "code",
   "execution_count": null,
   "id": "4fd37a16-e49c-4b4b-b83c-e491db77e7ee",
   "metadata": {},
   "outputs": [],
   "source": [
    "net2, initial_marking2, final_marking2 = pm4.discover_petri_net_heuristics(el_s, dependency_threshold=0.99)\n",
    "pm4.view_petri_net(net2, initial_marking2, final_marking2)\n",
    "fitness2 = pm4.fitness_token_based_replay(el_s, net2, initial_marking2, final_marking2)\n",
    "prec2 = pm4.precision_token_based_replay(el_s, net2, initial_marking2, final_marking2)\n",
    "gen2 = generalization_evaluator.apply(el_s, net2, initial_marking2, final_marking2)"
   ]
  },
  {
   "cell_type": "code",
   "execution_count": null,
   "id": "2f4e3129-b127-4bc4-ab57-e2955efcd1d2",
   "metadata": {},
   "outputs": [],
   "source": [
    "res_l = ['Heuristics_Miner_AL_1', round(fitness['log_fitness'], 3), round(prec, 3), round(gen, 3),\n",
    "         round(fitness2['log_fitness'], 3), round(prec2, 3), round(gen2, 3),\n",
    "         round(mean([fitness['log_fitness'], fitness2['log_fitness']]), 3),\n",
    "         round(mean([prec, prec2]), 3),\n",
    "         round(mean([gen, gen2]), 3)]\n",
    "\n",
    "results_df.loc[len(results_df)] = res_l"
   ]
  },
  {
   "cell_type": "code",
   "execution_count": null,
   "id": "ffcddeb2-36d8-46bf-ad2b-63c79e3d7d13",
   "metadata": {},
   "outputs": [],
   "source": [
    "results_df"
   ]
  },
  {
   "cell_type": "code",
   "execution_count": null,
   "id": "2a674cf2-411b-4a0f-b642-6685af426122",
   "metadata": {},
   "outputs": [],
   "source": [
    "results_df.to_csv('process_mining/cc_results_v2.csv', index=False)"
   ]
  }
 ],
 "metadata": {
  "kernelspec": {
   "display_name": "Python 3 (ipykernel)",
   "language": "python",
   "name": "python3"
  },
  "language_info": {
   "codemirror_mode": {
    "name": "ipython",
    "version": 3
   },
   "file_extension": ".py",
   "mimetype": "text/x-python",
   "name": "python",
   "nbconvert_exporter": "python",
   "pygments_lexer": "ipython3",
   "version": "3.9.7"
  }
 },
 "nbformat": 4,
 "nbformat_minor": 5
}
