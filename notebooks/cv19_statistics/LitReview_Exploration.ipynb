{
 "cells": [
  {
   "cell_type": "code",
   "execution_count": null,
   "id": "d50b5e0e-68ef-4e89-9926-eec1d5055575",
   "metadata": {},
   "outputs": [],
   "source": [
    "import pandas as pd\n",
    "import numpy as np\n",
    "import matplotlib.pyplot as plt\n",
    "from matplotlib_venn import venn3, venn3_circles\n",
    "from tqdm import tqdm\n",
    "from tableone import TableOne\n",
    "\n",
    "import plotly.express as px\n",
    "from plotly.subplots import make_subplots\n",
    "import plotly.graph_objects as go\n",
    "from pathlib import Path\n",
    "import scipy.stats as st"
   ]
  },
  {
   "cell_type": "code",
   "execution_count": null,
   "id": "2cecbeb7-8486-4eb0-83c0-1737fd72d8c1",
   "metadata": {},
   "outputs": [],
   "source": [
    "!python --version"
   ]
  },
  {
   "cell_type": "markdown",
   "id": "6112e0b5-d2d3-404f-b53d-2fdefa964aee",
   "metadata": {},
   "source": [
    "#### Load processed literature review data"
   ]
  },
  {
   "cell_type": "code",
   "execution_count": null,
   "id": "2471da56-2566-4367-892e-8cc1d3c77213",
   "metadata": {},
   "outputs": [],
   "source": [
    "cochrane_data = pd.ExcelFile('../data/cochrane_cv19_data_summary.xlsx')\n",
    "cochrane_df = pd.read_excel(cochrane_data, 'COV-19 Rehab Outcomes Summary')\n",
    "cochrane_df.columns = cochrane_df.iloc[2]\n",
    "cochrane_df = cochrane_df.iloc[4:,2:].reset_index(col_level=0).iloc[:, 1:-4]"
   ]
  },
  {
   "cell_type": "code",
   "execution_count": null,
   "id": "6d0b41b1-54ee-484f-beb8-1ffc5545b79c",
   "metadata": {},
   "outputs": [],
   "source": [
    "cochrane_df.columns"
   ]
  },
  {
   "cell_type": "code",
   "execution_count": null,
   "id": "042aeb68-43df-4648-b58e-bcddeeae1784",
   "metadata": {},
   "outputs": [],
   "source": [
    "cochrane_df.head()"
   ]
  },
  {
   "cell_type": "code",
   "execution_count": null,
   "id": "67d72d3e-1be8-468d-bfb0-57fdd62b27be",
   "metadata": {},
   "outputs": [],
   "source": [
    "cochrane_df.shape"
   ]
  },
  {
   "cell_type": "code",
   "execution_count": null,
   "id": "d7c7164b-3156-4cd4-8163-a86cbfcdac88",
   "metadata": {},
   "outputs": [],
   "source": [
    "cochrane_df.columns"
   ]
  },
  {
   "cell_type": "code",
   "execution_count": null,
   "id": "f2734f82-598e-4a47-83db-9e21ebd7bea0",
   "metadata": {},
   "outputs": [],
   "source": [
    "cochrane_df.dtypes"
   ]
  },
  {
   "cell_type": "markdown",
   "id": "0eb84cee-830a-4ec6-a658-964e050a9bb7",
   "metadata": {},
   "source": [
    "##### Filter included and handle NAs"
   ]
  },
  {
   "cell_type": "code",
   "execution_count": null,
   "id": "f8a08e45-9caf-4d3a-a91c-dedb9cddbce2",
   "metadata": {},
   "outputs": [],
   "source": [
    "cochrane_sel = cochrane_df[cochrane_df.Eligibility == 'Include']\n",
    "cochrane_sel.shape"
   ]
  },
  {
   "cell_type": "code",
   "execution_count": null,
   "id": "b95536dc-f356-4c8f-9ee7-1f660f809a39",
   "metadata": {},
   "outputs": [],
   "source": [
    "cochrane_sel['Consecutive interventions'] = cochrane_sel['Consecutive interventions'].fillna('Unknown')\n",
    "cochrane_sel.rename(columns={'Length of rehabilitation (days)': 'Days of rehabilitation'}, inplace=True)\n",
    "cochrane_sel['Days of rehabilitation'] = cochrane_sel['Days of rehabilitation'].fillna(-1).astype(int)\n",
    "cochrane_sel['Population'] = cochrane_sel['Population'].fillna(-1).astype(int)\n",
    "cochrane_sel['Outcome'] = cochrane_sel['Outcome'].fillna('Undefined')\n",
    "cochrane_sel['Service'] = cochrane_sel['Service'].fillna('Unidentified rehabilitation service')\n",
    "cochrane_sel['Collection start'] = cochrane_sel['Sample timeframe'].apply(lambda x: x.split(':')[0])\n",
    "cochrane_sel['Collection end'] = cochrane_sel['Sample timeframe'].apply(lambda x: x.split(':')[1])"
   ]
  },
  {
   "cell_type": "code",
   "execution_count": null,
   "id": "361806d8-1d47-4690-bedf-480e3ac43f59",
   "metadata": {},
   "outputs": [],
   "source": [
    "cochrane_days = cochrane_sel[cochrane_sel['Days of rehabilitation'] != -1]\n",
    "cochrane_days_nmul = cochrane_days[cochrane_days['Multidisciplinary']=='N']\n",
    "cochrane_days_mul = cochrane_days[cochrane_days['Multidisciplinary']=='Y']"
   ]
  },
  {
   "cell_type": "code",
   "execution_count": null,
   "id": "24223780-158f-4968-bb56-ff810b8cf90c",
   "metadata": {},
   "outputs": [],
   "source": [
    "cochrane_days_mul['Days of rehabilitation'].describe()"
   ]
  },
  {
   "cell_type": "code",
   "execution_count": null,
   "id": "3a598300-d905-4624-a5ab-cf82b0b33d4e",
   "metadata": {},
   "outputs": [],
   "source": [
    "st.mannwhitneyu(x=cochrane_days_nmul['Days of rehabilitation'],\n",
    "                y=cochrane_days_mul['Days of rehabilitation'],\n",
    "                alternative = 'two-sided')"
   ]
  },
  {
   "cell_type": "markdown",
   "id": "7b1d3eac-244e-4242-8c8d-3ab90dd8f0a6",
   "metadata": {},
   "source": [
    "##### Summary stats"
   ]
  },
  {
   "cell_type": "code",
   "execution_count": null,
   "id": "49118659-139d-42b8-ada4-ce439a110481",
   "metadata": {},
   "outputs": [],
   "source": [
    "pd.value_counts(cochrane_sel['Edition'])"
   ]
  },
  {
   "cell_type": "code",
   "execution_count": null,
   "id": "db643d05-dbae-4822-9369-bfdc5fc9b423",
   "metadata": {},
   "outputs": [],
   "source": [
    "cochrane_days['Days of rehabilitation'].hist(bins=20)"
   ]
  },
  {
   "cell_type": "code",
   "execution_count": null,
   "id": "2105da29-c7d3-468d-888b-782eee03ed91",
   "metadata": {},
   "outputs": [],
   "source": [
    "cochrane_days['Population'].hist(bins=10)"
   ]
  },
  {
   "cell_type": "code",
   "execution_count": null,
   "id": "2c9315da-be0a-4bd8-86b6-29cb6f088904",
   "metadata": {},
   "outputs": [],
   "source": [
    "pd.value_counts(cochrane_sel['Multidisciplinary'])"
   ]
  },
  {
   "cell_type": "code",
   "execution_count": null,
   "id": "7c03d1d4-f3d7-422f-b6d7-d16e4bb3b160",
   "metadata": {},
   "outputs": [],
   "source": [
    "#print(cochrane_days['Days of rehabilitation'].median(), st.iqr(cochrane_days['Days of rehabilitation'], axis=0))\n",
    "#print(st.t.interval(alpha=0.95,\n",
    "              #df=len(cochrane_days)-1,\n",
    "              #loc=np.median(cochrane_days['Days of rehabilitation']),\n",
    "              #scale=st.sem(cochrane_days['Days of rehabilitation'])))\n",
    "print('Rehab days')\n",
    "print(len(cochrane_days[cochrane_days['Days of rehabilitation']>0])/len(cochrane_sel))\n",
    "print(cochrane_days[cochrane_days['Days of rehabilitation']>0]['Days of rehabilitation'].describe())\n",
    "print('Population')\n",
    "print(cochrane_sel['Population'].median())\n",
    "print(cochrane_sel['Population'].describe())\n",
    "\n",
    "#print(cochrane_sel['Population'].mean(), cochrane_sel['Population'].std())\n",
    "#print(st.t.interval(alpha=0.95,\n",
    "              #df=len(cochrane_sel)-1,\n",
    "              #loc=np.mean(cochrane_sel['Population']),\n",
    "              #scale=st.sem(cochrane_sel['Population'])))"
   ]
  },
  {
   "cell_type": "code",
   "execution_count": null,
   "id": "ddcc0ed3-b944-4e14-bf55-f88db55dfb83",
   "metadata": {},
   "outputs": [],
   "source": [
    "len(cochrane_days)"
   ]
  },
  {
   "cell_type": "code",
   "execution_count": null,
   "id": "b51a406c-62e7-43eb-a333-f816fa1c25d1",
   "metadata": {},
   "outputs": [],
   "source": [
    "pd.value_counts(cochrane_sel['Routine EHR data'])"
   ]
  },
  {
   "cell_type": "code",
   "execution_count": null,
   "id": "94b238fd-f79c-4036-af00-2fde778f5905",
   "metadata": {},
   "outputs": [],
   "source": [
    "pd.value_counts(cochrane_sel['Service'], normalize=True)"
   ]
  },
  {
   "cell_type": "code",
   "execution_count": null,
   "id": "79b938a2-0bfc-4b24-af7b-93e6bc151ea8",
   "metadata": {},
   "outputs": [],
   "source": [
    "pd.value_counts(cochrane_sel['Consecutive interventions'])"
   ]
  },
  {
   "cell_type": "code",
   "execution_count": null,
   "id": "c9f34b2f-1e2c-46b7-aec8-171ae7fa530b",
   "metadata": {},
   "outputs": [],
   "source": [
    "pd.value_counts(cochrane_sel['ICU-only'], normalize=True)"
   ]
  },
  {
   "cell_type": "code",
   "execution_count": null,
   "id": "ddd7510d-a079-4c39-a00d-c60e7fae54a1",
   "metadata": {},
   "outputs": [],
   "source": [
    "len(cochrane_days_mul), len(cochrane_days_nmul)"
   ]
  },
  {
   "cell_type": "code",
   "execution_count": null,
   "id": "23d3a499-a8b9-4103-bdd2-742b7ae9679b",
   "metadata": {},
   "outputs": [],
   "source": [
    "print(cochrane_days_nmul['Days of rehabilitation'].mean(), cochrane_days_nmul['Days of rehabilitation'].std())\n",
    "print(st.t.interval(alpha=0.95,\n",
    "              df=len(cochrane_days_nmul)-1,\n",
    "              loc=np.mean(cochrane_days_nmul['Days of rehabilitation']),\n",
    "              scale=st.sem(cochrane_days_nmul['Days of rehabilitation'])))\n",
    "\n",
    "print(cochrane_days_mul['Days of rehabilitation'].mean(), cochrane_days_mul['Days of rehabilitation'].std())\n",
    "print(st.t.interval(alpha=0.95,\n",
    "              df=len(cochrane_days_mul)-1,\n",
    "              loc=np.mean(cochrane_days_mul['Days of rehabilitation']),\n",
    "              scale=st.sem(cochrane_days_mul['Days of rehabilitation'])))"
   ]
  },
  {
   "cell_type": "code",
   "execution_count": null,
   "id": "9ae385d3-09a5-460b-9a14-a032f2b88d45",
   "metadata": {},
   "outputs": [],
   "source": [
    "cochrane_days['Population'].hist()"
   ]
  },
  {
   "cell_type": "code",
   "execution_count": null,
   "id": "8aad4340-9208-4dd9-b0ae-100381066492",
   "metadata": {},
   "outputs": [],
   "source": [
    "cochrane_days['Days of rehabilitation'].hist()"
   ]
  },
  {
   "cell_type": "code",
   "execution_count": null,
   "id": "d11dd287-8590-434e-be9a-215c53343d70",
   "metadata": {},
   "outputs": [],
   "source": [
    "cochrane_sel.columns"
   ]
  },
  {
   "cell_type": "code",
   "execution_count": null,
   "id": "ea32232a-4d9f-4a57-84ee-f89ccf88f8a0",
   "metadata": {},
   "outputs": [],
   "source": [
    "cochrane_sel.isnull().sum()"
   ]
  },
  {
   "cell_type": "markdown",
   "id": "958adfbe-3721-480a-ae41-3302954e5b48",
   "metadata": {},
   "source": [
    "#### Visualise COCHRANE editions"
   ]
  },
  {
   "cell_type": "code",
   "execution_count": null,
   "id": "63570e72-dd9e-4ec6-bd33-3905a655351d",
   "metadata": {},
   "outputs": [],
   "source": [
    "cochrane_df_all_editions = cochrane_df[cochrane_df.Edition.notnull()]\n",
    "ch_month_all = pd.to_datetime(cochrane_df_all_editions['Edition']).dt.to_period('M').value_counts().sort_index()\n",
    "ch_month_all.index = pd.PeriodIndex(ch_month_all.index)\n",
    "ch_month_all = ch_month_all.rename_axis('month').reset_index(name='counts')\n",
    "ch_month_all"
   ]
  },
  {
   "cell_type": "code",
   "execution_count": null,
   "id": "cedb22ed-c1a1-40e8-8adf-971e2b21d1e9",
   "metadata": {},
   "outputs": [],
   "source": [
    "ch_month = pd.to_datetime(cochrane_sel['Edition']).dt.to_period('M').value_counts().sort_index()\n",
    "ch_month.index = pd.PeriodIndex(ch_month.index)\n",
    "ch_month = ch_month.rename_axis('month').reset_index(name='counts')\n",
    "ch_month"
   ]
  },
  {
   "cell_type": "code",
   "execution_count": null,
   "id": "ec9ed001-8548-429d-97e9-d25f41402c25",
   "metadata": {},
   "outputs": [],
   "source": [
    "## Export\n",
    "f = Path.cwd().joinpath(\"figures\")\n",
    "if not f.is_dir(): f.mkdir()\n",
    "f1 = f.joinpath(\"reh_cover_series_timeline.png\")"
   ]
  },
  {
   "cell_type": "code",
   "execution_count": null,
   "id": "12de5d78-ef48-4abc-a0f4-11658960d154",
   "metadata": {},
   "outputs": [],
   "source": [
    "fig = go.Figure()\n",
    "fig.add_trace(go.Scatter(x=ch_month['month'].astype(dtype=str),\n",
    "                        y=ch_month['counts'],\n",
    "                        marker_color='darkgreen', text=\"counts\", name='Included in the study'))\n",
    "fig.add_trace(go.Scatter(x=ch_month_all['month'].astype(dtype=str),\n",
    "                        y=ch_month_all['counts'],\n",
    "                        marker_color='indianred', text=\"counts\", name='All present in edition'))\n",
    "\n",
    "fig.update_layout({\"title\": '<b>Number of publications selected by REH-COVER edition</b>',\n",
    "                   \"template\": \"simple_white\",\n",
    "                   \"xaxis\": {\"title\":\"<b>Timeline</b>\"},\n",
    "                   \"yaxis\": {\"title\":\"<b>Total papers</b>\"},\n",
    "                   \"showlegend\": True})\n",
    "fig.update_xaxes(range = ['2020-02','2022-03'])\n",
    "fig.update_xaxes(minor=dict(ticks=\"inside\", showgrid=False), dtick=\"M2\", tickformat=\"%b\\n%Y\")\n",
    "fig.write_image(f1, format='png', engine='kaleido', height=300, width=700, scale=2)\n",
    "fig.show()"
   ]
  },
  {
   "cell_type": "code",
   "execution_count": null,
   "id": "b5adb2c5-709e-41eb-80d0-e47190a48d89",
   "metadata": {},
   "outputs": [],
   "source": [
    "pd.value_counts(cochrane_sel['Collection end'])"
   ]
  },
  {
   "cell_type": "code",
   "execution_count": null,
   "id": "3e1841d1-802b-4070-9c6f-4fa48d605875",
   "metadata": {},
   "outputs": [],
   "source": [
    "def map_collection_months(x):\n",
    "    dtfield = x.split('-')\n",
    "    if dtfield[0] == 'Jan':\n",
    "        return '20'+str(dtfield[1])+'-01-01'\n",
    "    elif dtfield[0] == 'Feb':\n",
    "        return '20'+str(dtfield[1])+'-02-01'\n",
    "    elif dtfield[0] == 'Mar':\n",
    "        return '20'+str(dtfield[1])+'-03-01'\n",
    "    elif dtfield[0] == 'Apr':\n",
    "        return '20'+str(dtfield[1])+'-04-01'\n",
    "    elif dtfield[0] == 'May':\n",
    "        return '20'+str(dtfield[1])+'-05-01'\n",
    "    elif dtfield[0] == 'Jun':\n",
    "        return '20'+str(dtfield[1])+'-06-01'\n",
    "    elif dtfield[0] == 'Jul':\n",
    "        return '20'+str(dtfield[1])+'-07-01'\n",
    "    elif dtfield[0] == 'Aug':\n",
    "        return '20'+str(dtfield[1])+'-08-01'\n",
    "    elif dtfield[0] == 'Sep':\n",
    "        return '20'+str(dtfield[1])+'-09-01'\n",
    "    elif dtfield[0] == 'Oct':\n",
    "        return '20'+str(dtfield[1])+'-10-01'\n",
    "    elif dtfield[0] == 'Nov':\n",
    "        return '20'+str(dtfield[1])+'-11-01'\n",
    "    elif dtfield[0] == 'Dec':\n",
    "        return '20'+str(dtfield[1])+'-12-01'\n",
    "    else:\n",
    "        return -1"
   ]
  },
  {
   "cell_type": "code",
   "execution_count": null,
   "id": "a160e564-18bc-4e16-a134-e35479029f35",
   "metadata": {},
   "outputs": [],
   "source": [
    "cochrane_sel['Collection start'] = cochrane_sel['Collection start'].apply(map_collection_months)\n",
    "cochrane_sel['Collection end'] = cochrane_sel['Collection end'].apply(map_collection_months)"
   ]
  },
  {
   "cell_type": "code",
   "execution_count": null,
   "id": "5297e073-e005-487c-8d6a-f4a763bc620f",
   "metadata": {},
   "outputs": [],
   "source": [
    "## Remove/consolidate certain rehab services\n",
    "cochrane_gantt = cochrane_sel[cochrane_sel['Service'] != 'Unidentified rehabilitation service']\n",
    "cochrane_gantt['Service'] = cochrane_gantt['Service'].replace(['Hospital'], 'Hospital-based rehabilitation')\n",
    "cochrane_gantt['Service'] = cochrane_gantt['Service'].replace([\"Community-based rehabilitation (CBR)\"], \"Community-based rehabilitation\")\n",
    "cochrane_gantt['Service'] = cochrane_gantt['Service'].replace([\"Hospital-based rehabilitation\"], \"Rehabilitation in acute care\")\n",
    "cochrane_gantt['Service'] = cochrane_gantt['Service'].replace([\"General outpatient rehabilitation\"], \"Outpatient rehabilitation\")\n",
    "cochrane_gantt['Service'] = cochrane_gantt['Service'].replace([\"Specialised outpatient rehabilitation\"], \"Outpatient rehabilitation\")\n",
    "cochrane_gantt['Service'] = cochrane_gantt['Service'].replace([\"General postacute rehabilitation\"], \"Post-acute rehabilitation\")\n",
    "cochrane_gantt['Service'] = cochrane_gantt['Service'].replace([\"Specialised postacute rehabilitation\"], \"Post-acute rehabilitation\")"
   ]
  },
  {
   "cell_type": "code",
   "execution_count": null,
   "id": "4d8070a8-1682-4afb-b505-9839f07afd19",
   "metadata": {},
   "outputs": [],
   "source": [
    "cochrane_gantt.head()"
   ]
  },
  {
   "cell_type": "code",
   "execution_count": null,
   "id": "0e2af943-66e2-4fde-a364-4a7d60f04757",
   "metadata": {},
   "outputs": [],
   "source": [
    "# Remove single time-point collections\n",
    "cochrane_gantt = cochrane_gantt[cochrane_gantt['Collection start'] != cochrane_gantt['Collection end']]"
   ]
  },
  {
   "cell_type": "code",
   "execution_count": null,
   "id": "7bb035df-0d3b-480e-840d-38a70fe17f34",
   "metadata": {},
   "outputs": [],
   "source": [
    "len(cochrane_gantt)"
   ]
  },
  {
   "cell_type": "code",
   "execution_count": null,
   "id": "3ed580ba-0d9b-422a-b03c-55645a997127",
   "metadata": {},
   "outputs": [],
   "source": [
    "cochrane_gantt.Service.unique()"
   ]
  },
  {
   "cell_type": "code",
   "execution_count": null,
   "id": "d782aa5d-68ba-4ec8-9e6f-6ba0387401b7",
   "metadata": {},
   "outputs": [],
   "source": [
    "fig = px.timeline(cochrane_gantt, x_start=\"Collection start\", x_end=\"Collection end\", y=\"Author\", color='Service',\n",
    "                 color_discrete_map={\"Rehabilitation in acute care\": 'red',\n",
    "                                     \"Post-acute rehabilitation\": 'darkorange',\n",
    "                                     \"Rehabilitation services at home\": 'green',\n",
    "                                     \"Outpatient rehabilitation\": 'darkblue'},\n",
    "                  category_orders=dict(Service=[\"Outpatient rehabilitation\",\n",
    "                                                \"Rehabilitation services at home\",\n",
    "                                                \"Post-acute rehabilitation\",\n",
    "                                                \"Rehabilitation in acute care\"\n",
    "                                                ]),\n",
    "                 labels={'Service': '<b>Service</b>'})\n",
    "fig.update_layout({\"title\": '<b>Reported COVID-19 rehabilitation service delivery timeline</b>',\n",
    "                   \"template\": \"simple_white\",\n",
    "                   \"xaxis\": {\"title\":\"<b>Intervention timeframe</b>\"},\n",
    "                   \"yaxis\": {\"title\":\"<b>Publication</b>\"},\n",
    "                   \"showlegend\": True,\n",
    "                   \"height\": 800,\n",
    "                  \"legend\":{'traceorder':'reversed'}}, title=dict(font=dict(size = 22, color = \"black\")))\n",
    "fig.update_xaxes(range = ['2020-01-01','2021-06-01'], dtick=\"M1\", tickformat=\"%b\\n%Y\")\n",
    "fig.update_xaxes(title = dict(font=dict(size = 18, color = \"black\")))\n",
    "fig.update_yaxes(title = dict(font=dict(size = 18, color = \"black\")))\n",
    "fig.update_layout(legend=dict(font=dict(size=14)))\n",
    "fig.write_image(f.joinpath(\"reh_cover_service_timeline.png\"), format='png', engine='kaleido', height=900, width=1000, scale=2)\n",
    "fig.show()"
   ]
  },
  {
   "cell_type": "markdown",
   "id": "2edbbf53-9198-4743-a11a-ece4f73053d9",
   "metadata": {},
   "source": [
    "#### Look at intervention categories"
   ]
  },
  {
   "cell_type": "code",
   "execution_count": null,
   "id": "fbebc9e9-679b-4f85-ac29-184ee1913929",
   "metadata": {},
   "outputs": [],
   "source": [
    "pd.value_counts(cochrane_sel['Intervention category'])"
   ]
  },
  {
   "cell_type": "code",
   "execution_count": null,
   "id": "95cacfcf-3e59-4584-93b3-a9dd34d1118b",
   "metadata": {},
   "outputs": [],
   "source": [
    "pd.value_counts(cochrane_sel['Intervention sub-category'])"
   ]
  },
  {
   "cell_type": "markdown",
   "id": "8531740a-5070-4401-8a8e-29a5383453b5",
   "metadata": {},
   "source": [
    "#### Population count plot"
   ]
  },
  {
   "cell_type": "code",
   "execution_count": null,
   "id": "165c4c5c-68ad-4484-8365-bcacb5a26817",
   "metadata": {},
   "outputs": [],
   "source": [
    "cochrane_count = cochrane_sel[cochrane_sel.Population > 0]"
   ]
  },
  {
   "cell_type": "code",
   "execution_count": null,
   "id": "5a611fb4-19ff-4adf-8a4d-ba4e7fe8ee3f",
   "metadata": {},
   "outputs": [],
   "source": [
    "len(cochrane_count)"
   ]
  },
  {
   "cell_type": "code",
   "execution_count": null,
   "id": "3a7c3f9e-4193-421d-997b-864fa53f89d0",
   "metadata": {},
   "outputs": [],
   "source": [
    "print(cochrane_count['Population'].mean(), cochrane_count['Population'].std())\n",
    "print(st.t.interval(alpha=0.95,\n",
    "              df=len(cochrane_count)-1,\n",
    "              loc=np.mean(cochrane_count['Population']),\n",
    "              scale=st.sem(cochrane_count['Population'])))"
   ]
  },
  {
   "cell_type": "code",
   "execution_count": null,
   "id": "ca75ecaa-c630-4931-9a67-8a3739552232",
   "metadata": {},
   "outputs": [],
   "source": [
    "coch_ehr = cochrane_count[cochrane_count['Routine EHR data'].isin(['Yes', 'Partially'])]\n",
    "coch_nehr = cochrane_count[cochrane_count['Routine EHR data']=='No']"
   ]
  },
  {
   "cell_type": "code",
   "execution_count": null,
   "id": "4056ee8e-86df-417b-9983-3ba6a36c75cf",
   "metadata": {},
   "outputs": [],
   "source": [
    "len(coch_ehr), len(coch_nehr)"
   ]
  },
  {
   "cell_type": "code",
   "execution_count": null,
   "id": "88f7b933-17c9-40b8-934b-449765401428",
   "metadata": {},
   "outputs": [],
   "source": [
    "print(cochrane_count['Population'].median(), cochrane_count['Population'].mean())\n",
    "print(coch_ehr['Population'].agg(['count', 'min', 'max', 'median']))\n",
    "print(coch_nehr['Population'].agg(['count', 'min', 'max', 'median']))"
   ]
  },
  {
   "cell_type": "code",
   "execution_count": null,
   "id": "08e6512f-ccf1-4a1b-8bce-8a2aa6153b90",
   "metadata": {},
   "outputs": [],
   "source": [
    "print(st.t.interval(alpha=0.95,\n",
    "              df=len(coch_ehr)-1,\n",
    "              loc=np.median(coch_ehr['Population']),\n",
    "              scale=st.sem(coch_ehr['Population'])))\n",
    "\n",
    "print(st.t.interval(alpha=0.95,\n",
    "              df=len(coch_nehr)-1,\n",
    "              loc=np.median(coch_nehr['Population']),\n",
    "              scale=st.sem(coch_nehr['Population'])))"
   ]
  },
  {
   "cell_type": "code",
   "execution_count": null,
   "id": "706e696e-13a0-4a7a-8072-424c0d7e421c",
   "metadata": {},
   "outputs": [],
   "source": [
    "w, pvalue = st.shapiro(coch_ehr['Population'])\n",
    "print(w, pvalue)\n",
    "\n",
    "w, pvalue = st.shapiro(coch_nehr['Population'])\n",
    "print(w, pvalue)"
   ]
  },
  {
   "cell_type": "code",
   "execution_count": null,
   "id": "9e00b42d-f57e-45ac-b72a-f239a7d94749",
   "metadata": {},
   "outputs": [],
   "source": [
    "st.mannwhitneyu(x=coch_ehr['Population'], y=coch_nehr['Population'], alternative = 'two-sided')"
   ]
  },
  {
   "cell_type": "code",
   "execution_count": null,
   "id": "254e5c30-e071-461a-bfe0-e715e8c61186",
   "metadata": {},
   "outputs": [],
   "source": [
    "max(cochrane_count['Population'])"
   ]
  },
  {
   "cell_type": "code",
   "execution_count": null,
   "id": "06731a4c-4b00-4c24-8725-dd01198697e7",
   "metadata": {},
   "outputs": [],
   "source": [
    "cochrane_count = cochrane_sel[cochrane_sel['Population'] > 0]\n",
    "cochrane_count = cochrane_count.sort_values('Population')\n",
    "#cochrane_count = cochrane_count[~((cochrane_count['Population']>=150)&(cochrane_count['Routine EHR data'] == 'No'))]\n",
    "cochrane_count = cochrane_count[cochrane_count['Population']<400]\n",
    "cochrane_count['ICU-only'] = cochrane_count['ICU-only'].map({'N': 'Not ICU-only', 'Y': 'ICU-only'})"
   ]
  },
  {
   "cell_type": "code",
   "execution_count": null,
   "id": "98e121f5-e305-4728-b200-2eaeb6fcf55e",
   "metadata": {},
   "outputs": [],
   "source": [
    "fig = px.box(cochrane_count, x=\"ICU-only\", y=\"Population\",\n",
    "             color='Routine EHR data',\n",
    "             height=400)\n",
    "\n",
    "fig.update_layout({\"title\": '<b>Sample size distribution of studies with a recorded population</b>',\n",
    "                   \"template\": \"simple_white\",\n",
    "                   \"xaxis\": {\"title\":\"<b>Cases</b>\"},\n",
    "                   \"yaxis\": {\"title\":\"<b>Population</b>\"},\n",
    "                   \"showlegend\": True,\n",
    "                   \"height\": 400,\n",
    "                   \"width\": 600\n",
    "                  })\n",
    "fig.update_xaxes(title = dict(font=dict(size = 15, color = \"black\")))\n",
    "fig.update_yaxes(title = dict(font=dict(size = 15, color = \"black\")))\n",
    "fig.update_layout(legend=dict(title='Sample utilises EHR data'))\n",
    "fig.write_image(f.joinpath(\"reh_cover_sample_size.png\"), format='png', engine='kaleido', height=400, width=600, scale=2)\n",
    "fig.show()"
   ]
  },
  {
   "cell_type": "code",
   "execution_count": null,
   "id": "bb48c5d3-e7ce-46d9-9758-30d877157c0a",
   "metadata": {},
   "outputs": [],
   "source": [
    "fig = px.box(cochrane_count, x=\"Routine EHR data\", y=\"Population\",\n",
    "             height=400, category_orders={'Routine EHR data': ['Yes', 'No']})\n",
    "\n",
    "fig.update_layout({\"title\": '<b>Sample size distribution of studies with a recorded population</b>',\n",
    "                   \"template\": \"simple_white\",\n",
    "                   \"xaxis\": {\"title\":\"<b>Use of EHR data</b>\"},\n",
    "                   \"yaxis\": {\"title\":\"<b>Population</b>\"},\n",
    "                   \"showlegend\": True,\n",
    "                   \"height\": 400,\n",
    "                   \"width\": 600\n",
    "                  })\n",
    "fig.update_xaxes(title = dict(font=dict(size = 15, color = \"black\")))\n",
    "fig.update_yaxes(title = dict(font=dict(size = 15, color = \"black\")))\n",
    "fig.update_layout(legend=dict(title='Sample utilises EHR data'))\n",
    "fig.write_image(f.joinpath(\"reh_cover_sample_size_2.png\"), format='png', engine='kaleido', height=400, width=600, scale=2)\n",
    "fig.show()"
   ]
  },
  {
   "cell_type": "code",
   "execution_count": null,
   "id": "af96d1bf-f3a8-442f-a842-0f9d80d76ad2",
   "metadata": {},
   "outputs": [],
   "source": [
    "cochrane_days = cochrane_sel[cochrane_sel['Days of rehabilitation'] > 0]\n",
    "cochrane_days = cochrane_days[cochrane_days['Days of rehabilitation'] < 72]\n",
    "cochrane_days['ICU-only'] = cochrane_days['ICU-only'].map({'N': 'Not ICU-only', 'Y': 'ICU-only'})\n",
    "fig = px.box(cochrane_days, x=\"Routine EHR data\", y=\"Days of rehabilitation\",\n",
    "             height=400)\n",
    "\n",
    "fig.update_layout({\"title\": '<b>Days of rehabilitation among studies with recorded duration</b>',\n",
    "                   \"template\": \"simple_white\",\n",
    "                   \"xaxis\": {\"title\":\"<b>Use of EHR data</b>\"},\n",
    "                   \"yaxis\": {\"title\":\"<b>Number of days</b>\"},\n",
    "                   \"showlegend\": True,\n",
    "                   \"height\": 400,\n",
    "                   \"width\": 600\n",
    "                  })\n",
    "fig.update_xaxes(title = dict(font=dict(size = 15, color = \"black\")))\n",
    "fig.update_yaxes(title = dict(font=dict(size = 15, color = \"black\")))\n",
    "fig.update_layout(legend=dict(title='Sample utilises EHR data'))\n",
    "fig.write_image(f.joinpath(\"reh_cover_rehab_time.png\"), format='png', engine='kaleido', height=400, width=600, scale=2)\n",
    "fig.show()"
   ]
  },
  {
   "cell_type": "code",
   "execution_count": null,
   "id": "8dfd46b6-8a23-4664-aaf9-69be8c0adac3",
   "metadata": {},
   "outputs": [],
   "source": [
    "st.mannwhitneyu(x=cochrane_count[(cochrane_count['Routine EHR data']=='Yes')]['Population'],\n",
    "                y=cochrane_count[(cochrane_count['Routine EHR data']=='No')]['Population'],\n",
    "                alternative = 'two-sided')"
   ]
  },
  {
   "cell_type": "code",
   "execution_count": null,
   "id": "bda97d42-7356-47a7-8d39-38e5fe206e32",
   "metadata": {},
   "outputs": [],
   "source": [
    "st.mannwhitneyu(x=cochrane_days[(cochrane_days['Routine EHR data']=='Yes')]['Days of rehabilitation'],\n",
    "                y=cochrane_days[(cochrane_days['Routine EHR data']=='No')]['Days of rehabilitation'],\n",
    "                alternative = 'two-sided')"
   ]
  },
  {
   "cell_type": "code",
   "execution_count": null,
   "id": "a8ae398a-8584-4b46-96c5-0496e334e8ff",
   "metadata": {},
   "outputs": [],
   "source": [
    "st.mannwhitneyu(x=cochrane_count[(cochrane_count['Routine EHR data']=='Yes')&(cochrane_count['ICU-only']=='Not ICU-only')]['Population'],\n",
    "                y=cochrane_count[(cochrane_count['Routine EHR data']=='Yes')&(cochrane_count['ICU-only']=='ICU-only')]['Population'],\n",
    "                alternative = 'two-sided')"
   ]
  },
  {
   "cell_type": "code",
   "execution_count": null,
   "id": "3ee44bb4-2b49-4cd5-b8b0-ab72da983aa7",
   "metadata": {},
   "outputs": [],
   "source": [
    "st.mannwhitneyu(x=cochrane_count[(cochrane_count['Routine EHR data']=='Yes')&(cochrane_count['ICU-only']=='ICU-only')]['Population'],\n",
    "                y=cochrane_count[(cochrane_count['Routine EHR data']=='No')&(cochrane_count['ICU-only']=='ICU-only')]['Population'],\n",
    "                alternative = 'two-sided')"
   ]
  },
  {
   "cell_type": "markdown",
   "id": "a35847dc-d960-4e2b-bd82-ba664812e897",
   "metadata": {},
   "source": [
    "#### Category types"
   ]
  },
  {
   "cell_type": "code",
   "execution_count": null,
   "id": "a71aadc9-0893-4636-97ad-274f6dc7bb09",
   "metadata": {},
   "outputs": [],
   "source": [
    "len(cochrane_sel[cochrane_sel['Intervention category'].str.contains('Cardio')])"
   ]
  },
  {
   "cell_type": "code",
   "execution_count": null,
   "id": "b4acfef7-2c76-4205-9a4a-1ff52f100f81",
   "metadata": {},
   "outputs": [],
   "source": [
    "cochrane_sel[cochrane_sel['Intervention category'].str.contains('Cardio')]"
   ]
  },
  {
   "cell_type": "code",
   "execution_count": null,
   "id": "87de25ed-b0a5-4a28-afc0-019df1451305",
   "metadata": {},
   "outputs": [],
   "source": [
    "pd.value_counts(cochrane_sel['Intervention category'])"
   ]
  },
  {
   "cell_type": "code",
   "execution_count": null,
   "id": "e5dd6a9d-1f76-4f61-936f-574e72d96f81",
   "metadata": {},
   "outputs": [],
   "source": [
    "print(len(cochrane_sel[cochrane_sel['Intervention category'].str.lower().str.contains('alternative')]))\n",
    "print(len(cochrane_sel[cochrane_sel['Intervention category'].str.lower().str.contains('respiratory')])/len(cochrane_sel))\n",
    "#print(cochrane_sel[cochrane_sel['Intervention category'].str.lower().str.contains('physical')]['Intervention category'])"
   ]
  },
  {
   "cell_type": "code",
   "execution_count": null,
   "id": "e5fe4918-6d79-471d-bbcf-e9b586981525",
   "metadata": {},
   "outputs": [],
   "source": [
    "pd.value_counts(cochrane_sel['Intervention sub-category'])"
   ]
  },
  {
   "cell_type": "markdown",
   "id": "aa17549e-d22f-4ccc-84fc-756dd39db0b4",
   "metadata": {},
   "source": [
    "#### Get study summary table"
   ]
  },
  {
   "cell_type": "code",
   "execution_count": null,
   "id": "a827b53d-a95f-420c-8c0d-6479403e66f0",
   "metadata": {},
   "outputs": [],
   "source": [
    "cochrane_sel.columns"
   ]
  },
  {
   "cell_type": "code",
   "execution_count": null,
   "id": "b2877964-aa21-4018-b1ca-aefb2384fc34",
   "metadata": {},
   "outputs": [],
   "source": [
    "pd.value_counts(cochrane_sel['Study design'])"
   ]
  },
  {
   "cell_type": "code",
   "execution_count": null,
   "id": "25b7f708-e3bf-4604-b7fc-90bfa56ad05b",
   "metadata": {},
   "outputs": [],
   "source": [
    "cochrane_sel['Study design'] = cochrane_sel['Study design'].replace([\"Historical cohort\"], \"Cohort study\")\n",
    "cochrane_sel['Study design'] = cochrane_sel['Study design'].replace([\"Inception Cohort study\"], \"Cohort study\")\n",
    "cochrane_sel['Study design'] = cochrane_sel['Study design'].replace([\"Quasi-experimental study\"], \"Other\")\n",
    "cochrane_sel['Study design'] = cochrane_sel['Study design'].replace([\"Randomised controlled trial\"], \"Controlled trial\")\n",
    "cochrane_sel['Study design'] = cochrane_sel['Study design'].replace([\"Pilot controlled trial\"], \"Controlled trial\")\n",
    "cochrane_sel['Study design'] = cochrane_sel['Study design'].replace([\"Non randomised controlled trial\"], \"Controlled trial\")\n",
    "cochrane_sel['Study design'] = cochrane_sel['Study design'].replace([\"Case-control study\"], \"Other\")\n",
    "cochrane_sel['Study design'] = cochrane_sel['Study design'].replace([\"Cross-sectional study\"], \"Other\")\n",
    "cochrane_sel['Study design'] = cochrane_sel['Study design'].replace([\"Before-after/time series\"], \"Other\")\n",
    "cochrane_sel['Study design'] = cochrane_sel['Study design'].replace([\"Retrospective uncontrolled observational study\"], \"Cohort study\")"
   ]
  },
  {
   "cell_type": "code",
   "execution_count": null,
   "id": "20df0197-7863-4776-bdbd-fc1867b56296",
   "metadata": {},
   "outputs": [],
   "source": [
    "t1_cols = ['Population', 'ICU-only', 'Routine EHR data', 'Service', 'Days of rehabilitation', 'Consecutive interventions',\n",
    "           'Multidisciplinary']\n",
    "categorical = ['Routine EHR data', 'ICU-only', 'Service', 'Consecutive interventions', 'Multidisciplinary']\n",
    "groupby = 'Study design'\n",
    "nonnormal = ['Population', 'Days of rehabilitation']"
   ]
  },
  {
   "cell_type": "code",
   "execution_count": null,
   "id": "fb57b062-804b-438e-9615-8a219d8fd003",
   "metadata": {},
   "outputs": [],
   "source": [
    "cochrane_sel[['Population', 'ICU-only', 'Routine EHR data', 'Service', 'Days of rehabilitation', 'Consecutive interventions',\n",
    "           'Multidisciplinary']].dtypes"
   ]
  },
  {
   "cell_type": "code",
   "execution_count": null,
   "id": "27e3ce1b-ca6e-4379-b469-394a38ad6e43",
   "metadata": {},
   "outputs": [],
   "source": [
    "coc_df = pd.DataFrame(columns=['Population', 'ICU-only', 'Routine EHR data', 'Service', 'Days of rehabilitation', 'Consecutive interventions',\n",
    "           'Multidisciplinary', 'Study design'])\n",
    "coc_df['Population'] = cochrane_sel['Population']\n",
    "coc_df['ICU-only'] = cochrane_sel['ICU-only']\n",
    "coc_df['Routine EHR data'] = cochrane_sel['Routine EHR data']\n",
    "coc_df['Service'] = cochrane_sel['Service']\n",
    "coc_df['Days of rehabilitation'] = cochrane_sel['Days of rehabilitation']\n",
    "coc_df['Days of rehabilitation'] = np.where(coc_df['Days of rehabilitation'] == -1, np.nan, coc_df['Days of rehabilitation'])\n",
    "coc_df['Consecutive interventions'] = cochrane_sel['Consecutive interventions']\n",
    "coc_df['Multidisciplinary'] = cochrane_sel['Multidisciplinary']\n",
    "coc_df['Study design'] = cochrane_sel['Study design']\n",
    "coc_df['Service'] = coc_df['Service'].replace(['Unidentified rehabilitation service'], 'Unknown')\n",
    "coc_df['Service'] = coc_df['Service'].replace(['Hospital'], 'Hospital-based rehabilitation')\n",
    "coc_df['Service'] = coc_df['Service'].replace([\"Community-based rehabilitation (CBR)\"], \"Community-based rehabilitation\")\n",
    "coc_df['Service'] = coc_df['Service'].replace([\"Hospital-based rehabilitation\"], \"Rehabilitation in acute care\")\n",
    "coc_df['Service'] = coc_df['Service'].replace([\"General outpatient rehabilitation\"], \"Outpatient rehabilitation\")\n",
    "coc_df['Service'] = coc_df['Service'].replace([\"Specialised outpatient rehabilitation\"], \"Outpatient rehabilitation\")\n",
    "coc_df['Service'] = coc_df['Service'].replace([\"General postacute rehabilitation\"], \"Post-acute rehabilitation\")\n",
    "coc_df['Service'] = coc_df['Service'].replace([\"Specialised postacute rehabilitation\"], \"Post-acute rehabilitation\")\n",
    "\n",
    "coc_df = coc_df.reset_index(drop=True)"
   ]
  },
  {
   "cell_type": "code",
   "execution_count": null,
   "id": "e559a58b-c1e8-411b-9ead-22673b10ddd8",
   "metadata": {},
   "outputs": [],
   "source": [
    "pd.value_counts(coc_df['Service'])"
   ]
  },
  {
   "cell_type": "code",
   "execution_count": null,
   "id": "ffa9e741-62f6-456a-8ea1-4e63621d9f08",
   "metadata": {},
   "outputs": [],
   "source": [
    "coc_df"
   ]
  },
  {
   "cell_type": "code",
   "execution_count": null,
   "id": "b4c2c72e-46d2-4e85-a68c-644c41c6c230",
   "metadata": {},
   "outputs": [],
   "source": [
    "st = TableOne(coc_df, t1_cols, categorical, groupby, nonnormal, pval=True)"
   ]
  },
  {
   "cell_type": "code",
   "execution_count": null,
   "id": "1f6f983b-755f-402d-9463-7493cee3c57c",
   "metadata": {},
   "outputs": [],
   "source": [
    "st.to_html('rehab_summary.html')"
   ]
  }
 ],
 "metadata": {
  "kernelspec": {
   "display_name": "Python 3 (ipykernel)",
   "language": "python",
   "name": "python3"
  },
  "language_info": {
   "codemirror_mode": {
    "name": "ipython",
    "version": 3
   },
   "file_extension": ".py",
   "mimetype": "text/x-python",
   "name": "python",
   "nbconvert_exporter": "python",
   "pygments_lexer": "ipython3",
   "version": "3.9.7"
  }
 },
 "nbformat": 4,
 "nbformat_minor": 5
}
