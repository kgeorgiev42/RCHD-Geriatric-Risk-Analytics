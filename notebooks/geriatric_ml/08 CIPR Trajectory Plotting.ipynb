{
 "cells": [
  {
   "cell_type": "code",
   "execution_count": null,
   "id": "d439e111-6d06-46d5-8bb0-e9ddfefe3d4f",
   "metadata": {},
   "outputs": [],
   "source": [
    "import pandas as pd\n",
    "import matplotlib.pyplot as plt\n",
    "import seaborn as sns\n",
    "import numpy as np\n",
    "import matplotlib.ticker as mtick\n",
    "from matplotlib.dates import DateFormatter\n",
    "from datetime import timedelta\n",
    "from datetime import datetime\n",
    "from tqdm import tqdm\n",
    "import gc"
   ]
  },
  {
   "cell_type": "markdown",
   "id": "ae494384-42e4-45b3-ae86-bab482c2ee34",
   "metadata": {},
   "source": [
    "##### Load results table"
   ]
  },
  {
   "cell_type": "code",
   "execution_count": null,
   "id": "7c0f6fa3-0528-499d-8a38-487d517f8558",
   "metadata": {},
   "outputs": [],
   "source": [
    "tr_data = pd.read_csv('')\n",
    "reg_hc_data = pd.read_csv('')\n",
    "strat_hc_data = pd.read_csv('')\n",
    "print(tr_data.timepoint.unique())"
   ]
  },
  {
   "cell_type": "code",
   "execution_count": null,
   "id": "514731d5-2d30-454f-b984-2a135b7569c4",
   "metadata": {},
   "outputs": [],
   "source": [
    "plt.rcParams.update({'font.size':12, 'font.weight':'normal', 'font.family':'serif'})"
   ]
  },
  {
   "cell_type": "markdown",
   "id": "b0fd7c90-b6f6-4e0f-8745-1b995b5eccae",
   "metadata": {},
   "source": [
    "##### Model change in performance across outcomes"
   ]
  },
  {
   "cell_type": "code",
   "execution_count": null,
   "id": "dc4b664b-c8fd-4222-b9af-33f94d818403",
   "metadata": {},
   "outputs": [],
   "source": [
    "tr_data['timepoint'] = np.where(tr_data.timepoint == 'Hospital admission', 'Admission', tr_data.timepoint)\n",
    "tr_data['timepoint'] = np.where(tr_data.timepoint == 'ED attendance', 'ED arrival', tr_data.timepoint)\n",
    "tr_data['target'] = np.where(tr_data['target'] == 'Admission to MoE', 'Geriatric Medicine services', tr_data.target)\n",
    "#tr_data['timepoint'] = np.where(tr_data.timepoint == '24hrs post-admission', '24h PA', tr_data.timepoint)\n",
    "#tr_data['timepoint'] = np.where(tr_data.timepoint == '48hrs post-admission', '48h PA', tr_data.timepoint)\n",
    "#tr_data['timepoint'] = np.where(tr_data.timepoint == '72hrs post-admission', '72h PA', tr_data.timepoint)"
   ]
  },
  {
   "cell_type": "markdown",
   "id": "c60e945a-efa0-4a52-9eed-72ccee178a3c",
   "metadata": {},
   "source": [
    "##### ROC-AUC"
   ]
  },
  {
   "cell_type": "code",
   "execution_count": null,
   "id": "a03510a8-0b33-4fba-8672-73c4ac2e7675",
   "metadata": {},
   "outputs": [],
   "source": [
    "def plot_per_trajectories(tr_data, colors={'In-hospital death': '#d7191c',\n",
    "                                        'Extended stay (>=14 days)': '#fdae61',\n",
    "                                        'ICU/HDU admission': '#756bb1',\n",
    "                                        'Home discharge': '#2c7bb6',\n",
    "                                         'Geriatric Medicine services': '#ed849e',\n",
    "                                          'Received rehabilitation': '#810f7c'}):\n",
    "    fig, ((ax1, ax2), (ax3, ax4)) = plt.subplots(nrows=2, ncols=2, figsize=(11, 9))\n",
    "    for target in tr_data.target.unique():\n",
    "        tg_data = tr_data[tr_data.target == target]\n",
    "        ax1.plot(tg_data.timepoint, tg_data['ROC-AUC'], marker='o', label=target, color=colors[target])\n",
    "        ax1.fill_between(tg_data.timepoint, tg_data['ROC-lower'], tg_data['ROC-upper'], alpha=0.2, color=colors[target])\n",
    "        ax2.plot(tg_data.timepoint, tg_data['PR-AUC'], marker='o', label=target, color=colors[target])\n",
    "        ax2.fill_between(tg_data.timepoint, tg_data['PR-lower'], tg_data['PR-upper'], alpha=0.2, color=colors[target])\n",
    "        ax3.plot(tg_data.timepoint, tg_data['outcome_prev'], color=colors[target], marker='^', linestyle='--', alpha=0.8)\n",
    "        ax4.plot(tg_data.timepoint, tg_data['10th_decile_response'], marker='o', label=target, color=colors[target])\n",
    "        \n",
    "    #plt.xlabel('Prediction stage')\n",
    "    ax1.set_ylabel('ROC-AUC')\n",
    "    ax2.set_ylabel('PR-AUC')\n",
    "    ax3.set_ylabel('Outcome prevalence')\n",
    "    ax4.set_ylabel('Response rate at top risk decile')\n",
    "    plt.suptitle('Performance trajectory per secondary outcome with 95% CI.')\n",
    "    ax1.legend(loc='lower right', framealpha=0.5)\n",
    "    #ax2.legend(loc='upper left', framealpha=0.5)\n",
    "    ax1.grid(True, linestyle='--', alpha=0.7)\n",
    "    ax2.grid(True, linestyle='--', alpha=0.7)\n",
    "    ax3.grid(True, linestyle='--', alpha=0.7)\n",
    "    ax4.grid(True, linestyle='--', alpha=0.7)\n",
    "    ax3.yaxis.set_major_formatter('{x:1.0f}%')\n",
    "    ax4.yaxis.set_major_formatter('{x:1.0f}%')\n",
    "    #plt.xticks(rotation=45)\n",
    "    ax1.set_ylim(0.5, 1.0)\n",
    "    ax2.set_ylim(0.0, 1.0)\n",
    "    ax4.set_ylim(0.0,100)\n",
    "    plt.tight_layout()\n",
    "    plt.show()"
   ]
  },
  {
   "cell_type": "code",
   "execution_count": null,
   "id": "758146ff-a82c-434e-982b-f393571023e1",
   "metadata": {},
   "outputs": [],
   "source": [
    "plot_per_trajectories(tr_data)"
   ]
  },
  {
   "cell_type": "code",
   "execution_count": null,
   "id": "f1e29ef6-ea6b-4149-a6e8-dd51ee6f3396",
   "metadata": {},
   "outputs": [],
   "source": [
    "def plot_risk_trajectories(tr_data, colors={'In-hospital death': '#d7191c',\n",
    "                                        'Extended stay (>=14 days)': '#fdae61',\n",
    "                                        'ICU/HDU admission': '#756bb1',\n",
    "                                        'Home discharge': '#2c7bb6',\n",
    "                                           'Admission to MoE': '#ed849e',\n",
    "                                           'Received rehabilitation': '#810f7c'}):\n",
    "    fig = plt.figure(figsize=(6,5))\n",
    "    for target in tr_data.target.unique():\n",
    "        tg_data = tr_data[tr_data.target == target]\n",
    "        plt.plot(tg_data.timepoint, tg_data['10th_decile_response'], marker='o', label=target, color=colors[target])\n",
    "        \n",
    "    #plt.xlabel('Prediction stage')\n",
    "    plt.ylabel('Response rate at highest risk decile')\n",
    "    plt.title('Patient response rate trajectory per secondary outcome')\n",
    "    #plt.legend(loc='lower left', prop={'size': 11})\n",
    "    plt.grid(True, linestyle='--', alpha=0.7)\n",
    "    ax = plt.gca()\n",
    "    ax.yaxis.set_major_formatter('{x:1.0f}%')\n",
    "    plt.ylim(0,100)\n",
    "    plt.tight_layout()\n",
    "    plt.show()"
   ]
  },
  {
   "cell_type": "code",
   "execution_count": null,
   "id": "fedc1b50-e7d2-4258-bd70-27e28ce8a959",
   "metadata": {},
   "outputs": [],
   "source": [
    "plot_risk_trajectories(tr_data)"
   ]
  },
  {
   "cell_type": "markdown",
   "id": "19f8df4d-1c23-4696-8300-d6f12ac61d8d",
   "metadata": {},
   "source": [
    "#### Care intensity trajectories"
   ]
  },
  {
   "cell_type": "code",
   "execution_count": null,
   "id": "84569d7e-c8e5-426c-93d0-20e72bfa1d5d",
   "metadata": {},
   "outputs": [],
   "source": [
    "reg_hc_data['timepoint'] = np.where(reg_hc_data.timepoint == 'Hospital admission', 'Admission', reg_hc_data.timepoint)\n",
    "reg_hc_data['timepoint'] = np.where(reg_hc_data.timepoint == 'ED attendance', 'ED arrival', reg_hc_data.timepoint)"
   ]
  },
  {
   "cell_type": "code",
   "execution_count": null,
   "id": "31b29644-d09f-4941-b1ea-7303d2d63dd4",
   "metadata": {},
   "outputs": [],
   "source": [
    "reg_hc_data"
   ]
  },
  {
   "cell_type": "code",
   "execution_count": null,
   "id": "1e6a5903-a92b-40f1-ba2f-0020b8d33103",
   "metadata": {},
   "outputs": [],
   "source": [
    "def plot_hc_trajectories(tr_data, colors={'Total health contacts': '#d7191c'}):\n",
    "    fig, ((ax1, ax2), (ax3, ax4)) = plt.subplots(nrows=2, ncols=2, figsize=(7,7))\n",
    "    for target in tr_data.target.unique():\n",
    "        tg_data = tr_data[tr_data.target == target]\n",
    "        ax1.plot(tg_data.timepoint, tg_data['MAE'], marker='o', label=target, color=colors[target])\n",
    "        ax1.fill_between(tg_data.timepoint, tg_data['MAE-upper'], tg_data['MAE-lower'], alpha=0.2, color=colors[target])\n",
    "        ax2.plot(tg_data.timepoint, tg_data['MAPE'], marker='o', label=target, color=colors[target])\n",
    "        ax2.fill_between(tg_data.timepoint, tg_data['MAPE-upper'], tg_data['MAPE-lower'], alpha=0.2, color=colors[target])\n",
    "        ax3.plot(tg_data.timepoint, tg_data['Balanced Accuracy'], marker='o', label=target, color=colors[target])\n",
    "        ax3.fill_between(tg_data.timepoint, tg_data['Bacc_upper'], tg_data['Bacc_lower'], alpha=0.2, color=colors[target])\n",
    "        ax4.plot(tg_data.timepoint, tg_data['Cohen\\'s Kappa Score'], marker='o', label=target, color=colors[target])\n",
    "        ax4.fill_between(tg_data.timepoint, tg_data['CKS_upper'], tg_data['CKS_lower'], alpha=0.2, color=colors[target])\n",
    "        #ax2.plot(tg_data.timepoint, tg_data['outcome_prev']/100, color=colors[target], marker='^', linestyle='--', alpha=0.6)\n",
    "        \n",
    "    #plt.xlabel('Prediction stage')\n",
    "    ax1.set_ylabel('MAE')\n",
    "    ax2.set_ylabel('cMAPE (%)')\n",
    "    ax3.set_ylabel('Balanced Accuracy')\n",
    "    ax4.set_ylabel('Cohen\\'s Kappa Score')\n",
    "    plt.suptitle('Performance trajectory in health contacts regression with 95% CI.')\n",
    "    #ax1.legend(loc='upper left', framealpha=0.5)\n",
    "    #ax2.legend(loc='upper left', framealpha=0.5)\n",
    "    ax1.grid(True, linestyle='--', alpha=0.7)\n",
    "    ax2.grid(True, linestyle='--', alpha=0.7)\n",
    "    ax3.grid(True, linestyle='--', alpha=0.7)\n",
    "    ax4.grid(True, linestyle='--', alpha=0.7)\n",
    "    ax1.set_ylim([0.75, 1.00])\n",
    "    ax2.set_ylim([30, 50])\n",
    "    ax3.set_ylim([0.25, 0.35])\n",
    "    ax4.set_ylim([0.35, 0.5])\n",
    "    ax2.yaxis.set_major_formatter(\"{x:1.0f}%\")\n",
    "    for a in [ax1, ax2, ax3, ax4]:\n",
    "        plt.sca(a)\n",
    "        plt.xticks(rotation=30)\n",
    "    #ax1.set_xticks(rotation=30)\n",
    "    #ax1.set_ylim(0.65, 1.0)\n",
    "    #ax2.set_ylim(0.0, 0.8)\n",
    "    plt.tight_layout()\n",
    "    plt.show()"
   ]
  },
  {
   "cell_type": "code",
   "execution_count": null,
   "id": "7e35455c-3793-4052-b163-9e521ff8f182",
   "metadata": {},
   "outputs": [],
   "source": [
    "plot_hc_trajectories(reg_hc_data)"
   ]
  },
  {
   "cell_type": "code",
   "execution_count": null,
   "id": "27734db1-7985-484d-b811-d8b4a0e948bd",
   "metadata": {},
   "outputs": [],
   "source": [
    "strat_hc_data['timepoint'] = np.where(strat_hc_data.timepoint == 'Hospital admission', 'Admission', strat_hc_data.timepoint)\n",
    "strat_hc_data['timepoint'] = np.where(strat_hc_data.timepoint == 'ED attendance', 'ED arrival', strat_hc_data.timepoint)"
   ]
  },
  {
   "cell_type": "code",
   "execution_count": null,
   "id": "6995a3fd-d8c1-4cd4-b7e2-22a4f9fd8116",
   "metadata": {},
   "outputs": [],
   "source": [
    "strat_hc_data.head()"
   ]
  },
  {
   "cell_type": "code",
   "execution_count": null,
   "id": "2bd86d28-3998-45e8-acf3-63a6f48c0d8d",
   "metadata": {},
   "outputs": [],
   "source": [
    "def plot_age_hc_trajectories(tr_data, colors={'50-59': '#fed98e', \n",
    "                                              '60-69': '#fdd49e', \n",
    "                                              '70-79': '#fdbb84', \n",
    "                                              '80-89': '#fc8d59', \n",
    "                                              '90+': '#e34a33'}):\n",
    "    fig, ((ax1, ax2), (ax3, ax4)) = plt.subplots(nrows=2, ncols=2, figsize=(7,7))\n",
    "    tr_data = tr_data[tr_data['Group'].isin(['50-59', '60-69', '70-79', '80-89', '90+'])]\n",
    "    for target in tr_data['Group'].unique():\n",
    "        tg_data = tr_data[tr_data.Group == target]\n",
    "        ax1.plot(tg_data.timepoint, tg_data['MAE'], marker='o', label=target, color=colors[target])\n",
    "        ax1.fill_between(tg_data.timepoint, tg_data['MAE-upper'], tg_data['MAE-lower'], alpha=0.2, color=colors[target])\n",
    "        ax2.plot(tg_data.timepoint, tg_data['MAPE'], marker='o', label=target, color=colors[target])\n",
    "        ax2.fill_between(tg_data.timepoint, tg_data['MAPE-upper'], tg_data['MAPE-lower'], alpha=0.2, color=colors[target])\n",
    "        ax3.plot(tg_data.timepoint, tg_data['Balanced Accuracy'], marker='o', label=target, color=colors[target])\n",
    "        ax3.fill_between(tg_data.timepoint, tg_data['Bacc_upper'], tg_data['Bacc_lower'], alpha=0.2, color=colors[target])\n",
    "        ax4.plot(tg_data.timepoint, tg_data['Cohen\\'s Kappa Score'], marker='o', label=target, color=colors[target])\n",
    "        ax4.fill_between(tg_data.timepoint, tg_data['CKS_upper'], tg_data['CKS_lower'], alpha=0.2, color=colors[target])\n",
    "        #ax2.plot(tg_data.timepoint, tg_data['outcome_prev']/100, color=colors[target], marker='^', linestyle='--', alpha=0.6)\n",
    "        \n",
    "    #plt.xlabel('Prediction stage')\n",
    "    ax1.set_ylabel('MAE')\n",
    "    ax2.set_ylabel('cMAPE (%)')\n",
    "    ax3.set_ylabel('Balanced Accuracy')\n",
    "    ax4.set_ylabel('Cohen\\'s Kappa Score')\n",
    "    plt.suptitle('Performance trajectory by age in health contacts regression with 95% CI.')\n",
    "    ax1.legend(loc='upper right', framealpha=0.5)\n",
    "    #ax2.legend(loc='upper left', framealpha=0.5)\n",
    "    ax1.grid(True, linestyle='--', alpha=0.7)\n",
    "    ax2.grid(True, linestyle='--', alpha=0.7)\n",
    "    ax3.grid(True, linestyle='--', alpha=0.7)\n",
    "    ax4.grid(True, linestyle='--', alpha=0.7)\n",
    "    ax1.set_ylim([0.7, 1.20])\n",
    "    ax2.set_ylim([25, 60])\n",
    "    ax3.set_ylim([0.20, 0.35])\n",
    "    ax4.set_ylim([0.1, 0.5])\n",
    "    ax2.yaxis.set_major_formatter(\"{x:1.0f}%\")\n",
    "    for a in [ax1, ax2, ax3, ax4]:\n",
    "        plt.sca(a)\n",
    "        plt.xticks(rotation=30)\n",
    "    #ax1.set_xticks(rotation=30)\n",
    "    #ax1.set_ylim(0.65, 1.0)\n",
    "    #ax2.set_ylim(0.0, 0.8)\n",
    "    plt.tight_layout()\n",
    "    plt.show()"
   ]
  },
  {
   "cell_type": "code",
   "execution_count": null,
   "id": "2644975a-13f0-4d4d-8205-c2f5f0008545",
   "metadata": {},
   "outputs": [],
   "source": [
    "plot_age_hc_trajectories(strat_hc_data)"
   ]
  },
  {
   "cell_type": "code",
   "execution_count": null,
   "id": "cdff5f5e-ba1a-4daa-9fa6-b52c2a5b4e66",
   "metadata": {},
   "outputs": [],
   "source": [
    "def plot_simd_hc_trajectories(tr_data, colors={'1 - most deprived': '#74a9cf', \n",
    "                                              '2-4': '#2b8cbe', \n",
    "                                              '5 - least deprived': '#045a8d'}):\n",
    "    fig, ((ax1, ax2), (ax3, ax4)) = plt.subplots(nrows=2, ncols=2, figsize=(7,7))\n",
    "    tr_data = tr_data[tr_data['Group'].isin(['1 - most deprived', '2-4', '5 - least deprived'])]\n",
    "    for target in tr_data['Group'].unique():\n",
    "        tg_data = tr_data[tr_data.Group == target]\n",
    "        ax1.plot(tg_data.timepoint, tg_data['MAE'], marker='o', label=target, color=colors[target])\n",
    "        ax1.fill_between(tg_data.timepoint, tg_data['MAE-upper'], tg_data['MAE-lower'], alpha=0.2, color=colors[target])\n",
    "        ax2.plot(tg_data.timepoint, tg_data['MAPE'], marker='o', label=target, color=colors[target])\n",
    "        ax2.fill_between(tg_data.timepoint, tg_data['MAPE-upper'], tg_data['MAPE-lower'], alpha=0.2, color=colors[target])\n",
    "        ax3.plot(tg_data.timepoint, tg_data['Balanced Accuracy'], marker='o', label=target, color=colors[target])\n",
    "        ax3.fill_between(tg_data.timepoint, tg_data['Bacc_upper'], tg_data['Bacc_lower'], alpha=0.2, color=colors[target])\n",
    "        ax4.plot(tg_data.timepoint, tg_data['Cohen\\'s Kappa Score'], marker='o', label=target, color=colors[target])\n",
    "        ax4.fill_between(tg_data.timepoint, tg_data['CKS_upper'], tg_data['CKS_lower'], alpha=0.2, color=colors[target])\n",
    "        #ax2.plot(tg_data.timepoint, tg_data['outcome_prev']/100, color=colors[target], marker='^', linestyle='--', alpha=0.6)\n",
    "        \n",
    "    #plt.xlabel('Prediction stage')\n",
    "    ax1.set_ylabel('MAE')\n",
    "    ax2.set_ylabel('cMAPE (%)')\n",
    "    ax3.set_ylabel('Balanced Accuracy')\n",
    "    ax4.set_ylabel('Cohen\\'s Kappa Score')\n",
    "    plt.suptitle('Performance trajectory by SIMD in health contacts regression with 95% CI.')\n",
    "    ax4.legend(loc='lower right', framealpha=0.5)\n",
    "    #ax2.legend(loc='upper left', framealpha=0.5)\n",
    "    ax1.grid(True, linestyle='--', alpha=0.7)\n",
    "    ax2.grid(True, linestyle='--', alpha=0.7)\n",
    "    ax3.grid(True, linestyle='--', alpha=0.7)\n",
    "    ax4.grid(True, linestyle='--', alpha=0.7)\n",
    "    ax1.set_ylim([0.75, 1.05])\n",
    "    ax2.set_ylim([25, 55])\n",
    "    ax3.set_ylim([0.25, 0.35])\n",
    "    ax4.set_ylim([0.25, 0.55])\n",
    "    ax2.yaxis.set_major_formatter(\"{x:1.0f}%\")\n",
    "    for a in [ax1, ax2, ax3, ax4]:\n",
    "        plt.sca(a)\n",
    "        plt.xticks(rotation=30)\n",
    "    #ax1.set_xticks(rotation=30)\n",
    "    #ax1.set_ylim(0.65, 1.0)\n",
    "    #ax2.set_ylim(0.0, 0.8)\n",
    "    plt.tight_layout()\n",
    "    plt.show()"
   ]
  },
  {
   "cell_type": "code",
   "execution_count": null,
   "id": "09073465-736e-4ff4-8382-2bec58e9b36d",
   "metadata": {},
   "outputs": [],
   "source": [
    "plot_simd_hc_trajectories(strat_hc_data)"
   ]
  }
 ],
 "metadata": {
  "kernelspec": {
   "display_name": "Python 3 (ipykernel)",
   "language": "python",
   "name": "python3"
  },
  "language_info": {
   "codemirror_mode": {
    "name": "ipython",
    "version": 3
   },
   "file_extension": ".py",
   "mimetype": "text/x-python",
   "name": "python",
   "nbconvert_exporter": "python",
   "pygments_lexer": "ipython3",
   "version": "3.10.12"
  }
 },
 "nbformat": 4,
 "nbformat_minor": 5
}
