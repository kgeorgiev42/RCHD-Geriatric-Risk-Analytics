{
 "cells": [
  {
   "cell_type": "code",
   "execution_count": null,
   "id": "03011be5-b3c2-48ac-8f85-098d9167f636",
   "metadata": {},
   "outputs": [],
   "source": [
    "import pandas as pd\n",
    "import matplotlib.pyplot as plt\n",
    "import seaborn as sns\n",
    "import numpy as np\n",
    "import matplotlib.ticker as mtick\n",
    "from scipy import stats\n",
    "from matplotlib.dates import DateFormatter\n",
    "from datetime import timedelta\n",
    "from datetime import datetime\n",
    "from tqdm import tqdm\n",
    "from tableone import TableOne\n",
    "\n",
    "from boruta import BorutaPy\n",
    "from sklearn.ensemble import RandomForestClassifier, RandomForestRegressor, GradientBoostingRegressor\n",
    "from sklearn.model_selection import train_test_split\n",
    "import gc"
   ]
  },
  {
   "cell_type": "code",
   "execution_count": null,
   "id": "dafc707e-60dd-4e22-9d55-c028178313a8",
   "metadata": {},
   "outputs": [],
   "source": [
    "### Helper functions\n",
    "def timer(st=None):\n",
    "    if not st:\n",
    "        st = datetime.now()\n",
    "        return st\n",
    "    elif st:\n",
    "        th, temps = divmod((datetime.now() - st).total_seconds(), 3600)\n",
    "        tm, ts = divmod(temps, 60)\n",
    "        print('Elapsed time: %i hours: %i mins: %i secs.' % (th, tm, round(ts,2)))"
   ]
  },
  {
   "cell_type": "markdown",
   "id": "b9e69db3-cf59-4375-b38a-0febcdb7c286",
   "metadata": {},
   "source": [
    "##### Feature selection and train/val split pipeline"
   ]
  },
  {
   "cell_type": "code",
   "execution_count": null,
   "id": "a7be89ee-e79b-4993-8efc-5afc18fc9476",
   "metadata": {},
   "outputs": [],
   "source": [
    "r_types = pd.read_csv('', names=['item', 'dtype'], skiprows=1)\n",
    "dtype_dict = {}\n",
    "for idx, row in r_types.iterrows():\n",
    "    dtype_dict[row['item']] = row['dtype']"
   ]
  },
  {
   "cell_type": "code",
   "execution_count": null,
   "id": "0666ebae-bb9c-412c-b270-98803c02d450",
   "metadata": {},
   "outputs": [],
   "source": [
    "#### Load index cohort\n",
    "inp_data = pd.read_csv('', low_memory=True, dtype=dtype_dict)"
   ]
  },
  {
   "cell_type": "code",
   "execution_count": null,
   "id": "5c61c517-41cc-47f8-9985-69eba0843568",
   "metadata": {},
   "outputs": [],
   "source": [
    "mdata = pd.read_csv('')\n",
    "mdata_sel = mdata[['ppid', 'total_n_disciplines', 'total_count_ooh_all', 'gt_eld', 'gt_eld_d1', 'gt_eld_d2', 'gt_eld_d3']]"
   ]
  },
  {
   "cell_type": "code",
   "execution_count": null,
   "id": "81c8ecdd-b52e-4302-808e-c8243031ce90",
   "metadata": {
    "scrolled": true
   },
   "outputs": [],
   "source": [
    "inp_data.columns.tolist()"
   ]
  },
  {
   "cell_type": "markdown",
   "id": "ca88c7d9-2086-4ebe-abe9-ff80eb566a38",
   "metadata": {},
   "source": [
    "#### Set group variables"
   ]
  },
  {
   "cell_type": "code",
   "execution_count": null,
   "id": "8c952eb5-c188-4b3d-b02d-ab0a1ef01425",
   "metadata": {},
   "outputs": [],
   "source": [
    "### Set age groups\n",
    "inp_data['age_gr'] = np.where((inp_data['AgeAtAdmission']>=50)&(inp_data['AgeAtAdmission']<60), '50-59', '90+')\n",
    "inp_data['age_gr'] = np.where((inp_data['AgeAtAdmission']>=60)&(inp_data['AgeAtAdmission']<70), '60-69', inp_data['age_gr'])\n",
    "inp_data['age_gr'] = np.where((inp_data['AgeAtAdmission']>=70)&(inp_data['AgeAtAdmission']<80), '70-79', inp_data['age_gr'])\n",
    "inp_data['age_gr'] = np.where((inp_data['AgeAtAdmission']>=80)&(inp_data['AgeAtAdmission']<90), '80-89', inp_data['age_gr'])\n",
    "\n",
    "### Set care intensity outcome and groups\n",
    "inp_data['total_count_all_tf'] = stats.boxcox(inp_data['total_count_all'], lmbda=0.0)\n",
    "inp_data['total_count_cts_gr'] = pd.qcut(inp_data.total_count_all, q=3, labels=['Low', 'Medium', 'High']).astype('O')\n",
    "print(inp_data['total_count_cts_gr'].value_counts())"
   ]
  },
  {
   "cell_type": "code",
   "execution_count": null,
   "id": "9fd19c9e-93e9-42f5-806d-fe445a8689d2",
   "metadata": {},
   "outputs": [],
   "source": [
    "#### Specify features to retain\n",
    "lkup_features = ['ppid',\n",
    " 'EpisodeNumber',\n",
    " 'AdmissionDate',\n",
    " 'ED_adate_dt',\n",
    " 'IndexAttDate',\n",
    " 'HOSP_adt',\n",
    " 'DischargeDate',\n",
    " 'HOSP_ddt',\n",
    " 'breq_dt',\n",
    " 'HOSP_FCC_dt',\n",
    " 'HOSP_FAS_dt',\n",
    " 'AgeAtAdmission',\n",
    " 'DateOfDeath',\n",
    " 'simd_dec',\n",
    " 'gt_m',\n",
    " 'gt_cc',\n",
    " 'gt_es_hosp',\n",
    " 'gt_dd',\n",
    " 'total_count_all',\n",
    " 'total_count_rehab',\n",
    " 'Sex_F',\n",
    " 'arrival_mode_B',\n",
    " 'arrival_mode_E',\n",
    " 'arrival_mode_O',\n",
    " 'arrival_mode_PR',\n",
    " 'arrival_mode_PU',\n",
    " 'arrival_mode_R',\n",
    " 'arrival_mode_U',\n",
    " 'arrival_mode_Unk',\n",
    " 'arrival_mode_W',\n",
    " 'age_gr',\n",
    " 'triage_code',\n",
    " 'total_count_all_tf',\n",
    " 'total_count_cts_gr'\n",
    "]"
   ]
  },
  {
   "cell_type": "code",
   "execution_count": null,
   "id": "8bd3c7c7-0ca2-48af-bfc4-e763e62cff63",
   "metadata": {},
   "outputs": [],
   "source": [
    "#### Drop any features before preprocessing step\n",
    "to_drop = ['PresentingCondition_Acute_myocardial_infarction',\n",
    " 'PresentingCondition_Alcohol_abuse',\n",
    " 'PresentingCondition_Asthma',\n",
    " 'PresentingCondition_Atrial_fibrillation',\n",
    " 'PresentingCondition_COPD',\n",
    " 'PresentingCondition_Delirium',\n",
    " 'PresentingCondition_Heart_failure',\n",
    " 'PresentingCondition_Stable_angina',\n",
    " 'PresentingCondition_Stroke',\n",
    " 'PresentingCondition_Transient_ischaemic_attack',\n",
    " 'coh_idx',\n",
    " 'HOSP_adt_s','AttendedED', 'total_unique_conditions',\n",
    " ### Features after ED attendance\n",
    " 'ww_prev_syst_code_cardiovascular',\n",
    " 'ww_prev_syst_code_gastrointestinal',\n",
    " 'ww_prev_syst_code_renal',\n",
    " 'ww_prev_syst_code_respiratory',\n",
    " 'ww_prev_syst_code_unk',\n",
    " 'ww_prev_surg_code_cardiac',\n",
    " 'ww_prev_surg_code_gastrointestinal',\n",
    " 'ww_prev_surg_code_unk',\n",
    " 'ww_prev_surg_code_urological',\n",
    " 'ww_iv_need',\n",
    " 'ww_cpap_need',\n",
    " 'ww_02_b50pc',\n",
    " 'ww_airway_eti',\n",
    " 'ww_multi_iv_drugs',\n",
    " 'ww_ac_renal_repl',\n",
    " 'ww_inv_neuro_monitor',\n",
    " 'ww_neuro_1to1_need',\n",
    " 'ww_cns_depression',\n",
    " 'ww_nutr_par_need',\n",
    " 'ww_nutr_ent_need',\n",
    " 'ww_antimicr',\n",
    " 'ww_surgery',\n",
    " 'ww_trauma',\n",
    " 'ww_AP2',\n",
    " 'ww_vent_days',\n",
    " 'trQ_4at',\n",
    " 'trQ_bwm_urinary_catheterisation',\n",
    " 'trQ_bwm_urinary_incontinence',\n",
    " 'trQ_bwm_dysuria',\n",
    " 'trQ_bwm_>6times_per_day',\n",
    " 'trQ_bwm_nocturia_>2_per_night',\n",
    " 'trQ_bwm_faeces_incontinence',\n",
    " 'trQ_bwm_constipation',\n",
    " 'trQ_bwm_diarrhoea',\n",
    " 'trQ_bwm_blood_in_stools',\n",
    " 'trQ_bwm_medication',\n",
    " 'trQ_falls_within_6_months',\n",
    " 'trQ_falls_clinical_risk',\n",
    " 'trQ_nutr_food_allergies',\n",
    " 'trQ_nutr_swallowing_difficulty',\n",
    " 'trQ_mrsa_infection_prevention',\n",
    " 'trQ_mrsa_transfer_with_norovirus',\n",
    " 'trQ_mrsa_resp_or_fever',\n",
    " 'trQ_mrsa_rash_fever_or_flu',\n",
    " 'trQ_mrsa_infectious_diseases_contact',\n",
    " 'trQ_rub_nursing_falls_risk_assessment',\n",
    " 'trQ_rub_at_risk_of_bed_fall',\n",
    " 'trQ_waterlow_score',\n",
    " 'trQ_MUST_score',\n",
    " 'trQ_mobility_walking_ASSISTANCE',\n",
    " 'trQ_mobility_walking_BED_REST',\n",
    " 'trQ_mobility_walking_INDEPENDENT',\n",
    " 'trQ_mobility_toileting_ASSISTANCE',\n",
    " 'trQ_mobility_toileting_BED_REST',\n",
    " 'trQ_mobility_toileting_INDEPENDENT',\n",
    " 'trQ_mobility_bathing_ASSISTANCE',\n",
    " 'trQ_mobility_bathing_BED_REST',\n",
    " 'trQ_mobility_bathing_INDEPENDENT',\n",
    " 'trQ_mobility_bed_rolling_ASSISTANCE',\n",
    " 'trQ_mobility_bed_rolling_INDEPENDENT',\n",
    " 'trQ_mobility_bed_moveup_ASSISTANCE',\n",
    " 'trQ_mobility_bed_moveup_INDEPENDENT',\n",
    " 'trQ_mobility_bed_out_ASSISTANCE',\n",
    " 'trQ_mobility_bed_out_BED_REST',\n",
    " 'trQ_mobility_bed_out_INDEPENDENT',\n",
    " 'trQ_mobility_bed_in_ASSISTANCE',\n",
    " 'trQ_mobility_bed_in_BED_REST',\n",
    " 'trQ_mobility_bed_in_INDEPENDENT',\n",
    " 'trQ_mobility_sss_ASSISTANCE',\n",
    " 'trQ_mobility_sss_BED_REST',\n",
    " 'trQ_mobility_sss_INDEPENDENT',\n",
    " 'trQ_mobility_lateral_ASSISTANCE',\n",
    " 'trQ_mobility_lateral_BED_REST',\n",
    " 'trQ_mobility_lateral_INDEPENDENT',\n",
    " 'trQ_mobility_floorup_ASSISTANCE',\n",
    " 'trQ_mobility_floorup_BED_REST',\n",
    " 'trQ_mobility_floorup_INDEPENDENT'\n",
    " ]\n",
    "    \n",
    "inp_data = inp_data.drop(to_drop, axis=1)\n",
    "inp_data = inp_data.drop([col for col in inp_data.columns if col.endswith('_r')], axis=1)\n",
    "inp_data = inp_data.drop([col for col in inp_data.columns if col.endswith('_d')], axis=1)\n",
    "inp_data = inp_data.drop([col for col in inp_data.columns if col.startswith('dsf_')], axis=1)"
   ]
  },
  {
   "cell_type": "code",
   "execution_count": null,
   "id": "ebe461ed-db38-4faa-b376-7c147323e461",
   "metadata": {},
   "outputs": [],
   "source": [
    "#### Change formatting in categorical data\n",
    "inp_data[[col for col in inp_data.columns if 'arrival_mode' in col]] = inp_data[[col for col in inp_data.columns if 'arrival_mode' in col]].astype(np.int8)\n",
    "inp_data[[col for col in inp_data.columns if 'triage_code' in col]] = inp_data[[col for col in inp_data.columns if 'triage_code' in col]].astype(np.int8)\n",
    "inp_data[[col for col in inp_data.columns if 'trQ_mobility' in col]] = inp_data[[col for col in inp_data.columns if 'trQ_mobility' in col]].astype(np.int8)"
   ]
  },
  {
   "cell_type": "markdown",
   "id": "aec0e923-a124-4b17-a5b0-57bebfff8ce8",
   "metadata": {},
   "source": [
    "##### Remove correlated features"
   ]
  },
  {
   "cell_type": "code",
   "execution_count": null,
   "id": "1b54515b-ac37-49bf-93a3-e9cb7f85af78",
   "metadata": {},
   "outputs": [],
   "source": [
    "def remove_corr_feat(x, threshold, method='pearson'):\n",
    "    corr_mat = x.corr(method=method)\n",
    "    iters = range(len(corr_mat.columns) - 1)\n",
    "    drop_cols = []\n",
    "    #drop_fx = []\n",
    "    for i in tqdm(iters):\n",
    "        for j in range(i+1):\n",
    "            item = corr_mat.iloc[j:(j+1), (i+1):(i+2)]\n",
    "            col = item.columns\n",
    "            row = item.index\n",
    "            val = abs(item.values)\n",
    "            if val >= threshold:\n",
    "                print(col.values[0], \"||\", row.values[0], \"||\", round(val[0][0], 2))\n",
    "                drop_cols.append(col.values[0])\n",
    "\n",
    "    #for col in drop_cols:\n",
    "        #if col.endswith('_v'):\n",
    "            #drop_fx.append(col[:-2] + '_d')\n",
    "            #drop_fx.append(col[:-2] + '_r')\n",
    "        #else:\n",
    "            #drop_fx.append(col)\n",
    "\n",
    "    #print(drop_fx)\n",
    "    drops = set(drop_cols)\n",
    "    x = x.drop(columns=drops)\n",
    "    print('Removed columns {}'.format(drops))\n",
    "    return x"
   ]
  },
  {
   "cell_type": "code",
   "execution_count": null,
   "id": "854e1920-ca94-4cf6-aba4-d96d42ee572e",
   "metadata": {
    "scrolled": true
   },
   "outputs": [],
   "source": [
    "reh_data_i = inp_data[lkup_features]\n",
    "reh_data_s = inp_data.drop(lkup_features, axis=1)\n",
    "reh_data_s = remove_corr_feat(reh_data_s, threshold=0.9)"
   ]
  },
  {
   "cell_type": "code",
   "execution_count": null,
   "id": "6461a7ad-5cd9-4841-a498-c4af8d662626",
   "metadata": {},
   "outputs": [],
   "source": [
    "all_cols = reh_data_i.columns.tolist() + reh_data_s.columns.tolist()\n",
    "inp_data = inp_data[all_cols]"
   ]
  },
  {
   "cell_type": "code",
   "execution_count": null,
   "id": "6fcb33ac-617c-476c-9eac-7f354b48465e",
   "metadata": {},
   "outputs": [],
   "source": [
    "inp_data.shape, inp_data.ppid.nunique()"
   ]
  },
  {
   "cell_type": "code",
   "execution_count": null,
   "id": "ca03bf2d-1ba3-4422-97c7-b050a6e1e46f",
   "metadata": {},
   "outputs": [],
   "source": [
    "inp_data.columns.tolist()"
   ]
  },
  {
   "cell_type": "markdown",
   "id": "79f099d9-73ef-4e1f-a513-84b65afbd84f",
   "metadata": {},
   "source": [
    "##### Setup automated feature selection across all health outcomes"
   ]
  },
  {
   "cell_type": "code",
   "execution_count": null,
   "id": "b85e2366-01e1-4407-8120-418173dbfcd8",
   "metadata": {},
   "outputs": [],
   "source": [
    "bor_data_lk = inp_data[lkup_features]\n",
    "bor_X_tr = inp_data.drop(lkup_features, axis=1)\n",
    "bor_y = inp_data['gt_m']"
   ]
  },
  {
   "cell_type": "code",
   "execution_count": null,
   "id": "57060845-0cab-400a-9e6a-3a008860a48b",
   "metadata": {},
   "outputs": [],
   "source": [
    "def boruta_auto_sel(X_data, y_data, task='clf', outcome='gt_m', file_out='',\n",
    "                   n_est=200, n_est_b='auto', md=5, es=5):\n",
    "    if task=='clf':\n",
    "        rfc = RandomForestClassifier(n_estimators=n_est, n_jobs=-1, class_weight='balanced', max_depth=md)\n",
    "    else:\n",
    "        rfc = GradientBoostingRegressor(loss='huber',\n",
    "                                    n_estimators=n_est, max_depth=md)\n",
    "    b_sel = BorutaPy(rfc, n_estimators=n_est_b, verbose=2, early_stopping=True, n_iter_no_change=es)\n",
    "    start_time = timer(None)\n",
    "    b_sel.fit(X_data, y_data)\n",
    "    timer(start_time)\n",
    "    print('Total N selected features {0}, for outcome {1}'.format(b_sel.n_features_, outcome))\n",
    "    feat_df = pd.DataFrame(X_data.columns.tolist(), columns=['features'])\n",
    "    feat_df['rank'] = b_sel.ranking_\n",
    "    feat_df = feat_df.sort_values('rank', ascending=True).reset_index(drop=True)\n",
    "    print('Saving ranking to disk.')\n",
    "    feat_df.to_csv(file_out, index=False)\n",
    "    feat_sel = X_data.columns[b_sel.support_]\n",
    "    X_data_sel = X_data[feat_sel]\n",
    "    return X_data_sel"
   ]
  },
  {
   "cell_type": "code",
   "execution_count": null,
   "id": "8fb51ce8-cab7-4240-bfd3-9d91c8e535cf",
   "metadata": {
    "scrolled": true
   },
   "outputs": [],
   "source": [
    "X_sel_m = boruta_auto_sel(bor_X_tr, bor_y)"
   ]
  },
  {
   "cell_type": "code",
   "execution_count": null,
   "id": "0c2ff602-1675-4967-b699-2f8b3f528e58",
   "metadata": {},
   "outputs": [],
   "source": [
    "X_sel_m.shape"
   ]
  },
  {
   "cell_type": "code",
   "execution_count": null,
   "id": "02a4e9ea-39ac-4212-a54e-b2895fb60fd7",
   "metadata": {
    "scrolled": true
   },
   "outputs": [],
   "source": [
    "X_sel_cc = boruta_auto_sel(bor_X_tr, inp_data['gt_cc'], outcome='gt_cc', \n",
    "                           file_out='', es=10)"
   ]
  },
  {
   "cell_type": "code",
   "execution_count": null,
   "id": "5193ea7d-1c6a-4ceb-8d35-ab8896e3f0f6",
   "metadata": {
    "scrolled": true
   },
   "outputs": [],
   "source": [
    "X_sel_es = boruta_auto_sel(bor_X_tr, inp_data['gt_es_hosp'], outcome='gt_es_hosp', \n",
    "                           file_out='', es=10)"
   ]
  },
  {
   "cell_type": "code",
   "execution_count": null,
   "id": "bf4974c8-3d25-4f96-bd21-b65e9f14ef64",
   "metadata": {
    "scrolled": true
   },
   "outputs": [],
   "source": [
    "X_sel_dd = boruta_auto_sel(bor_X_tr, inp_data['gt_dd'], outcome='gt_dd', \n",
    "                           file_out='', es=10)"
   ]
  },
  {
   "cell_type": "code",
   "execution_count": null,
   "id": "75b61656-d377-4c62-8adc-8c682627bc14",
   "metadata": {
    "scrolled": true
   },
   "outputs": [],
   "source": [
    "X_sel_contacts = boruta_auto_sel(bor_X_tr, inp_data['total_count_all_tf'], outcome='total_count_all_tf', \n",
    "                           file_out='', n_est=10, n_est_b=50, es=10, task='reg')"
   ]
  },
  {
   "cell_type": "code",
   "execution_count": null,
   "id": "eaa69727-1383-4599-a6f9-365285b45fec",
   "metadata": {},
   "outputs": [],
   "source": [
    "#### Perform cross-outcome feature selection\n",
    "rank_threshold = 10\n",
    "X_m_feat = pd.read_csv('')\n",
    "X_m_feat = X_m_feat[X_m_feat['rank']<rank_threshold].features.tolist()\n",
    "X_cc_feat = pd.read_csv('')\n",
    "X_cc_feat = X_cc_feat[X_cc_feat['rank']<rank_threshold].features.tolist()\n",
    "X_es_feat = pd.read_csv('')\n",
    "X_es_feat = X_es_feat[X_es_feat['rank']<rank_threshold].features.tolist()\n",
    "X_dd_feat = pd.read_csv('')\n",
    "X_dd_feat = X_dd_feat[X_dd_feat['rank']<rank_threshold].features.tolist()\n",
    "X_cts_feat = pd.read_csv('')\n",
    "X_cts_feat = X_cts_feat[X_cts_feat['rank']<rank_threshold].features.tolist()\n",
    "bor_cross_feat = list(set(X_m_feat)|set(X_cc_feat)|set(X_es_feat)|set(X_dd_feat)|set(X_cts_feat))\n",
    "\n",
    "bor_X_sel = inp_data[[feat for feat in bor_cross_feat if feat in inp_data.columns.tolist()]]\n",
    "print('Features selected:')\n",
    "print(bor_X_tr[[col for col in bor_X_tr if col in bor_cross_feat]].columns.tolist())\n",
    "print(len(bor_X_tr[[col for col in bor_X_tr if col in bor_cross_feat]].columns.tolist()))\n",
    "print('Features dropped:')\n",
    "print(bor_X_tr[[col for col in bor_X_tr if col not in bor_cross_feat]].columns.tolist())\n",
    "print(len(bor_X_tr[[col for col in bor_X_tr if col not in bor_cross_feat]].columns.tolist()))\n",
    "print('Output shape:', bor_X_sel.shape)"
   ]
  },
  {
   "cell_type": "code",
   "execution_count": null,
   "id": "eed308cd-f208-4dde-b2c4-8cbc581602d0",
   "metadata": {},
   "outputs": [],
   "source": [
    "#bor_X_sel = bor_X_tr # Skip Boruta and build full feature set\n",
    "all_feat = lkup_features + bor_X_sel.columns.tolist()\n",
    "inp_data = inp_data[all_feat]"
   ]
  },
  {
   "cell_type": "code",
   "execution_count": null,
   "id": "f36787d1-085d-4cdf-8141-96e694497041",
   "metadata": {},
   "outputs": [],
   "source": [
    "inp_data.columns.tolist()"
   ]
  },
  {
   "cell_type": "markdown",
   "id": "f4e21dea-2d0e-4c57-8c82-6f62b94f4630",
   "metadata": {},
   "source": [
    "##### Create train/val splits"
   ]
  },
  {
   "cell_type": "markdown",
   "id": "6597c083-0deb-4ae2-9687-b48a6675b59f",
   "metadata": {},
   "source": [
    "##### In-hospital death"
   ]
  },
  {
   "cell_type": "code",
   "execution_count": null,
   "id": "463eaceb-38d4-4727-80bd-45d3334a24a3",
   "metadata": {},
   "outputs": [],
   "source": [
    "inp_data = inp_data.merge(mdata_sel, how='left', on='ppid')"
   ]
  },
  {
   "cell_type": "code",
   "execution_count": null,
   "id": "77763b0d-d26f-447c-bb62-5069aac5cb34",
   "metadata": {},
   "outputs": [],
   "source": [
    "inp_data['total_n_disciplines_gr'] = np.where(inp_data['total_n_disciplines'] == 1, '1', '4+')\n",
    "inp_data['total_n_disciplines_gr'] = np.where(inp_data['total_n_disciplines'] == 2, '2', inp_data['total_n_disciplines_gr'])\n",
    "inp_data['total_n_disciplines_gr'] = np.where(inp_data['total_n_disciplines'] == 3, '3', inp_data['total_n_disciplines_gr']).astype(pd.Categorical)"
   ]
  },
  {
   "cell_type": "code",
   "execution_count": null,
   "id": "0486cdf0-7584-4c46-8f38-9f9fbb3bc494",
   "metadata": {},
   "outputs": [],
   "source": [
    "inp_data[['age_gr', 'gt_m']].groupby('gt_m')['age_gr'].value_counts()"
   ]
  },
  {
   "cell_type": "code",
   "execution_count": null,
   "id": "091436e0-138b-4d0d-bc81-23bf4c7fa9b9",
   "metadata": {},
   "outputs": [],
   "source": [
    "r_x_train, r_x_val, r_y_train, r_y_val = train_test_split(inp_data.drop(['gt_m', 'Sex_F', 'age_gr'], axis=1),\n",
    "                                                          pd.concat([inp_data['age_gr'], inp_data['Sex_F'], inp_data['gt_m']], axis=1),\n",
    "                                                          test_size=0.3,\n",
    "                                                          random_state=42,\n",
    "                                                          stratify=pd.concat([inp_data['age_gr'], inp_data['Sex_F'], inp_data['gt_m']], axis=1))\n",
    "print(r_x_train.shape, r_x_val.shape)"
   ]
  },
  {
   "cell_type": "code",
   "execution_count": null,
   "id": "23b08ee7-02f0-478b-a6c1-afab314872af",
   "metadata": {},
   "outputs": [],
   "source": [
    "r_x_train = pd.concat([r_x_train, r_y_train], axis=1)\n",
    "r_x_train['set'] = 'train'\n",
    "r_x_val = pd.concat([r_x_val, r_y_val], axis=1)\n",
    "r_x_val['set'] = 'validation'\n",
    "r_x = pd.concat([r_x_train, r_x_val], axis=0)\n",
    "print(r_x_train.groupby('gt_m')['age_gr'].value_counts())\n",
    "print(r_x_val.groupby('gt_m')['age_gr'].value_counts())"
   ]
  },
  {
   "cell_type": "code",
   "execution_count": null,
   "id": "937cb24b-1f91-41b8-9f0a-6157ce2c16a2",
   "metadata": {},
   "outputs": [],
   "source": [
    "print(r_x_train.gt_m.value_counts(normalize=True))\n",
    "print(r_x_val.gt_m.value_counts(normalize=True))"
   ]
  },
  {
   "cell_type": "code",
   "execution_count": null,
   "id": "c634c033-7a6d-47e1-8f41-e7a922bd8796",
   "metadata": {},
   "outputs": [],
   "source": [
    "inp_data.total_n_disciplines_gr.value_counts()"
   ]
  },
  {
   "cell_type": "code",
   "execution_count": null,
   "id": "0ee0e482-f882-4036-bd2e-a10b7947aa7b",
   "metadata": {},
   "outputs": [],
   "source": [
    "dm_data_tb = r_x.copy()\n",
    "dm_data_tb['Sex'] = np.where(r_x.Sex_F == 1, 'F', 'M')\n",
    "dm_data_tb['simd_quint'] = np.where(dm_data_tb.simd_dec.isin([1,2]), 1, -1)\n",
    "dm_data_tb['simd_quint'] = np.where(dm_data_tb.simd_dec.isin([3,4]), 2, dm_data_tb['simd_quint'])\n",
    "dm_data_tb['simd_quint'] = np.where(dm_data_tb.simd_dec.isin([5,6]), 3, dm_data_tb['simd_quint'])\n",
    "dm_data_tb['simd_quint'] = np.where(dm_data_tb.simd_dec.isin([7,8]), 4, dm_data_tb['simd_quint'])\n",
    "dm_data_tb['simd_quint'] = np.where(dm_data_tb.simd_dec.isin([9,10]), 5, dm_data_tb['simd_quint'])\n",
    "dm_data_tb['simd_gr'] = np.where(dm_data_tb['simd_quint'] < 2, '1', '5')\n",
    "dm_data_tb['simd_gr'] = np.where(dm_data_tb['simd_quint'] == -1, '-1', dm_data_tb['simd_gr'])\n",
    "dm_data_tb['simd_gr'] = np.where((dm_data_tb['simd_quint'] < 5)&(dm_data_tb['simd_quint']>=2), '2-4', dm_data_tb['simd_gr'])\n",
    "dm_data_tb = dm_data_tb.rename(columns={'AgeAtAdmission': 'Age',\n",
    "                                 'age_gr': 'Age group',\n",
    "                                 'simd_gr': 'SIMD (1 - most deprived, 5 - least deprived)',\n",
    "                                 'gt_m': 'In-hospital mortality',\n",
    "                                 'total_count_all': 'Total health contacts',\n",
    "                                 'total_count_rehab': 'Total rehabilitation contacts',\n",
    "                                 'total_count_ooh_all': 'Out-of-hours contacts',\n",
    "                                 'total_n_disciplines_gr': 'Number of disciplines involved'\n",
    "                                       })\n",
    "t_cols = ['Age', 'Total health contacts', 'Total rehabilitation contacts', 'Out-of-hours contacts']\n",
    "groupby = ['set']\n",
    "categorical = ['Age group', 'Sex', 'SIMD (1 - most deprived, 5 - least deprived)', 'In-hospital mortality', 'Number of disciplines involved']\n",
    "dm_data_tb = dm_data_tb[['set', 'Age', 'Age group', 'Sex', 'SIMD (1 - most deprived, 5 - least deprived)', 'In-hospital mortality',\n",
    "                        'Total health contacts', 'Total rehabilitation contacts', 'Out-of-hours contacts', \n",
    "                         'Number of disciplines involved']]\n",
    "sum_table = TableOne(dm_data_tb, dm_data_tb.columns.tolist(), categorical=categorical,\n",
    "                     overall=True, missing=True, htest_name=True, decimals={'Age': 0}, tukey_test=True,\n",
    "                     groupby=groupby, nonnormal=['Age', 'Total health contacts'], pval=True)\n",
    "sum_table"
   ]
  },
  {
   "cell_type": "code",
   "execution_count": null,
   "id": "202405d6-222c-4971-bc74-35c348507d5a",
   "metadata": {},
   "outputs": [],
   "source": [
    "## Export\n",
    "r_x_train = r_x_train.drop(['set'], axis=1)\n",
    "r_x_val = r_x_val.drop(['set'], axis=1)\n",
    "pd.DataFrame(r_x_train.dtypes).to_csv('')\n",
    "r_x_train.to_csv('', index=False)\n",
    "r_x_val.to_csv('', index=False)"
   ]
  },
  {
   "cell_type": "markdown",
   "id": "7569c7e3-bfd3-4a90-afa3-525e97dfb82d",
   "metadata": {},
   "source": [
    "##### Prolonged length-of-stay"
   ]
  },
  {
   "cell_type": "code",
   "execution_count": null,
   "id": "1b21fa3d-75d8-478c-8322-044982815d4c",
   "metadata": {},
   "outputs": [],
   "source": [
    "r_x_train, r_x_val, r_y_train, r_y_val = train_test_split(inp_data.drop(['gt_es_hosp', 'Sex_F', 'age_gr'], axis=1),\n",
    "                                                          pd.concat([inp_data['age_gr'], inp_data['Sex_F'], inp_data['gt_es_hosp']], axis=1),\n",
    "                                                          test_size=0.3,\n",
    "                                                          random_state=42,\n",
    "                                                          stratify=pd.concat([inp_data['age_gr'], inp_data['Sex_F'], inp_data['gt_es_hosp']], axis=1))\n",
    "print(r_x_train.shape, r_x_val.shape)"
   ]
  },
  {
   "cell_type": "code",
   "execution_count": null,
   "id": "8a09a910-c5c3-4450-b23b-0f942a51d672",
   "metadata": {},
   "outputs": [],
   "source": [
    "r_x_train = pd.concat([r_x_train, r_y_train], axis=1)\n",
    "r_x_train['set'] = 'train'\n",
    "r_x_val = pd.concat([r_x_val, r_y_val], axis=1)\n",
    "r_x_val['set'] = 'validation'\n",
    "r_x = pd.concat([r_x_train, r_x_val], axis=0)\n",
    "print(r_x_train.groupby('gt_es_hosp')['age_gr'].value_counts())\n",
    "print(r_x_val.groupby('gt_es_hosp')['age_gr'].value_counts())"
   ]
  },
  {
   "cell_type": "code",
   "execution_count": null,
   "id": "82e07058-1c90-410d-b3b2-bead535bc9e3",
   "metadata": {},
   "outputs": [],
   "source": [
    "print(r_x_train.gt_es_hosp.value_counts(normalize=True))\n",
    "print(r_x_val.gt_es_hosp.value_counts(normalize=True))"
   ]
  },
  {
   "cell_type": "code",
   "execution_count": null,
   "id": "5c0f7d80-0c86-4233-89a4-5cb65780fdbd",
   "metadata": {},
   "outputs": [],
   "source": [
    "dm_data_tb = r_x.copy()\n",
    "dm_data_tb['Sex'] = np.where(r_x.Sex_F == 1, 'F', 'M')\n",
    "dm_data_tb['simd_quint'] = np.where(dm_data_tb.simd_dec.isin([1,2]), 1, -1)\n",
    "dm_data_tb['simd_quint'] = np.where(dm_data_tb.simd_dec.isin([3,4]), 2, dm_data_tb['simd_quint'])\n",
    "dm_data_tb['simd_quint'] = np.where(dm_data_tb.simd_dec.isin([5,6]), 3, dm_data_tb['simd_quint'])\n",
    "dm_data_tb['simd_quint'] = np.where(dm_data_tb.simd_dec.isin([7,8]), 4, dm_data_tb['simd_quint'])\n",
    "dm_data_tb['simd_quint'] = np.where(dm_data_tb.simd_dec.isin([9,10]), 5, dm_data_tb['simd_quint'])\n",
    "dm_data_tb['simd_gr'] = np.where(dm_data_tb['simd_quint'] < 2, '1', '5')\n",
    "dm_data_tb['simd_gr'] = np.where(dm_data_tb['simd_quint'] == -1, '-1', dm_data_tb['simd_gr'])\n",
    "dm_data_tb['simd_gr'] = np.where((dm_data_tb['simd_quint'] < 5)&(dm_data_tb['simd_quint']>=2), '2-4', dm_data_tb['simd_gr'])\n",
    "dm_data_tb = dm_data_tb.rename(columns={'AgeAtAdmission': 'Age',\n",
    "                                 'age_gr': 'Age group',\n",
    "                                 'simd_gr': 'SIMD (1 - most deprived, 5 - least deprived)',\n",
    "                                 'gt_es_hosp': 'Extended stay (>=14 days)',\n",
    "                                 'total_count_all': 'Total health contacts',\n",
    "                                 'total_count_rehab': 'Total rehabilitation contacts',\n",
    "                                 'total_count_ooh_all': 'Out-of-hours contacts',\n",
    "                                 'total_n_disciplines_gr': 'Number of disciplines involved'\n",
    "                                       })\n",
    "t_cols = ['Age', 'Total health contacts', 'Total rehabilitation contacts', 'Out-of-hours contacts']\n",
    "groupby = ['set']\n",
    "categorical = ['Age group', 'Sex', 'SIMD (1 - most deprived, 5 - least deprived)', 'Extended stay (>=14 days)', 'Number of disciplines involved']\n",
    "dm_data_tb = dm_data_tb[['set', 'Age', 'Age group', 'Sex', 'SIMD (1 - most deprived, 5 - least deprived)', 'Extended stay (>=14 days)',\n",
    "                        'Total health contacts', 'Total rehabilitation contacts', 'Out-of-hours contacts', \n",
    "                         'Number of disciplines involved']]\n",
    "sum_table = TableOne(dm_data_tb, dm_data_tb.columns.tolist(), categorical=categorical,\n",
    "                     overall=True, missing=True, htest_name=True, decimals={'Age': 0}, tukey_test=True,\n",
    "                     groupby=groupby, nonnormal=['Age', 'Total health contacts'], pval=True)\n",
    "sum_table"
   ]
  },
  {
   "cell_type": "code",
   "execution_count": null,
   "id": "f0332ee5-fee6-408c-8b40-b922c5aaf4f5",
   "metadata": {},
   "outputs": [],
   "source": [
    "## Export\n",
    "r_x_train = r_x_train.drop(['set'], axis=1)\n",
    "r_x_val = r_x_val.drop(['set'], axis=1)\n",
    "pd.DataFrame(r_x_train.dtypes).to_csv('')\n",
    "r_x_train.to_csv('', index=False)\n",
    "r_x_val.to_csv('', index=False)"
   ]
  },
  {
   "cell_type": "markdown",
   "id": "87b77126-c1e8-4e7e-ab0a-f7dae58a1174",
   "metadata": {},
   "source": [
    "##### ICU/HDU admission"
   ]
  },
  {
   "cell_type": "code",
   "execution_count": null,
   "id": "173b6368-5469-487a-b62c-2595f9942924",
   "metadata": {},
   "outputs": [],
   "source": [
    "r_x_train, r_x_val, r_y_train, r_y_val = train_test_split(inp_data.drop(['gt_cc', 'Sex_F', 'age_gr'], axis=1),\n",
    "                                                          pd.concat([inp_data['age_gr'], inp_data['Sex_F'], inp_data['gt_cc']], axis=1),\n",
    "                                                          test_size=0.3,\n",
    "                                                          random_state=42,\n",
    "                                                          stratify=pd.concat([inp_data['age_gr'], inp_data['Sex_F'], inp_data['gt_cc']], \n",
    "                                                                             axis=1))\n",
    "print(r_x_train.shape, r_x_val.shape)"
   ]
  },
  {
   "cell_type": "code",
   "execution_count": null,
   "id": "f2eb9e66-3cd2-4c70-b2ae-f6486e6b7ded",
   "metadata": {},
   "outputs": [],
   "source": [
    "r_x_train = pd.concat([r_x_train, r_y_train], axis=1)\n",
    "r_x_train['set'] = 'train'\n",
    "r_x_val = pd.concat([r_x_val, r_y_val], axis=1)\n",
    "r_x_val['set'] = 'validation'\n",
    "r_x = pd.concat([r_x_train, r_x_val], axis=0)\n",
    "print(r_x_train.groupby('gt_cc')['age_gr'].value_counts())\n",
    "print(r_x_val.groupby('gt_cc')['age_gr'].value_counts())"
   ]
  },
  {
   "cell_type": "code",
   "execution_count": null,
   "id": "168d6847-87ff-45a9-8cd1-16a0b29a6cc7",
   "metadata": {},
   "outputs": [],
   "source": [
    "print(r_x_train.gt_cc.value_counts(normalize=True))\n",
    "print(r_x_val.gt_cc.value_counts(normalize=True))"
   ]
  },
  {
   "cell_type": "code",
   "execution_count": null,
   "id": "fc333f7a-13be-4403-b415-7f2247be8fa5",
   "metadata": {},
   "outputs": [],
   "source": [
    "dm_data_tb = r_x.copy()\n",
    "dm_data_tb['Sex'] = np.where(r_x.Sex_F == 1, 'F', 'M')\n",
    "dm_data_tb['simd_quint'] = np.where(dm_data_tb.simd_dec.isin([1,2]), 1, -1)\n",
    "dm_data_tb['simd_quint'] = np.where(dm_data_tb.simd_dec.isin([3,4]), 2, dm_data_tb['simd_quint'])\n",
    "dm_data_tb['simd_quint'] = np.where(dm_data_tb.simd_dec.isin([5,6]), 3, dm_data_tb['simd_quint'])\n",
    "dm_data_tb['simd_quint'] = np.where(dm_data_tb.simd_dec.isin([7,8]), 4, dm_data_tb['simd_quint'])\n",
    "dm_data_tb['simd_quint'] = np.where(dm_data_tb.simd_dec.isin([9,10]), 5, dm_data_tb['simd_quint'])\n",
    "dm_data_tb['simd_gr'] = np.where(dm_data_tb['simd_quint'] < 2, '1', '5')\n",
    "dm_data_tb['simd_gr'] = np.where(dm_data_tb['simd_quint'] == -1, '-1', dm_data_tb['simd_gr'])\n",
    "dm_data_tb['simd_gr'] = np.where((dm_data_tb['simd_quint'] < 5)&(dm_data_tb['simd_quint']>=2), '2-4', dm_data_tb['simd_gr'])\n",
    "dm_data_tb = dm_data_tb.rename(columns={'AgeAtAdmission': 'Age',\n",
    "                                 'age_gr': 'Age group',\n",
    "                                 'simd_gr': 'SIMD (1 - most deprived, 5 - least deprived)',\n",
    "                                 'gt_cc': 'ICU/HDU admission',\n",
    "                                 'total_count_all': 'Total health contacts',\n",
    "                                 'total_count_rehab': 'Total rehabilitation contacts',\n",
    "                                 'total_count_ooh_all': 'Out-of-hours contacts',\n",
    "                                 'total_n_disciplines_gr': 'Number of disciplines involved'\n",
    "                                       })\n",
    "t_cols = ['Age', 'Total health contacts', 'Total rehabilitation contacts', 'Out-of-hours contacts']\n",
    "groupby = ['set']\n",
    "categorical = ['Age group', 'Sex', 'SIMD (1 - most deprived, 5 - least deprived)', 'ICU/HDU admission', 'Number of disciplines involved']\n",
    "dm_data_tb = dm_data_tb[['set', 'Age', 'Age group', 'Sex', 'SIMD (1 - most deprived, 5 - least deprived)', 'ICU/HDU admission',\n",
    "                        'Total health contacts', 'Total rehabilitation contacts', 'Out-of-hours contacts', \n",
    "                         'Number of disciplines involved']]\n",
    "sum_table = TableOne(dm_data_tb, dm_data_tb.columns.tolist(), categorical=categorical,\n",
    "                     overall=True, missing=True, htest_name=True, decimals={'Age': 0}, tukey_test=True,\n",
    "                     groupby=groupby, nonnormal=['Age', 'Total health contacts'], pval=True)\n",
    "sum_table"
   ]
  },
  {
   "cell_type": "code",
   "execution_count": null,
   "id": "f1ac520d-6fde-4152-87fa-9dce3d210f8d",
   "metadata": {},
   "outputs": [],
   "source": [
    "## Export\n",
    "r_x_train = r_x_train.drop(['set'], axis=1)\n",
    "r_x_val = r_x_val.drop(['set'], axis=1)\n",
    "pd.DataFrame(r_x_train.dtypes).to_csv('')\n",
    "r_x_train.to_csv('', index=False)\n",
    "r_x_val.to_csv('', index=False)"
   ]
  },
  {
   "cell_type": "markdown",
   "id": "e70cf445-af2c-41c8-8c18-cdc933317a59",
   "metadata": {},
   "source": [
    "##### Discharge disposition"
   ]
  },
  {
   "cell_type": "code",
   "execution_count": null,
   "id": "bff4199e-ee5d-443a-b152-5090470ee581",
   "metadata": {},
   "outputs": [],
   "source": [
    "### Exclude in-hospital deaths from the outcome\n",
    "inp_data['gt_dd'] = np.where(inp_data['gt_m'] == 1, 0, inp_data['gt_dd'])"
   ]
  },
  {
   "cell_type": "code",
   "execution_count": null,
   "id": "3057905b-99ea-4379-855d-b05879604ec9",
   "metadata": {},
   "outputs": [],
   "source": [
    "inp_data['gt_dd'].value_counts(normalize=True)"
   ]
  },
  {
   "cell_type": "code",
   "execution_count": null,
   "id": "4785d5b9-2bde-465d-a0d5-f3fc50c55235",
   "metadata": {},
   "outputs": [],
   "source": [
    "r_x_train, r_x_val, r_y_train, r_y_val = train_test_split(inp_data.drop(['gt_dd', 'Sex_F', 'age_gr'], axis=1),\n",
    "                                                          pd.concat([inp_data['age_gr'], inp_data['Sex_F'], inp_data['gt_dd']], axis=1),\n",
    "                                                          test_size=0.3,\n",
    "                                                          random_state=42,\n",
    "                                                          stratify=pd.concat([inp_data['age_gr'], inp_data['Sex_F'], inp_data['gt_dd']], \n",
    "                                                                             axis=1))\n",
    "print(r_x_train.shape, r_x_val.shape)"
   ]
  },
  {
   "cell_type": "code",
   "execution_count": null,
   "id": "c1a9f139-4cf8-4c7e-840b-769951f5423a",
   "metadata": {},
   "outputs": [],
   "source": [
    "r_x_train = pd.concat([r_x_train, r_y_train], axis=1)\n",
    "r_x_train['set'] = 'train'\n",
    "r_x_val = pd.concat([r_x_val, r_y_val], axis=1)\n",
    "r_x_val['set'] = 'validation'\n",
    "r_x = pd.concat([r_x_train, r_x_val], axis=0)\n",
    "print(r_x_train.groupby('gt_dd')['age_gr'].value_counts())\n",
    "print(r_x_val.groupby('gt_dd')['age_gr'].value_counts())"
   ]
  },
  {
   "cell_type": "code",
   "execution_count": null,
   "id": "752c9341-21b1-44ed-bdc4-0babb5544151",
   "metadata": {},
   "outputs": [],
   "source": [
    "print(r_x_train.gt_dd.value_counts(normalize=True))\n",
    "print(r_x_val.gt_dd.value_counts(normalize=True))"
   ]
  },
  {
   "cell_type": "code",
   "execution_count": null,
   "id": "96e36222-0ddb-480b-a826-847882910d94",
   "metadata": {
    "scrolled": true
   },
   "outputs": [],
   "source": [
    "dm_data_tb = r_x.copy()\n",
    "dm_data_tb['Sex'] = np.where(r_x.Sex_F == 1, 'F', 'M')\n",
    "dm_data_tb['simd_quint'] = np.where(dm_data_tb.simd_dec.isin([1,2]), 1, -1)\n",
    "dm_data_tb['simd_quint'] = np.where(dm_data_tb.simd_dec.isin([3,4]), 2, dm_data_tb['simd_quint'])\n",
    "dm_data_tb['simd_quint'] = np.where(dm_data_tb.simd_dec.isin([5,6]), 3, dm_data_tb['simd_quint'])\n",
    "dm_data_tb['simd_quint'] = np.where(dm_data_tb.simd_dec.isin([7,8]), 4, dm_data_tb['simd_quint'])\n",
    "dm_data_tb['simd_quint'] = np.where(dm_data_tb.simd_dec.isin([9,10]), 5, dm_data_tb['simd_quint'])\n",
    "dm_data_tb['simd_gr'] = np.where(dm_data_tb['simd_quint'] < 2, '1', '5')\n",
    "dm_data_tb['simd_gr'] = np.where(dm_data_tb['simd_quint'] == -1, '-1', dm_data_tb['simd_gr'])\n",
    "dm_data_tb['simd_gr'] = np.where((dm_data_tb['simd_quint'] < 5)&(dm_data_tb['simd_quint']>=2), '2-4', dm_data_tb['simd_gr'])\n",
    "dm_data_tb = dm_data_tb.rename(columns={'AgeAtAdmission': 'Age',\n",
    "                                 'age_gr': 'Age group',\n",
    "                                 'simd_gr': 'SIMD (1 - most deprived, 5 - least deprived)',\n",
    "                                 'gt_dd': 'Home discharge',\n",
    "                                 'total_count_all': 'Total health contacts',\n",
    "                                 'total_count_rehab': 'Total rehabilitation contacts',\n",
    "                                 'total_count_ooh_all': 'Out-of-hours contacts',\n",
    "                                 'total_n_disciplines_gr': 'Number of disciplines involved'\n",
    "                                       })\n",
    "t_cols = ['Age', 'Total health contacts', 'Total rehabilitation contacts', 'Out-of-hours contacts']\n",
    "groupby = ['set']\n",
    "categorical = ['Age group', 'Sex', 'SIMD (1 - most deprived, 5 - least deprived)', 'Home discharge', 'Number of disciplines involved']\n",
    "dm_data_tb = dm_data_tb[['set', 'Age', 'Age group', 'Sex', 'SIMD (1 - most deprived, 5 - least deprived)', 'Home discharge',\n",
    "                        'Total health contacts', 'Total rehabilitation contacts', 'Out-of-hours contacts', \n",
    "                         'Number of disciplines involved']]\n",
    "sum_table = TableOne(dm_data_tb, dm_data_tb.columns.tolist(), categorical=categorical,\n",
    "                     overall=True, missing=True, htest_name=True, decimals={'Age': 0}, tukey_test=True,\n",
    "                     groupby=groupby, nonnormal=['Age', 'Total health contacts'], pval=True)\n",
    "sum_table"
   ]
  },
  {
   "cell_type": "code",
   "execution_count": null,
   "id": "5c64eb31-75e6-4976-babb-4b7c1840df5c",
   "metadata": {},
   "outputs": [],
   "source": [
    "## Export\n",
    "r_x_train = r_x_train.drop(['set'], axis=1)\n",
    "r_x_val = r_x_val.drop(['set'], axis=1)\n",
    "pd.DataFrame(r_x_train.dtypes).to_csv('')\n",
    "r_x_train.to_csv('', index=False)\n",
    "r_x_val.to_csv('', index=False)"
   ]
  },
  {
   "cell_type": "markdown",
   "id": "8f2594d6-6e2e-4129-a153-5683f8a906a2",
   "metadata": {},
   "source": [
    "#### Any rehab"
   ]
  },
  {
   "cell_type": "code",
   "execution_count": null,
   "id": "1e547124-0d6b-407f-a0ec-8a5a1aa0a811",
   "metadata": {},
   "outputs": [],
   "source": [
    "inp_data['gt_rehab'] = np.where(inp_data['total_count_rehab'] > 0, 1, 0).astype(np.int8)"
   ]
  },
  {
   "cell_type": "code",
   "execution_count": null,
   "id": "b0b9307c-7c15-48c8-a6e1-1d8826a96d6d",
   "metadata": {},
   "outputs": [],
   "source": [
    "r_x_train, r_x_val, r_y_train, r_y_val = train_test_split(inp_data.drop(['gt_rehab', 'Sex_F', 'age_gr'], axis=1),\n",
    "                                                          pd.concat([inp_data['age_gr'], inp_data['Sex_F'], inp_data['gt_rehab']], axis=1),\n",
    "                                                          test_size=0.3,\n",
    "                                                          random_state=42,\n",
    "                                                          stratify=pd.concat([inp_data['age_gr'], inp_data['Sex_F'], inp_data['gt_rehab']], \n",
    "                                                                             axis=1))\n",
    "print(r_x_train.shape, r_x_val.shape)"
   ]
  },
  {
   "cell_type": "code",
   "execution_count": null,
   "id": "f7b08abd-21a9-42cb-bca2-97452f02a61b",
   "metadata": {},
   "outputs": [],
   "source": [
    "r_x_train = pd.concat([r_x_train, r_y_train], axis=1)\n",
    "r_x_train['set'] = 'train'\n",
    "r_x_val = pd.concat([r_x_val, r_y_val], axis=1)\n",
    "r_x_val['set'] = 'validation'\n",
    "r_x = pd.concat([r_x_train, r_x_val], axis=0)\n",
    "print(r_x_train.groupby('gt_rehab')['age_gr'].value_counts())\n",
    "print(r_x_val.groupby('gt_rehab')['age_gr'].value_counts())"
   ]
  },
  {
   "cell_type": "code",
   "execution_count": null,
   "id": "5a8b0aed-aade-40c9-b108-b86216215bf0",
   "metadata": {},
   "outputs": [],
   "source": [
    "print(r_x_train.gt_rehab.value_counts(normalize=True))\n",
    "print(r_x_val.gt_rehab.value_counts(normalize=True))"
   ]
  },
  {
   "cell_type": "code",
   "execution_count": null,
   "id": "5fdd4b41-cd33-4d5c-8345-34a3773af3f1",
   "metadata": {},
   "outputs": [],
   "source": [
    "dm_data_tb = r_x.copy()\n",
    "dm_data_tb['Sex'] = np.where(r_x.Sex_F == 1, 'F', 'M')\n",
    "dm_data_tb['simd_quint'] = np.where(dm_data_tb.simd_dec.isin([1,2]), 1, -1)\n",
    "dm_data_tb['simd_quint'] = np.where(dm_data_tb.simd_dec.isin([3,4]), 2, dm_data_tb['simd_quint'])\n",
    "dm_data_tb['simd_quint'] = np.where(dm_data_tb.simd_dec.isin([5,6]), 3, dm_data_tb['simd_quint'])\n",
    "dm_data_tb['simd_quint'] = np.where(dm_data_tb.simd_dec.isin([7,8]), 4, dm_data_tb['simd_quint'])\n",
    "dm_data_tb['simd_quint'] = np.where(dm_data_tb.simd_dec.isin([9,10]), 5, dm_data_tb['simd_quint'])\n",
    "dm_data_tb['simd_gr'] = np.where(dm_data_tb['simd_quint'] < 2, '1', '5')\n",
    "dm_data_tb['simd_gr'] = np.where(dm_data_tb['simd_quint'] == -1, '-1', dm_data_tb['simd_gr'])\n",
    "dm_data_tb['simd_gr'] = np.where((dm_data_tb['simd_quint'] < 5)&(dm_data_tb['simd_quint']>=2), '2-4', dm_data_tb['simd_gr'])\n",
    "dm_data_tb = dm_data_tb.rename(columns={'AgeAtAdmission': 'Age',\n",
    "                                 'age_gr': 'Age group',\n",
    "                                 'simd_gr': 'SIMD (1 - most deprived, 5 - least deprived)',\n",
    "                                 'gt_rehab': 'Received rehab',\n",
    "                                 'total_count_all': 'Total health contacts',\n",
    "                                 'total_count_rehab': 'Total rehabilitation contacts',\n",
    "                                 'total_count_ooh_all': 'Out-of-hours contacts',\n",
    "                                 'total_n_disciplines_gr': 'Number of disciplines involved'\n",
    "                                       })\n",
    "t_cols = ['Age', 'Total health contacts', 'Total rehabilitation contacts', 'Out-of-hours contacts']\n",
    "groupby = ['set']\n",
    "categorical = ['Age group', 'Sex', 'SIMD (1 - most deprived, 5 - least deprived)', 'Received rehab', 'Number of disciplines involved']\n",
    "dm_data_tb = dm_data_tb[['set', 'Age', 'Age group', 'Sex', 'SIMD (1 - most deprived, 5 - least deprived)', 'Received rehab',\n",
    "                        'Total health contacts', 'Total rehabilitation contacts', 'Out-of-hours contacts', \n",
    "                         'Number of disciplines involved']]\n",
    "sum_table = TableOne(dm_data_tb, dm_data_tb.columns.tolist(), categorical=categorical,\n",
    "                     overall=True, missing=True, htest_name=True, decimals={'Age': 0}, tukey_test=True,\n",
    "                     groupby=groupby, nonnormal=['Age', 'Total health contacts'], pval=True)\n",
    "sum_table"
   ]
  },
  {
   "cell_type": "code",
   "execution_count": null,
   "id": "4923a2a8-e2a2-4dec-a44e-0d63ee09a072",
   "metadata": {},
   "outputs": [],
   "source": [
    "## Export\n",
    "r_x_train = r_x_train.drop(['set'], axis=1)\n",
    "r_x_val = r_x_val.drop(['set'], axis=1)\n",
    "pd.DataFrame(r_x_train.dtypes).to_csv('')\n",
    "r_x_train.to_csv('', index=False)\n",
    "r_x_val.to_csv('', index=False)"
   ]
  },
  {
   "cell_type": "markdown",
   "id": "acc29937-3d92-4339-9baf-111f6d620322",
   "metadata": {},
   "source": [
    "##### MoE"
   ]
  },
  {
   "cell_type": "code",
   "execution_count": null,
   "id": "d0d0dfb5-5691-4553-8226-dd56213f93a7",
   "metadata": {},
   "outputs": [],
   "source": [
    "r_x_train, r_x_val, r_y_train, r_y_val = train_test_split(inp_data.drop(['gt_eld', 'Sex_F', 'age_gr'], axis=1),\n",
    "                                                          pd.concat([inp_data['age_gr'], inp_data['Sex_F'], inp_data['gt_eld']], axis=1),\n",
    "                                                          test_size=0.3,\n",
    "                                                          random_state=42,\n",
    "                                                          stratify=pd.concat([inp_data['age_gr'], inp_data['Sex_F'], inp_data['gt_eld']], axis=1))\n",
    "print(r_x_train.shape, r_x_val.shape)"
   ]
  },
  {
   "cell_type": "code",
   "execution_count": null,
   "id": "e6d7f519-18bb-43be-ae18-434fbcabaa5c",
   "metadata": {},
   "outputs": [],
   "source": [
    "r_x_train = pd.concat([r_x_train, r_y_train], axis=1)\n",
    "r_x_train['set'] = 'train'\n",
    "r_x_val = pd.concat([r_x_val, r_y_val], axis=1)\n",
    "r_x_val['set'] = 'validation'\n",
    "r_x = pd.concat([r_x_train, r_x_val], axis=0)\n",
    "print(r_x_train.groupby('gt_eld')['age_gr'].value_counts())\n",
    "print(r_x_val.groupby('gt_eld')['age_gr'].value_counts())"
   ]
  },
  {
   "cell_type": "code",
   "execution_count": null,
   "id": "28e5a065-3769-43c0-a8ca-51fdd562a6d9",
   "metadata": {},
   "outputs": [],
   "source": [
    "print(r_x_train.gt_eld.value_counts(normalize=True))\n",
    "print(r_x_val.gt_eld.value_counts(normalize=True))"
   ]
  },
  {
   "cell_type": "code",
   "execution_count": null,
   "id": "1cec3e50-2432-4dd3-81ba-d48ee62731cd",
   "metadata": {},
   "outputs": [],
   "source": [
    "dm_data_tb = r_x.copy()\n",
    "dm_data_tb['Sex'] = np.where(r_x.Sex_F == 1, 'F', 'M')\n",
    "dm_data_tb['simd_quint'] = np.where(dm_data_tb.simd_dec.isin([1,2]), 1, -1)\n",
    "dm_data_tb['simd_quint'] = np.where(dm_data_tb.simd_dec.isin([3,4]), 2, dm_data_tb['simd_quint'])\n",
    "dm_data_tb['simd_quint'] = np.where(dm_data_tb.simd_dec.isin([5,6]), 3, dm_data_tb['simd_quint'])\n",
    "dm_data_tb['simd_quint'] = np.where(dm_data_tb.simd_dec.isin([7,8]), 4, dm_data_tb['simd_quint'])\n",
    "dm_data_tb['simd_quint'] = np.where(dm_data_tb.simd_dec.isin([9,10]), 5, dm_data_tb['simd_quint'])\n",
    "dm_data_tb['simd_gr'] = np.where(dm_data_tb['simd_quint'] < 2, '1', '5')\n",
    "dm_data_tb['simd_gr'] = np.where(dm_data_tb['simd_quint'] == -1, '-1', dm_data_tb['simd_gr'])\n",
    "dm_data_tb['simd_gr'] = np.where((dm_data_tb['simd_quint'] < 5)&(dm_data_tb['simd_quint']>=2), '2-4', dm_data_tb['simd_gr'])\n",
    "dm_data_tb = dm_data_tb.rename(columns={'AgeAtAdmission': 'Age',\n",
    "                                 'age_gr': 'Age group',\n",
    "                                 'simd_gr': 'SIMD (1 - most deprived, 5 - least deprived)',\n",
    "                                 'gt_dd': 'Home discharge',\n",
    "                                 'total_count_all': 'Total health contacts',\n",
    "                                 'total_count_rehab': 'Total rehabilitation contacts',\n",
    "                                 'total_count_ooh_all': 'Out-of-hours contacts',\n",
    "                                 'total_n_disciplines_gr': 'Number of disciplines involved'\n",
    "                                       })\n",
    "t_cols = ['Age', 'Total health contacts', 'Total rehabilitation contacts', 'Out-of-hours contacts']\n",
    "groupby = ['set']\n",
    "categorical = ['Age group', 'Sex', 'SIMD (1 - most deprived, 5 - least deprived)', 'Home discharge', 'Number of disciplines involved']\n",
    "dm_data_tb = dm_data_tb[['set', 'Age', 'Age group', 'Sex', 'SIMD (1 - most deprived, 5 - least deprived)', 'Home discharge',\n",
    "                        'Total health contacts', 'Total rehabilitation contacts', 'Out-of-hours contacts', \n",
    "                         'Number of disciplines involved']]\n",
    "sum_table = TableOne(dm_data_tb, dm_data_tb.columns.tolist(), categorical=categorical,\n",
    "                     overall=True, missing=True, htest_name=True, decimals={'Age': 0}, tukey_test=True,\n",
    "                     groupby=groupby, nonnormal=['Age', 'Total health contacts'], pval=True)\n",
    "sum_table"
   ]
  },
  {
   "cell_type": "code",
   "execution_count": null,
   "id": "69d4ce30-7372-4267-bf23-249084d7e569",
   "metadata": {},
   "outputs": [],
   "source": [
    "## Export\n",
    "r_x_train = r_x_train.drop(['set'], axis=1)\n",
    "r_x_val = r_x_val.drop(['set'], axis=1)\n",
    "pd.DataFrame(r_x_train.dtypes).to_csv('')\n",
    "r_x_train.to_csv('', index=False)\n",
    "r_x_val.to_csv('', index=False)"
   ]
  },
  {
   "cell_type": "markdown",
   "id": "236ab281-3501-4152-a076-7aa0ebe7324e",
   "metadata": {},
   "source": [
    "##### Total health contacts"
   ]
  },
  {
   "cell_type": "code",
   "execution_count": null,
   "id": "4d1aa8f3-d715-4280-8bed-df06213d089c",
   "metadata": {},
   "outputs": [],
   "source": [
    "### Set survivors\n",
    "inp_data_s = inp_data"
   ]
  },
  {
   "cell_type": "code",
   "execution_count": null,
   "id": "aa4dea75-ca96-45ca-9553-a76b6faa4ee8",
   "metadata": {},
   "outputs": [],
   "source": [
    "r_x_train, r_x_val, r_y_train, r_y_val = train_test_split(inp_data_s.drop(['total_count_cts_gr', 'Sex_F', 'age_gr'], axis=1),\n",
    "                                                          pd.concat([inp_data_s['age_gr'], inp_data_s['Sex_F'], inp_data_s['total_count_cts_gr']], axis=1),\n",
    "                                                          test_size=0.3,\n",
    "                                                          random_state=42,\n",
    "                                                          stratify=pd.concat([inp_data_s['age_gr'], inp_data_s['Sex_F'], inp_data_s['total_count_cts_gr']], \n",
    "                                                                             axis=1))\n",
    "print(r_x_train.shape, r_x_val.shape)"
   ]
  },
  {
   "cell_type": "code",
   "execution_count": null,
   "id": "cc0e929d-e481-409a-bcd7-72e888ea1181",
   "metadata": {},
   "outputs": [],
   "source": [
    "r_x_train = pd.concat([r_x_train, r_y_train], axis=1)\n",
    "r_x_train['set'] = 'train'\n",
    "r_x_val = pd.concat([r_x_val, r_y_val], axis=1)\n",
    "r_x_val['set'] = 'validation'\n",
    "r_x = pd.concat([r_x_train, r_x_val], axis=0)\n",
    "print(r_x_train.groupby('total_count_cts_gr')['age_gr'].value_counts())\n",
    "print(r_x_val.groupby('total_count_cts_gr')['age_gr'].value_counts())"
   ]
  },
  {
   "cell_type": "code",
   "execution_count": null,
   "id": "ba714c2c-6c9e-4b8a-ada1-0fc507bb3363",
   "metadata": {},
   "outputs": [],
   "source": [
    "print(r_x_train.total_count_cts_gr.value_counts(normalize=True))\n",
    "print(r_x_val.total_count_cts_gr.value_counts(normalize=True))"
   ]
  },
  {
   "cell_type": "code",
   "execution_count": null,
   "id": "f501eef4-d6c3-47c2-8b17-bd6aba818f88",
   "metadata": {},
   "outputs": [],
   "source": [
    "dm_data_tb = r_x.copy()\n",
    "dm_data_tb['Sex'] = np.where(r_x.Sex_F == 1, 'F', 'M')\n",
    "dm_data_tb['simd_quint'] = np.where(dm_data_tb.simd_dec.isin([1,2]), 1, -1)\n",
    "dm_data_tb['simd_quint'] = np.where(dm_data_tb.simd_dec.isin([3,4]), 2, dm_data_tb['simd_quint'])\n",
    "dm_data_tb['simd_quint'] = np.where(dm_data_tb.simd_dec.isin([5,6]), 3, dm_data_tb['simd_quint'])\n",
    "dm_data_tb['simd_quint'] = np.where(dm_data_tb.simd_dec.isin([7,8]), 4, dm_data_tb['simd_quint'])\n",
    "dm_data_tb['simd_quint'] = np.where(dm_data_tb.simd_dec.isin([9,10]), 5, dm_data_tb['simd_quint'])\n",
    "dm_data_tb['simd_gr'] = np.where(dm_data_tb['simd_quint'] < 2, '1', '5')\n",
    "dm_data_tb['simd_gr'] = np.where(dm_data_tb['simd_quint'] == -1, '-1', dm_data_tb['simd_gr'])\n",
    "dm_data_tb['simd_gr'] = np.where((dm_data_tb['simd_quint'] < 5)&(dm_data_tb['simd_quint']>=2), '2-4', dm_data_tb['simd_gr'])\n",
    "dm_data_tb = dm_data_tb.rename(columns={'AgeAtAdmission': 'Age',\n",
    "                                 'age_gr': 'Age group',\n",
    "                                 'simd_gr': 'SIMD (1 - most deprived, 5 - least deprived)',\n",
    "                                 'gt_m': 'In-hospital death',\n",
    "                                 'gt_es_hosp': 'Extended stay (>=14 days)',\n",
    "                                 'gt_cc': 'ICU/HDU admission',\n",
    "                                 'gt_dd': 'Home discharge',\n",
    "                                 'total_count_all': 'Total health contacts',\n",
    "                                 'total_count_rehab': 'Total rehabilitation contacts',\n",
    "                                 'total_count_ooh_all': 'Out-of-hours contacts',\n",
    "                                 'total_n_disciplines_gr': 'Number of disciplines involved'\n",
    "                                       })\n",
    "t_cols = ['Age', 'Total health contacts', 'Total rehabilitation contacts', 'Out-of-hours contacts']\n",
    "groupby = ['set']\n",
    "categorical = ['Age group', 'Sex', 'SIMD (1 - most deprived, 5 - least deprived)', 'In-hospital death',\n",
    "                         'Extended stay (>=14 days)', 'ICU/HDU admission', 'Home discharge', 'Number of disciplines involved']\n",
    "dm_data_tb = dm_data_tb[['set', 'Age', 'Age group', 'Sex', 'SIMD (1 - most deprived, 5 - least deprived)', 'In-hospital death',\n",
    "                         'Extended stay (>=14 days)', 'ICU/HDU admission', 'Home discharge',\n",
    "                        'Total health contacts', 'Total rehabilitation contacts', 'Out-of-hours contacts', \n",
    "                         'Number of disciplines involved']]\n",
    "sum_table = TableOne(dm_data_tb, dm_data_tb.columns.tolist(), categorical=categorical,\n",
    "                     overall=True, missing=True, htest_name=True, decimals={'Age': 0}, tukey_test=True,\n",
    "                     groupby=groupby, nonnormal=['Age', 'Total health contacts'], pval=True)\n",
    "sum_table"
   ]
  },
  {
   "cell_type": "code",
   "execution_count": null,
   "id": "b97ee9f4-033a-4b28-878c-22e8aff8453d",
   "metadata": {},
   "outputs": [],
   "source": [
    "dm_data_tb = r_x.copy()\n",
    "dm_data_tb['Sex'] = np.where(r_x.Sex_F == 1, 'F', 'M')\n",
    "dm_data_tb['simd_quint'] = np.where(dm_data_tb.simd_dec.isin([1,2]), 1, -1)\n",
    "dm_data_tb['simd_quint'] = np.where(dm_data_tb.simd_dec.isin([3,4]), 2, dm_data_tb['simd_quint'])\n",
    "dm_data_tb['simd_quint'] = np.where(dm_data_tb.simd_dec.isin([5,6]), 3, dm_data_tb['simd_quint'])\n",
    "dm_data_tb['simd_quint'] = np.where(dm_data_tb.simd_dec.isin([7,8]), 4, dm_data_tb['simd_quint'])\n",
    "dm_data_tb['simd_quint'] = np.where(dm_data_tb.simd_dec.isin([9,10]), 5, dm_data_tb['simd_quint'])\n",
    "dm_data_tb['simd_gr'] = np.where(dm_data_tb['simd_quint'] < 2, '1', '5')\n",
    "dm_data_tb['simd_gr'] = np.where(dm_data_tb['simd_quint'] == -1, '-1', dm_data_tb['simd_gr'])\n",
    "dm_data_tb['simd_gr'] = np.where((dm_data_tb['simd_quint'] < 5)&(dm_data_tb['simd_quint']>=2), '2-4', dm_data_tb['simd_gr'])\n",
    "dm_data_tb = dm_data_tb.rename(columns={'AgeAtAdmission': 'Age',\n",
    "                                 'age_gr': 'Age group',\n",
    "                                 'simd_gr': 'SIMD (1 - most deprived, 5 - least deprived)',\n",
    "                                 'gt_m': 'In-hospital death',\n",
    "                                 'gt_es_hosp': 'Extended stay (>=14 days)',\n",
    "                                 'gt_cc': 'ICU/HDU admission',\n",
    "                                 'gt_dd': 'Home discharge',\n",
    "                                 'total_count_all': 'Total health contacts',\n",
    "                                 'total_count_rehab': 'Total rehabilitation contacts',\n",
    "                                 'total_count_ooh_all': 'Out-of-hours contacts',\n",
    "                                 'total_n_disciplines_gr': 'Number of disciplines involved'\n",
    "                                       })\n",
    "t_cols = ['Age', 'Total health contacts', 'Total rehabilitation contacts', 'Out-of-hours contacts']\n",
    "groupby = ['set']\n",
    "categorical = ['Age group', 'Sex', 'SIMD (1 - most deprived, 5 - least deprived)', 'In-hospital death',\n",
    "                         'Extended stay (>=14 days)', 'ICU/HDU admission', 'Home discharge', 'Number of disciplines involved']\n",
    "dm_data_tb = dm_data_tb[['set', 'Age', 'Age group', 'Sex', 'SIMD (1 - most deprived, 5 - least deprived)', 'In-hospital death',\n",
    "                         'Extended stay (>=14 days)', 'ICU/HDU admission', 'Home discharge',\n",
    "                        'Total health contacts', 'Total rehabilitation contacts', 'Out-of-hours contacts', \n",
    "                         'Number of disciplines involved']]\n",
    "sum_table = TableOne(dm_data_tb, dm_data_tb.columns.tolist(), categorical=categorical,\n",
    "                     overall=True, missing=True, htest_name=True, decimals={'Age': 0}, tukey_test=True,\n",
    "                     groupby=groupby, nonnormal=['Age', 'Total health contacts'], pval=True)\n",
    "sum_table"
   ]
  },
  {
   "cell_type": "code",
   "execution_count": null,
   "id": "30422711-695d-412c-a3ad-fa410bf4fcdc",
   "metadata": {},
   "outputs": [],
   "source": [
    "## Export\n",
    "r_x_train = r_x_train.drop(['set'], axis=1)\n",
    "r_x_val = r_x_val.drop(['set'], axis=1)\n",
    "pd.DataFrame(r_x_train.dtypes).to_csv('')\n",
    "r_x_train.to_csv('', index=False)\n",
    "r_x_val.to_csv('', index=False)"
   ]
  },
  {
   "cell_type": "code",
   "execution_count": null,
   "id": "41a69b26-0282-44f0-ae91-24fedc3ab801",
   "metadata": {},
   "outputs": [],
   "source": [
    "r_x_train.columns.tolist()"
   ]
  }
 ],
 "metadata": {
  "kernelspec": {
   "display_name": "Python 3 (ipykernel)",
   "language": "python",
   "name": "python3"
  },
  "language_info": {
   "codemirror_mode": {
    "name": "ipython",
    "version": 3
   },
   "file_extension": ".py",
   "mimetype": "text/x-python",
   "name": "python",
   "nbconvert_exporter": "python",
   "pygments_lexer": "ipython3",
   "version": "3.10.12"
  }
 },
 "nbformat": 4,
 "nbformat_minor": 5
}
