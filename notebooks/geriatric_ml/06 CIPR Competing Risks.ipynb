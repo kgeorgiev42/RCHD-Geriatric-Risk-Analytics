{
 "cells": [
  {
   "cell_type": "code",
   "execution_count": null,
   "id": "e32954f6-478f-4d38-bdde-c9047d385bfe",
   "metadata": {},
   "outputs": [],
   "source": [
    "import pandas as pd\n",
    "import matplotlib.pyplot as plt\n",
    "import numpy as np\n",
    "import plotly.express as px\n",
    "from statistics import mean, median\n",
    "import os\n",
    "import seaborn as sns\n",
    "import matplotlib.dates as mdates\n",
    "import matplotlib.ticker as mtick\n",
    "import scipy.stats as stats\n",
    "from scipy.special import gammaln\n",
    "from sklearn.preprocessing import KBinsDiscretizer\n",
    "import gc\n",
    "\n",
    "from lifelines import CoxPHFitter, AalenJohansenFitter\n",
    "from lifelines.plotting import add_at_risk_counts"
   ]
  },
  {
   "cell_type": "markdown",
   "id": "dd889a1b-b76e-4859-98c5-4b865608b9da",
   "metadata": {},
   "source": [
    "##### Load validation data and set target groups"
   ]
  },
  {
   "cell_type": "code",
   "execution_count": null,
   "id": "6f767187-3898-44f9-a0ca-a3877f135e52",
   "metadata": {},
   "outputs": [],
   "source": [
    "dem_types = pd.read_csv('', names=['item', 'dtype'], skiprows=1)\n",
    "dtype_dict = {}\n",
    "for idx, row in dem_types.iterrows():\n",
    "    dtype_dict[row['item']] = row['dtype']\n",
    "base_path = ''\n",
    "val_data = pd.read_csv(os.path.join(base_path, ''), low_memory=True, dtype=dtype_dict)\n",
    "val_data.columns = [col.replace(',', '_') if ',' in col else col for col in val_data.columns]\n",
    "all_data = pd.read_csv('', sep='\\t')\n",
    "print(all_data.columns)\n",
    "val_data = pd.merge(val_data, all_data[['ppid', 'DateOfDeath']], how='left', on='ppid')"
   ]
  },
  {
   "cell_type": "code",
   "execution_count": null,
   "id": "063d17b5-83e9-4bf0-8b4d-5efb2a3131c3",
   "metadata": {},
   "outputs": [],
   "source": [
    "all_data.columns.tolist()"
   ]
  },
  {
   "cell_type": "code",
   "execution_count": null,
   "id": "15c77fa5-4498-4e45-bb15-51ef5e488461",
   "metadata": {},
   "outputs": [],
   "source": [
    "plt.rcParams.update({'font.size':12, 'font.weight':'normal', 'font.family':'serif'})"
   ]
  },
  {
   "cell_type": "code",
   "execution_count": null,
   "id": "f3448f20-2345-4121-9a41-4684d97b8146",
   "metadata": {},
   "outputs": [],
   "source": [
    "def discretize(y, nb=5):\n",
    "    discretizer = KBinsDiscretizer(n_bins=nb, encode='ordinal', strategy='quantile')\n",
    "    return discretizer.fit_transform(y.reshape(-1, 1)).flatten()\n",
    "bin_labels={0:'Very Low', 1:'Low', 2:'Medium', 3:'Medium-High', 4:'High'}\n",
    "val_data['total_count_all_gr'] = discretize(np.array(val_data['total_count_all_tf'].values), nb=5).astype(int)\n",
    "val_data['total_count_all_gr'] = val_data['total_count_all_gr'].map(bin_labels)\n",
    "### Set age groups\n",
    "val_data['age_gr'] = np.where((val_data['AgeAtAdmission']>=50)&(val_data['AgeAtAdmission']<60), '50-59', '90+')\n",
    "val_data['age_gr'] = np.where((val_data['AgeAtAdmission']>=60)&(val_data['AgeAtAdmission']<70), '60-69', val_data['age_gr'])\n",
    "val_data['age_gr'] = np.where((val_data['AgeAtAdmission']>=70)&(val_data['AgeAtAdmission']<80), '70-79', val_data['age_gr'])\n",
    "val_data['age_gr'] = np.where((val_data['AgeAtAdmission']>=80)&(val_data['AgeAtAdmission']<90), '80-89', val_data['age_gr'])\n",
    "### Set SIMD groups\n",
    "val_data['simd_gr'] = np.where((val_data['simd_dec']>=1)&(val_data['simd_dec']<3), '1 - most deprived', '5 - least deprived')\n",
    "val_data['simd_gr'] = np.where((val_data['simd_dec']>=3)&(val_data['simd_dec']<9), '2-4', val_data['simd_gr'])"
   ]
  },
  {
   "cell_type": "code",
   "execution_count": null,
   "id": "5935a89d-84f0-437c-ada7-efda549e90e5",
   "metadata": {},
   "outputs": [],
   "source": [
    "val_data['total_count_all_gr'].value_counts()"
   ]
  },
  {
   "cell_type": "code",
   "execution_count": null,
   "id": "a0e471cc-54dd-4366-8245-2ba94299d36b",
   "metadata": {},
   "outputs": [],
   "source": [
    "val_data['age_gr'].value_counts()"
   ]
  },
  {
   "cell_type": "code",
   "execution_count": null,
   "id": "ba92c1a5-1e82-46de-b2f6-9dde6e46f707",
   "metadata": {},
   "outputs": [],
   "source": [
    "val_data['simd_gr'].value_counts()"
   ]
  },
  {
   "cell_type": "code",
   "execution_count": null,
   "id": "21e13076-b79e-497f-ac07-97544c2641fb",
   "metadata": {},
   "outputs": [],
   "source": [
    "#val_data.ED_adate_dt.min(), val_data.ED_adate_dt.max()\n",
    "val_data['DateOfDeath'] = pd.to_datetime(np.where(val_data['DateOfDeath'].isnull(), \n",
    "                                 pd.Timestamp('2024-03-01 00:00:00'), val_data['DateOfDeath']))\n",
    "val_data['ED_adate_dt'] = pd.to_datetime(val_data['ED_adate_dt'])\n",
    "val_data['HOSP_ddt'] = pd.to_datetime(val_data['HOSP_ddt'])\n",
    "val_data['LOS_d'] = (val_data['HOSP_ddt'] - val_data['ED_adate_dt']).dt.days\n",
    "val_data['time_until_death'] = np.ceil((val_data['DateOfDeath'] - val_data['ED_adate_dt']).dt.days).astype(int)\n",
    "val_data['s_days'] = np.ceil(val_data['LOS_d']).astype(int)\n",
    "val_data['s_days'] = np.where(val_data['gt_m']==1, val_data['time_until_death'], val_data['s_days'])\n",
    "#val_filt = val_data[val_data['s_days']<=100]"
   ]
  },
  {
   "cell_type": "code",
   "execution_count": null,
   "id": "5d7144ac-da15-456c-aaf6-191215d5db88",
   "metadata": {},
   "outputs": [],
   "source": [
    "val_data['s_days'].describe()"
   ]
  },
  {
   "cell_type": "code",
   "execution_count": null,
   "id": "0371e720-5c66-4f25-9b73-619715fa4870",
   "metadata": {},
   "outputs": [],
   "source": [
    "len(val_data[val_data['s_days']>100]), len(val_data)"
   ]
  },
  {
   "cell_type": "code",
   "execution_count": null,
   "id": "35885d11-5cc8-4520-835a-a9f38c8e5372",
   "metadata": {},
   "outputs": [],
   "source": [
    "### Set discharge status\n",
    "trak_inp_d = pd.read_csv('', sep='\\t', low_memory=False)\n",
    "val_data = pd.merge(val_data, trak_inp_d[['ppid', 'EpisodeNumber', 'DischargeToCode']],\n",
    "                      how='left', on=['ppid', 'EpisodeNumber'])"
   ]
  },
  {
   "cell_type": "code",
   "execution_count": null,
   "id": "e1c74d18-f427-4fa4-87ff-87d86dc971df",
   "metadata": {},
   "outputs": [],
   "source": [
    "val_data.DischargeToCode.value_counts()"
   ]
  },
  {
   "cell_type": "code",
   "execution_count": null,
   "id": "acdc31c5-65a8-40a8-941e-ad50ee812cd3",
   "metadata": {},
   "outputs": [],
   "source": [
    "### Set non-home discharge status\n",
    "val_data['gt_dd'] = np.where(val_data['gt_m'] == 1, 0, val_data['gt_dd'])\n",
    "val_data['status'] = np.where(val_data['gt_m']==1, 2, 1)\n",
    "val_data['status'] = np.where(val_data['gt_dd']==1, 0, val_data['status'])\n",
    "#val_data['status'] = np.where((~val_data['DischargeToCode'].isin(['H', 'HHO', 'HA', 'HHS', 'ESDS', 'HWR']))&\n",
    "                              #(val_data['gt_m']!=1), 0, val_data['status'])\n",
    "\n",
    "print(val_data.status.value_counts())"
   ]
  },
  {
   "cell_type": "code",
   "execution_count": null,
   "id": "cd27d984-a1de-4dbd-9ec3-33c67b2a7d7b",
   "metadata": {},
   "outputs": [],
   "source": [
    "val_data.columns.tolist()"
   ]
  },
  {
   "cell_type": "markdown",
   "id": "b04a00be-9b53-45e4-8ec2-9d8e3f01341b",
   "metadata": {},
   "source": [
    "#### CPH regression against in-hospital death"
   ]
  },
  {
   "cell_type": "code",
   "execution_count": null,
   "id": "9ecd13b0-ceda-4ca0-ab53-c282a195ee4b",
   "metadata": {},
   "outputs": [],
   "source": [
    "val_cov = val_data[['age_gr', 'Sex_F', 'simd_gr', 'total_longterm_conditions', 'total_drug_categories']]"
   ]
  },
  {
   "cell_type": "code",
   "execution_count": null,
   "id": "c5db07ad-98a2-4b2f-81f9-b105d712a511",
   "metadata": {},
   "outputs": [],
   "source": [
    "sns.set_style('darkgrid')\n",
    "plt.rcParams.update({'font.size':12, 'font.weight':'normal', 'font.family':'serif'})"
   ]
  },
  {
   "cell_type": "code",
   "execution_count": null,
   "id": "e92e5ece-4a5b-4283-be2e-d0993c63de61",
   "metadata": {},
   "outputs": [],
   "source": [
    "val_data[val_data['s_days']<=200]['total_count_all_gr'].value_counts()"
   ]
  },
  {
   "cell_type": "markdown",
   "id": "b566b9a4-fcc4-4fac-bace-836719fc558c",
   "metadata": {},
   "source": [
    "#### Overall hazard ratios"
   ]
  },
  {
   "cell_type": "code",
   "execution_count": null,
   "id": "8d9d5c2a-feef-492f-9e2d-6264930d1094",
   "metadata": {},
   "outputs": [],
   "source": [
    "#### Fit overall hazard function\n",
    "#### Plot hazard ratios with 95% CI\n",
    "#### Plot cumulative incidence by health contact level"
   ]
  },
  {
   "cell_type": "code",
   "execution_count": null,
   "id": "e7b10861-ab80-48d0-b235-ac42b0bf6254",
   "metadata": {},
   "outputs": [],
   "source": [
    "n_at_risk_all = val_data.groupby('total_count_all_gr').apply(lambda x: pd.cut(x['s_days'], bins=np.linspace(0, 100, num=21)).value_counts().sort_index(\n",
    "        level = ['Very Low', 'Low', 'Medium', 'Medium-High', 'High'], \n",
    "    )).reindex(['Very Low', 'Low', 'Medium', 'Medium-High', 'High']).T\n",
    "\n",
    "n_at_risk_all['High'] = n_at_risk_all['High'].sort_values(ascending=False).values.tolist()\n",
    "n_at_risk_all['Medium-High'] = n_at_risk_all['Medium-High'].sort_values(ascending=False).values.tolist()\n",
    "n_at_risk_all['Medium'] = n_at_risk_all['Medium'].sort_values(ascending=False).values.tolist()\n",
    "n_at_risk_all['Low'] = n_at_risk_all['Low'].sort_values(ascending=False).values.tolist()\n",
    "n_at_risk_all['Very Low'] = n_at_risk_all['Very Low'].sort_values(ascending=False).values.tolist()"
   ]
  },
  {
   "cell_type": "code",
   "execution_count": null,
   "id": "fe9728d2-e7ed-426e-90f0-ac5a5d58d59e",
   "metadata": {},
   "outputs": [],
   "source": [
    "n_at_risk_h = val_data[val_data['total_count_all_gr']=='High'].groupby('ppid').apply(lambda x: pd.cut(x['s_days'], bins=np.linspace(0, 100, num=10))).value_counts()"
   ]
  },
  {
   "cell_type": "code",
   "execution_count": null,
   "id": "29a3cb5f-e4ae-4938-bf77-a811ab867bb9",
   "metadata": {},
   "outputs": [],
   "source": [
    "n_at_risk_all"
   ]
  },
  {
   "cell_type": "code",
   "execution_count": null,
   "id": "eee14f15-e847-42c2-be48-f227c53ff328",
   "metadata": {},
   "outputs": [],
   "source": [
    "def get_overall_cr_summary(val_data, event_col='status', eoi=2, duration_col='s_days', \n",
    "                          group_labels=['Very Low', 'Low', 'Medium', 'Medium-High', 'High'],\n",
    "                          colors=['#918e26', '#a1dab4','#41b6c4', '#2c7fb8', '#253494'], s_max=300, tps=20):\n",
    "    val_data['Sex_c'] = np.where(val_data['Sex_F']==1, 'F', 'M')\n",
    "    val_data['tltc_gr'] = np.where(val_data['total_longterm_conditions']>3, 'High-count MM', 'No MM')\n",
    "    val_data['tltc_gr'] = pd.Categorical(np.where((val_data['total_longterm_conditions']>1)&(val_data['total_longterm_conditions']<=3), \n",
    "                                   'Simple MM', val_data['tltc_gr']), categories=['No MM', 'Simple MM', 'High-count MM'])\n",
    "    val_data['tdr_gr'] = np.where(val_data['total_drug_categories']>=7, '7+', '0')\n",
    "    val_data['tdr_gr'] = np.where((val_data['total_drug_categories']>3)&(val_data['total_drug_categories']<7), '4-6', \n",
    "                                  val_data['tdr_gr'])\n",
    "    val_data['tdr_gr'] = np.where((val_data['total_drug_categories']>0)&(val_data['total_drug_categories']<=3), '1-3', \n",
    "                                  val_data['tdr_gr'])\n",
    "    ajf_dict = {}\n",
    "    for group in group_labels:\n",
    "        mask = (val_data['total_count_all_gr']==group)\n",
    "        ajf = AalenJohansenFitter()\n",
    "        ajf.fit(val_data.loc[mask, duration_col],\n",
    "                val_data.loc[mask, event_col],\n",
    "                event_of_interest=eoi)\n",
    "        ajf_dict[group] = ajf\n",
    "        \n",
    "    fig, axes = plt.subplots(2, 3, figsize=(12,10))\n",
    "    axes = axes.flatten()\n",
    "    for i, (group, ajf) in enumerate(ajf_dict.items()):\n",
    "        if i < 5:\n",
    "            ax = axes[i]\n",
    "            ajf.plot(ax=ax, color=colors[i])\n",
    "            ax.set_title(f'CIF - {group} intensity')\n",
    "            ax.set_xlabel('Days from ED attendance')\n",
    "            ax.set_ylabel('Cumulative incidence')\n",
    "            ax.get_legend().remove()\n",
    "\n",
    "    fig.delaxes(axes[5])\n",
    "    plt.tight_layout()\n",
    "    plt.show()\n",
    "\n",
    "    figc, ax = plt.subplots(figsize=(10,6))\n",
    "    for i, (group, ajf) in enumerate(ajf_dict.items()):\n",
    "        ajf.plot(ax=ax, color=colors[i], label=f'{group} intensity', alpha=0.7)\n",
    "    ### N at risk table\n",
    "    times = np.linspace(0, s_max, num=tps)\n",
    "    n_at_risk_all = val_data.groupby('total_count_all_gr').apply(lambda x: pd.cut(x[duration_col], bins=times).value_counts().sort_index(\n",
    "        level = group_labels\n",
    "    )).reindex(group_labels)\n",
    "    #n_at_risk_all = val_data.groupby('total_count_all_gr').apply(lambda x: pd.cut(x[duration_col], bins=times).value_counts())\n",
    "    lb1 = 'Day 0'\n",
    "    day_0_col = val_data['total_count_all_gr'].value_counts().sort_index(level=group_labels).reindex(group_labels)\n",
    "    n_at_risk_all['Day 0'] = day_0_col\n",
    "    n_at_risk_all.insert(0, 'Day 0', n_at_risk_all.pop('Day 0'))\n",
    "    print(n_at_risk_all)\n",
    "    print('Day 0 population')\n",
    "    print(day_0_col)\n",
    "    ### Fix index order issue\n",
    "    n_at_risk_all = n_at_risk_all.T\n",
    "    n_at_risk_all['High'] = n_at_risk_all['High'].sort_values(ascending=False).values.tolist()\n",
    "    n_at_risk_all['Medium-High'] = n_at_risk_all['Medium-High'].sort_values(ascending=False).values.tolist()\n",
    "    n_at_risk_all['Medium'] = n_at_risk_all['Medium'].sort_values(ascending=False).values.tolist()\n",
    "    n_at_risk_all['Low'] = n_at_risk_all['Low'].sort_values(ascending=False).values.tolist()\n",
    "    n_at_risk_all['Very Low'] = n_at_risk_all['Very Low'].sort_values(ascending=False).values.tolist()\n",
    "    n_at_risk_all = n_at_risk_all.T\n",
    "    \n",
    "    n_at_risk_table = ax.table(cellText=n_at_risk_all.values, rowLabels=n_at_risk_all.index,\n",
    "                               colLabels=[f'Day {round(times[i])}' for i in range(len(times))], loc='bottom', bbox=[0, -0.35, 1, 0.2])\n",
    "    n_at_risk_table.auto_set_font_size(False)\n",
    "    n_at_risk_table.set_fontsize(9)\n",
    "                                                                 \n",
    "    plt.title('Relationships between incidence of in-hospital death and contact intensity level.')\n",
    "    plt.xlabel('Days from ED attendance')\n",
    "    plt.ylabel('Cumulative incidence')\n",
    "    plt.legend(loc='upper left')\n",
    "    plt.tight_layout()\n",
    "    plt.show()\n",
    "    \n",
    "    return ajf_dict"
   ]
  },
  {
   "cell_type": "code",
   "execution_count": null,
   "id": "04649b47-f551-41f1-b5f7-423a33141ff8",
   "metadata": {
    "scrolled": true
   },
   "outputs": [],
   "source": [
    "ajf_models = get_overall_cr_summary(val_data[val_data['s_days']<=100])"
   ]
  },
  {
   "cell_type": "code",
   "execution_count": null,
   "id": "b0dcaee8-5dc5-4c2d-82d5-914f9bb0357e",
   "metadata": {},
   "outputs": [],
   "source": [
    "ajf_models = get_overall_cr_summary(val_data[val_data['s_days']<=100], eoi=1, event_col='gt_m')"
   ]
  },
  {
   "cell_type": "code",
   "execution_count": null,
   "id": "34a8112c-4e74-464d-baa6-558cc6fb3644",
   "metadata": {},
   "outputs": [],
   "source": [
    "ajf_models = get_overall_cr_summary(val_data[val_data['s_days']<=100], tps=60)"
   ]
  },
  {
   "cell_type": "code",
   "execution_count": null,
   "id": "b06ea6e3-04a2-4024-ac9f-f7716b7d8c56",
   "metadata": {},
   "outputs": [],
   "source": [
    "ajf_models = get_overall_cr_summary(val_data[val_data['s_days']<=100], eoi=1, event_col='gt_m')"
   ]
  },
  {
   "cell_type": "code",
   "execution_count": null,
   "id": "18f1de21-8e29-4b8a-ae27-3b957f7e5155",
   "metadata": {},
   "outputs": [],
   "source": [
    "ajf_models = get_overall_cr_summary(val_data[val_data['s_days']<=300])"
   ]
  },
  {
   "cell_type": "code",
   "execution_count": null,
   "id": "0d747bde-58c0-4338-a67b-af24e3a23dee",
   "metadata": {},
   "outputs": [],
   "source": [
    "ajf_models = get_overall_cr_summary(val_data[val_data['s_days']<=300], eoi=1, event_col='gt_m')"
   ]
  },
  {
   "cell_type": "code",
   "execution_count": null,
   "id": "cb090a7b-72da-486e-90c3-831b878c8332",
   "metadata": {},
   "outputs": [],
   "source": [
    "val_data.s_days.describe()"
   ]
  },
  {
   "cell_type": "markdown",
   "id": "bf04e3f0-7d6b-4148-8849-34c8dc86e319",
   "metadata": {},
   "source": [
    "#### Subgroup analysis"
   ]
  },
  {
   "cell_type": "code",
   "execution_count": null,
   "id": "7c8480cd-d142-4e99-9f6c-fc1af5956e22",
   "metadata": {},
   "outputs": [],
   "source": [
    "def get_gr_cph(val_data, event_col='gt_m', duration_col='s_days',\n",
    "              group_labels=['Very Low', 'Low', 'Medium', 'Medium-High', 'High'],\n",
    "              plot_labels=['50-59', '60-69', '70-79', '80-89', '90+'],\n",
    "              covariate='age_gr', y_up=3.7, x_up=225, colors=['#918e26', '#a1dab4', \n",
    "                                                              '#41b6c4', '#2c7fb8', '#253494'],\n",
    "              leg_title='Age group'):\n",
    "    \n",
    "    val_data['Sex_c'] = np.where(val_data['Sex_F']==1, 'F', 'M')\n",
    "    val_data['tltc_gr'] = np.where(val_data['total_longterm_conditions']>3, 'High-count MM', 'No MM')\n",
    "    val_data['tltc_gr'] = np.where((val_data['total_longterm_conditions']>1)&(val_data['total_longterm_conditions']<=3), \n",
    "                                   'Simple MM', val_data['tltc_gr'])\n",
    "    val_data['tdr_gr'] = np.where(val_data['total_drug_categories']>=7, '7+', '0')\n",
    "    val_data['tdr_gr'] = np.where((val_data['total_drug_categories']>3)&(val_data['total_drug_categories']<7), '4-6', \n",
    "                                  val_data['tdr_gr'])\n",
    "    val_data['tdr_gr'] = np.where((val_data['total_drug_categories']>0)&(val_data['total_drug_categories']<=3), '1-3', \n",
    "                                  val_data['tdr_gr'])\n",
    "    #print(val_data[['age_gr', 'Sex_c', 'simd_gr', 'tltc_gr', 'tdr_gr']].isnull().sum())\n",
    "    cph_list = []\n",
    "    for group in group_labels:\n",
    "        print(f'Fitting CPH model for {group} intensity.')\n",
    "        group_data = val_data[val_data['total_count_all_gr']==group]\n",
    "        #print(val_data['total_count_all_gr'].unique())\n",
    "        ### Fit CPH model\n",
    "        cph = CoxPHFitter()\n",
    "        cph.fit(group_data, duration_col=duration_col, event_col=event_col, strata=['total_count_all_gr'], \n",
    "           formula='age_gr + C(Sex_c, Treatment(\\'M\\')) + simd_gr + C(tltc_gr, Treatment(\\'No MM\\')) + tdr_gr')\n",
    "        print('-------')\n",
    "        print(cph.print_summary())\n",
    "        print('-------')\n",
    "        print(f\"\\nSignificance test for {group} contact intensity:\")\n",
    "        print(cph.log_likelihood_ratio_test())\n",
    "        cph_list.append(cph)\n",
    "\n",
    "    ### CI function\n",
    "    #fig, ((ax1, ax2, ax3), (ax4, ax5, ax6)) = plt.subplots(figsize=(12,6), nrows=2, ncols=3)\n",
    "    for group, cph in zip(group_labels, cph_list):\n",
    "        plt.figure(figsize=(4,4))\n",
    "        cph.plot_partial_effects_on_outcome(covariates=covariate, values=plot_labels,\n",
    "                                       color=colors, \n",
    "                                            y='cumulative_hazard', figsize=(4,4), alpha=0.5)\n",
    "        #add_at_risk_counts(cph)\n",
    "        plt.title(f\"{group} contact intensity\")\n",
    "        plt.legend(title=leg_title, labels=plot_labels + ['Base survival'], prop={'size': 11}, loc='upper left')\n",
    "        plt.xlabel('Days from ED attendance')\n",
    "        plt.ylabel('Cumulative hazard')\n",
    "        plt.ylim([0, y_up])\n",
    "        plt.xlim([0, x_up])\n",
    "        \n",
    "    plt.tight_layout()\n",
    "    plt.show()"
   ]
  },
  {
   "cell_type": "code",
   "execution_count": null,
   "id": "a417e4a0-1736-4a29-8393-c69990fba485",
   "metadata": {
    "scrolled": true
   },
   "outputs": [],
   "source": [
    "get_gr_cph(val_filt)"
   ]
  },
  {
   "cell_type": "code",
   "execution_count": null,
   "id": "87e88a94-3ace-4c6a-8e3f-db966e2b9b40",
   "metadata": {},
   "outputs": [],
   "source": [
    "get_gr_cph(val_filt, plot_labels=['1 - most deprived', '2-4', '5 - least deprived'],\n",
    "              covariate='simd_gr', y_up=2.2,\n",
    "          colors=['#918e26', '#41b6c4', '#253494'], leg_title='SIMD quintiles')"
   ]
  },
  {
   "cell_type": "code",
   "execution_count": null,
   "id": "07c21fa2-a217-4b5f-88d5-bfab49858fe2",
   "metadata": {},
   "outputs": [],
   "source": [
    "get_gr_cph(val_filt, plot_labels=['No MM', 'Simple MM', 'High-count MM'],\n",
    "              covariate='tltc_gr', y_up=2.5, colors=['#918e26', '#41b6c4', '#253494'],\n",
    "          leg_title='Multimorbidity')"
   ]
  },
  {
   "cell_type": "code",
   "execution_count": null,
   "id": "8ec7946c-68a2-4d73-a9e6-1b3ea476189a",
   "metadata": {},
   "outputs": [],
   "source": [
    "get_gr_cph(val_filt, plot_labels=['0', '1-3', '4-6', '7+'],\n",
    "              covariate='tdr_gr', y_up=2.5, colors=['#918e26', '#41b6c4', '#2c7fb8', '#253494'],\n",
    "          leg_title='# Concurrent prescriptions')"
   ]
  }
 ],
 "metadata": {
  "kernelspec": {
   "display_name": "Python 3 (ipykernel)",
   "language": "python",
   "name": "python3"
  },
  "language_info": {
   "codemirror_mode": {
    "name": "ipython",
    "version": 3
   },
   "file_extension": ".py",
   "mimetype": "text/x-python",
   "name": "python",
   "nbconvert_exporter": "python",
   "pygments_lexer": "ipython3",
   "version": "3.10.12"
  }
 },
 "nbformat": 4,
 "nbformat_minor": 5
}
