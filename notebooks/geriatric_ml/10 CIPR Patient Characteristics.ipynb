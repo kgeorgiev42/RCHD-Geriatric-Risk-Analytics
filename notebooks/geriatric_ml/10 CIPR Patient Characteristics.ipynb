{
 "cells": [
  {
   "cell_type": "markdown",
   "id": "3e7367e1-4ec5-43c6-8268-7b85df27284e",
   "metadata": {},
   "source": [
    "#### Explores relationships between adverse hospital outcomes, rehabilitation activity and demographic history"
   ]
  },
  {
   "cell_type": "code",
   "execution_count": null,
   "id": "73b9b078-3c4c-4f55-af11-7048db205d71",
   "metadata": {},
   "outputs": [],
   "source": [
    "import pandas as pd\n",
    "import matplotlib.pyplot as plt\n",
    "import seaborn as sns\n",
    "import numpy as np\n",
    "import matplotlib.ticker as mtick\n",
    "from matplotlib.dates import DateFormatter\n",
    "from datetime import timedelta\n",
    "from datetime import datetime\n",
    "from tqdm import tqdm\n",
    "from tableone import TableOne\n",
    "from sklearn.preprocessing import KBinsDiscretizer"
   ]
  },
  {
   "cell_type": "markdown",
   "id": "b375b511-051f-4a3f-8b32-3de37c4b78b2",
   "metadata": {},
   "source": [
    "##### Load cohort and relevant data"
   ]
  },
  {
   "cell_type": "code",
   "execution_count": null,
   "id": "71eff677-bb88-44ad-8825-e63398ff92c1",
   "metadata": {},
   "outputs": [],
   "source": [
    "inp_data = pd.read_csv('')\n",
    "print(inp_data.shape, inp_data.ppid.nunique())\n",
    "#### Get index admission for observation\n",
    "#inp_data = inp_data.sort_values(['ppid', 'EpisodeNumber', 'AdmissionDate', 'AdmissionTime']).drop_duplicates(['ppid'], keep='first')\n",
    "print(inp_data.shape)\n",
    "#inp_data = inp_data[inp_data['gt_m']==0]\n",
    "print(inp_data.shape)"
   ]
  },
  {
   "cell_type": "code",
   "execution_count": null,
   "id": "f3595803-cdb6-4596-8288-7c41020a949f",
   "metadata": {},
   "outputs": [],
   "source": [
    "inp_data.columns.tolist()"
   ]
  },
  {
   "cell_type": "code",
   "execution_count": null,
   "id": "631299e7-a6d2-4ce9-8ee7-505c9c767044",
   "metadata": {},
   "outputs": [],
   "source": [
    "## Comorbidities\n",
    "#smr_data = pd.read_csv('', sep='\\t', low_memory=False, encoding='iso-8859-1')\n",
    "#gp_data = pd.read_csv('', sep='\\t', low_memory=False, encoding='iso-8859-1')\n",
    "#nrs_data = pd.read_csv('', sep='\\t', low_memory=False, encoding='iso-8859-1')\n",
    "## TRAK Questionnaires\n",
    "trq_4at = pd.read_csv('', sep='\\t', low_memory=False)\n",
    "trq_BBF = pd.read_csv('', sep='\\t', low_memory=False, encoding='iso-8859-1')\n",
    "trq_falls = pd.read_csv('', sep='\\t', low_memory=False)\n",
    "trq_mobility = pd.read_csv('', sep='\\t', low_memory=False)\n",
    "trq_MRSA = pd.read_csv('', sep='\\t', low_memory=False)\n",
    "trq_MUST = pd.read_csv('', sep='\\t', low_memory=False)\n",
    "trq_nutr = pd.read_csv('', sep='\\t', low_memory=False, encoding='iso-8859-1')\n",
    "trq_RUB = pd.read_csv('', sep='\\t', low_memory=False)\n",
    "trq_wt = pd.read_csv('', sep='\\t', low_memory=False)"
   ]
  },
  {
   "cell_type": "code",
   "execution_count": null,
   "id": "5f7ab360-7e7b-4e9c-bdd1-72e0b2b84e71",
   "metadata": {},
   "outputs": [],
   "source": [
    "#### Set MM groups\n",
    "inp_data['total_count_rehab'] = inp_data[['n_PT', 'n_OT', 'n_SLT']].sum(axis=1)\n",
    "inp_data['mm_group'] = np.where((inp_data['total_longterm_conditions'] >= 4), 'High-count MM',\n",
    "                        np.where(inp_data['total_longterm_conditions'].isin([2,3]), 'Simple MM','No MM'))\n",
    "\n",
    "inp_data['pm_mm'] = np.where(inp_data['phys_men_multimorbidity'] == 1, 'Y', 'N')\n",
    "inp_data['pm_mm'] = np.where((inp_data['total_physlongterm_conditions'] > 1)&(inp_data['total_menlongterm_conditions'] == 0),\n",
    "                                          'M', inp_data['pm_mm'])\n",
    "inp_data['pm_mm'] = np.where((inp_data['total_physlongterm_conditions'] == 0)&(inp_data['total_menlongterm_conditions'] > 1),\n",
    "                                          'M', inp_data['pm_mm'])"
   ]
  },
  {
   "cell_type": "markdown",
   "id": "f477007f-b4a4-4063-aa09-714950c3b90c",
   "metadata": {},
   "source": [
    "##### Get demographic and rehab summary data"
   ]
  },
  {
   "cell_type": "code",
   "execution_count": null,
   "id": "f5c3e9e2-44ae-42e6-995a-833bbcc4f27c",
   "metadata": {},
   "outputs": [],
   "source": [
    "inp_data = inp_data[['ppid', 'EpisodeNumber', 'AdmissionDate', 'DischargeDate', 'triage_code', 'HOSP_adt',\n",
    "                     'AgeAtAdmission', 'Sex', 'simd_gr',\n",
    "                     'gt_m','gt_es_hosp','gt_cc','gt_dd','gt_eld',\n",
    "                     'total_count_all', 'total_count_ooh_all',\n",
    "                     'total_count_rehab', 'total_count_ooh_rehab',\n",
    "                     'total_mins_rehab', 'total_mins_ooh_rehab', 'n_PT', 'n_OT', 'n_DT',\n",
    "                     'n_SLT', 'n_NURSE', 'time_to_therapy', 'time_to_therapy_2', 'LOS_ED_hr', 'LOS_hosp',\n",
    "                    'total_n_disciplines', 'n_lead_spec', 'mm_group', 'phys_men_multimorbidity',\n",
    "                    'physltc_active_cancer', 'physltc_ischaemic_heart_disease', 'physltc_arthritis_arthropathy',\n",
    "                     'physltc_prog_neur_disease', 'physltc_hypertension', 'physltc_asthma', 'total_count_all_tf',\n",
    "                    'avg_n_cts_per_day','avg_r_cts_per_day','avg_cts_per_day']]\n",
    "inp_data.isnull().sum()"
   ]
  },
  {
   "cell_type": "code",
   "execution_count": null,
   "id": "1325fc4c-df96-4dbf-87ab-7a3981bc64b4",
   "metadata": {},
   "outputs": [],
   "source": [
    "def discretize(y, nb=5):\n",
    "    discretizer = KBinsDiscretizer(n_bins=nb, encode='ordinal', strategy='quantile')\n",
    "    return discretizer.fit_transform(y.values.reshape(-1, 1)).flatten()\n",
    "\n",
    "inp_data['intensity_group'] = discretize(inp_data['total_count_all_tf'])\n",
    "inp_data['intensity_group'] = inp_data['intensity_group'].astype(int)\n",
    "inp_data['intensity_group'] = pd.Categorical(inp_data['intensity_group'].map({0: 'Very Low', 1: 'Low', 2: 'Medium',\n",
    "                                                                              3: 'Medium-high', 4: 'High'}))"
   ]
  },
  {
   "cell_type": "code",
   "execution_count": null,
   "id": "b9408e95-2370-4760-a796-bce1e3b4496e",
   "metadata": {},
   "outputs": [],
   "source": [
    "inp_data['intensity_group'].value_counts()"
   ]
  },
  {
   "cell_type": "markdown",
   "id": "3426cab1-0ab9-42f2-8970-25f8874f557f",
   "metadata": {},
   "source": [
    "##### Link TRAK questionnaires data"
   ]
  },
  {
   "cell_type": "code",
   "execution_count": null,
   "id": "96ded1b1-34b4-4cd3-8cea-a26a1546d0f7",
   "metadata": {},
   "outputs": [],
   "source": [
    "trq_4at.columns"
   ]
  },
  {
   "cell_type": "code",
   "execution_count": null,
   "id": "486874e8-2362-45a1-b756-5c8861b0f51d",
   "metadata": {},
   "outputs": [],
   "source": [
    "trq_4at['DateOfAssessment'] = pd.DatetimeIndex(pd.to_datetime(trq_4at['DateOfAssessment'])).tz_localize(None)\n",
    "trq_4at = pd.merge(trq_4at, inp_data[['ppid', 'EpisodeNumber', 'HOSP_adt']], how='left', on=['ppid', 'EpisodeNumber'])\n",
    "trq_4at['HOSP_adt'] = pd.to_datetime(trq_4at['HOSP_adt'])\n",
    "#trq_4at = trq_4at[(trq_4at['HOSP_adt'] + timedelta(hours=24)) >= trq_4at['DateOfAssessment']].sort_values(['ppid', 'DateOfAssessment']).drop_duplicates('ppid', keep='last')\n",
    "trq_4at = trq_4at.sort_values(['ppid', 'EpisodeNumber', 'DateOfAssessment']).drop_duplicates(['ppid', 'EpisodeNumber'], keep='first')\n",
    "inp_data = inp_data.merge(trq_4at[['ppid', 'EpisodeNumber', '4AT score']], how='left', on=['ppid', 'EpisodeNumber'])\n",
    "inp_data['4AT score'] = inp_data['4AT score'].fillna(-1).astype(int)"
   ]
  },
  {
   "cell_type": "code",
   "execution_count": null,
   "id": "fca26d45-8419-4873-b6b1-8e0469b7356b",
   "metadata": {},
   "outputs": [],
   "source": [
    "trq_4at['DateOfAssessment'].min()"
   ]
  },
  {
   "cell_type": "code",
   "execution_count": null,
   "id": "e21a711d-9770-43ed-b75f-ede1d4e51115",
   "metadata": {},
   "outputs": [],
   "source": [
    "inp_data['4AT score'] = pd.Categorical(np.where(inp_data['4AT score'] >= 4, '>=4', inp_data['4AT score']))\n",
    "inp_data['4AT score'] = pd.Categorical(np.where(inp_data['4AT score'] == '-1', 'Not assessed', inp_data['4AT score']))"
   ]
  },
  {
   "cell_type": "code",
   "execution_count": null,
   "id": "f9f6d552-7e20-4582-9357-dc17566c3ad3",
   "metadata": {},
   "outputs": [],
   "source": [
    "inp_data['4AT score'].value_counts()"
   ]
  },
  {
   "cell_type": "code",
   "execution_count": null,
   "id": "11aa0aab-575c-4a34-9351-f5cd0cc58e49",
   "metadata": {},
   "outputs": [],
   "source": [
    "inp_data.ppid.nunique(), inp_data.shape"
   ]
  },
  {
   "cell_type": "code",
   "execution_count": null,
   "id": "bdc56226-b4a5-481d-bda7-d92fccfef643",
   "metadata": {},
   "outputs": [],
   "source": [
    "trq_MUST['DateOfAssessment'] = pd.DatetimeIndex(pd.to_datetime(trq_MUST['DateOfAssessment'])).tz_localize(None)\n",
    "trq_MUST = pd.merge(trq_MUST, inp_data[['ppid', 'EpisodeNumber', 'HOSP_adt']], how='left', on=['ppid', 'EpisodeNumber'])\n",
    "trq_MUST['HOSP_adt'] = pd.to_datetime(trq_MUST['HOSP_adt'])\n",
    "#trq_MUST = trq_MUST[(trq_MUST['HOSP_adt'] + timedelta(hours=24)) >= trq_MUST['DateOfAssessment']].sort_values(['ppid', 'DateOfAssessment']).drop_duplicates('ppid', keep='last')\n",
    "trq_4at = trq_MUST.sort_values(['ppid', 'EpisodeNumber', 'DateOfAssessment']).drop_duplicates(['ppid', 'EpisodeNumber'], keep='first')\n",
    "inp_data = inp_data.merge(trq_MUST[['ppid', 'EpisodeNumber', 'Total score']], how='left', on=['ppid', 'EpisodeNumber'])\n",
    "inp_data['Total score'] = inp_data['Total score'].fillna(-1).astype(int)\n",
    "inp_data = inp_data.rename(columns={'Total score': 'MUST score'})"
   ]
  },
  {
   "cell_type": "code",
   "execution_count": null,
   "id": "4896c6b7-1f2b-403e-98bb-50e14efa8e78",
   "metadata": {},
   "outputs": [],
   "source": [
    "trq_MUST['DateOfAssessment'].max()"
   ]
  },
  {
   "cell_type": "code",
   "execution_count": null,
   "id": "a9ffa14f-5670-4427-8417-b5f979db3501",
   "metadata": {},
   "outputs": [],
   "source": [
    "inp_data['MUST score'] = pd.Categorical(np.where(inp_data['MUST score'] >= 2, '>=2', inp_data['MUST score']))\n",
    "inp_data['MUST score'] = pd.Categorical(np.where(inp_data['MUST score'] == '-1', 'Not assessed', inp_data['MUST score']))"
   ]
  },
  {
   "cell_type": "code",
   "execution_count": null,
   "id": "3e1e1064-fda6-4d5f-a44f-6b6023ffc085",
   "metadata": {},
   "outputs": [],
   "source": [
    "inp_data = inp_data.sort_values(['ppid', 'EpisodeNumber', 'AdmissionDate',\n",
    "                                 'MUST score']).drop_duplicates(['ppid', 'EpisodeNumber'], keep='first')"
   ]
  },
  {
   "cell_type": "code",
   "execution_count": null,
   "id": "3479eeaa-68e4-49eb-ae7f-fd7e144f4b63",
   "metadata": {},
   "outputs": [],
   "source": [
    "inp_data['MUST score'].value_counts()"
   ]
  },
  {
   "cell_type": "code",
   "execution_count": null,
   "id": "9b597e4b-dba4-44eb-b25c-1b4be39accd1",
   "metadata": {},
   "outputs": [],
   "source": [
    "inp_data.ppid.nunique(), inp_data.shape"
   ]
  },
  {
   "cell_type": "code",
   "execution_count": null,
   "id": "c70579dd-cb03-438f-8ef3-94a1c9a9060e",
   "metadata": {},
   "outputs": [],
   "source": [
    "trq_falls['DateOfAssessment'] = pd.DatetimeIndex(pd.to_datetime(trq_falls['DateOfAssessment'])).tz_localize(None)\n",
    "trq_falls = pd.merge(trq_falls, inp_data[['ppid', 'EpisodeNumber', 'HOSP_adt']], how='left', on=['ppid', 'EpisodeNumber'])\n",
    "trq_falls['HOSP_adt'] = pd.to_datetime(trq_falls['HOSP_adt'])\n",
    "#trq_falls = trq_falls[(trq_falls['HOSP_adt'] + timedelta(hours=24)) >= trq_falls['DateOfAssessment']].sort_values(['ppid', 'DateOfAssessment']).drop_duplicates('ppid', keep='last')\n",
    "trq_falls = trq_falls.sort_values(['ppid', 'EpisodeNumber', 'DateOfAssessment']).drop_duplicates(['ppid', 'EpisodeNumber'], keep='first')\n",
    "inp_data = inp_data.merge(trq_falls[['ppid', 'EpisodeNumber', 'Has_the_patient_fallen_in_the_last_6_months_code']], how='left', on=['ppid', 'EpisodeNumber'])\n",
    "inp_data['Has_the_patient_fallen_in_the_last_6_months_code'] = inp_data['Has_the_patient_fallen_in_the_last_6_months_code'].fillna('Not assessed').astype(str)\n",
    "inp_data = inp_data.rename(columns={'Has_the_patient_fallen_in_the_last_6_months_code': 'Fall event (within 6 months of admission)'})"
   ]
  },
  {
   "cell_type": "code",
   "execution_count": null,
   "id": "00af7f92-568a-4c02-a8d7-d3a09eade958",
   "metadata": {},
   "outputs": [],
   "source": [
    "trq_falls['DateOfAssessment'].min()"
   ]
  },
  {
   "cell_type": "code",
   "execution_count": null,
   "id": "8c51d093-5062-435e-bba7-5b92a52a737b",
   "metadata": {},
   "outputs": [],
   "source": [
    "inp_data['Fall event (within 6 months of admission)'].value_counts()"
   ]
  },
  {
   "cell_type": "code",
   "execution_count": null,
   "id": "bae6a3c9-d29a-4ab5-83b6-1c1fa7eaccbd",
   "metadata": {},
   "outputs": [],
   "source": [
    "inp_data.ppid.nunique(), inp_data.shape"
   ]
  },
  {
   "cell_type": "code",
   "execution_count": null,
   "id": "8f4c8fc5-34fd-495d-9bda-87e487116663",
   "metadata": {},
   "outputs": [],
   "source": [
    "trq_mobility.columns"
   ]
  },
  {
   "cell_type": "code",
   "execution_count": null,
   "id": "52559dbb-3767-45fc-9fc3-bd71b67ba7dd",
   "metadata": {},
   "outputs": [],
   "source": [
    "trq_mobility['DateOfAssessment'] = pd.DatetimeIndex(pd.to_datetime(trq_mobility['DateOfAssessment'])).tz_localize(None)\n",
    "trq_mobility = pd.merge(trq_mobility, inp_data[['ppid', 'EpisodeNumber', 'HOSP_adt']], how='left', on=['ppid', 'EpisodeNumber'])\n",
    "trq_mobility['HOSP_adt'] = pd.to_datetime(trq_mobility['HOSP_adt'])\n",
    "#trq_mobility = trq_mobility[(trq_mobility['HOSP_adt'] + timedelta(hours=24)) >= trq_mobility['DateOfAssessment']].sort_values(['ppid', 'DateOfAssessment']).drop_duplicates('ppid', keep='last')\n",
    "trq_mobility = trq_mobility.sort_values(['ppid', 'EpisodeNumber', 'DateOfAssessment']).drop_duplicates(['ppid', 'EpisodeNumber'], keep='first')\n",
    "inp_data = inp_data.merge(trq_mobility[['ppid', 'EpisodeNumber', 'Walking']], how='left', on=['ppid', 'EpisodeNumber'])\n",
    "inp_data['Walking'] = inp_data['Walking'].fillna('Not assessed').astype(str)\n",
    "inp_data = inp_data.rename(columns={'Walking': 'Mobility (walking independence)'})"
   ]
  },
  {
   "cell_type": "code",
   "execution_count": null,
   "id": "998ee982-3b3d-40a1-9055-2e126d5136f6",
   "metadata": {},
   "outputs": [],
   "source": [
    "inp_data = inp_data.merge(trq_mobility[['ppid', 'EpisodeNumber', 'Bathing/showering']], how='left', on=['ppid', 'EpisodeNumber'])\n",
    "inp_data['Bathing'] = inp_data['Bathing/showering'].fillna('Not assessed').astype(str)\n",
    "inp_data = inp_data.rename(columns={'Bathing': 'Mobility (bathing independence)'})"
   ]
  },
  {
   "cell_type": "code",
   "execution_count": null,
   "id": "c7b4270c-a6e5-464d-a17a-c4d1cdebefef",
   "metadata": {},
   "outputs": [],
   "source": [
    "trq_mobility['DateOfAssessment'].max()"
   ]
  },
  {
   "cell_type": "code",
   "execution_count": null,
   "id": "a382381f-18d1-425b-bd39-28a55d339779",
   "metadata": {},
   "outputs": [],
   "source": [
    "inp_data['Mobility (walking independence)'] = np.where(inp_data['Mobility (walking independence)'].str.contains('Independent'), 'Y', \n",
    "                                                       inp_data['Mobility (walking independence)'])\n",
    "inp_data['Mobility (walking independence)'] = np.where(inp_data['Mobility (walking independence)'].str.contains('Not applicable'), \n",
    "                                                       'Bed rest (N/A)', \n",
    "                                                       inp_data['Mobility (walking independence)'])\n",
    "inp_data['Mobility (walking independence)'] = np.where((inp_data['Mobility (walking independence)'].str.contains('Assistance'))|\n",
    "                                                       (inp_data['Mobility (walking independence)'].str.contains('Supervision'))|\n",
    "                                                       (inp_data['Mobility (walking independence)'].str.contains('Zimmer / Rollator'))|\n",
    "                                                       (inp_data['Mobility (walking independence)'].str.contains('Stick'))|\n",
    "                                                       (inp_data['Mobility (walking independence)'].str.contains('Crutches'))| \n",
    "                                                       (inp_data['Mobility (walking independence)'].str.contains('Restraint')),\n",
    "                                                       'N', inp_data['Mobility (walking independence)'])\n",
    "\n",
    "inp_data['Mobility (bathing independence)'] = np.where(inp_data['Mobility (bathing independence)'].str.contains('Independent'), 'Y', \n",
    "                                                       inp_data['Mobility (bathing independence)'])\n",
    "inp_data['Mobility (bathing independence)'] = np.where(inp_data['Mobility (bathing independence)'].str.contains('Not applicable'), \n",
    "                                                       'Bed rest (N/A)', \n",
    "                                                       inp_data['Mobility (bathing independence)'])\n",
    "inp_data['Mobility (bathing independence)'] = np.where((inp_data['Mobility (bathing independence)'].str.contains('Assistance'))|\n",
    "                                                       (inp_data['Mobility (bathing independence)'].str.contains('Supervision'))|\n",
    "                                                       (inp_data['Mobility (bathing independence)'].str.contains('Zimmer / Rollator'))|\n",
    "                                                       (inp_data['Mobility (bathing independence)'].str.contains('Stick'))|\n",
    "                                                       (inp_data['Mobility (bathing independence)'].str.contains('Crutches'))| \n",
    "                                                       (inp_data['Mobility (bathing independence)'].str.contains('Restraint')),\n",
    "                                                       'N', inp_data['Mobility (bathing independence)'])"
   ]
  },
  {
   "cell_type": "code",
   "execution_count": null,
   "id": "a43a826c-817b-4f91-bafe-88ef3c032625",
   "metadata": {},
   "outputs": [],
   "source": [
    "inp_data['Mobility (bathing independence)'] = np.where(~inp_data['Mobility (bathing independence)'].isin(['Not assessed','Y','N',\n",
    "                                                                                                         'Bed rest (N/A)']), \n",
    "                                                       'Y', \n",
    "                                                       inp_data['Mobility (bathing independence)'])"
   ]
  },
  {
   "cell_type": "code",
   "execution_count": null,
   "id": "f5c82065-8842-4b20-9eb6-0a6997b819d3",
   "metadata": {},
   "outputs": [],
   "source": [
    "inp_data['Mobility (walking independence)'].value_counts()"
   ]
  },
  {
   "cell_type": "code",
   "execution_count": null,
   "id": "d1c5fee5-2c26-4525-9fb1-4c77623e13ad",
   "metadata": {},
   "outputs": [],
   "source": [
    "inp_data['Mobility (bathing independence)'].value_counts()"
   ]
  },
  {
   "cell_type": "code",
   "execution_count": null,
   "id": "ed20d694-a895-4043-bb40-c1581161e0db",
   "metadata": {},
   "outputs": [],
   "source": [
    "inp_data.ppid.nunique(), inp_data.shape"
   ]
  },
  {
   "cell_type": "code",
   "execution_count": null,
   "id": "bb57ad34-39a1-4fdd-89d5-8fdff1b1e52b",
   "metadata": {},
   "outputs": [],
   "source": [
    "trq_nutr['DateOfAssessment'] = pd.to_datetime(pd.to_datetime(trq_nutr['DateIdentified']).dt.date)\n",
    "trq_nutr = pd.merge(trq_nutr, inp_data[['ppid', 'EpisodeNumber', 'AdmissionDate']], how='left', on=['ppid', 'EpisodeNumber'])\n",
    "trq_nutr['AdmissionDate'] = pd.to_datetime(trq_nutr['AdmissionDate'])\n",
    "#trq_nutr = trq_nutr[(trq_nutr['AdmissionDate'] + pd.DateOffset(days=1)) >= trq_nutr['DateIdentified']].sort_values(['ppid', 'DateIdentified']).drop_duplicates('ppid', keep='last')\n",
    "trq_nutr = trq_nutr.sort_values(['ppid', 'EpisodeNumber', 'DateIdentified']).drop_duplicates(['ppid', 'EpisodeNumber'], keep='first')\n",
    "inp_data = inp_data.merge(trq_nutr[['ppid', 'EpisodeNumber', \n",
    "                                    'Does_the_patient_have_any_swallowing_difficulties?_Code']], how='left', on=['ppid', 'EpisodeNumber'])\n",
    "inp_data['Does_the_patient_have_any_swallowing_difficulties?_Code'] = inp_data['Does_the_patient_have_any_swallowing_difficulties?_Code'].fillna('Not assessed').astype(str)\n",
    "inp_data = inp_data.rename(columns={'Does_the_patient_have_any_swallowing_difficulties?_Code': 'Nutritional assessment (swallowing difficulties)'})"
   ]
  },
  {
   "cell_type": "code",
   "execution_count": null,
   "id": "040a1443-027d-4178-a126-8bfdc75c0ec8",
   "metadata": {},
   "outputs": [],
   "source": [
    "trq_nutr['DateOfAssessment'].min()"
   ]
  },
  {
   "cell_type": "code",
   "execution_count": null,
   "id": "d1c007ca-9068-4de0-995b-40306948b35a",
   "metadata": {},
   "outputs": [],
   "source": [
    "inp_data['Nutritional assessment (swallowing difficulties)'].value_counts()"
   ]
  },
  {
   "cell_type": "code",
   "execution_count": null,
   "id": "50d762c4-d03b-4fce-8c4c-2302c8bcda02",
   "metadata": {},
   "outputs": [],
   "source": [
    "inp_data.ppid.nunique(), inp_data.shape"
   ]
  },
  {
   "cell_type": "code",
   "execution_count": null,
   "id": "8b020c07-e984-4d7a-b136-5ef4b642ea47",
   "metadata": {},
   "outputs": [],
   "source": [
    "trq_wt['DateOfAssessment'] = pd.DatetimeIndex(pd.to_datetime(trq_wt['DateOfAssessment'])).tz_localize(None)\n",
    "trq_wt = pd.merge(trq_wt, inp_data[['ppid', 'EpisodeNumber', 'HOSP_adt']], how='left', on=['ppid', 'EpisodeNumber'])\n",
    "trq_wt['HOSP_adt'] = pd.to_datetime(trq_wt['HOSP_adt'])\n",
    "#trq_wt = trq_wt[(trq_wt['HOSP_adt'] + timedelta(hours=24)) >= trq_wt['DateOfAssessment']].sort_values(['ppid', 'DateOfAssessment']).drop_duplicates('ppid', keep='last')\n",
    "trq_wt = trq_wt.sort_values(['ppid', 'EpisodeNumber', 'DateOfAssessment']).drop_duplicates(['ppid', 'EpisodeNumber'], keep='first')\n",
    "inp_data = inp_data.merge(trq_wt[['ppid', 'EpisodeNumber', 'Score']], how='left', on=['ppid', 'EpisodeNumber'])\n",
    "#inp_data['Score'] = inp_data['Score'].fillna(0).astype(int)\n",
    "inp_data = inp_data.rename(columns={'Score': 'Waterlow score (Pressure ulcer)'})"
   ]
  },
  {
   "cell_type": "code",
   "execution_count": null,
   "id": "ef773aa0-fa5f-4d70-b7e5-6824c4aed932",
   "metadata": {},
   "outputs": [],
   "source": [
    "trq_wt['DateOfAssessment'].max()"
   ]
  },
  {
   "cell_type": "code",
   "execution_count": null,
   "id": "e5dc28f3-9cf4-4fbe-b8d5-6eac9df4b991",
   "metadata": {},
   "outputs": [],
   "source": [
    "inp_data['Waterlow score (Pressure ulcer)'] = pd.Categorical(np.where(inp_data['Waterlow score (Pressure ulcer)'] >= 20, '>=20 (At very high risk)',\n",
    "                                                             np.where(inp_data['Waterlow score (Pressure ulcer)'] >= 15, '>=15 (At high risk)',\n",
    "                                                            np.where(inp_data['Waterlow score (Pressure ulcer)'] >= 10, '>=10 (At risk)',\n",
    "                                                            np.where(inp_data['Waterlow score (Pressure ulcer)'] <10, 'Not at risk',\n",
    "                                                     'Not assessed')))))"
   ]
  },
  {
   "cell_type": "code",
   "execution_count": null,
   "id": "b9d3f2d1-8bdb-422e-a8d0-ada23ae33ecf",
   "metadata": {},
   "outputs": [],
   "source": [
    "inp_data['Waterlow score (Pressure ulcer)'].value_counts()"
   ]
  },
  {
   "cell_type": "code",
   "execution_count": null,
   "id": "651610e9-e8ec-4067-b161-75826bd9fd12",
   "metadata": {},
   "outputs": [],
   "source": [
    "inp_data.ppid.nunique(), inp_data.shape"
   ]
  },
  {
   "cell_type": "markdown",
   "id": "8e344ac9-a2b5-4837-a3cb-cad2bd30231e",
   "metadata": {},
   "source": [
    "##### Get summary tables"
   ]
  },
  {
   "cell_type": "code",
   "execution_count": null,
   "id": "f06d8c6b-6318-46d7-bbf8-1e33c3d6ac72",
   "metadata": {},
   "outputs": [],
   "source": [
    "inp_data.simd_gr.value_counts()"
   ]
  },
  {
   "cell_type": "code",
   "execution_count": null,
   "id": "57926fed-cc78-48b3-906b-d487979e49a6",
   "metadata": {},
   "outputs": [],
   "source": [
    "inp_data.shape"
   ]
  },
  {
   "cell_type": "code",
   "execution_count": null,
   "id": "c5d9298a-a740-495c-8491-b79aafa454dc",
   "metadata": {
    "scrolled": true
   },
   "outputs": [],
   "source": [
    "inp_data.columns.tolist()"
   ]
  },
  {
   "cell_type": "code",
   "execution_count": null,
   "id": "7c2d27f5-34cf-4d1e-8011-f97d25ce3046",
   "metadata": {},
   "outputs": [],
   "source": [
    "inp_sel = inp_data[['AgeAtAdmission',\n",
    " 'Sex',\n",
    " 'simd_gr',\n",
    " 'LOS_ED_hr',\n",
    " 'LOS_hosp',\n",
    " 'n_lead_spec',\n",
    " 'mm_group',\n",
    " 'phys_men_multimorbidity',\n",
    " 'physltc_active_cancer',\n",
    " 'physltc_ischaemic_heart_disease',\n",
    " 'physltc_arthritis_arthropathy',\n",
    " 'physltc_prog_neur_disease',\n",
    " 'physltc_hypertension',\n",
    " 'physltc_asthma',\n",
    " '4AT score',\n",
    " 'MUST score',\n",
    " 'Fall event (within 6 months of admission)',\n",
    " 'Mobility (walking independence)',\n",
    " 'Mobility (bathing independence)',\n",
    " 'Nutritional assessment (swallowing difficulties)',\n",
    " 'Waterlow score (Pressure ulcer)',\n",
    " 'total_count_all',\n",
    " 'total_count_ooh_all',\n",
    " 'total_count_rehab',\n",
    " 'total_count_ooh_rehab',\n",
    " 'total_mins_rehab',\n",
    " 'total_mins_ooh_rehab',\n",
    " 'time_to_therapy',\n",
    " 'time_to_therapy_2',\n",
    " 'total_n_disciplines',\n",
    " 'intensity_group',\n",
    " 'n_NURSE',\n",
    " 'n_PT',\n",
    " 'n_OT',\n",
    " 'n_SLT',\n",
    " 'avg_n_cts_per_day',\n",
    " 'avg_r_cts_per_day',\n",
    " 'avg_cts_per_day',\n",
    " 'gt_m',\n",
    " 'gt_es_hosp',\n",
    " 'gt_cc',\n",
    " 'gt_dd',\n",
    " 'gt_eld'\n",
    " ]]\n",
    "\n",
    "inp_sel['Received rehab'] = np.where(inp_sel['total_count_rehab'] > 0, 'Y', 'N')\n",
    "## For rehab-only\n",
    "#inp_sel = inp_sel[(inp_sel['total_count_rehab'] >= 2)]\n",
    "#inp_sel = inp_sel.drop('LOS_hosp', axis=1)\n",
    "for col in ['phys_men_multimorbidity',\n",
    "            'physltc_active_cancer',\n",
    " 'physltc_ischaemic_heart_disease',\n",
    " 'physltc_arthritis_arthropathy',\n",
    " 'physltc_prog_neur_disease',\n",
    " 'physltc_hypertension',\n",
    " 'physltc_asthma']:\n",
    "    inp_sel[col] = np.where(inp_sel[col] == 0, 'N', 'Y')\n",
    "    \n",
    "inp_sel = inp_sel.rename(columns={\n",
    "    'AgeAtAdmission': 'Age at index admission',\n",
    "    'simd_gr': 'SIMD (1 - most deprived, 5 - least deprived region)',\n",
    "    'LOS_hosp': 'Length of hospital stay (days)',\n",
    "    'LOS_ED_hr': 'Length of stay in ED (hours)',\n",
    "    'n_lead_spec': '# leading specialties',\n",
    "    'mm_group': 'Multimorbidity group',\n",
    "    'phys_men_multimorbidity': 'Physical-mental multimorbidity',\n",
    "    'physltc_active_cancer': 'Active cancer',\n",
    "    'physltc_ischaemic_heart_disease': 'Ischaemic Heart Disease',\n",
    "    'physltc_arthritis_arthropathy': 'Arthritis or other arthropathy',\n",
    "    'physltc_prog_neur_disease': 'Progressive neurological disease',\n",
    "    'physltc_hypertension': 'Hypertension',\n",
    "    'physltc_asthma': 'Asthma',\n",
    "    'total_count_all': 'Total health contacts',\n",
    "    'total_count_ooh_all': 'Total out-of-hours health contacts',\n",
    "    'total_count_rehab': 'Total rehabilitation contacts',\n",
    "    'total_count_ooh_rehab': 'Total out-of-hours rehabilitation contacts',\n",
    "    'total_mins_rehab': 'Minutes of rehabilitation therapy',\n",
    "    'total_mins_ooh_rehab': 'Minutes of out-of-hours rehabilitation therapy',\n",
    "    'time_to_therapy': 'Time to first rehabilitation contact (hours)',\n",
    "    'time_to_therapy_2': 'Time to second rehabilitation contact (hours)',\n",
    "    'total_n_disciplines': '# disciplines involved',\n",
    "    'intensity_group': 'Care intensity group',\n",
    "    'n_NURSE': 'Nursing contacts',\n",
    "    'n_PT': 'Physiotherapy contacts',\n",
    "    'n_OT': 'Occupational therapy contacts',\n",
    "    'n_SLT': 'Speech & Language contacts',\n",
    "    'avg_n_cts_per_day': 'Nursing contacts per admission day',\n",
    "    'avg_r_cts_per_day': 'Rehab contacts per admission day',\n",
    "    'avg_cts_per_day': 'Contacts per admission day',\n",
    "    'gt_m': 'In-hospital death',\n",
    "    'gt_es_hosp': 'Extended stay','gt_cc': 'ICU/HDU admission', 'gt_dd': 'Home discharge', 'gt_eld': 'Admission to MoE'\n",
    "})\n",
    "\n",
    "inp_sel['Time to first rehabilitation contact (hours)'] = np.where(inp_sel['Time to first rehabilitation contact (hours)'] == -1, np.nan, inp_sel['Time to first rehabilitation contact (hours)'])\n",
    "inp_sel['Time to second rehabilitation contact (hours)'] = np.where(inp_sel['Time to second rehabilitation contact (hours)'] == -1, np.nan, inp_sel['Time to second rehabilitation contact (hours)'])\n",
    "inp_sel['Minutes of rehabilitation therapy'] = np.where(inp_sel['Minutes of rehabilitation therapy'] == 0, np.nan, inp_sel['Minutes of rehabilitation therapy'])\n",
    "inp_sel['Minutes of out-of-hours rehabilitation therapy'] = np.where(inp_sel['Minutes of out-of-hours rehabilitation therapy'] == 0, np.nan, inp_sel['Minutes of out-of-hours rehabilitation therapy'])\n",
    "inp_sel['Total rehabilitation contacts'] = np.where(inp_sel['Total rehabilitation contacts'] == 0, np.nan, inp_sel['Total rehabilitation contacts'])\n",
    "inp_sel['Total out-of-hours health contacts'] = np.where(inp_sel['Total out-of-hours health contacts'] == 0, np.nan, inp_sel['Total out-of-hours health contacts'])\n",
    "inp_sel['Total out-of-hours rehabilitation contacts'] = np.where(inp_sel['Total out-of-hours rehabilitation contacts'] == 0, np.nan, inp_sel['Total out-of-hours rehabilitation contacts'])\n",
    "inp_sel['# disciplines involved'] = np.where(inp_sel['# disciplines involved'] <=0, np.nan, inp_sel['# disciplines involved'])\n",
    "inp_sel['Rehab contacts per admission day'] = np.where(inp_sel['Rehab contacts per admission day']<=0, np.nan, \n",
    "                                                       inp_sel['Rehab contacts per admission day'])\n",
    "\n",
    "inp_sel['In-hospital death'] = np.where(inp_sel['In-hospital death'] == 1, 'Y', 'N').astype(str)\n",
    "inp_sel['Extended stay'] = np.where(inp_sel['Extended stay'] == 1, 'Y', 'N').astype(str)\n",
    "inp_sel['ICU/HDU admission'] = np.where(inp_sel['ICU/HDU admission'] == 1, 'Y', 'N').astype(str)\n",
    "inp_sel['Home discharge'] = np.where(inp_sel['Home discharge'] == 1, 'Y', 'N').astype(str)\n",
    "inp_sel['Admission to MoE'] = np.where(inp_sel['Admission to MoE'] == 1, 'Y', 'N').astype(str)\n",
    "inp_sel['Care intensity group'] = pd.Categorical(inp_sel['Care intensity group'], categories=['Very Low', 'Low',\n",
    "                                                                                              'Medium', 'Medium-high',\n",
    "                                                                                              'High'], ordered=True)"
   ]
  },
  {
   "cell_type": "code",
   "execution_count": null,
   "id": "d77628e7-c714-420b-b180-5ef1ad41d16e",
   "metadata": {
    "scrolled": true
   },
   "outputs": [],
   "source": [
    "### In-hospital death\n",
    "t_cols = ['Length of hospital stay (days)', 'Length of stay in ED (hours)',\n",
    "          'Total long-term conditions', 'Total health contacts', 'Total rehabilitation contacts',\n",
    "          'Total out-of-hours health contacts', 'Total out-of-hours rehabilitation contacts',\n",
    "          'Minutes of out-of-hours rehabilitation therapy', 'Nursing contacts',\n",
    "          'Minutes of rehabilitation therapy', 'Time to first rehabilitation contact (hours)',\n",
    "         'Time to second rehabilitation contact (hours)', 'Nursing contacts per admission day',\n",
    "          'Rehab contacts per admission day', 'Contacts per admission day']\n",
    "categorical = ['Sex', 'SIMD (1 - most deprived, 5 - least deprived region)', 'Multimorbidity group', 'Physical-mental multimorbidity',\n",
    "               'Active cancer', 'Ischaemic Heart Disease', 'Arthritis or other arthropathy', \n",
    "               'Progressive neurological disease', 'Hypertension', 'Asthma', 'Care intensity group', '4AT score',\n",
    "               'MUST score', 'Fall event (within 6 months of admission)','Mobility (walking independence)',\n",
    "               'Mobility (bathing independence)',\n",
    "               'Nutritional assessment (swallowing difficulties)','Waterlow score (Pressure ulcer)','Received rehab', \n",
    "               'Extended stay', 'ICU/HDU admission', 'Home discharge','Admission to MoE'\n",
    "              ]\n",
    "groupby = ['In-hospital death']\n",
    "sum_table = TableOne(inp_sel, columns=inp_sel.columns.tolist(), \n",
    "                     categorical=categorical, overall=True, missing=True, htest_name=True,\n",
    "                     decimals = {'Age at index admission': 0,\n",
    "                                 'Length of hospital stay (days)': 0,\n",
    "                                 'Length of stay in ED (hours)': 0,\n",
    "                                 '# leading specialties': 0,\n",
    "                                 'Total long-term conditions': 0,\n",
    "                                 'Total health contacts': 0,\n",
    "                                 'Total rehabilitation contacts': 0,\n",
    "                                 'Total out-of-hours health contacts': 0,\n",
    "                                 'Minutes of out-of-hours rehabilitation therapy': 0,\n",
    "                                 'Minutes of rehabilitation therapy': 0,\n",
    "                                 'Number of disciplines involved': 0,\n",
    "                                 'Time to first rehabilitation contact (hours)':0,\n",
    "                                 'Time to second rehabilitation contact (hours)':0,\n",
    "                                'Nursing contacts': 0,\n",
    "                                'Physiotherapy contacts': 0,\n",
    "                                'Occupational therapy contacts': 0,\n",
    "                                'Speech & Language contacts': 0}, tukey_test=True,\n",
    "                     groupby=groupby, nonnormal=t_cols,\n",
    "                     pval=True)"
   ]
  },
  {
   "cell_type": "code",
   "execution_count": null,
   "id": "a98f3bdc-7ff3-4f3a-974f-120bb6c945cc",
   "metadata": {},
   "outputs": [],
   "source": [
    "sum_table.to_html('outputs/sum_table_inh_death.html')"
   ]
  },
  {
   "cell_type": "code",
   "execution_count": null,
   "id": "97dc5005-efc7-4653-8517-34de064b6eb5",
   "metadata": {
    "scrolled": true
   },
   "outputs": [],
   "source": [
    "### In-hospital death\n",
    "t_cols = ['Length of hospital stay (days)', 'Length of stay in ED (hours)',\n",
    "          'Total long-term conditions', 'Total health contacts', 'Total rehabilitation contacts',\n",
    "          'Total out-of-hours health contacts', 'Total out-of-hours rehabilitation contacts',\n",
    "          'Minutes of out-of-hours rehabilitation therapy',\n",
    "          'Minutes of rehabilitation therapy', 'Time to first rehabilitation contact (hours)',\n",
    "         'Time to second rehabilitation contact (hours)', 'Nursing contacts', 'Nursing contacts per admission day',\n",
    "          'Rehab contacts per admission day', 'Contacts per admission day']\n",
    "categorical = ['Sex', 'SIMD (1 - most deprived, 5 - least deprived region)', 'Multimorbidity group', 'Physical-mental multimorbidity',\n",
    "               'Active cancer', 'Ischaemic Heart Disease', 'Arthritis or other arthropathy', \n",
    "               'Progressive neurological disease', 'Hypertension', 'Asthma', 'Care intensity group', '4AT score',\n",
    "               'MUST score', 'Fall event (within 6 months of admission)','Mobility (walking independence)',\n",
    "               'Mobility (bathing independence)',\n",
    "               'Nutritional assessment (swallowing difficulties)','Waterlow score (Pressure ulcer)', 'Received rehab', \n",
    "               'In-hospital death', 'ICU/HDU admission', 'Home discharge','Admission to MoE'\n",
    "              ]\n",
    "groupby = ['Extended stay']\n",
    "sum_table = TableOne(inp_sel, columns=inp_sel.columns.tolist(), \n",
    "                     categorical=categorical, overall=True, missing=True, htest_name=True,\n",
    "                     decimals = {'Age at index admission': 0,\n",
    "                                 'Length of hospital stay (days)': 0,\n",
    "                                 'Length of stay in ED (hours)': 0,\n",
    "                                 '# leading specialties': 0,\n",
    "                                 'Total long-term conditions': 0,\n",
    "                                 'Total health contacts': 0,\n",
    "                                 'Total rehabilitation contacts': 0,\n",
    "                                 'Total out-of-hours health contacts': 0,\n",
    "                                 'Minutes of out-of-hours rehabilitation therapy': 0,\n",
    "                                 'Minutes of rehabilitation therapy': 0,\n",
    "                                 'Number of disciplines involved': 0,\n",
    "                                 'Time to first rehabilitation contact (hours)':0,\n",
    "                                 'Time to second rehabilitation contact (hours)':0,\n",
    "                                'Nursing contacts': 0,\n",
    "                                'Physiotherapy contacts': 0,\n",
    "                                'Occupational therapy contacts': 0,\n",
    "                                'Speech & Language contacts': 0}, tukey_test=True,\n",
    "                     groupby=groupby, nonnormal=t_cols,\n",
    "                     pval=True)"
   ]
  },
  {
   "cell_type": "code",
   "execution_count": null,
   "id": "163de34c-3638-47c3-af58-453fed9db2cf",
   "metadata": {},
   "outputs": [],
   "source": [
    "sum_table.to_html('')"
   ]
  },
  {
   "cell_type": "code",
   "execution_count": null,
   "id": "749dcea9-d032-4a1a-b9c3-5c523462293d",
   "metadata": {
    "scrolled": true
   },
   "outputs": [],
   "source": [
    "### In-hospital death\n",
    "t_cols = ['Length of hospital stay (days)', 'Length of stay in ED (hours)',\n",
    "          'Total long-term conditions', 'Total health contacts', 'Total rehabilitation contacts',\n",
    "          'Total out-of-hours health contacts', 'Total out-of-hours rehabilitation contacts',\n",
    "          'Minutes of out-of-hours rehabilitation therapy',\n",
    "          'Minutes of rehabilitation therapy', 'Time to first rehabilitation contact (hours)',\n",
    "         'Time to second rehabilitation contact (hours)','Nursing contacts', 'Nursing contacts per admission day',\n",
    "          'Rehab contacts per admission day', 'Contacts per admission day']\n",
    "categorical = ['Sex', 'SIMD (1 - most deprived, 5 - least deprived region)', 'Multimorbidity group', 'Physical-mental multimorbidity',\n",
    "               'Active cancer', 'Ischaemic Heart Disease', 'Arthritis or other arthropathy', \n",
    "               'Progressive neurological disease', 'Hypertension', 'Asthma', 'Care intensity group', '4AT score',\n",
    "               'MUST score', 'Fall event (within 6 months of admission)','Mobility (walking independence)',\n",
    "               'Mobility (bathing independence)',\n",
    "               'Nutritional assessment (swallowing difficulties)','Waterlow score (Pressure ulcer)', 'Received rehab', \n",
    "               'In-hospital death', 'Extended stay', 'Home discharge','Admission to MoE'\n",
    "              ]\n",
    "groupby = ['ICU/HDU admission']\n",
    "sum_table = TableOne(inp_sel, columns=inp_sel.columns.tolist(), \n",
    "                     categorical=categorical, overall=True, missing=True, htest_name=True,\n",
    "                     decimals = {'Age at index admission': 0,\n",
    "                                 'Length of hospital stay (days)': 0,\n",
    "                                 'Length of stay in ED (hours)': 0,\n",
    "                                 '# leading specialties': 0,\n",
    "                                 'Total long-term conditions': 0,\n",
    "                                 'Total health contacts': 0,\n",
    "                                 'Total rehabilitation contacts': 0,\n",
    "                                 'Total out-of-hours health contacts': 0,\n",
    "                                 'Minutes of out-of-hours rehabilitation therapy': 0,\n",
    "                                 'Minutes of rehabilitation therapy': 0,\n",
    "                                 'Number of disciplines involved': 0,\n",
    "                                 'Time to first rehabilitation contact (hours)':0,\n",
    "                                 'Time to second rehabilitation contact (hours)':0,\n",
    "                                'Nursing contacts': 0,\n",
    "                                'Physiotherapy contacts': 0,\n",
    "                                'Occupational therapy contacts': 0,\n",
    "                                'Speech & Language contacts': 0}, tukey_test=True,\n",
    "                     groupby=groupby, nonnormal=t_cols,\n",
    "                     pval=True)"
   ]
  },
  {
   "cell_type": "code",
   "execution_count": null,
   "id": "9619cab7-2363-4b59-9134-ae5e8195ca35",
   "metadata": {},
   "outputs": [],
   "source": [
    "sum_table.to_html('')"
   ]
  },
  {
   "cell_type": "code",
   "execution_count": null,
   "id": "0266554c-ea43-4240-aa41-a117d5bac194",
   "metadata": {},
   "outputs": [],
   "source": [
    "### In-hospital death\n",
    "t_cols = ['Length of hospital stay (days)', 'Length of stay in ED (hours)',\n",
    "          'Total long-term conditions', 'Total health contacts', 'Total rehabilitation contacts',\n",
    "          'Total out-of-hours health contacts', 'Total out-of-hours rehabilitation contacts',\n",
    "          'Minutes of out-of-hours rehabilitation therapy',\n",
    "          'Minutes of rehabilitation therapy', 'Time to first rehabilitation contact (hours)',\n",
    "         'Time to second rehabilitation contact (hours)', 'Nursing contacts', 'Nursing contacts per admission day',\n",
    "          'Rehab contacts per admission day', 'Contacts per admission day']\n",
    "categorical = ['Sex', 'SIMD (1 - most deprived, 5 - least deprived region)', 'Multimorbidity group', 'Physical-mental multimorbidity',\n",
    "               'Active cancer', 'Ischaemic Heart Disease', 'Arthritis or other arthropathy', \n",
    "               'Progressive neurological disease', 'Hypertension', 'Asthma', 'Care intensity group', '4AT score',\n",
    "               'MUST score', 'Fall event (within 6 months of admission)','Mobility (walking independence)',\n",
    "               'Mobility (bathing independence)',\n",
    "               'Nutritional assessment (swallowing difficulties)','Waterlow score (Pressure ulcer)', 'Received rehab', \n",
    "               'In-hospital death', 'Extended stay', 'ICU/HDU admission','Admission to MoE'\n",
    "              ]\n",
    "groupby = ['Home discharge']\n",
    "sum_table = TableOne(inp_sel, columns=inp_sel.columns.tolist(), \n",
    "                     categorical=categorical, overall=True, missing=True, htest_name=True,\n",
    "                     decimals = {'Age at index admission': 0,\n",
    "                                 'Length of hospital stay (days)': 0,\n",
    "                                 'Length of stay in ED (hours)': 0,\n",
    "                                 '# leading specialties': 0,\n",
    "                                 'Total long-term conditions': 0,\n",
    "                                 'Total health contacts': 0,\n",
    "                                 'Total rehabilitation contacts': 0,\n",
    "                                 'Total out-of-hours health contacts': 0,\n",
    "                                 'Minutes of out-of-hours rehabilitation therapy': 0,\n",
    "                                 'Minutes of rehabilitation therapy': 0,\n",
    "                                 'Number of disciplines involved': 0,\n",
    "                                 'Time to first rehabilitation contact (hours)':0,\n",
    "                                 'Time to second rehabilitation contact (hours)':0,\n",
    "                                'Nursing contacts': 0,\n",
    "                                'Physiotherapy contacts': 0,\n",
    "                                'Occupational therapy contacts': 0,\n",
    "                                'Speech & Language contacts': 0}, tukey_test=True,\n",
    "                     groupby=groupby, nonnormal=t_cols,\n",
    "                     pval=True)"
   ]
  },
  {
   "cell_type": "code",
   "execution_count": null,
   "id": "1cdb8063-4215-4d51-8a39-2944e8fe1997",
   "metadata": {},
   "outputs": [],
   "source": [
    "sum_table.to_html('')"
   ]
  },
  {
   "cell_type": "code",
   "execution_count": null,
   "id": "14efc076-87e3-4e55-aa86-136f07cd56d4",
   "metadata": {},
   "outputs": [],
   "source": [
    "### In-hospital death\n",
    "t_cols = ['Length of hospital stay (days)', 'Length of stay in ED (hours)',\n",
    "          'Total long-term conditions', 'Total health contacts', 'Total rehabilitation contacts',\n",
    "          'Total out-of-hours health contacts', 'Total out-of-hours rehabilitation contacts',\n",
    "          'Minutes of out-of-hours rehabilitation therapy',\n",
    "          'Minutes of rehabilitation therapy', 'Time to first rehabilitation contact (hours)',\n",
    "         'Time to second rehabilitation contact (hours)', 'Nursing contacts', 'Nursing contacts per admission day',\n",
    "          'Rehab contacts per admission day', 'Contacts per admission day']\n",
    "categorical = ['Sex', 'SIMD (1 - most deprived, 5 - least deprived region)', 'Multimorbidity group', 'Physical-mental multimorbidity',\n",
    "               'Active cancer', 'Ischaemic Heart Disease', 'Arthritis or other arthropathy', \n",
    "               'Progressive neurological disease', 'Hypertension', 'Asthma', 'Care intensity group', '4AT score',\n",
    "               'MUST score', 'Fall event (within 6 months of admission)','Mobility (walking independence)',\n",
    "               'Mobility (bathing independence)',\n",
    "               'Nutritional assessment (swallowing difficulties)','Waterlow score (Pressure ulcer)', 'Received rehab', \n",
    "               'In-hospital death', 'Extended stay', 'ICU/HDU admission','Home discharge'\n",
    "              ]\n",
    "groupby = ['Admission to MoE']\n",
    "sum_table = TableOne(inp_sel, columns=inp_sel.columns.tolist(), \n",
    "                     categorical=categorical, overall=True, missing=True, htest_name=True,\n",
    "                     decimals = {'Age at index admission': 0,\n",
    "                                 'Length of hospital stay (days)': 0,\n",
    "                                 'Length of stay in ED (hours)': 0,\n",
    "                                 '# leading specialties': 0,\n",
    "                                 'Total long-term conditions': 0,\n",
    "                                 'Total health contacts': 0,\n",
    "                                 'Total rehabilitation contacts': 0,\n",
    "                                 'Total out-of-hours health contacts': 0,\n",
    "                                 'Minutes of out-of-hours rehabilitation therapy': 0,\n",
    "                                 'Minutes of rehabilitation therapy': 0,\n",
    "                                 'Number of disciplines involved': 0,\n",
    "                                 'Time to first rehabilitation contact (hours)':0,\n",
    "                                 'Time to second rehabilitation contact (hours)':0,\n",
    "                                'Nursing contacts': 0,\n",
    "                                'Physiotherapy contacts': 0,\n",
    "                                'Occupational therapy contacts': 0,\n",
    "                                'Speech & Language contacts': 0}, tukey_test=True,\n",
    "                     groupby=groupby, nonnormal=t_cols,\n",
    "                     pval=True)"
   ]
  },
  {
   "cell_type": "code",
   "execution_count": null,
   "id": "1759b504-7085-42d3-8bfc-fd40f5c027b9",
   "metadata": {},
   "outputs": [],
   "source": [
    "sum_table.to_html('')"
   ]
  },
  {
   "cell_type": "code",
   "execution_count": null,
   "id": "6e853014-d80f-4ba9-9a26-429742665334",
   "metadata": {},
   "outputs": [],
   "source": [
    "### In-hospital death\n",
    "t_cols = ['Length of hospital stay (days)', 'Length of stay in ED (hours)',\n",
    "          'Total long-term conditions', 'Total health contacts', 'Total rehabilitation contacts',\n",
    "          'Total out-of-hours health contacts', 'Total out-of-hours rehabilitation contacts',\n",
    "          'Minutes of out-of-hours rehabilitation therapy',\n",
    "          'Minutes of rehabilitation therapy', 'Time to first rehabilitation contact (hours)',\n",
    "         'Time to second rehabilitation contact (hours)', 'Nursing contacts', 'Nursing contacts per admission day',\n",
    "          'Rehab contacts per admission day', 'Contacts per admission day']\n",
    "categorical = ['Sex', 'SIMD (1 - most deprived, 5 - least deprived region)', 'Multimorbidity group', 'Physical-mental multimorbidity',\n",
    "               'Active cancer', 'Ischaemic Heart Disease', 'Arthritis or other arthropathy', \n",
    "               'Progressive neurological disease', 'Hypertension', 'Asthma', '4AT score',\n",
    "               'MUST score', 'Fall event (within 6 months of admission)','Mobility (walking independence)',\n",
    "               'Mobility (bathing independence)',\n",
    "               'Nutritional assessment (swallowing difficulties)','Waterlow score (Pressure ulcer)', 'Received rehab', \n",
    "               'In-hospital death', 'Extended stay', 'ICU/HDU admission','Home discharge', 'Admission to MoE'\n",
    "              ]\n",
    "groupby = ['Care intensity group']\n",
    "sum_table = TableOne(inp_sel, columns=inp_sel.columns.tolist(), \n",
    "                     categorical=categorical, overall=True, missing=True, htest_name=True,\n",
    "                     decimals = {'Age at index admission': 0,\n",
    "                                 'Length of hospital stay (days)': 0,\n",
    "                                 'Length of stay in ED (hours)': 0,\n",
    "                                 '# leading specialties': 0,\n",
    "                                 'Total long-term conditions': 0,\n",
    "                                 'Total health contacts': 0,\n",
    "                                 'Total rehabilitation contacts': 0,\n",
    "                                 'Total out-of-hours health contacts': 0,\n",
    "                                 'Minutes of out-of-hours rehabilitation therapy': 0,\n",
    "                                 'Minutes of rehabilitation therapy': 0,\n",
    "                                 'Number of disciplines involved': 0,\n",
    "                                 'Time to first rehabilitation contact (hours)':0,\n",
    "                                 'Time to second rehabilitation contact (hours)':0,\n",
    "                                'Nursing contacts': 0,\n",
    "                                'Physiotherapy contacts': 0,\n",
    "                                'Occupational therapy contacts': 0,\n",
    "                                'Speech & Language contacts': 0}, tukey_test=True,\n",
    "                     groupby=groupby, nonnormal=t_cols,\n",
    "                     pval=True)"
   ]
  },
  {
   "cell_type": "code",
   "execution_count": null,
   "id": "cb5840bd-38fc-409c-b399-62f7a559ecec",
   "metadata": {},
   "outputs": [],
   "source": [
    "sum_table.to_html('')"
   ]
  },
  {
   "cell_type": "code",
   "execution_count": null,
   "id": "36a1059a-245c-41a3-91e1-fc685c52d5af",
   "metadata": {},
   "outputs": [],
   "source": [
    "### In-hospital death\n",
    "t_cols = ['Length of hospital stay (days)', 'Length of stay in ED (hours)',\n",
    "          'Total long-term conditions', 'Total health contacts', 'Total rehabilitation contacts',\n",
    "          'Total out-of-hours health contacts', 'Total out-of-hours rehabilitation contacts',\n",
    "          'Minutes of out-of-hours rehabilitation therapy',\n",
    "          'Minutes of rehabilitation therapy', 'Time to first rehabilitation contact (hours)',\n",
    "         'Time to second rehabilitation contact (hours)']\n",
    "categorical = ['Sex', 'SIMD (1 - most deprived, 5 - least deprived region)', 'Multimorbidity group', 'Physical-mental multimorbidity',\n",
    "               'Active cancer', 'Ischaemic Heart Disease', 'Arthritis or other arthropathy', \n",
    "               'Progressive neurological disease', 'Hypertension', 'Asthma', '4AT score',\n",
    "               'MUST score', 'Fall event (within 6 months of admission)','Mobility (walking independence)',\n",
    "               'Mobility (bathing independence)',\n",
    "               'Nutritional assessment (swallowing difficulties)','Waterlow score (Pressure ulcer)', \n",
    "               'In-hospital death', 'Extended stay', 'ICU/HDU admission','Home discharge', 'Admission to MoE'\n",
    "              ]\n",
    "groupby = ['Care intensity group']\n",
    "sum_table = TableOne(inp_sel, columns=inp_sel[inp_sel['In-hospital death']=='N'].columns.tolist(), \n",
    "                     categorical=categorical, overall=True, missing=True, htest_name=True,\n",
    "                     decimals = {'Age at index admission': 0,\n",
    "                                 'Length of hospital stay (days)': 0,\n",
    "                                 'Length of stay in ED (hours)': 0,\n",
    "                                 '# leading specialties': 0,\n",
    "                                 'Total long-term conditions': 0,\n",
    "                                 'Total health contacts': 0,\n",
    "                                 'Total rehabilitation contacts': 0,\n",
    "                                 'Total out-of-hours health contacts': 0,\n",
    "                                 'Minutes of out-of-hours rehabilitation therapy': 0,\n",
    "                                 'Minutes of rehabilitation therapy': 0,\n",
    "                                 'Number of disciplines involved': 0,\n",
    "                                 'Time to first rehabilitation contact (hours)':0,\n",
    "                                 'Time to second rehabilitation contact (hours)':0,\n",
    "                                'Nursing contacts': 0,\n",
    "                                'Physiotherapy contacts': 0,\n",
    "                                'Occupational therapy contacts': 0,\n",
    "                                'Speech & Language contacts': 0}, tukey_test=True,\n",
    "                     groupby=groupby, nonnormal=t_cols,\n",
    "                     pval=True)"
   ]
  },
  {
   "cell_type": "code",
   "execution_count": null,
   "id": "47b32f9d-113f-4a78-bf8a-348f41fe1c5c",
   "metadata": {},
   "outputs": [],
   "source": [
    "sum_table.to_html('')"
   ]
  }
 ],
 "metadata": {
  "kernelspec": {
   "display_name": "Python 3 (ipykernel)",
   "language": "python",
   "name": "python3"
  },
  "language_info": {
   "codemirror_mode": {
    "name": "ipython",
    "version": 3
   },
   "file_extension": ".py",
   "mimetype": "text/x-python",
   "name": "python",
   "nbconvert_exporter": "python",
   "pygments_lexer": "ipython3",
   "version": "3.10.12"
  }
 },
 "nbformat": 4,
 "nbformat_minor": 5
}
